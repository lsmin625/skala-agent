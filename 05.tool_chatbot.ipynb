{
 "cells": [
  {
   "cell_type": "markdown",
   "metadata": {},
   "source": [
    "# Tool을 사용하는 챗봇 구현"
   ]
  },
  {
   "cell_type": "markdown",
   "metadata": {},
   "source": [
    "## OpenAI LLM 준비\n",
    "* 환경 변수(`.env` 파일)에서 API Key 로딩\n",
    "* 개발 환경에서는 `gpt-4o-mini` 또는 `gpt-3.5-turbo`"
   ]
  },
  {
   "cell_type": "code",
   "execution_count": null,
   "metadata": {},
   "outputs": [],
   "source": [
    "import os\n",
    "import gradio as gr\n",
    "from dotenv import load_dotenv\n",
    "from typing import Any\n",
    "\n",
    "from langchain_openai import ChatOpenAI\n",
    "from langchain_core.prompts import ChatPromptTemplate\n",
    "from langchain.tools import tool\n",
    "\n",
    "from langchain_core.messages import AIMessage\n",
    "\n",
    "\n",
    "# .env 파일 로드 및 API 키 확인\n",
    "load_dotenv()\n",
    "\n",
    "# OpenAI LLM 준비\n",
    "llm = ChatOpenAI(model=\"gpt-4o-mini\", temperature=0.7)"
   ]
  },
  {
   "cell_type": "markdown",
   "metadata": {},
   "source": [
    "## 데코레이터를 통한 Tool 구성\n",
    "코난이 사용할 수 있는 도구 추천 툴 함수\n",
    "- `@tool` 데코레이터(Decorator): 함수의 이름, 설명, 그리고 입출력 정보를 자동으로 추출하여 LLM에게 전달\n",
    "- 함수의 이름과 따옴표 세 개(\"\"\"...\"\"\")로 감싸인 주석(Docstring)을 읽고 이 도구의 용도를 파악\n",
    "- `\"마취 시계: ...\"` : 도구가 언제, 어떤 상황에 필요한지를 설명\n",
    "- `Args`: 도구를 사용하는 데 어떤 정보가 필요한지를 설명 - LLM은 이 부분을 보고 사용자의 요청에서 필요한 정보를 target이라는 인자로 추출해서 전달\n",
    "- `return` 값: 이 함수가 실제로 실행되었을 때의 결과 데이터"
   ]
  },
  {
   "cell_type": "code",
   "execution_count": null,
   "metadata": {},
   "outputs": [],
   "source": [
    "## 단계 - 도구 구성\n",
    "@tool\n",
    "def tranquilizer_watch(target: str) -> str:\n",
    "    \"\"\"마취 시계: 지정된 대상을 잠재울 필요가 있을 때 사용합니다. 추리 설명 등을 대신할 때 유용합니다.\n",
    "    Args:\n",
    "        target (str): 마취시킬 대상의 이름이나 인상착의. 예: '안경 쓴 범인', '유명한 탐정님'\n",
    "    \"\"\"\n",
    "    return f\"⌚ 마취 시계: '{target}'을(를) 성공적으로 마취시켰습니다.\"\n",
    "\n",
    "\n",
    "@tool\n",
    "def voice_changer_bowtie(target: str) -> str:\n",
    "    \"\"\"음성 변조 나비넥타이: 다른 사람의 목소리로 추리를 설명하거나, 다른 사람인 척 연기해야 할 때 사용합니다.\n",
    "    Args:\n",
    "        target (str): 목소리를 흉내 낼 대상. 예: '브라운 박사님', '유명한 탐정님'\n",
    "    \"\"\"\n",
    "    return f\"🎤 음성 변조 나비넥타이: '{target}'의 목소리로 변조를 시작합니다.\"\n",
    "\n",
    "\n",
    "@tool\n",
    "def detective_glasses(target: str) -> str:\n",
    "    \"\"\"탐정 안경: 특정 대상을 추적하거나 멀리 있는 것을 확대해서 볼 때 사용합니다. 범인 추적에 필수적입니다.\n",
    "    Args:\n",
    "        target (str): 추적하거나 확대할 대상. 예: '범인의 자동차', '먼 곳의 단서'\n",
    "    \"\"\"\n",
    "    return f\"🕶️ 탐정 안경: '{target}'에 대한 추적 및 확대 기능을 활성화합니다.\"\n",
    "\n",
    "\n",
    "@tool\n",
    "def soccer_shoes(target: str) -> str:\n",
    "    \"\"\"킥력 강화 축구화: 강력한 힘으로 무언가를 걷어차 범인을 제압하거나 위기 상황을 탈출할 때 사용합니다.\n",
    "    Args:\n",
    "        target (str): 강하게 찰 대상. 예: '범인을 위협할 돌멩이', '막다른 길의 문'\n",
    "    \"\"\"\n",
    "    return f\"⚽ 킥력 강화 축구화: '{target}'을(를) 향해 강력한 킥을 준비합니다!\""
   ]
  },
  {
   "cell_type": "markdown",
   "metadata": {},
   "source": [
    "## LLM에 도구(tools) 연결하기\n",
    "LLM이 어떤 도구들을 사용할 수 있는지, 그리고 각 도구가 어떤 기능을 하는지 인지할 수 있도록 바인딩(binding)"
   ]
  },
  {
   "cell_type": "code",
   "execution_count": null,
   "metadata": {},
   "outputs": [],
   "source": [
    "# 도구 목록 정리\n",
    "tools = [tranquilizer_watch, voice_changer_bowtie, detective_glasses, soccer_shoes]\n",
    "\n",
    "# 도구 목록을 LLM에 연결\n",
    "llm_with_tools = llm.bind_tools(tools)"
   ]
  },
  {
   "cell_type": "markdown",
   "metadata": {},
   "source": [
    "## 프롬프트 구성\n",
    "복잡한 상황에서 여러 도구를 조합하여 사용할 수 있도록 메시지 작성\n",
    "- System(배경 설정): 나는 명탐정 코난이고, 주어진 상황을 해결하기 위해 도구를 사용해야 한다.\n",
    "- Human(사용자 질문): {사용자가 입력한 상황}"
   ]
  },
  {
   "cell_type": "code",
   "execution_count": null,
   "metadata": {},
   "outputs": [],
   "source": [
    "## 단계 - 프롬프트\n",
    "prompt = ChatPromptTemplate.from_messages([\n",
    "    (\"system\", \"당신은 명탐정 코난입니다. 주어진 상황을 해결하기 위해 당신이 가진 도구들을 적절하게 사용하세요. 상황에 따라 여러 도구를 동시에 사용할 수도 있습니다.\"),\n",
    "    (\"human\", \"{situation}\"),\n",
    "])"
   ]
  },
  {
   "cell_type": "markdown",
   "metadata": {},
   "source": [
    "## 도구 실행기 구성\n",
    "LLM이 내린 '결정'을 입력으로 받아, 실제로 그에 해당하는 파이썬 함수를 찾아서 실행시키는 `도구 실행자`를 구성. \n",
    "- `tool_map = {tool.name: tool for tool in tools}`: tools 리스트에서 각 tool의 이름을 **키(key)** 로, 함수 객체를 **값(value)** 으로 하는 딕셔너리(dictionary)를 구성\n",
    "- `def tool_executor(ai_message: AIMessage) -> Any`: LLM의 최종 출력물인 ai_message (AIMessage 타입)을 입력으로 받는 함수 정의\n",
    "    - `ai_message.tool_calls` : LLM이 도구를 사용해야 한다고 판단하면 도구명이 전달됨"
   ]
  },
  {
   "cell_type": "code",
   "execution_count": null,
   "metadata": {},
   "outputs": [],
   "source": [
    "# 실행할 도구를 이름으로 쉽게 찾을 수 있도록 맵을 생성\n",
    "tool_map = {tool.name: tool for tool in tools}\n",
    "\n",
    "\n",
    "# 실행 담당자 함수\n",
    "def tool_executor(ai_message: AIMessage) -> Any:\n",
    "    \"\"\"LLM의 출력을 받아, tool_calls가 있으면 해당 도구를 실행하고 결과를 반환합니다.\"\"\"\n",
    "    \n",
    "    # 디버깅을 위한 출력\n",
    "    print(ai_message)\n",
    "\n",
    "    # LLM이 도구를 사용하지 않고 일반 메시지로 답변한 경우, 내용을 그대로 반환\n",
    "    if not isinstance(ai_message, AIMessage) or not ai_message.tool_calls:\n",
    "        return ai_message.content\n",
    "\n",
    "    # Tool 호출 결과를 저장할 배열\n",
    "    results = []\n",
    "\n",
    "    # LLM이 호출한 모든 도구를 순차적으로 실행\n",
    "    for tool_call in ai_message.tool_calls:\n",
    "        tool_to_run = tool_map.get(tool_call[\"name\"])\n",
    "        if tool_to_run:\n",
    "            observation = tool_to_run.invoke(tool_call[\"args\"])\n",
    "            results.append(observation)\n",
    "        else:\n",
    "            results.append(f\"오류: '{tool_call['name']}' 도구를 찾을 수 없습니다.\")\n",
    "\n",
    "    # results 배열의 항목을 문자형으로 변환 후 개행문자로 연결하여 전달\n",
    "    return \"\\n\".join(str(res) for res in results)"
   ]
  },
  {
   "cell_type": "markdown",
   "metadata": {},
   "source": [
    "## LCEL 파이프라인 구성\n",
    "- `prompt`: AI에게 역할을 부여하고 사용자 입력을 형식에 맞게 가공하는 '지령서'\n",
    "- `llm_with_tools`: 도구를 사용할 줄 아는 'AI Agent'\n",
    "- `tool_executor`: AI의 결정을 실제 행동으로 옮기는 '실행 담당자"
   ]
  },
  {
   "cell_type": "code",
   "execution_count": null,
   "metadata": {},
   "outputs": [],
   "source": [
    "# LCEL 파이프라인 구성\n",
    "chain = prompt | llm_with_tools | tool_executor"
   ]
  },
  {
   "cell_type": "markdown",
   "metadata": {},
   "source": [
    "## Gradio UI 구성\n",
    "### Gradio 처리 함수 설정"
   ]
  },
  {
   "cell_type": "code",
   "execution_count": null,
   "metadata": {},
   "outputs": [],
   "source": [
    "def chat_fn(user_input: str) -> str:\n",
    "    \n",
    "    if not user_input:\n",
    "        return \"상황을 입력해주세요.\"\n",
    "\n",
    "    return chain.invoke({\"situation\": user_input})"
   ]
  },
  {
   "cell_type": "markdown",
   "metadata": {},
   "source": [
    "### Gradio UI 구성"
   ]
  },
  {
   "cell_type": "code",
   "execution_count": null,
   "metadata": {},
   "outputs": [],
   "source": [
    "with gr.Blocks() as demo:\n",
    "    gr.Markdown(\"### 🕵️ 명탐정 코난 도구 추천기\")\n",
    "    gr.Markdown(\"상황을 입력하면 코난이 상황에 적절한 도구를 사용하게 됩니다.\")\n",
    "\n",
    "    user_input = gr.Textbox(label=\"상황 설명\", placeholder=\"예: 모리 탐정을 기절시키고, 모리 탐정 목소리로 사건을 설명하고 싶어요\")\n",
    "    ai_output = gr.Textbox(label=\"추천 도구\", lines=5)\n",
    "    user_input.submit(chat_fn, inputs=user_input, outputs=ai_output)\n",
    "\n",
    "demo.launch()"
   ]
  },
  {
   "cell_type": "markdown",
   "metadata": {},
   "source": [
    "-----\n",
    "** End of Documents **"
   ]
  }
 ],
 "metadata": {
  "kernelspec": {
   "display_name": "langchain-kr-t0JhnSEV-py3.11",
   "language": "python",
   "name": "python3"
  },
  "language_info": {
   "codemirror_mode": {
    "name": "ipython",
    "version": 3
   },
   "file_extension": ".py",
   "mimetype": "text/x-python",
   "name": "python",
   "nbconvert_exporter": "python",
   "pygments_lexer": "ipython3",
   "version": "3.12.3"
  }
 },
 "nbformat": 4,
 "nbformat_minor": 2
}
