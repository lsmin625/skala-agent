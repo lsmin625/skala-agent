{
 "cells": [
  {
   "cell_type": "markdown",
   "metadata": {},
   "source": [
    "# 명탐정 코난 매니아 판별기 (LangGraph)"
   ]
  },
  {
   "cell_type": "markdown",
   "metadata": {},
   "source": [
    "## OpenAI LLM 준비 및 퀴즈 파일 지정\n",
    "* 환경 변수(`.env` 파일)에서 API Key 로딩\n",
    "* 개발 환경에서는 `gpt-4o-mini` 또는 `gpt-3.5-turbo`\n",
    "* 핵심 실습 환경이라 `gpt-4o` 사용"
   ]
  },
  {
   "cell_type": "code",
   "execution_count": null,
   "metadata": {},
   "outputs": [],
   "source": [
    "import gradio as gr\n",
    "import random\n",
    "import json\n",
    "\n",
    "from dotenv import load_dotenv\n",
    "from typing import TypedDict, Annotated\n",
    "from pydantic import BaseModel, Field\n",
    "\n",
    "from langchain_openai import ChatOpenAI\n",
    "from langchain_core.prompts import ChatPromptTemplate\n",
    "from langgraph.graph import StateGraph, END\n",
    "\n",
    "from langchain_teddynote.graphs import visualize_graph\n",
    "\n",
    "# 초기 설정 및 데이터 로딩\n",
    "QUIZ_FILE = \"data/quizzes.json\"\n",
    "QUIZ_COUNT = 3\n",
    "QUIZ_COMMANDS = [\"퀴즈\", \"퀴즈 시작\"]\n",
    "\n",
    "load_dotenv()\n",
    "llm = ChatOpenAI(model=\"gpt-4o\", temperature=0.5)"
   ]
  },
  {
   "cell_type": "markdown",
   "metadata": {},
   "source": [
    "\n",
    "## 퀴즈 문항 (`conan_quiz.json`) 로딩\n",
    "- `def load_quizzes()` :\tload_quizzes라는 이름의 함수를 정의\n",
    "- `with open(QUIZ_FILE, \"r\", encoding=\"utf-8\") as f`: 지정된 경로의 JSON 파일(QUIZ_FILE)을 UTF-8 인코딩 방식으로 읽기 모드(\"r\")로 열고, with 구문을 사용하여 파일 사용 후 자동으로 닫히도록 처리\n",
    "- `all_q = json.load(f)` : JSON 파일 내용을 파싱하여 파이썬 객체(리스트 형태, 퀴즈 문제들)로 변환.\n",
    "- `return random.sample(all_q, QUIZ_COUNT)` :전체 문제 중 QUIZ_COUNT 개수만큼 무작위로 샘플링하여 반환(중복 없이 선택)"
   ]
  },
  {
   "cell_type": "code",
   "execution_count": null,
   "metadata": {},
   "outputs": [],
   "source": [
    "# 퀴즈 로딩 함수\n",
    "def load_quizzes():\n",
    "    with open(QUIZ_FILE, \"r\", encoding=\"utf-8\") as f:\n",
    "        all_q = json.load(f)\n",
    "    return random.sample(all_q, QUIZ_COUNT)"
   ]
  },
  {
   "cell_type": "markdown",
   "metadata": {},
   "source": [
    "## 데이터 구조 정의\n",
    "### 기본 데이터 정의\n",
    "\n",
    "`Pydantic`의 `BaseModel`을 상속한 데이터 모델 클래스 정의\n",
    "- `GradingResult(BaseModel)` : 개별 문제 하나에 대한 채점 결과\n",
    "    - `Field(description=\"...\")`: description은 LLM에게 이 필드가 무엇을 의미하는지 알려주는 중요한 힌트\n",
    "- `FinalReport(BaseModel)` : 모든 문제의 채점 결과와 최종 점수를 포함하는 최종 보고서\n",
    "    - `results: list[GradingResult]`: GradingResult의 리스트(list) 형태\n",
    "- `llm_with_final_report = llm.with_structured_output(FinalReport)` : LLM의 출력을 FinalReport 클래스의 JSON 형식으로 지정"
   ]
  },
  {
   "cell_type": "code",
   "execution_count": null,
   "metadata": {},
   "outputs": [],
   "source": [
    "class GradingResult(BaseModel):\n",
    "    \"\"\"단일 문제에 대한 채점 결과를 상세히 담는 클래스입니다.\"\"\"\n",
    "    \n",
    "    question: str = Field(description=\"채점 대상 문제\")\n",
    "    correct_answer: str = Field(description=\"문제의 정답\")\n",
    "    user_answer: str = Field(description=\"사용자가 제출한 답변\")\n",
    "    is_correct: bool = Field(description=\"정답 여부\")\n",
    "    explanation: str = Field(description=\"정답에 대한 친절한 해설\")\n",
    "\n",
    "class FinalReport(BaseModel):\n",
    "    \"\"\"퀴즈의 모든 채점 결과와 최종 점수를 종합한 최종 보고서 클래스입니다.\"\"\"\n",
    "\n",
    "    results: list[GradingResult] = Field(description=\"각 문제별 채점 결과 리스트\")\n",
    "    total_score: str = Field(description=\"'총점: X/Y' 형식의 최종 점수 요약\")\n",
    "\n",
    "# LLM 출력을 FinalReport 형식으로 지정\n",
    "llm_with_final_report = llm.with_structured_output(FinalReport)"
   ]
  },
  {
   "cell_type": "markdown",
   "metadata": {},
   "source": [
    "### 리스트 리듀서 함수 정의\n",
    "  - `LangGraph`의 `add_messages` 리듀서는 BaseMessage 객체로 자동 변환 기능을 제공 --> UI 대화 목록으로 사용하기 어려움.\n",
    "  - `reduce_list`: 단순히 두개의 리스트를 합치는 리듀서 함수 정의 "
   ]
  },
  {
   "cell_type": "code",
   "execution_count": null,
   "metadata": {},
   "outputs": [],
   "source": [
    "# add_messages를 사용하지 않고 단순히 리스트를 합치는 함수\n",
    "def reduce_list(left: list, right: list) -> list:\n",
    "    \"\"\"두 리스트를 합칩니다.\"\"\"\n",
    "\n",
    "    return left + right\n"
   ]
  },
  {
   "cell_type": "markdown",
   "metadata": {},
   "source": [
    "### 상태 정의\n",
    "\n",
    "그래프 노드에서 처리되는 상태 클래스로 `AppState(TypedDict)`는 그래프(graph)가 관리할 상태 정보 (dict 형식)\n",
    "  - `chat_history`: Gradio UI 채팅창에 출력되는 사용자 입력과 퀴즈 문항 저장소로 사용자와 LLM이 주고 받는 메시지와 구분됨.\n",
    "  - `reduce_list`: UI 대화 목록(`chat_history`) 과 사용자 답변(`user_answers`)은 입력창을 통해 누적되는 목록.\n",
    "\n",
    "※ LangGraph의 모든 노드 함수들은 상태 클래스를 인자로 받고 처리된 상태 필드들을 포함한 dict를 리턴값으로 전달."
   ]
  },
  {
   "cell_type": "code",
   "execution_count": null,
   "metadata": {},
   "outputs": [],
   "source": [
    "\n",
    "# 모든 필드를 선택적(total=False)으로 관리 => 상태 관리에 적합한 방식\n",
    "class AppState(TypedDict, total=False):\n",
    "    \"\"\"\n",
    "    퀴즈 애플리케이션의 전체 상태.\n",
    "    Annotated를 사용하여 각 필드의 설명을 타입 시스템의 일부로 관리합니다.\n",
    "    \"\"\"\n",
    "\n",
    "    # --- 워크플로우 전반에 사용되는 필드 ---\n",
    "    user_input: Annotated[str, \"사용자의 현재 입력 텍스트\"]\n",
    "    chat_history: Annotated[list[tuple], \"UI 채팅창에 표시될 대화 기록\", reduce_list]\n",
    "\n",
    "    # --- 퀴즈 진행 관련 필드 ---\n",
    "    questions: Annotated[list[dict], \"생성된 퀴즈 질문 목록\"]\n",
    "    user_answers: Annotated[list[str], \"사용자가 제출한 답변 목록\", reduce_list]\n",
    "    quiz_index: Annotated[int, \"현재 진행 중인 quiz의 인덱스 (0부터 시작)\"]\n",
    "\n",
    "    # --- 채점 및 보고서 생성 관련 필드 ---\n",
    "    grading_prompt: Annotated[str, \"채점을 위해 LLM에 전달할 종합 프롬프트\"]\n",
    "    final_report: Annotated[FinalReport, \"최종 채점 결과 보고서 객체\"]    "
   ]
  },
  {
   "cell_type": "markdown",
   "metadata": {},
   "source": [
    "## LangGraph 노드 함수 구성\n",
    "LangGraph 워크플로우에서는 각 단계(노드)가 상태(state)를 받아서, 필요한 상태를 변경한 뒤 반환하는 방식으로 동작\n",
    "- 입력: state라는 TypedDict 형식의 퀴즈 전체 상태(`AppState`)를 받음\n",
    "- 출력: 내부 값들이 갱신된(변경된) 동일 타입의 state 객체를 반환 → LangGraph 노드는 항상 **상태(state) → 상태(state)** 의 형태를 유지"
   ]
  },
  {
   "cell_type": "markdown",
   "metadata": {},
   "source": [
    "\n",
    "### 퀴즈 시작(상태 초기화) 노드\n",
    "* 상태 갱신의 목적: \"퀴즈 시작\"이라는 트리거에서 호출되고 모든 상태 정보를 초기화\n",
    "    - 문제 리스트 세팅: `state[\"questions\"]`\n",
    "    - 진행 인덱스 초기화: `state[\"quiz_index\"]`\n",
    "    - 답변 내역, 리포트 등 모두 초기화\n",
    "    - 유저(`user`)/AI(`assistant`) 대화 이력(`chat_history`)에 안내 메시지 추가\n",
    "\n",
    "* `questions = load_quizzes()` : 랜덤하게 생성된 QUIZ_COUNT로 개수의 퀴즈 문항"
   ]
  },
  {
   "cell_type": "code",
   "execution_count": null,
   "metadata": {},
   "outputs": [],
   "source": [
    "def quiz_setter(state: AppState) -> AppState:\n",
    "    \"\"\"퀴즈를 시작하고 상태를 초기화합니다.\"\"\"\n",
    "    \n",
    "    questions = load_quizzes()\n",
    "    if not questions:\n",
    "        return {\n",
    "            \"chat_history\": [\n",
    "                (\"assistant\", \"퀴즈를 불러오는 데 실패했거나 풀 수 있는 문제가 없습니다.\")\n",
    "            ],\n",
    "            \"questions\": [],\n",
    "        }\n",
    "\n",
    "    return {\n",
    "        \"questions\": questions,\n",
    "        \"quiz_index\": 0,\n",
    "        \"user_answers\": [],\n",
    "        \"final_report\": None, \n",
    "        \"chat_history\": [(\"assistant\", \"명탐정 코난 퀴즈를 시작합니다!\")],\n",
    "    }\n"
   ]
  },
  {
   "cell_type": "markdown",
   "metadata": {},
   "source": [
    "### 문제 출제 노드\n",
    "* 상태(state) 갱신의 목적 : 문제를 사용자에게 출력(`chat_history`에 포맷팅된 문제 내용을 assistant 메시지로 추가)\n",
    "    - `quiz_index`에 해당하는 문제(`quiz`)를 가져와 포맷(문자열 변환)\n",
    "    - 문제 타입이 `multiple_choice`면, 선택지도 보기 형태로 문자열로 추가\n",
    "    - `chat_history`에 (\"assistant\", 문제 텍스트) 튜플을 append"
   ]
  },
  {
   "cell_type": "code",
   "execution_count": null,
   "metadata": {},
   "outputs": [],
   "source": [
    "def quiz_popper(state: AppState) -> AppState:\n",
    "    \"\"\"현재 quiz_index에 맞는 문제를 포맷하여 chat_history에 추가합니다.\"\"\"\n",
    "\n",
    "    quiz_index = state[\"quiz_index\"]\n",
    "    quiz = state[\"questions\"][quiz_index]\n",
    "\n",
    "    text = f\"문제 {quiz_index + 1}: {quiz['question']}\"\n",
    "    if quiz[\"type\"] == \"multiple_choice\":\n",
    "        choices = [f\"{i + 1}. {c}\" for i, c in enumerate(quiz[\"choices\"])]\n",
    "        text += \"\\n\" + \"\\n\".join(choices)\n",
    "   \n",
    "    return {\n",
    "        \"chat_history\": [(\"assistant\", text)],\n",
    "    }"
   ]
  },
  {
   "cell_type": "markdown",
   "metadata": {},
   "source": [
    "### 사용자 답변 처리 노드\n",
    "* 상태(state) 갱신의 목적 : 사용자의 답변(`user_input`)을 처리\n",
    "    - 현재 문제(`quiz_index`)에 맞는 답변을 파싱, 전처리, 정제\n",
    "    - 선택형 문제(`multiple_choice`)라면 사용자가 번호로 입력했을 때 실제 보기 텍스트로 변환\n",
    "    - 가공/정제된 답변(`processed_answer`)을 `user_answers` 리스트에 append\n",
    "    - 진행 인덱스(`quiz_index`)를 +1 하여 다음 문제로 이동할 준비\n",
    "\n",
    "* `user_input = state[\"user_input\"].strip()` : `state[\"user_input\"]`은 `chat_fn` 에서 입력됨. `strip()`은 앞뒤 공백 모두 제거\n",
    "* `except (ValueError, IndexError): pass` : 사용자가 \"a\"처럼 숫자로 변환할 수 없는 값을 입력하거나(ValueError) \"5\"처럼 선택지 범위를 벗어나는 숫자를 입력하면(IndexError), pass 즉 아무런 작업도 하지 않고 그냥 넘어가서, 사용자가 입력한 값이 `state[\"user_answers\"]`로 저장됨."
   ]
  },
  {
   "cell_type": "code",
   "execution_count": null,
   "metadata": {},
   "outputs": [],
   "source": [
    "def answer_collector(state: AppState) -> AppState:\n",
    "    \"\"\"사용자 답변을 처리하고 저장한 뒤, 다음 문제로 넘어갑니다.\"\"\"\n",
    "    \n",
    "    quiz_index = state[\"quiz_index\"]\n",
    "    quiz = state[\"questions\"][quiz_index]\n",
    "    user_input = state[\"user_input\"].strip()\n",
    "\n",
    "    # 빈 입력일 경우 안내 메시지만 추가하고, 인덱스는 그대로 유지\n",
    "    if not user_input:\n",
    "        return {\n",
    "            \"chat_history\": [(\"assistant\", \"답변을 입력해 주세요.\")],\n",
    "        }\n",
    "\n",
    "    processed_answer = user_input\n",
    "    if quiz[\"type\"] == \"multiple_choice\":\n",
    "        try:\n",
    "            sel = int(user_input) - 1\n",
    "            if 0 <= sel < len(quiz[\"choices\"]):\n",
    "                processed_answer = quiz[\"choices\"][sel]\n",
    "        except (ValueError, IndexError):\n",
    "            pass\n",
    "\n",
    "    return {\n",
    "        \"user_answers\": [processed_answer],\n",
    "        \"quiz_index\": quiz_index + 1\n",
    "    }"
   ]
  },
  {
   "cell_type": "markdown",
   "metadata": {},
   "source": [
    "### 채점을 위해 LLM에 전달할 프롬프트 생성 노드\n",
    "* 상태(state) 갱신의 목적 : \n",
    "    - 사용자에게 \"채점 중\" 안내를 위해 `chat_history`에 추가\n",
    "    - 채점 대상 데이터를 `state[\"grading_prompt\"]`에 저장 → 다음 노드(LLM 채점 호출 등)에서 활용\n",
    "* `zip(questions, user_answers)` : 각 문제와 각 답변을 쌍으로 묶어서 반환 (튜플: (문제, 답변))\n",
    "* `enumerate(...)` : 튜플 쌍에 인덱스 번호(`i`)를 붙여서 (`i, (q, a)`) 형태로 반환"
   ]
  },
  {
   "cell_type": "code",
   "execution_count": null,
   "metadata": {},
   "outputs": [],
   "source": [
    "def grading_prompter(state: AppState) -> AppState:\n",
    "    \"\"\"채점을 위해 LLM에 전달할 프롬프트를 생성합니다.\"\"\"\n",
    "    \n",
    "    questions = state[\"questions\"]\n",
    "    user_answers = state[\"user_answers\"]\n",
    "\n",
    "    prompt_buff = [\n",
    "        \"지금부터 아래의 문제와 정답, 그리고 사용자의 답변을 보고 채점을 시작해주세요.\"\n",
    "    ]\n",
    "    for i, (q, a) in enumerate(zip(questions, user_answers)):\n",
    "        prompt_buff.append(f\"\\n--- 문제 {i + 1} ---\")\n",
    "        prompt_buff.append(f\"문제: {q['question']}\")\n",
    "        if q[\"type\"] == \"multiple_choice\":\n",
    "            prompt_buff.append(f\"선택지: {', '.join(q['choices'])}\")\n",
    "        prompt_buff.append(f\"정답: {q['answer']}\")\n",
    "        prompt_buff.append(f\"사용자 답변: {a}\")\n",
    "\n",
    "    return {\n",
    "        \"chat_history\": [(\"assistant\", \"채점을 진행합니다...\")],\n",
    "        \"grading_prompt\": \"\\n\".join(prompt_buff),\n",
    "    }\n"
   ]
  },
  {
   "cell_type": "markdown",
   "metadata": {},
   "source": [
    "### LLM 채점 및 파싱 노드\n",
    "* 상태(state) 갱신의 목적 : \n",
    "    - 채점 대상 데이터를 `state[\"grading_prompt\"]`를 LLM에 전달\n",
    "    - LLM의 채점 결과를 FinalReport 클래스 JSON 데이터로 수신하여 `state[\"final_report\"]`에 저장\n",
    "    \n",
    "- `chain = prompt | llm_with_final_report` : 프롬프트와 FinalReport를 출력으로 하는 LLM을 LCEL 체인으로 연결\n",
    "\n"
   ]
  },
  {
   "cell_type": "code",
   "execution_count": null,
   "metadata": {},
   "outputs": [],
   "source": [
    "def grade_reporter(state: AppState) -> AppState:\n",
    "    \"\"\"LLM을 호출하여 채점하고 결과를 파싱합니다.\"\"\"\n",
    "    \n",
    "    system_message = \"\"\"\n",
    "    당신은 '명탐정 코난' 퀴즈의 전문 채점관입니다. 주어진 문제, 정답, 사용자 답변을 바탕으로 채점해주세요. \n",
    "    각 문제에 대해 정답 여부를 판단하고 친절한 해설을 덧붙여주세요. \n",
    "    모든 채점이 끝나면, 마지막에는 '총점: X/Y' 형식으로 최종 점수를 반드시 요약해서 보여줘야 합니다. \n",
    "    반드시 지정된 JSON 형식으로만 답변해야 합니다.\"\"\"\n",
    "\n",
    "    prompt = ChatPromptTemplate.from_messages(\n",
    "        [\n",
    "            (\"system\", system_message),\n",
    "            (\"human\", \"{grading_data}\"),\n",
    "        ]\n",
    "    )\n",
    "\n",
    "    try:\n",
    "        # 체인 생성\n",
    "        chain = prompt | llm_with_final_report\n",
    "        report = chain.invoke({\"grading_data\": state[\"grading_prompt\"]})\n",
    "        return {\n",
    "            \"final_report\": report\n",
    "        }\n",
    "    except Exception as e:\n",
    "        print(f\"채점 중 오류 발생: {e}\")\n",
    "        error_report = FinalReport(results=[], total_score=\"채점 오류가 발생했습니다.\")\n",
    "        return {\n",
    "            \"final_report\": error_report\n",
    "        }\n"
   ]
  },
  {
   "cell_type": "markdown",
   "metadata": {},
   "source": [
    "### 최종 리포트(FinalReport)를 사용자에게 보여줄 문자열로 변환 노드\n",
    "상태(state) 갱신의 목적 : LLM이 제공한 최종 채점 결과를 문제별로 정오, 정답, 제출 답변, 해설을 보기 좋게 포매팅\n",
    "- 마지막에 총점도 포함\n",
    "- 안내 메시지(재시작 방법 등)도 추가\n",
    "- 결과를 `assistant` 메시지로 `chat_history`에 append\n",
    "\n",
    "워크플로우 마지막 단계로 구조화된 채점 결과 객체(`final_report`)를 사람이 읽을 수 있는 문자열로 변환하여 `chat_history`에 추가함으로써 사용자에게 \"마지막 답변\"을 제공"
   ]
  },
  {
   "cell_type": "code",
   "execution_count": null,
   "metadata": {},
   "outputs": [],
   "source": [
    "def report_formatter(state: AppState) -> AppState:\n",
    "    \"\"\"파싱된 최종 리포트를 사용자에게 보여줄 문자열로 변환합니다.\"\"\"\n",
    "    \n",
    "    final_report = state[\"final_report\"]\n",
    "    report_buff = [\"채점이 완료되었습니다! 🎉\\n\"]\n",
    "\n",
    "    if final_report and final_report.results:\n",
    "        for i, res in enumerate(final_report.results):\n",
    "            is_correct_text = \"✅ 정답\" if res.is_correct else \"❌ 오답\"\n",
    "            report_buff.append(f\"--- 문제 {i + 1} ---\")\n",
    "            report_buff.append(f\"문제: {res.question}\")\n",
    "            report_buff.append(f\"정답: {res.correct_answer}\")\n",
    "            report_buff.append(f\"제출한 답변: {res.user_answer}\")\n",
    "            report_buff.append(f\"결과: {is_correct_text}\")\n",
    "            report_buff.append(f\"해설: {res.explanation}\\n\")\n",
    "        report_buff.append(f\"**{final_report.total_score}**\")\n",
    "    else:\n",
    "        report_buff.append(\"채점 결과를 생성하는 데 실패했습니다.\")\n",
    "\n",
    "    report_buff.append(\"\\n퀴즈를 다시 시작하려면 '퀴즈 시작'이라고 입력해주세요.\")    \n",
    "    return {\n",
    "        \"chat_history\": [(\"assistant\", \"\\n\".join(report_buff))],\n",
    "    }"
   ]
  },
  {
   "cell_type": "markdown",
   "metadata": {},
   "source": [
    "### 퀴즈 시작 명령어 예외 처리 노드\n",
    "사용자가 “퀴즈 시작” 명령어를 입력하지 않은 경우, 올바른 명령어 사용법(트리거 문구)을 안내하는 메시지를 `chat_history`에 `assistant` 역할로 추가"
   ]
  },
  {
   "cell_type": "code",
   "execution_count": null,
   "metadata": {},
   "outputs": [],
   "source": [
    "def input_helper(state: AppState) -> AppState:\n",
    "    \"\"\"퀴즈 시작 명령어가 아닐 경우 안내 메시지를 추가합니다.\"\"\"\n",
    "\n",
    "    help_message = f\"'{\" 또는 \".join(QUIZ_COMMANDS)}'이라고 입력하면 퀴즈가 시작됩니다.\"    \n",
    "    return {\n",
    "        \"chat_history\": [(\"assistant\", help_message)],\n",
    "    }"
   ]
  },
  {
   "cell_type": "markdown",
   "metadata": {},
   "source": [
    "### StateGraph 조건부 함수\n",
    "분기(`Edge Condition`) 함수로, 입력(state)을 분석해서 다음 실행할 노드 이름을 반환\n",
    "- `continue_quiz_condition` : 퀴즈가 아직 남아 있는지, 아니면 채점 단계로 넘어가야 하는지 다음 노드 이름을 결\n",
    "- `input_router` : 사용자의 첫 입력이 이미 퀴즈를 진행 중인 상태인지, “퀴즈 시작” 명령어인지, 또는 잘못된 입력인지 구분하여 시작 노드를 결정"
   ]
  },
  {
   "cell_type": "code",
   "execution_count": null,
   "metadata": {},
   "outputs": [],
   "source": [
    "def continue_quiz_condition(state: AppState) -> str:\n",
    "    \"\"\"퀴즈를 계속할지, 채점을 시작할지 결정합니다.\"\"\"\n",
    "\n",
    "    if state[\"quiz_index\"] < len(state[\"questions\"]):\n",
    "        return \"continue_quiz\"\n",
    "    else:\n",
    "        return \"grade_quiz\"\n",
    "\n",
    "\n",
    "def input_router(state: AppState) -> str:\n",
    "    \"\"\"사용자의 입력을 분석하여 워크플로우의 시작점을 결정합니다.\"\"\"\n",
    "    \n",
    "    if state.get(\"questions\") and state[\"questions\"]:\n",
    "        return \"answer_collector\"\n",
    "    else:\n",
    "        if state[\"user_input\"].strip().lower() in QUIZ_COMMANDS:\n",
    "            return \"quiz_setter\"\n",
    "        else:\n",
    "            return \"input_helper\""
   ]
  },
  {
   "cell_type": "markdown",
   "metadata": {},
   "source": [
    "## StateGraph 정의 및 컴파일\n",
    "\n",
    "### 노드 추가\n",
    "- 각 노드는 하나의 “기능적 단계”를 담당 : `quiz_setter`는 상태 초기화, `quiz_popper`은 문제 출제, `answer_collector`는 답변 처리 등\n",
    "- `input_helper`는 잘못된 시작 입력 안내\n",
    "\n",
    "### 조건부 진입점 설정\n",
    "- 워크플로우의 초기 입력을 분석하여 “퀴즈 시작” 명령이면 `quiz_setter`, 이미 진행 중이면 `answer_collector`, 그 외엔 `input_helper`로 각기 다른 노드에서 실행이 시작됨\n",
    "\n",
    "### 노드 연결(엣지 설정)\n",
    "\n",
    "직접 연결:\n",
    "- `quiz_setter` → `quiz_popper`: 퀴즈 시작 후 문제 출제\n",
    "- `grading_prompter` → `grade_reporter` → `report_formatter`: 채점 준비→실행→리포트 출력\n",
    "- `report_formatter` → `END`: 채점 결과 출력 후 종료\n",
    "\n",
    "조건부 연결:\n",
    "- `answer_collector` 다음에 `continue_quiz_condition`로 검사, 문제 남아 있으면 `continue_quiz`, 다 풀었으면 `grade_quiz`\n",
    "- 노드 종료 연결 : `quiz_popper` → `END`, `input_helper` → `END` (`quiz_popper → END`는 “한 문제만 내는” 임시 흐름처럼 보이니, 여러 문제 반복엔 반드시 위 조건부 연결이 필요!)"
   ]
  },
  {
   "cell_type": "code",
   "execution_count": null,
   "metadata": {},
   "outputs": [],
   "source": [
    "graph = StateGraph(AppState)\n",
    "\n",
    "# 노드 추가\n",
    "graph.add_node(\"quiz_setter\", quiz_setter)\n",
    "graph.add_node(\"quiz_popper\", quiz_popper)\n",
    "graph.add_node(\"answer_collector\", answer_collector)\n",
    "graph.add_node(\"grading_prompter\", grading_prompter)\n",
    "graph.add_node(\"grade_reporter\", grade_reporter)\n",
    "graph.add_node(\"report_formatter\", report_formatter)\n",
    "graph.add_node(\"input_helper\", input_helper)\n",
    "\n",
    "# 조건부 진입점 설정\n",
    "graph.set_conditional_entry_point(\n",
    "    input_router,\n",
    "    {\n",
    "        \"quiz_setter\": \"quiz_setter\",\n",
    "        \"answer_collector\": \"answer_collector\",\n",
    "        \"input_helper\": \"input_helper\",\n",
    "    },\n",
    ")\n",
    "\n",
    "# 엣지 연결\n",
    "graph.add_edge(\"quiz_setter\", \"quiz_popper\")\n",
    "graph.add_edge(\"quiz_popper\", END)\n",
    "graph.add_edge(\"input_helper\", END)\n",
    "\n",
    "graph.add_conditional_edges(\n",
    "    \"answer_collector\",\n",
    "    continue_quiz_condition,\n",
    "    {\"continue_quiz\": \"quiz_popper\", \"grade_quiz\": \"grading_prompter\"},\n",
    ")\n",
    "graph.add_edge(\"grading_prompter\", \"grade_reporter\")\n",
    "graph.add_edge(\"grade_reporter\", \"report_formatter\")\n",
    "graph.add_edge(\"report_formatter\", END)\n",
    "\n",
    "# 그래프 컴파일 : 퀴즈 애플리케이션 워크플로우 완성\n",
    "quiz_app = graph.compile()"
   ]
  },
  {
   "cell_type": "markdown",
   "metadata": {},
   "source": [
    "## 그래프 시각화"
   ]
  },
  {
   "cell_type": "code",
   "execution_count": null,
   "metadata": {},
   "outputs": [],
   "source": [
    "visualize_graph(quiz_app)"
   ]
  },
  {
   "cell_type": "markdown",
   "metadata": {},
   "source": [
    "## UI 인터페이스 함수\n",
    "`init_state()` :\n",
    "- 앱을 초기화할 때 사용할 빈 상태(딕셔너리) 반환\n",
    "- `app_state` 아래에 문제/대화 이력만 먼저 준비\n",
    "- 다른 필드는 워크플로우 도중 필요에 따라 추가됨(예: quiz_index, user_answers, final_report 등)\n",
    "\n",
    "`chat_fn(user_input, state)` : Gradio 챗봇 UI에서 실제로 호출되는 메인 처리 함수\n"
   ]
  },
  {
   "cell_type": "code",
   "execution_count": null,
   "metadata": {},
   "outputs": [],
   "source": [
    "def init_state():\n",
    "    return {\"app_state\": {\"questions\": [], \"chat_history\": []}}\n",
    "\n",
    "\n",
    "def chat_fn(user_input, state):\n",
    "    app_state = state[\"app_state\"]\n",
    "\n",
    "    if app_state.get(\"final_report\") and user_input.strip().lower() in QUIZ_COMMANDS:\n",
    "        app_state = init_state()[\"app_state\"]\n",
    "\n",
    "    current_chat_history = app_state.get(\"chat_history\", [])\n",
    "    current_chat_history.append((\"user\", user_input))\n",
    "\n",
    "    # 그래프 입력 생성 : **app_state (딕셔너리 언패킹)\n",
    "    graph_input = {\n",
    "        **app_state,\n",
    "        \"user_input\": user_input,\n",
    "        \"chat_history\": current_chat_history,\n",
    "    }\n",
    "\n",
    "    # 그래프 실행 : 리턴값은 그래프 노드 함수에서 처리된 AppState 형식의 dict로 변환\n",
    "    new_state = quiz_app.invoke(graph_input)\n",
    "    state[\"app_state\"] = new_state\n",
    "\n",
    "    chat_display = [\n",
    "        {\"role\": role, \"content\": content}\n",
    "        for role, content in new_state[\"chat_history\"]\n",
    "    ]\n",
    "\n",
    "    return chat_display, state"
   ]
  },
  {
   "cell_type": "markdown",
   "metadata": {},
   "source": [
    "## Gradio UI 정의\n",
    "Gradio의 Blocks UI 구성 방식을 사용해 명탐정 코난 퀴즈 챗봇 인터페이스를 구성"
   ]
  },
  {
   "cell_type": "code",
   "execution_count": null,
   "metadata": {},
   "outputs": [],
   "source": [
    "# Gradio UI\n",
    "with gr.Blocks(theme=gr.themes.Soft()) as demo:\n",
    "    gr.Markdown(\"### 🕵️ 명탐정 코난 매니아 판별기\")\n",
    "\n",
    "    chatbot = gr.Chatbot(\n",
    "        label=\"명탐정 코난 퀴즈 챗봇\",\n",
    "        height=400,\n",
    "        avatar_images=(\"data/avatar_user.png\", \"data/avatar_conan.png\"),\n",
    "        type=\"messages\",\n",
    "    )\n",
    "\n",
    "    txt = gr.Textbox(placeholder=\"'퀴즈 시작'을 입력해보세요!\", show_label=False)\n",
    "    state = gr.State(init_state())\n",
    "\n",
    "    # 이벤트 핸들링\n",
    "    txt.submit(chat_fn, inputs=[txt, state], outputs=[chatbot, state])\n",
    "\n",
    "    # 텍스트 박스 초기화\n",
    "    txt.submit(lambda: \"\", None, txt)\n",
    "\n",
    "    demo.launch()"
   ]
  },
  {
   "cell_type": "code",
   "execution_count": null,
   "metadata": {},
   "outputs": [],
   "source": [
    "demo.close()"
   ]
  },
  {
   "cell_type": "markdown",
   "metadata": {},
   "source": [
    "-----\n",
    "** End of Documents **"
   ]
  }
 ],
 "metadata": {
  "kernelspec": {
   "display_name": "venv",
   "language": "python",
   "name": "python3"
  },
  "language_info": {
   "codemirror_mode": {
    "name": "ipython",
    "version": 3
   },
   "file_extension": ".py",
   "mimetype": "text/x-python",
   "name": "python",
   "nbconvert_exporter": "python",
   "pygments_lexer": "ipython3",
   "version": "3.12.3"
  }
 },
 "nbformat": 4,
 "nbformat_minor": 2
}
