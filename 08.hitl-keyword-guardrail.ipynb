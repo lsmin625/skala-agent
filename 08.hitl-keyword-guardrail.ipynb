{
 "cells": [
  {
   "cell_type": "markdown",
   "metadata": {},
   "source": [
    "# LangGraph HITL (Human in the Loop)\n",
    "## 뉴스 검색 keyword 가드레일\n",
    "\n",
    "- **동적 인터럽트 (Dynamic Interrupts)**: 특정 노드 내에서 코드 실행 중 조건에 따라 `interrupt()` 함수를 호출하여 그래프를 일시 중지\n",
    "- **정적 인터럽트 (Static Interrupts)**: 그래프를 컴파일할 때 `interrupt_before` 또는 `interrupt_after` 인자를 사용하여 특정 노드의 실행 전후에 항상 일시 중지되도록 설정"
   ]
  },
  {
   "cell_type": "code",
   "execution_count": null,
   "metadata": {},
   "outputs": [],
   "source": [
    "import uuid\n",
    "from typing import Annotated, Optional, TypedDict\n",
    "\n",
    "from langchain_core.messages import BaseMessage, HumanMessage, AIMessage, SystemMessage, ToolMessage\n",
    "from langchain_core.tools import tool\n",
    "from langchain_openai import ChatOpenAI\n",
    "\n",
    "from langgraph.graph import StateGraph, START, END\n",
    "from langgraph.prebuilt import ToolNode, tools_condition\n",
    "from langgraph.types import Command, interrupt\n",
    "from langgraph.checkpoint.memory import InMemorySaver\n",
    "from langgraph.graph.message import add_messages\n",
    "\n",
    "from dotenv import load_dotenv\n",
    "from langchain_teddynote.tools import GoogleNews\n",
    "from langchain_teddynote.graphs import visualize_graph\n",
    "\n",
    "import gradio as gr\n",
    "\n",
    "RISKY_KEYWORDS = [\n",
    "    \"자살\", \"자해\", \"폭력\", \"살인\", \"강간\",\n",
    "    \"19금\", \"성인\", \"포르노\", \"야동\", \"음란\"\n",
    "]"
   ]
  },
  {
   "cell_type": "markdown",
   "metadata": {},
   "source": [
    "## 도구 및 상태 구성"
   ]
  },
  {
   "cell_type": "code",
   "execution_count": null,
   "metadata": {},
   "outputs": [],
   "source": [
    "load_dotenv()\n",
    "\n",
    "llm = ChatOpenAI(model=\"gpt-4o-mini\", temperature=0)\n"
   ]
  },
  {
   "cell_type": "code",
   "execution_count": null,
   "metadata": {},
   "outputs": [],
   "source": [
    "google_news= GoogleNews()\n",
    "\n",
    "@tool\n",
    "def news_search(query: str) -> str:\n",
    "    \"\"\"뉴스 검색 도구를 호출해 결과를 반환한다.\"\"\"\n",
    "    results = google_news.search_by_keyword(query, k=5)\n",
    "    text = \"\\n\".join(\n",
    "        f\"- {r.get('content','(내용없음)')} | {r.get('url','')}\" for r in results\n",
    "    ) or \"검색 결과 없음\"\n",
    "    return text\n",
    "\n",
    "\n",
    "def contains_risky_term(text: str) -> bool:\n",
    "    \"\"\"텍스트에 위험/민감 키워드가 포함됐는지 검사한다.\"\"\"\n",
    "    text = str(text or \"\").strip().lower()\n",
    "    return any(k in text for k in (kw.lower() for kw in RISKY_KEYWORDS))\n",
    "\n",
    "@tool\n",
    "def keyword_guardrail(query: str) -> str:\n",
    "    \"\"\"\n",
    "    질의에 위험/민감 키워드가 포함됐는지 검사하고, 포함 시 사람에게 승인을 구하기 위해 실행을 중단한다.\n",
    "    - 위험어 포함: interrupt(...)로 일시 중단 → 재개 후 'APPROVED' 또는 'DENIED' 반환\n",
    "    - 미포함: 'SAFE' 반환\n",
    "    \"\"\"\n",
    "    if contains_risky_term(query):\n",
    "        resume_payload = interrupt({\"query\": query})\n",
    "        user_decision = str(resume_payload.get(\"data\", \"\")).strip().lower()\n",
    "        if user_decision in {\"예\", \"yes\"}:\n",
    "            return \"APPROVED\"\n",
    "        return \"DENIED\"\n",
    "    return \"SAFE\"\n",
    "\n",
    "tools = [keyword_guardrail, news_search]\n",
    "llm_with_tools = llm.bind_tools(tools)"
   ]
  },
  {
   "cell_type": "markdown",
   "metadata": {},
   "source": [
    "## 상태 정의"
   ]
  },
  {
   "cell_type": "code",
   "execution_count": null,
   "metadata": {},
   "outputs": [],
   "source": [
    "# 상태 타입 정의: total=False로 선택적 필드 지정\n",
    "class AgentState(TypedDict, total=False):\n",
    "    messages: Annotated[list, \"LLM 메시지 목록\", add_messages]\n",
    "    result: Annotated[Optional[str], \"keyword_guardrail 응답 내용\",]\n"
   ]
  },
  {
   "cell_type": "markdown",
   "metadata": {},
   "source": [
    "## 그래프 노드 정의"
   ]
  },
  {
   "cell_type": "code",
   "execution_count": null,
   "metadata": {},
   "outputs": [],
   "source": [
    "SYSTEM_PROMPT = (\n",
    "    \"당신은 뉴스 검색 어시스턴트입니다. \"\n",
    "    \"먼저 사용자의 질문에 대해 항상 'keyword_guardrail' 도구를 사용해야 합니다. \"\n",
    "    \"그 결과가 'SAFE' 또는 'APPROVED'이면, 원래 사용자 질문을 가지고 'news_search' 도구를 사용해야 합니다. \"\n",
    "    \"뉴스 검색 결과를 받은 후에는, 그 내용을 요약하여 사용자에게 최종 답변을 제공하세요. \"\n",
    "    \"만약 'DENIED'라면, 안전 상의 이유로 검색 결과를 제공하지 않는다고 알리세요.\"\n",
    ")\n",
    "\n",
    "def ensure_system_once(msgs: list[BaseMessage]) -> list[BaseMessage]:\n",
    "    # SystemMessage가 계속 누적되는 것을 방지\n",
    "    if not msgs or not isinstance(msgs[0], SystemMessage):\n",
    "        return [SystemMessage(content=SYSTEM_PROMPT)] + msgs\n",
    "    return msgs\n",
    "\n",
    "# --- Nodes ---\n",
    "def agent_node(state: AgentState) -> AgentState:\n",
    "    \"\"\"LLM에 상태의 메시지들을 전달하고 응답을 받아 상태에 추가\"\"\"\n",
    "    messages = ensure_system_once(state.get(\"messages\", []))\n",
    "    ai = llm_with_tools.invoke(messages)\n",
    "    return {\"messages\": [ai]}\n",
    "\n",
    "def guardrail_extractor(state: AgentState) -> AgentState:\n",
    "    \"\"\"keyword_guardrail 도구 결과를 추출하여 state['result']에 저장\"\"\"\n",
    "    for msg in reversed(state.get(\"messages\", [])):\n",
    "        # ToolNode 실행 후 도구 응답은 ToolMessage(name=<tool_name>) 형태\n",
    "        if isinstance(msg, ToolMessage) and msg.name == \"keyword_guardrail\":\n",
    "            return {\"result\": msg.content}  # 'SAFE' / 'APPROVED' / 'DENIED'\n",
    "    return {}\n"
   ]
  },
  {
   "cell_type": "markdown",
   "metadata": {},
   "source": [
    "## 그래프 구성 및 컴파일"
   ]
  },
  {
   "cell_type": "code",
   "execution_count": null,
   "metadata": {},
   "outputs": [],
   "source": [
    "\n",
    "graph = StateGraph(AgentState)\n",
    "\n",
    "graph.add_node(\"agent\", agent_node)\n",
    "graph.add_node(\"tools\", ToolNode(tools))\n",
    "graph.add_node(\"extractor\", guardrail_extractor)\n",
    "\n",
    "graph.add_edge(START, \"agent\")\n",
    "graph.add_conditional_edges(\n",
    "    \"agent\",\n",
    "    tools_condition,\n",
    "    {\n",
    "        \"tools\": \"tools\",   # tool_calls 있으면 ToolNode로\n",
    "        \"__end__\": END,     # 없으면 종료\n",
    "    },\n",
    ")\n",
    "graph.add_edge(\"tools\", \"extractor\")\n",
    "graph.add_edge(\"extractor\", \"agent\")\n",
    "\n",
    "\n",
    "# 인터럽트 세이브포인트용 메모리\n",
    "checkpointer = InMemorySaver()\n",
    "app = graph.compile(checkpointer=checkpointer)\n",
    "\n",
    "visualize_graph(app)"
   ]
  },
  {
   "cell_type": "markdown",
   "metadata": {},
   "source": [
    "## UI 구성\n",
    "\n",
    "### 입출력 처리 함수"
   ]
  },
  {
   "cell_type": "code",
   "execution_count": null,
   "metadata": {},
   "outputs": [],
   "source": [
    "def get_last_ai_text(state: dict) -> str:\n",
    "    \"\"\"상태의 마지막 AI 메시지 내용을 반환한다.\"\"\"\n",
    "    msgs = state.get(\"messages\", [])\n",
    "    for m in reversed(msgs):\n",
    "        if isinstance(m, AIMessage):\n",
    "            return str(m.content or \"\")\n",
    "    return \"\"\n",
    "\n",
    "def submit_query(user_input, cfg_state, chat_history, pending_flag):\n",
    "    \"\"\"사용자 입력 처리\"\"\"\n",
    "    if not user_input.strip():\n",
    "        return chat_history, cfg_state, gr.update(interactive=False), gr.update(interactive=False), pending_flag\n",
    "\n",
    "    cfg = {\"configurable\": {\"thread_id\": str(uuid.uuid4())}}\n",
    "    chat_history = chat_history + [{\"role\": \"user\", \"content\": user_input}]\n",
    "\n",
    "    try:\n",
    "        result_state = app.invoke({\"messages\": [HumanMessage(content=user_input)]}, config=cfg)\n",
    "    except Exception as e:\n",
    "        chat_history += [{\"role\": \"assistant\", \"content\": f\"⚠️ 오류 발생: {e}\"}]\n",
    "        return chat_history, cfg, gr.update(interactive=False), gr.update(interactive=False), False\n",
    "\n",
    "    interrupts = result_state.get(\"__interrupt__\", [])\n",
    "    if interrupts:\n",
    "        chat_history += [{\n",
    "            \"role\": \"assistant\",\n",
    "            \"content\": \"⚠️ 위험 키워드가 포함되어 있습니다. 계속 진행할까요? '예' 또는 '아니오'를 선택하세요.\\n\"\n",
    "        }]\n",
    "        return chat_history, cfg, gr.update(interactive=True), gr.update(interactive=True), True\n",
    "\n",
    "    # 안전한 경우 결과 출력\n",
    "    final_txt = get_last_ai_text(result_state) or \"결과가 없습니다.\"\n",
    "    chat_history += [{\"role\": \"assistant\", \"content\": final_txt}]\n",
    "    return chat_history, cfg, gr.update(interactive=False), gr.update(interactive=False), False\n",
    "\n",
    "\n",
    "def resume_yes(cfg_state, chat_history, pending_flag):\n",
    "    \"\"\"‘예’ 승인\"\"\"\n",
    "    if not cfg_state or not pending_flag:\n",
    "        return chat_history, gr.update(interactive=False), gr.update(interactive=False), False\n",
    "    try:\n",
    "        result_state = app.invoke(Command(resume={\"data\": \"예\"}), config=cfg_state)\n",
    "        final_txt = get_last_ai_text(result_state) or \"결과가 없습니다.\"\n",
    "        chat_history += [{\"role\": \"assistant\", \"content\": final_txt}]\n",
    "    except Exception as e:\n",
    "        chat_history += [{\"role\": \"assistant\", \"content\": f\"⚠️ 재개 중 오류: {e}\"}]\n",
    "    return chat_history, gr.update(interactive=False), gr.update(interactive=False), False\n",
    "\n",
    "\n",
    "def resume_no(cfg_state, chat_history, pending_flag):\n",
    "    \"\"\"‘아니오’ 거부\"\"\"\n",
    "    if not cfg_state or not pending_flag:\n",
    "        return chat_history, gr.update(interactive=False), gr.update(interactive=False), False\n",
    "    try:\n",
    "        result_state = app.invoke(Command(resume={\"data\": \"아니오\"}), config=cfg_state)\n",
    "        final_txt = get_last_ai_text(result_state) or \"검색 결과를 제공하지 않습니다.\"\n",
    "        chat_history += [{\"role\": \"assistant\", \"content\": final_txt}]\n",
    "    except Exception as e:\n",
    "        chat_history += [{\"role\": \"assistant\", \"content\": f\"⚠️ 재개 중 오류: {e}\"}]\n",
    "    return chat_history, gr.update(interactive=False), gr.update(interactive=False), False\n"
   ]
  },
  {
   "cell_type": "markdown",
   "metadata": {},
   "source": [
    "### UI 구성"
   ]
  },
  {
   "cell_type": "code",
   "execution_count": null,
   "metadata": {},
   "outputs": [],
   "source": [
    "with gr.Blocks(title=\"LangGraph HITL Guardrail\") as demo:\n",
    "    gr.Markdown(\"### 🧩 LangGraph HITL (뉴스 검색 가드레일) — 동적 인터럽트 데모\")\n",
    "\n",
    "    # ✅ type=\"messages\" 적용\n",
    "    chatbot = gr.Chatbot(type=\"messages\", height=400)\n",
    "    user_input = gr.Textbox(label=\"검색어를 입력하세요\", placeholder=\"예: 최신 AI 뉴스를 검색해줘\")\n",
    "    with gr.Row():\n",
    "        btn_submit = gr.Button(\"질문 보내기\", variant=\"primary\")\n",
    "        btn_yes = gr.Button(\"예(승인)\", interactive=False)\n",
    "        btn_no = gr.Button(\"아니오(거부)\", interactive=False)\n",
    "\n",
    "    st_cfg = gr.State(value=None)\n",
    "    st_pending = gr.State(value=False)\n",
    "    st_chat = gr.State(value=[])\n",
    "\n",
    "    # 이벤트 연결\n",
    "    btn_submit.click(\n",
    "        submit_query,\n",
    "        inputs=[user_input, st_cfg, st_chat, st_pending],\n",
    "        outputs=[chatbot, st_cfg, btn_yes, btn_no, st_pending]\n",
    "    )\n",
    "\n",
    "    # btn_submit.click 과 동일하게 처리\n",
    "    user_input.submit(\n",
    "        submit_query,\n",
    "        inputs=[user_input, st_cfg, st_chat, st_pending],\n",
    "        outputs=[chatbot, st_cfg, btn_yes, btn_no, st_pending]\n",
    "    )\n",
    "\n",
    "    btn_yes.click(\n",
    "        resume_yes,\n",
    "        inputs=[st_cfg, chatbot, st_pending],\n",
    "        outputs=[chatbot, btn_yes, btn_no, st_pending]\n",
    "    )\n",
    "\n",
    "    btn_no.click(\n",
    "        resume_no,\n",
    "        inputs=[st_cfg, chatbot, st_pending],\n",
    "        outputs=[chatbot, btn_yes, btn_no, st_pending]\n",
    "    )\n",
    "\n",
    "demo.launch()\n"
   ]
  },
  {
   "cell_type": "code",
   "execution_count": null,
   "metadata": {},
   "outputs": [],
   "source": [
    "demo.close()"
   ]
  },
  {
   "cell_type": "markdown",
   "metadata": {},
   "source": [
    "-----\n",
    "** End of Documents **"
   ]
  }
 ],
 "metadata": {
  "kernelspec": {
   "display_name": "venv",
   "language": "python",
   "name": "python3"
  },
  "language_info": {
   "codemirror_mode": {
    "name": "ipython",
    "version": 3
   },
   "file_extension": ".py",
   "mimetype": "text/x-python",
   "name": "python",
   "nbconvert_exporter": "python",
   "pygments_lexer": "ipython3",
   "version": "3.12.3"
  }
 },
 "nbformat": 4,
 "nbformat_minor": 2
}
