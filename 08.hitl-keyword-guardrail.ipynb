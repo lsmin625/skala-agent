{
 "cells": [
  {
   "cell_type": "markdown",
   "metadata": {},
   "source": [
    "# LangGraph HITL (Human in the Loop)\n",
    "## 뉴스 검색 keyword 가드레일\n",
    "\n",
    "- **동적 인터럽트 (Dynamic Interrupts)**: 특정 노드 내에서 코드 실행 중 조건에 따라 `interrupt()` 함수를 호출하여 그래프를 일시 중지\n",
    "- **정적 인터럽트 (Static Interrupts)**: 그래프를 컴파일할 때 `interrupt_before` 또는 `interrupt_after` 인자를 사용하여 특정 노드의 실행 전후에 항상 일시 중지되도록 설정"
   ]
  },
  {
   "cell_type": "code",
   "execution_count": 1,
   "metadata": {},
   "outputs": [],
   "source": [
    "import uuid\n",
    "from typing import Annotated, Optional, TypedDict\n",
    "\n",
    "from langchain_core.messages import HumanMessage, AIMessage, SystemMessage\n",
    "from langchain_core.tools import tool\n",
    "from langchain_openai import ChatOpenAI\n",
    "\n",
    "from langgraph.graph import StateGraph, START, END\n",
    "from langgraph.prebuilt import ToolNode, tools_condition\n",
    "from langgraph.types import Command, interrupt\n",
    "from langgraph.checkpoint.memory import InMemorySaver\n",
    "from langgraph.graph.message import add_messages\n",
    "\n",
    "from dotenv import load_dotenv\n",
    "from langchain_teddynote.tools import GoogleNews\n",
    "from langchain_teddynote.graphs import visualize_graph\n",
    "\n",
    "RISKY_KEYWORDS = [\n",
    "    \"자살\", \"자해\", \"폭력\", \"살인\", \"강간\",\n",
    "    \"19금\", \"성인\", \"포르노\", \"야동\", \"음란\"\n",
    "]"
   ]
  },
  {
   "cell_type": "markdown",
   "metadata": {},
   "source": [
    "## 도구 및 상태 구성"
   ]
  },
  {
   "cell_type": "code",
   "execution_count": 2,
   "metadata": {},
   "outputs": [],
   "source": [
    "load_dotenv()\n",
    "\n",
    "llm = ChatOpenAI(model=\"gpt-4o-mini\", temperature=0)\n",
    "\n",
    "checkpointer = InMemorySaver()\n"
   ]
  },
  {
   "cell_type": "code",
   "execution_count": 3,
   "metadata": {},
   "outputs": [],
   "source": [
    "google_news= GoogleNews()\n",
    "\n",
    "@tool\n",
    "def news_search(query: str) -> str:\n",
    "    \"\"\"뉴스 검색 도구를 호출해 결과를 반환한다.\"\"\"\n",
    "    print(f\"[Tool] news_search 호출: {query}\")\n",
    "    results = google_news.search_by_keyword(query, k=5)\n",
    "    text = \"\\n\".join(\n",
    "        f\"- {r.get('content','(내용없음)')} | {r.get('url','')}\" for r in results\n",
    "    ) or \"검색 결과 없음\"\n",
    "    return text\n",
    "\n",
    "\n",
    "def contains_risky_term(text: str) -> bool:\n",
    "    \"\"\"텍스트에 위험/민감 키워드가 포함됐는지 검사한다.\"\"\"\n",
    "    text = str(text or \"\").strip().lower()\n",
    "    return any(k in text for k in (kw.lower() for kw in RISKY_KEYWORDS))\n",
    "\n",
    "@tool\n",
    "def keyword_guardrail(query: str) -> str:\n",
    "    \"\"\"\n",
    "    질의에 위험/민감 키워드가 포함됐는지 검사하고, 포함 시 사람에게 승인을 구하기 위해 실행을 중단한다.\n",
    "    - 위험어 포함: interrupt(...)로 일시 중단 → 재개 후 'APPROVED' 또는 'DENIED' 반환\n",
    "    - 미포함: 'SAFE' 반환\n",
    "    \"\"\"\n",
    "    print(f\"[Tool] keyword_guardrail 호출: {query}\")\n",
    "\n",
    "    if contains_risky_term(query):\n",
    "        print(f\"[Tool] interrupt 발생 — 위험 질의: {query}\")\n",
    "        resume_payload = interrupt({\"query\": query})\n",
    "        print(f\"[Tool] resume_payload 수신: {resume_payload}\")\n",
    "        user_decision = str(resume_payload.get(\"data\", \"\")).strip().lower()\n",
    "        if user_decision in {\"예\", \"yes\"}:\n",
    "            return \"APPROVED\"\n",
    "        return \"DENIED\"\n",
    "    return \"SAFE\"\n",
    "\n",
    "tools = [keyword_guardrail, news_search]\n",
    "llm_with_tools = llm.bind_tools(tools)"
   ]
  },
  {
   "cell_type": "markdown",
   "metadata": {},
   "source": [
    "## 상태 정의"
   ]
  },
  {
   "cell_type": "code",
   "execution_count": 4,
   "metadata": {},
   "outputs": [],
   "source": [
    "class AgentState(TypedDict, total=False):\n",
    "    messages: Annotated[list, add_messages]\n",
    "    result: Optional[str]\n"
   ]
  },
  {
   "cell_type": "markdown",
   "metadata": {},
   "source": [
    "## 그래프 노드 정의"
   ]
  },
  {
   "cell_type": "code",
   "execution_count": 5,
   "metadata": {},
   "outputs": [],
   "source": [
    "system_prompt = (\n",
    "    \"사용자의 모든 입력에 대해 반드시 keyword_guardrail 도구를 호출하여 \"\n",
    "    \"안전성을 판별하세요. 응답이 SAFE인 경우에는 news_search 도구를 사용하여 \"\n",
    "    \"뉴스 기사를 검색하세요.\"\n",
    ")\n",
    "\n",
    "def agent_node(state: AgentState) -> AgentState:\n",
    "    \"\"\"LLM에 상태의 메시지들을 전달하고 응답을 받아 상태에 추가 \"\"\"\n",
    "    messages = [SystemMessage(content=system_prompt)] + state.get(\"messages\", [])\n",
    "    ai = llm_with_tools.invoke(messages)\n",
    "    return {\"messages\": [ai]}\n",
    "\n",
    "def extract_guardrail_result(state: AgentState) -> AgentState:\n",
    "    \"\"\"상태의 메시지들에서 keyword_guardrail 도구의 결과를 추출하여 상태에 추가\"\"\"\n",
    "    for msg in reversed(state[\"messages\"]):\n",
    "        if getattr(msg, \"name\", None) == \"keyword_guardrail\":\n",
    "            return {\"result\": msg.content}\n",
    "    return {}"
   ]
  },
  {
   "cell_type": "markdown",
   "metadata": {},
   "source": [
    "## 그래프 구성 및 컴파일"
   ]
  },
  {
   "cell_type": "code",
   "execution_count": 6,
   "metadata": {},
   "outputs": [
    {
     "data": {
      "image/png": "[encoded data removed]",
      "text/plain": [
       "<IPython.core.display.Image object>"
      ]
     },
     "metadata": {},
     "output_type": "display_data"
    }
   ],
   "source": [
    "graph = StateGraph(AgentState)\n",
    "graph.add_node(\"agent\", agent_node)\n",
    "graph.add_node(\"tools\", ToolNode([keyword_guardrail]))\n",
    "graph.add_node(\"extract\", extract_guardrail_result)\n",
    "\n",
    "graph.add_edge(START, \"agent\")\n",
    "graph.add_conditional_edges(\"agent\", tools_condition)\n",
    "graph.add_edge(\"tools\", \"extract\")\n",
    "graph.add_edge(\"extract\", \"agent\")\n",
    "graph.add_edge(\"agent\", END)\n",
    "graph.add_edge(\"extract\", END)\n",
    "\n",
    "app = graph.compile(checkpointer=InMemorySaver())\n",
    "\n",
    "visualize_graph(app)"
   ]
  },
  {
   "cell_type": "markdown",
   "metadata": {},
   "source": [
    "## 실행 로직"
   ]
  },
  {
   "cell_type": "code",
   "execution_count": 7,
   "metadata": {},
   "outputs": [
    {
     "name": "stdout",
     "output_type": "stream",
     "text": [
      "[Tool] keyword_guardrail 호출: 최신 자살 뉴스\n",
      "[Tool] interrupt 발생 — 위험 질의: 최신 자살 뉴스\n"
     ]
    }
   ],
   "source": [
    "cfg = {\"configurable\": {\"thread_id\": str(uuid.uuid4())}}\n",
    "\n",
    "try:\n",
    "    app.invoke({\"messages\": [HumanMessage(content=\"최신 자살 뉴스를 검색해줘\")]}, config=cfg)\n",
    "except BaseException:\n",
    "    print(\"[중단됨 → 사용자 응답 필요]\")\n"
   ]
  },
  {
   "cell_type": "code",
   "execution_count": 8,
   "metadata": {},
   "outputs": [
    {
     "name": "stdout",
     "output_type": "stream",
     "text": [
      "[Tool] keyword_guardrail 호출: 최신 자살 뉴스\n",
      "[Tool] interrupt 발생 — 위험 질의: 최신 자살 뉴스\n",
      "[Tool] resume_payload 수신: {'data': '아니오'}\n",
      "최종 결과: DENIED\n"
     ]
    }
   ],
   "source": [
    "\n",
    "result = app.invoke(Command(resume={\"data\": \"아니오\"}), config=cfg)\n",
    "print(\"최종 결과:\", result.get(\"result\"))"
   ]
  },
  {
   "cell_type": "code",
   "execution_count": 9,
   "metadata": {},
   "outputs": [
    {
     "name": "stdout",
     "output_type": "stream",
     "text": [
      "[Tool] keyword_guardrail 호출: 최근 자살 뉴스\n",
      "[Tool] interrupt 발생 — 위험 질의: 최근 자살 뉴스\n"
     ]
    }
   ],
   "source": [
    "cfg = {\"configurable\": {\"thread_id\": str(uuid.uuid4())}}\n",
    "\n",
    "try:\n",
    "    app.invoke({\"messages\": [HumanMessage(content=\"최근 자살 뉴스를 검색 해줘\")]}, config=cfg)\n",
    "except BaseException:\n",
    "    print(\"[중단됨 → 사용자 응답 필요]\")\n",
    "    \n"
   ]
  },
  {
   "cell_type": "code",
   "execution_count": 10,
   "metadata": {},
   "outputs": [
    {
     "name": "stdout",
     "output_type": "stream",
     "text": [
      "[Tool] keyword_guardrail 호출: 최근 자살 뉴스\n",
      "[Tool] interrupt 발생 — 위험 질의: 최근 자살 뉴스\n",
      "[Tool] resume_payload 수신: {'data': '예'}\n",
      "최종 결과: APPROVED\n"
     ]
    }
   ],
   "source": [
    "result = app.invoke(Command(resume={\"data\": \"예\"}), config=cfg)\n",
    "print(\"최종 결과:\", result.get(\"result\"))"
   ]
  },
  {
   "cell_type": "markdown",
   "metadata": {},
   "source": [
    "-----\n",
    "** End of Documents **"
   ]
  }
 ],
 "metadata": {
  "kernelspec": {
   "display_name": "venv",
   "language": "python",
   "name": "python3"
  },
  "language_info": {
   "codemirror_mode": {
    "name": "ipython",
    "version": 3
   },
   "file_extension": ".py",
   "mimetype": "text/x-python",
   "name": "python",
   "nbconvert_exporter": "python",
   "pygments_lexer": "ipython3",
   "version": "3.12.3"
  }
 },
 "nbformat": 4,
 "nbformat_minor": 2
}
