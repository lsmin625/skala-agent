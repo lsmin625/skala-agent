{
 "cells": [
  {
   "cell_type": "markdown",
   "metadata": {},
   "source": [
    "# Tool을 사용하는 챗봇 구현"
   ]
  },
  {
   "cell_type": "markdown",
   "metadata": {},
   "source": [
    "## OpenAI LLM 준비\n",
    "* 환경 변수(`.env` 파일)에서 API Key 로딩\n",
    "* 개발 환경에서는 `gpt-4o-mini` 또는 `gpt-3.5-turbo`"
   ]
  },
  {
   "cell_type": "code",
   "execution_count": null,
   "metadata": {},
   "outputs": [],
   "source": [
    "import gradio as gr\n",
    "from dotenv import load_dotenv\n",
    "\n",
    "from langchain_openai import ChatOpenAI\n",
    "from langchain.tools import tool\n",
    "\n",
    "\n",
    "# .env 파일 로드 및 API 키 확인\n",
    "load_dotenv()\n",
    "\n",
    "# OpenAI LLM 준비\n",
    "llm = ChatOpenAI(model=\"gpt-4o-mini\", temperature=0.5)"
   ]
  },
  {
   "cell_type": "code",
   "execution_count": null,
   "metadata": {},
   "outputs": [],
   "source": [
    "## 단계 - 도구 구성\n",
    "@tool\n",
    "def tranquilizer_watch(target: str) -> str:\n",
    "    \"\"\"마취 시계: 지정된 대상을 잠재울 필요가 있을 때 사용합니다. 추리 설명 등을 대신할 때 유용합니다.\n",
    "    Args:\n",
    "        target (str): 마취시킬 대상의 이름이나 인상착의. 예: '안경 쓴 범인', '유명한 탐정님'\n",
    "    \"\"\"\n",
    "    return f\"⌚ 마취 시계: '{target}'을(를) 성공적으로 마취시켰습니다.\"\n",
    "\n",
    "\n",
    "@tool\n",
    "def voice_changer_bowtie(target: str) -> str:\n",
    "    \"\"\"음성 변조 나비넥타이: 다른 사람의 목소리로 추리를 설명하거나, 다른 사람인 척 연기해야 할 때 사용합니다.\n",
    "    Args:\n",
    "        target (str): 목소리를 흉내 낼 대상. 예: '브라운 박사님', '유명한 탐정님'\n",
    "    \"\"\"\n",
    "    return f\"🎤 음성 변조 나비넥타이: '{target}'의 목소리로 변조를 시작합니다.\"\n",
    "\n",
    "\n",
    "@tool\n",
    "def detective_glasses(target: str) -> str:\n",
    "    \"\"\"탐정 안경: 특정 대상을 추적하거나 멀리 있는 것을 확대해서 볼 때 사용합니다. 범인 추적에 필수적입니다.\n",
    "    Args:\n",
    "        target (str): 추적하거나 확대할 대상. 예: '범인의 자동차', '먼 곳의 단서'\n",
    "    \"\"\"\n",
    "    return f\"🕶️ 탐정 안경: '{target}'에 대한 추적 및 확대 기능을 활성화합니다.\"\n",
    "\n",
    "\n",
    "@tool\n",
    "def soccer_shoes(target: str) -> str:\n",
    "    \"\"\"킥력 강화 축구화: 강력한 힘으로 무언가를 걷어차 범인을 제압하거나 위기 상황을 탈출할 때 사용합니다.\n",
    "    Args:\n",
    "        target (str): 강하게 찰 대상. 예: '범인을 위협할 돌멩이', '막다른 길의 문'\n",
    "    \"\"\"\n",
    "    return f\"⚽ 킥력 강화 축구화: '{target}'을(를) 향해 강력한 킥을 준비합니다!\""
   ]
  },
  {
   "cell_type": "code",
   "execution_count": null,
   "metadata": {},
   "outputs": [],
   "source": [
    "# 도구 목록 정리\n",
    "tools = [tranquilizer_watch, voice_changer_bowtie, detective_glasses, soccer_shoes]\n",
    "\n",
    "# 도구 목록을 LLM에 연결\n",
    "llm_with_tools = llm.bind_tools(tools)"
   ]
  },
  {
   "cell_type": "code",
   "execution_count": null,
   "metadata": {},
   "outputs": [],
   "source": [
    "from typing import Annotated, TypedDict\n",
    "from langgraph.graph.message import add_messages\n",
    "from langchain_core.messages import BaseMessage, SystemMessage, HumanMessage, AIMessage, ToolMessage\n",
    "\n",
    "class AgentState(TypedDict, total=False):\n",
    "    messages: Annotated[list, \"LLM 메시지 목록\", add_messages]\n",
    "\n",
    "SYSTEM_PROMPT = \"\"\"당신은 명탐정 코난입니다. 주어진 상황을 해결하기 위해 당신이 가진 도구들을 적절하게 사용하세요. 상황에 따라 여러 도구를 동시에 사용할 수도 있습니다.\"\"\"\n",
    "def ensure_system_once(msgs: list[BaseMessage]) -> list[BaseMessage]:\n",
    "    \"\"\"SystemMessage가 계속 누적되는 것을 방지\"\"\"\n",
    "    if not msgs or not isinstance(msgs[0], SystemMessage):\n",
    "        return [SystemMessage(content=SYSTEM_PROMPT)] + msgs\n",
    "    return msgs\n",
    "\n",
    "def agent_node(state: AgentState) -> AgentState:\n",
    "    \"\"\"LLM에 상태의 메시지들을 전달하고 응답을 받아 상태에 추가\"\"\"\n",
    "    messages = ensure_system_once(state.get(\"messages\", []))\n",
    "    ai = llm_with_tools.invoke(messages)\n",
    "    return {\"messages\": [ai]}\n"
   ]
  },
  {
   "cell_type": "code",
   "execution_count": null,
   "metadata": {},
   "outputs": [],
   "source": [
    "from langgraph.graph import StateGraph, START, END\n",
    "from langgraph.prebuilt import ToolNode, tools_condition\n",
    "\n",
    "graph = StateGraph(AgentState)\n",
    "\n",
    "graph.add_node(\"agent\", agent_node)\n",
    "graph.add_node(\"tools\", ToolNode(tools))\n",
    "\n",
    "graph.add_edge(START, \"agent\")\n",
    "graph.add_conditional_edges(\n",
    "    \"agent\",\n",
    "    tools_condition,\n",
    "    {\n",
    "        \"tools\": \"tools\",   # tool_calls 있으면 ToolNode로\n",
    "        \"__end__\": END,     # 없으면 종료\n",
    "    },\n",
    ")\n",
    "\n",
    "\n",
    "app = graph.compile()"
   ]
  },
  {
   "cell_type": "markdown",
   "metadata": {},
   "source": [
    "## Gradio UI 구성\n",
    "### Gradio 처리 함수 설정"
   ]
  },
  {
   "cell_type": "code",
   "execution_count": null,
   "metadata": {},
   "outputs": [],
   "source": [
    "def play_chat(user_input: str) -> str:\n",
    "    \n",
    "    if not user_input:\n",
    "        return \"상황을 입력해주세요.\"\n",
    "\n",
    "    result_state =  app.invoke({\"messages\": [HumanMessage(content=user_input)]})\n",
    "    messages = result_state[\"messages\"]\n",
    "    output = []\n",
    "    for i, msg in enumerate(messages):\n",
    "        if isinstance(msg, ToolMessage):\n",
    "            output.append(f\"(도구 사용) {msg.content}\")\n",
    "    return \"\\n\".join(output)"
   ]
  },
  {
   "cell_type": "markdown",
   "metadata": {},
   "source": [
    "### Gradio UI 구성"
   ]
  },
  {
   "cell_type": "code",
   "execution_count": null,
   "metadata": {},
   "outputs": [],
   "source": [
    "with gr.Blocks() as demo:\n",
    "    gr.Markdown(\"### 🕵️ 명탐정 코난 도구 추천기\")\n",
    "    gr.Markdown(\"상황을 입력하면 코난이 상황에 적절한 도구를 사용하게 됩니다.\")\n",
    "\n",
    "    user_input = gr.Textbox(label=\"상황 설명\", placeholder=\"예: 모리 탐정을 기절시키고, 모리 탐정 목소리로 사건을 설명하고 싶어요\")\n",
    "    ai_output = gr.Textbox(label=\"추천 도구\", lines=5)\n",
    "    user_input.submit(play_chat, inputs=user_input, outputs=ai_output)\n",
    "\n",
    "demo.launch()"
   ]
  },
  {
   "cell_type": "code",
   "execution_count": null,
   "metadata": {},
   "outputs": [],
   "source": [
    "demo.close()"
   ]
  },
  {
   "cell_type": "markdown",
   "metadata": {},
   "source": [
    "-----\n",
    "** End of Documents **"
   ]
  }
 ],
 "metadata": {
  "kernelspec": {
   "display_name": "venv",
   "language": "python",
   "name": "python3"
  },
  "language_info": {
   "codemirror_mode": {
    "name": "ipython",
    "version": 3
   },
   "file_extension": ".py",
   "mimetype": "text/x-python",
   "name": "python",
   "nbconvert_exporter": "python",
   "pygments_lexer": "ipython3",
   "version": "3.12.3"
  }
 },
 "nbformat": 4,
 "nbformat_minor": 2
}
