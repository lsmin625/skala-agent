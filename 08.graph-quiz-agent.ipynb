{
 "cells": [
  {
   "cell_type": "markdown",
   "metadata": {},
   "source": [
    "# 명탐정 코난 매니아 판별기 (LangGraph)"
   ]
  },
  {
   "cell_type": "markdown",
   "metadata": {},
   "source": [
    "## OpenAI LLM 준비 및 퀴즈 파일 지정\n",
    "* 환경 변수(`.env` 파일)에서 API Key 로딩\n",
    "* 개발 환경에서는 `gpt-4o-mini` 또는 `gpt-3.5-turbo`\n",
    "* 핵심 실습 환경이라 `gpt-4o` 사용"
   ]
  },
  {
   "cell_type": "code",
   "execution_count": null,
   "metadata": {},
   "outputs": [],
   "source": [
    "import gradio as gr\n",
    "import random\n",
    "import json\n",
    "import os\n",
    "\n",
    "from dotenv import load_dotenv\n",
    "from typing import List, TypedDict\n",
    "\n",
    "from langchain_openai import ChatOpenAI\n",
    "from langchain_core.prompts import ChatPromptTemplate\n",
    "from pydantic import BaseModel, Field\n",
    "from langchain_core.output_parsers import PydanticOutputParser\n",
    "from langgraph.graph import StateGraph, END\n",
    "\n",
    "from langchain_teddynote.graphs import visualize_graph\n",
    "\n",
    "# --- 초기 설정 및 데이터 로딩 ---\n",
    "\n",
    "QUIZ_FILE = \"data/quizzes.json\"\n",
    "QUIZ_COUNT = 3\n",
    "QUIZ_COMMANDS = [\"퀴즈\", \"퀴즈 시작\"]\n",
    "\n",
    "load_dotenv()\n",
    "llm = ChatOpenAI(model=\"gpt-4o\", temperature=0.5)"
   ]
  },
  {
   "cell_type": "markdown",
   "metadata": {},
   "source": [
    "\n",
    "## 퀴즈 문항 (`conan_quiz.json`) 로딩\n",
    "- `def load_quiz()` :\tload_quiz라는 이름의 함수를 정의\n",
    "- `with open(QUIZ_FILE, \"r\", encoding=\"utf-8\") as f`: 지정된 경로의 JSON 파일(QUIZ_FILE)을 UTF-8 인코딩 방식으로 읽기 모드(\"r\")로 열고, with 구문을 사용하여 파일 사용 후 자동으로 닫히도록 처리\n",
    "- `all_q = json.load(f)` : JSON 파일 내용을 파싱하여 파이썬 객체(리스트 형태, 퀴즈 문제들)로 변환.\n",
    "- `return random.sample(all_q, QUIZ_COUNT)` :전체 문제 중 QUIZ_COUNT 개수만큼 무작위로 샘플링하여 반환(중복 없이 선택)"
   ]
  },
  {
   "cell_type": "code",
   "execution_count": null,
   "metadata": {},
   "outputs": [],
   "source": [
    "# 퀴즈 로딩 함수\n",
    "def load_quiz():\n",
    "    with open(QUIZ_FILE, \"r\", encoding=\"utf-8\") as f:\n",
    "        all_q = json.load(f)\n",
    "    return random.sample(all_q, QUIZ_COUNT)"
   ]
  },
  {
   "cell_type": "markdown",
   "metadata": {},
   "source": [
    "## 데이터 구조 정의\n",
    "### 기본 데이터 정의\n",
    "\n",
    "`Pydantic`의 `BaseModel`을 상속한 데이터 모델 클래스 정의\n",
    "- `GradingResult(BaseModel)` : 개별 문제 하나에 대한 채점 결과\n",
    "    - `Field(description=\"...\")`: description은 LLM에게 이 필드가 무엇을 의미하는지 알려주는 중요한 힌트\n",
    "- `FinalReport(BaseModel)` : 모든 문제의 채점 결과와 최종 점수를 포함하는 최종 보고서\n",
    "    - `results: List[GradingResult]`: GradingResult의 리스트(List) 형태\n",
    "- `llm_with_final_report = llm.with_structured_output(FinalReport)` : LLM의 출력을 FinalReport 클래스의 JSON 형식으로 지정"
   ]
  },
  {
   "cell_type": "code",
   "execution_count": null,
   "metadata": {},
   "outputs": [],
   "source": [
    "class GradingResult(BaseModel):\n",
    "    \"\"\"단일 문제에 대한 채점 결과를 상세히 담는 클래스입니다.\"\"\"\n",
    "    question: str = Field(description=\"채점 대상 문제\")\n",
    "    correct_answer: str = Field(description=\"문제의 정답\")\n",
    "    user_answer: str = Field(description=\"사용자가 제출한 답변\")\n",
    "    is_correct: bool = Field(description=\"정답 여부\")\n",
    "    explanation: str = Field(description=\"정답에 대한 친절한 해설\")\n",
    "\n",
    "\n",
    "class FinalReport(BaseModel):\n",
    "    \"\"\"퀴즈의 모든 채점 결과와 최종 점수를 종합한 최종 보고서 클래스입니다.\"\"\"\n",
    "    results: List[GradingResult] = Field(description=\"각 문제별 채점 결과 리스트\")\n",
    "    total_score: str = Field(description=\"'총점: X/Y' 형식의 최종 점수 요약\")\n",
    "\n",
    "# 출력을 FinalReport 형식으로 지정\n",
    "llm_with_final_report = llm.with_structured_output(FinalReport)"
   ]
  },
  {
   "cell_type": "markdown",
   "metadata": {},
   "source": [
    "### 상태 정의\n",
    "그래프 노드에서 처리되는 상태 클래스로 `QuizState(TypedDict)`는 그래프(workflow)가 관리할 상태 정보\n",
    "- `chat_history`: Gradio UI 채팅창에 출력되는 사용자 입력과 퀴즈 문항 저장소로 사용자와 LLM이 주고 받는 메시지와 다름.\n",
    "    - 따라서 `chat_history: Annotated[List[BaseMessage], add_messages]` 형식으로 지정할 수 없음\n",
    "    - `Annotated`를 사용한다면 `chat_history: Annotated[List[Tuple[str, str]], lambda x, y: x + y]` 형식으로 표현 가능함"
   ]
  },
  {
   "cell_type": "code",
   "execution_count": null,
   "metadata": {},
   "outputs": [],
   "source": [
    "\n",
    "class QuizState(TypedDict):\n",
    "    \"\"\"퀴즈 애플리케이션의 전체 상태 - 사용자 입력부터 최종 보고서까지 모든 데이터를 관리\"\"\"\n",
    "    user_input: str\n",
    "    questions: List[dict]\n",
    "    user_answers: List[str]\n",
    "    quiz_index: int\n",
    "    chat_history: List[tuple]    # UI 채팅창 출력 목록\n",
    "    grading_input_str: str | None\n",
    "    final_report: FinalReport | None"
   ]
  },
  {
   "cell_type": "markdown",
   "metadata": {},
   "source": [
    "## LangGraph 노드 함수 구성\n",
    "LangGraph 워크플로우에서는 각 단계(노드)가 상태(state)를 받아서, 상태를 갱신한 뒤 반환하는 함수(노드 함수)로 동작\n",
    "- 입력: state라는 TypedDict 형식의 퀴즈 전체 상태(`QuizState`)를 받음\n",
    "- 출력: 내부 값들이 갱신된(변경된) 동일 타입의 state 객체를 반환 → LangGraph 노드는 항상 **상태(state) → 상태(state)** 의 형태를 유지"
   ]
  },
  {
   "cell_type": "markdown",
   "metadata": {},
   "source": [
    "\n",
    "### 퀴즈 시작(상태 초기화) 노드\n",
    "* 상태 갱신의 목적: \"퀴즈 시작\"이라는 트리거에서 호출되고 모든 상태 정보를 초기화\n",
    "    - 문제 리스트 세팅: `state[\"questions\"]`\n",
    "    - 진행 인덱스 초기화: `state[\"quiz_index\"]`\n",
    "    - 답변 내역, 리포트 등 모두 초기화\n",
    "    - 유저(`user`)/AI(`assistant`) 대화 이력(`chat_history`)에 안내 메시지 추가\n",
    "\n",
    "* `questions = load_quiz()` : 랜덤하게 생성된 QUIZ_COUNT로 개수의 퀴즈 문항\n",
    "* `state[\"chat_history\"].append()` : UI 채팅창에 출력할 정보 추가"
   ]
  },
  {
   "cell_type": "code",
   "execution_count": null,
   "metadata": {},
   "outputs": [],
   "source": [
    "def start_quiz(state: QuizState) -> QuizState:\n",
    "    \"\"\"퀴즈를 시작하고 상태를 초기화합니다.\"\"\"\n",
    "    questions = load_quiz()\n",
    "    if not questions:\n",
    "        state[\"chat_history\"].append(\n",
    "            (\"assistant\", \"퀴즈를 불러오는 데 실패했거나 풀 수 있는 문제가 없습니다.\")\n",
    "        )\n",
    "        state[\"questions\"] = []\n",
    "        return state\n",
    "\n",
    "    state[\"questions\"] = questions\n",
    "    state[\"quiz_index\"] = 0\n",
    "    state[\"user_answers\"] = []\n",
    "    state[\"final_report\"] = None\n",
    "    state[\"chat_history\"].append((\"assistant\", \"명탐정 코난 퀴즈를 시작합니다!\"))\n",
    "    return state"
   ]
  },
  {
   "cell_type": "markdown",
   "metadata": {},
   "source": [
    "### 문제 출제 노드\n",
    "* 상태(state) 갱신의 목적 : 문제를 사용자에게 출력(`chat_history`에 포맷팅된 문제 내용을 assistant 메시지로 추가)\n",
    "    - `quiz_index`에 해당하는 문제(`q`)를 가져와 포맷(문자열 변환)\n",
    "    - 문제 타입이 `multiple_choice`면, 선택지도 보기 형태로 문자열로 추가\n",
    "    - `chat_history`에 (\"assistant\", 문제 텍스트) 튜플을 append"
   ]
  },
  {
   "cell_type": "code",
   "execution_count": null,
   "metadata": {},
   "outputs": [],
   "source": [
    "def ask_question(state: QuizState) -> QuizState:\n",
    "    \"\"\"현재 quiz_index에 맞는 문제를 포맷하여 chat_history에 추가합니다.\"\"\"\n",
    "    idx = state[\"quiz_index\"]\n",
    "    q = state[\"questions\"][idx]\n",
    "\n",
    "    text = f\"문제 {idx + 1}: {q['question']}\"\n",
    "    if q[\"type\"] == \"multiple_choice\":\n",
    "        choices = [f\"{i + 1}. {c}\" for i, c in enumerate(q[\"choices\"])]\n",
    "        text += \"\\n\" + \"\\n\".join(choices)\n",
    "\n",
    "    state[\"chat_history\"].append((\"assistant\", text))\n",
    "    return state"
   ]
  },
  {
   "cell_type": "markdown",
   "metadata": {},
   "source": [
    "### 사용자 답변 처리 노드\n",
    "* 상태(state) 갱신의 목적 : 사용자의 답변(`user_input`)을 처리\n",
    "    - 현재 문제(`quiz_index`)에 맞는 답변을 파싱, 전처리, 정제\n",
    "    - 선택형 문제(`multiple_choice`)라면 사용자가 번호로 입력했을 때 실제 보기 텍스트로 변환\n",
    "    - 가공/정제된 답변(`processed_answer`)을 `user_answers` 리스트에 append\n",
    "    - 진행 인덱스(`quiz_index`)를 +1 하여 다음 문제로 이동할 준비\n",
    "\n",
    "* `user_input = state[\"user_input\"].strip()` : `state[\"user_input\"]`은 `chat_fn` 에서 입력됨. `strip()`은 앞뒤 공백 모두 제거\n",
    "* `except (ValueError, IndexError): pass` : 사용자가 \"a\"처럼 숫자로 변환할 수 없는 값을 입력하거나(ValueError) \"5\"처럼 선택지 범위를 벗어나는 숫자를 입력하면(IndexError), pass 즉 아무런 작업도 하지 않고 그냥 넘어가서, 사용자가 입력한 값이 `state[\"user_answers\"]`로 저장됨."
   ]
  },
  {
   "cell_type": "code",
   "execution_count": null,
   "metadata": {},
   "outputs": [],
   "source": [
    "def process_and_store_answer(state: QuizState) -> QuizState:\n",
    "    \"\"\"사용자 답변을 처리하고 저장한 뒤, 다음 문제로 넘어갑니다.\"\"\"\n",
    "    idx = state[\"quiz_index\"]\n",
    "    q = state[\"questions\"][idx]\n",
    "    user_input = state[\"user_input\"].strip()\n",
    "\n",
    "    # 빈 입력일 경우 안내 메시지만 추가하고, 인덱스는 그대로 유지\n",
    "    if not user_input:\n",
    "        state[\"chat_history\"].append(\n",
    "            (\"assistant\", \"답변을 입력해 주세요.\"))\n",
    "        return state\n",
    "\n",
    "    processed_answer = user_input\n",
    "    if q[\"type\"] == \"multiple_choice\":\n",
    "        try:\n",
    "            sel = int(user_input) - 1\n",
    "            if 0 <= sel < len(q[\"choices\"]):\n",
    "                processed_answer = q[\"choices\"][sel]\n",
    "        except (ValueError, IndexError):\n",
    "            pass\n",
    "\n",
    "    state[\"user_answers\"].append(processed_answer)\n",
    "    state[\"quiz_index\"] += 1\n",
    "    return state"
   ]
  },
  {
   "cell_type": "markdown",
   "metadata": {},
   "source": [
    "### 채점을 위해 LLM에 전달할 프롬프트 생성 노드\n",
    "* 상태(state) 갱신의 목적 : \n",
    "    - 사용자에게 \"채점 중\" 안내를 위해 `chat_history`에 추가\n",
    "    - 채점 대상 데이터를 `state[\"grading_input_str\"]`에 저장 → 다음 노드(LLM 채점 호출 등)에서 활용\n",
    "* `zip(state[\"questions\"], state[\"user_answers\"])` : 각 문제와 각 답변을 쌍으로 묶어서 반환 (튜플: (문제, 답변))\n",
    "* `enumerate(...)` : 튜플 쌍에 인덱스 번호(`i`)를 붙여서 (`i, (q, a)`) 형태로 반환"
   ]
  },
  {
   "cell_type": "code",
   "execution_count": null,
   "metadata": {},
   "outputs": [],
   "source": [
    "def prepare_grading_prompt(state: QuizState) -> QuizState:\n",
    "    \"\"\"채점을 위해 LLM에 전달할 프롬프트를 생성합니다.\"\"\"\n",
    "    state[\"chat_history\"].append(\n",
    "        (\"assistant\", \"채점을 진행합니다...\"))\n",
    "        \n",
    "    parts = [\n",
    "        \"지금부터 아래의 문제와 정답, 그리고 사용자의 답변을 보고 채점을 시작해주세요.\"\n",
    "    ]\n",
    "    for i, (q, a) in enumerate(zip(state[\"questions\"], state[\"user_answers\"])):\n",
    "        parts.append(f\"\\n--- 문제 {i + 1} ---\")\n",
    "        parts.append(f\"문제: {q['question']}\")\n",
    "        if q[\"type\"] == \"multiple_choice\":\n",
    "            parts.append(f\"선택지: {', '.join(q['choices'])}\")\n",
    "        parts.append(f\"정답: {q['answer']}\")\n",
    "        parts.append(f\"사용자 답변: {a}\")\n",
    "\n",
    "    state[\"grading_input_str\"] = \"\\n\".join(parts)\n",
    "    return state"
   ]
  },
  {
   "cell_type": "markdown",
   "metadata": {},
   "source": [
    "### LLM 채점 및 파싱 노드\n",
    "* 상태(state) 갱신의 목적 : \n",
    "    - 채점 대상 데이터를 `state[\"grading_input_str\"]`를 LLM에 전달\n",
    "    - LLM의 채점 결과를 FinalReport 클래스 JSON 데이터로 수신하여 `state[\"final_report\"]`에 저장\n",
    "    \n",
    "- `chain = prompt | llm_with_final_report` : 프롬프트와 FinalReport를 출력으로 하는 LLM을 LCEL 체인으로 연결\n",
    "\n"
   ]
  },
  {
   "cell_type": "code",
   "execution_count": null,
   "metadata": {},
   "outputs": [],
   "source": [
    "def grade_with_llm_and_parse(state: QuizState) -> QuizState:\n",
    "    \"\"\"LLM을 호출하여 채점하고 결과를 파싱합니다.\"\"\"\n",
    "    system_message = \"\"\"\n",
    "    당신은 '명탐정 코난' 퀴즈의 전문 채점관입니다. 주어진 문제, 정답, 사용자 답변을 바탕으로 채점해주세요. \n",
    "    각 문제에 대해 정답 여부를 판단하고 친절한 해설을 덧붙여주세요. \n",
    "    모든 채점이 끝나면, 마지막에는 '총점: X/Y' 형식으로 최종 점수를 반드시 요약해서 보여줘야 합니다. \n",
    "    반드시 지정된 JSON 형식으로만 답변해야 합니다.\"\"\"\n",
    "\n",
    "    prompt = ChatPromptTemplate.from_messages(\n",
    "        [\n",
    "            (\"system\", system_message),\n",
    "            (\"human\", \"{grading_data}\"),\n",
    "        ]\n",
    "    )\n",
    "\n",
    "    try:\n",
    "        # 체인 생성\n",
    "        chain = prompt | llm_with_final_report\n",
    "        report = chain.invoke({\"grading_data\": state[\"grading_input_str\"]})\n",
    "        state[\"final_report\"] = report\n",
    "    except Exception as e:\n",
    "        print(f\"채점 중 오류 발생: {e}\")\n",
    "        error_report = FinalReport(results=[], total_score=\"채점 오류가 발생했습니다.\")\n",
    "        state[\"final_report\"] = error_report\n",
    "\n",
    "    return state"
   ]
  },
  {
   "cell_type": "markdown",
   "metadata": {},
   "source": [
    "### 최종 리포트(FinalReport)를 사용자에게 보여줄 문자열로 변환 노드\n",
    "상태(state) 갱신의 목적 : LLM이 제공한 최종 채점 결과를 문제별로 정오, 정답, 제출 답변, 해설을 보기 좋게 포매팅\n",
    "- 마지막에 총점도 포함\n",
    "- 안내 메시지(재시작 방법 등)도 추가\n",
    "- 결과를 `assistant` 메시지로 `chat_history`에 append\n",
    "\n",
    "워크플로우 마지막 단계로 구조화된 채점 결과 객체(`final_report_obj`)를 사람이 읽을 수 있는 문자열로 변환하여 `chat_history`에 추가함으로써 사용자에게 \"마지막 답변\"을 제공"
   ]
  },
  {
   "cell_type": "code",
   "execution_count": null,
   "metadata": {},
   "outputs": [],
   "source": [
    "def format_final_report(state: QuizState) -> QuizState:\n",
    "    \"\"\"파싱된 최종 리포트를 사용자에게 보여줄 문자열로 변환합니다.\"\"\"\n",
    "    final_report_obj = state[\"final_report\"]\n",
    "    report_parts = [\"채점이 완료되었습니다! 🎉\\n\"]\n",
    "\n",
    "    if final_report_obj and final_report_obj.results:\n",
    "        for i, res in enumerate(final_report_obj.results):\n",
    "            is_correct_text = \"✅ 정답\" if res.is_correct else \"❌ 오답\"\n",
    "            report_parts.append(f\"--- 문제 {i + 1} ---\")\n",
    "            report_parts.append(f\"문제: {res.question}\")\n",
    "            report_parts.append(f\"정답: {res.correct_answer}\")\n",
    "            report_parts.append(f\"제출한 답변: {res.user_answer}\")\n",
    "            report_parts.append(f\"결과: {is_correct_text}\")\n",
    "            report_parts.append(f\"해설: {res.explanation}\\n\")\n",
    "        report_parts.append(f\"**{final_report_obj.total_score}**\")\n",
    "    else:\n",
    "        report_parts.append(\"채점 결과를 생성하는 데 실패했습니다.\")\n",
    "\n",
    "    report_parts.append(\"\\n퀴즈를 다시 시작하려면 '퀴즈 시작'이라고 입력해주세요.\")\n",
    "    state[\"chat_history\"].append((\"assistant\", \"\\n\".join(report_parts)))\n",
    "    return state"
   ]
  },
  {
   "cell_type": "markdown",
   "metadata": {},
   "source": [
    "### 퀴즈 시작 명령어 예외 처리 노드\n",
    "사용자가 “퀴즈 시작” 명령어를 입력하지 않은 경우, 올바른 명령어 사용법(트리거 문구)을 안내하는 메시지를 `chat_history`에 `assistant` 역할로 추가"
   ]
  },
  {
   "cell_type": "code",
   "execution_count": null,
   "metadata": {},
   "outputs": [],
   "source": [
    "def handle_invalid_start(state: QuizState) -> QuizState:\n",
    "    \"\"\"퀴즈 시작 명령어가 아닐 경우 안내 메시지를 추가합니다.\"\"\"\n",
    "    help_message = \"'퀴즈' 또는 '퀴즈 시작'이라고 입력하면 퀴즈가 시작됩니다.\"\n",
    "    state[\"chat_history\"].append((\"assistant\", help_message))\n",
    "    return state"
   ]
  },
  {
   "cell_type": "markdown",
   "metadata": {},
   "source": [
    "### StateGraph 조건부 함수\n",
    "분기(`Edge Condition`) 함수로, 입력(state)을 분석해서 다음 실행할 노드 이름을 반환\n",
    "- `should_continue_quiz` : 퀴즈가 아직 남아 있는지, 아니면 채점 단계로 넘어가야 하는지 다음 노드 이름을 결\n",
    "- `route_initial_input` : 사용자의 첫 입력이 이미 퀴즈를 진행 중인 상태인지, “퀴즈 시작” 명령어인지, 또는 잘못된 입력인지 구분하여 시작 노드를 결정"
   ]
  },
  {
   "cell_type": "code",
   "execution_count": null,
   "metadata": {},
   "outputs": [],
   "source": [
    "def should_continue_quiz(state: QuizState) -> str:\n",
    "    \"\"\"퀴즈를 계속할지, 채점을 시작할지 결정합니다.\"\"\"\n",
    "    if state[\"quiz_index\"] < len(state[\"questions\"]):\n",
    "        return \"continue_quiz\"\n",
    "    else:\n",
    "        return \"grade_quiz\"\n",
    "\n",
    "\n",
    "def route_initial_input(state: QuizState) -> str:\n",
    "    \"\"\"사용자의 입력을 분석하여 워크플로우의 시작점을 결정합니다.\"\"\"\n",
    "    if state.get(\"questions\") and state[\"questions\"]:\n",
    "        return \"process_answer\"\n",
    "    else:\n",
    "        if state[\"user_input\"].strip().lower() in QUIZ_COMMANDS:\n",
    "            return \"start_quiz\"\n",
    "        else:\n",
    "            return \"invalid_start\""
   ]
  },
  {
   "cell_type": "markdown",
   "metadata": {},
   "source": [
    "## StateGraph 정의 및 컴파일\n",
    "\n",
    "### 노드 추가\n",
    "- 각 노드는 하나의 “기능적 단계”를 담당 : `start_quiz`는 상태 초기화, `ask_question`은 문제 출제, `process_answer`는 답변 처리 등\n",
    "- `invalid_start`는 잘못된 시작 입력 안내\n",
    "\n",
    "### 조건부 진입점 설정\n",
    "- 워크플로우의 초기 입력을 분석하여 “퀴즈 시작” 명령이면 `start_quiz`, 이미 진행 중이면 `process_answer`, 그 외엔 `invalid_start`로 각기 다른 노드에서 실행이 시작됨\n",
    "\n",
    "### 노드 연결(엣지 설정)\n",
    "\n",
    "직접 연결:\n",
    "- `start_quiz` → `ask_question`: 퀴즈 시작 후 문제 출제\n",
    "- `prepare_grading` → `grade_and_parse` → `format_report`: 채점 준비→실행→리포트 출력\n",
    "- `format_report` → `END`: 채점 결과 출력 후 종료\n",
    "\n",
    "조건부 연결:\n",
    "- `process_answer` 다음에 `should_continue_quiz`로 검사, 문제 남아 있으면 `ask_question`, 다 풀었으면 `prepare_grading`\n",
    "- 노드 종료 연결 : `ask_question` → `END`, `invalid_start` → `END` (`ask_question → END`는 “한 문제만 내는” 임시 흐름처럼 보이니, 여러 문제 반복엔 반드시 위 조건부 연결이 필요!)"
   ]
  },
  {
   "cell_type": "code",
   "execution_count": null,
   "metadata": {},
   "outputs": [],
   "source": [
    "workflow = StateGraph(QuizState)\n",
    "\n",
    "# 노드 추가\n",
    "workflow.add_node(\"start_quiz\", start_quiz)\n",
    "workflow.add_node(\"ask_question\", ask_question)\n",
    "workflow.add_node(\"process_answer\", process_and_store_answer)\n",
    "workflow.add_node(\"prepare_grading\", prepare_grading_prompt)\n",
    "workflow.add_node(\"grade_and_parse\", grade_with_llm_and_parse)\n",
    "workflow.add_node(\"format_report\", format_final_report)\n",
    "workflow.add_node(\"invalid_start\", handle_invalid_start)\n",
    "\n",
    "# 조건부 진입점 설정\n",
    "workflow.set_conditional_entry_point(\n",
    "    route_initial_input,\n",
    "    {\n",
    "        \"start_quiz\": \"start_quiz\",\n",
    "        \"process_answer\": \"process_answer\",\n",
    "        \"invalid_start\": \"invalid_start\",\n",
    "    },\n",
    ")\n",
    "\n",
    "# 엣지 연결\n",
    "workflow.add_edge(\"start_quiz\", \"ask_question\")\n",
    "workflow.add_edge(\"ask_question\", END)\n",
    "workflow.add_edge(\"invalid_start\", END)\n",
    "\n",
    "workflow.add_conditional_edges(\n",
    "    \"process_answer\",\n",
    "    should_continue_quiz,\n",
    "    {\"continue_quiz\": \"ask_question\", \"grade_quiz\": \"prepare_grading\"},\n",
    ")\n",
    "workflow.add_edge(\"prepare_grading\", \"grade_and_parse\")\n",
    "workflow.add_edge(\"grade_and_parse\", \"format_report\")\n",
    "workflow.add_edge(\"format_report\", END)\n",
    "\n",
    "quiz_app = workflow.compile()"
   ]
  },
  {
   "cell_type": "markdown",
   "metadata": {},
   "source": [
    "## 그래프 시각화"
   ]
  },
  {
   "cell_type": "code",
   "execution_count": null,
   "metadata": {},
   "outputs": [],
   "source": [
    "visualize_graph(quiz_app)"
   ]
  },
  {
   "cell_type": "markdown",
   "metadata": {},
   "source": [
    "## UI 인터페이스 함수\n",
    "`init_state()` :\n",
    "- 앱을 초기화할 때 사용할 빈 상태(딕셔너리) 반환\n",
    "- `quiz_state` 아래에 문제/대화 이력만 먼저 준비\n",
    "- 다른 필드는 워크플로우 도중 필요에 따라 추가됨(예: quiz_index, user_answers, final_report 등)\n",
    "\n",
    "`chat_fn(user_input, state)` : Gradio 챗봇 UI에서 실제로 호출되는 메인 처리 함수\n"
   ]
  },
  {
   "cell_type": "code",
   "execution_count": null,
   "metadata": {},
   "outputs": [],
   "source": [
    "def init_state():\n",
    "    return {\"quiz_state\": {\"questions\": [], \"chat_history\": []}}\n",
    "\n",
    "\n",
    "def chat_fn(user_input, state):\n",
    "    quiz_state = state[\"quiz_state\"]\n",
    "\n",
    "    if quiz_state.get(\"final_report\") and user_input.strip().lower() in QUIZ_COMMANDS:\n",
    "        quiz_state = init_state()[\"quiz_state\"]\n",
    "\n",
    "    current_chat_history = quiz_state.get(\"chat_history\", [])\n",
    "    current_chat_history.append((\"user\", user_input))\n",
    "\n",
    "    graph_input = {\n",
    "        **quiz_state,\n",
    "        \"user_input\": user_input,\n",
    "        \"chat_history\": current_chat_history,\n",
    "    }\n",
    "\n",
    "    new_state = quiz_app.invoke(graph_input)\n",
    "\n",
    "    state[\"quiz_state\"] = new_state\n",
    "\n",
    "    chat_display = [\n",
    "        {\"role\": role, \"content\": content}\n",
    "        for role, content in new_state[\"chat_history\"]\n",
    "    ]\n",
    "\n",
    "    return chat_display, state"
   ]
  },
  {
   "cell_type": "markdown",
   "metadata": {},
   "source": [
    "## Gradio UI 정의\n",
    "Gradio의 Blocks UI 구성 방식을 사용해 명탐정 코난 퀴즈 챗봇 인터페이스를 구성"
   ]
  },
  {
   "cell_type": "code",
   "execution_count": null,
   "metadata": {},
   "outputs": [],
   "source": [
    "# Gradio UI\n",
    "with gr.Blocks(theme=gr.themes.Soft()) as demo:\n",
    "    gr.Markdown(\"### 🕵️ 명탐정 코난 매니아 판별기 (by LangGraph)\")\n",
    "\n",
    "    chatbot = gr.Chatbot(\n",
    "        label=\"명탐정 코난 퀴즈 챗봇\",\n",
    "        height=400,\n",
    "        avatar_images=(\"data/avatar_user.png\", \"data/avatar_conan.png\"),\n",
    "        type=\"messages\",\n",
    "    )\n",
    "\n",
    "    txt = gr.Textbox(placeholder=\"'퀴즈 시작'을 입력해보세요!\", show_label=False)\n",
    "    state = gr.State(init_state())\n",
    "\n",
    "    txt.submit(chat_fn, inputs=[txt, state], outputs=[chatbot, state])\n",
    "    txt.submit(lambda: \"\", None, txt)\n",
    "\n",
    "    demo.launch()"
   ]
  },
  {
   "cell_type": "markdown",
   "metadata": {},
   "source": [
    "-----\n",
    "** End of Documents **"
   ]
  }
 ],
 "metadata": {
  "kernelspec": {
   "display_name": "langchain-kr-t0JhnSEV-py3.11",
   "language": "python",
   "name": "python3"
  },
  "language_info": {
   "codemirror_mode": {
    "name": "ipython",
    "version": 3
   },
   "file_extension": ".py",
   "mimetype": "text/x-python",
   "name": "python",
   "nbconvert_exporter": "python",
   "pygments_lexer": "ipython3",
   "version": "3.12.3"
  }
 },
 "nbformat": 4,
 "nbformat_minor": 2
}
