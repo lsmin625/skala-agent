{
 "cells": [
  {
   "cell_type": "markdown",
   "metadata": {},
   "source": [
    "## Python 타입 힌트\n",
    "### `Dict`와 `TypedDict` 비교\n",
    "| 항목           | `Dict`                                    | `TypedDict`                                     |\n",
    "| ------------ | ------------------------------------------ | ----------------------------------------------- |\n",
    "| **정의 위치**    | `typing.Dict` 또는 `dict` (권장)                   | `typing.TypedDict`                              |\n",
    "| **타입 검사 시점** | 런타임만 (정적 타입 검사 불가능)                        | 정적 타입 검사 가능 (IDE, mypy 등)                       |\n",
    "| **구조 정의**    | 키/값 타입만 지정 가능 (`Dict[str, int]`)           | 각 키에 대해 이름별로 타입 정의 가능 (`name: str, age: int` 등) |\n",
    "| **자동완성 지원**  | 없음                                         | IDE 자동완성 가능 (`person[\"name\"]` 등에서 지원됨)          |\n",
    "| **유연성**      | 아무 키나 추가/삭제 가능                             | 타입 검사시 정의된 키 외 사용 시 경고, 런타임에는 일반 dict처럼 작동     |\n",
    "| **가독성/문서화**  | 구조 추론 어려움                                  | 구조 명시로 가독성 및 문서화 효과 높음                          |\n",
    "| **런타임 성능**   | 빠름 (기본 내장형)                                | dict 기반이므로 성능 유사                                |\n",
    "\n",
    "* 정적검사에서 오류가 발생해도 런타임에는 값이 입력됨"
   ]
  },
  {
   "cell_type": "code",
   "execution_count": null,
   "metadata": {},
   "outputs": [],
   "source": [
    "# 정적 검사를 위한 패키지 설치(pip install nb-mypy)\n",
    "# nb-mypy 확장 모듈을 로딩\n",
    "\n",
    "%load_ext nb_mypy"
   ]
  },
  {
   "cell_type": "code",
   "execution_count": null,
   "metadata": {},
   "outputs": [],
   "source": [
    "from typing import Dict, TypedDict\n",
    "\n",
    "# Dict 기반 정의: 자유롭게 key-value를 저장 (타입 검사 없음)\n",
    "sample_dict: Dict[str, str] = {\n",
    "    \"name\": \"에도가와 코난\",\n",
    "    \"age\": \"17\",\n",
    "    \"job\": \"고등학생 탐정\",\n",
    "}\n",
    "\n",
    "# TypedDict 기반 정의: 타입 검사 지원 (정적 검사 도구에서 검출 가능)\n",
    "class Detective(TypedDict):\n",
    "    name: str\n",
    "    age: int\n",
    "    job: str\n",
    "\n",
    "# 오류 유도 예제: \"address\"는 정의되어 있지 않음\n",
    "typed_dict: Detective = {\n",
    "    \"name\": \"에도가와 코난\",\n",
    "    \"age\": 17,\n",
    "    \"job\": \"고등학생 탐정\",\n",
    "    \"address\": \"도쿄 비이카초\",  # 정의되지 않은 필드 → 정적 검사 시 오류 발생\n",
    "}"
   ]
  },
  {
   "cell_type": "code",
   "execution_count": null,
   "metadata": {},
   "outputs": [],
   "source": [
    "# Dict : 정적 검사 age에 숫자\n",
    "sample_dict[\"age\"] = 28\n",
    "sample_dict[\"new_field\"] = \"새로운 정보를 추가 합니다\"\n",
    "\n",
    "# TypedDict: 정적 검사 \"new_field\"\n",
    "typed_dict[\"age\"] = 28\n",
    "typed_dict[\"new_field\"] = \"새로운 정보를 추가 합니다\"\n",
    "\n",
    "print(sample_dict)\n",
    "print(typed_dict)"
   ]
  },
  {
   "cell_type": "markdown",
   "metadata": {},
   "source": [
    "### 타입 힌트 메타 데이터 `Annotated`\n",
    "\n",
    "*`Annotated`는 타입 힌트에 추가적인 메타데이터를 첨부할 수 있게 해주는 기능 (Pydantic v2 권장 방식)\n",
    "\n",
    "```\n",
    "Annotated[타입, 메타데이터1, 메타데이터2, ...]\n",
    "```\n",
    "* `Field`는 유효성 검사 조건, 기본값, 메타데이터 (예: 설명, 예시) 등을 추가하기 위해 주로 Annotated 또는 직접 필드 기본값 자리에 사용\n",
    "\n",
    "| `Field` 주요 매개변수          | 설명                                        |\n",
    "| ------------- | ----------------------------------------- |\n",
    "| `...`     | 필수 필드(`required`)                     |\n",
    "| `default`     | 기본값 (생략하면 필수 필드로 간주됨)                     |\n",
    "| `gt`, `ge`    | greater than / greater or equal (>) / (≥) |\n",
    "| `lt`, `le`    | less than / less or equal (<) / (≤)       |\n",
    "| `min_length`  | 문자열 최소 길이                                 |\n",
    "| `max_length`  | 문자열 최대 길이                                 |\n",
    "| `description` | 설명 (문서화용)                                 |\n",
    "| `example`     | 예시 값 (문서화용)                               |\n",
    "| `title`       | 제목 (문서화용)                                 |\n",
    "| `deprecated`  | 더 이상 사용되지 않음을 명시                          |\n",
    "\n",
    "---\n",
    "```python\n",
    "# 예시 (기존 방식)\n",
    "from pydantic import BaseModel, Field\n",
    "\n",
    "class User(BaseModel):\n",
    "    name: str = Field(..., title=\"이름\", description=\"사용자의 실명\", max_length=20)\n",
    "    age: int = Field(gt=0, le=120, example=25)\n",
    "    nickname: str = Field(default=\"guest\", deprecated=True)\n",
    "\n",
    "/**\n",
    "- `name`: 필수 입력이며 20자 이하\n",
    "- `age`: 0보다 크고 120 이하\n",
    "- `nickname`: 기본값 \"guest\", 더 이상 권장되지 않음\n",
    "*/\n",
    "```\n"
   ]
  },
  {
   "cell_type": "code",
   "execution_count": null,
   "metadata": {},
   "outputs": [],
   "source": [
    "from typing import Annotated, List\n",
    "from pydantic import BaseModel, Field, ValidationError\n",
    "\n",
    "class DetectiveCharacter(BaseModel):\n",
    "    codename: Annotated[str, Field(..., description=\"캐릭터 코드네임 (예: 코난, 키드)\")]\n",
    "    real_name: Annotated[str, Field(..., min_length=2, max_length=50, description=\"실명\")]\n",
    "    age: Annotated[int, Field(gt=6, lt=21, description=\"나이 (7~20세 사이의 범위로 제한)\")]\n",
    "    roles: Annotated[\n",
    "        List[str], Field(min_items=1, max_items=5, description=\"역할(1~5개): 탐정, 조수, 범인 등\")\n",
    "    ]"
   ]
  },
  {
   "cell_type": "code",
   "execution_count": null,
   "metadata": {},
   "outputs": [],
   "source": [
    "try:\n",
    "    valid_character = DetectiveCharacter(\n",
    "        codename=\"코난\",\n",
    "        real_name=\"쿠도 신이치\",\n",
    "        age=17,\n",
    "        roles=[\"탐정\", \"고등학생\"],\n",
    "    )\n",
    "    print(\"캐릭터 적합: \", valid_character)\n",
    "\n",
    "except ValidationError as e:\n",
    "    print(\"캐릭터 부적합: \", e)\n",
    "\n",
    "valid_character"
   ]
  },
  {
   "cell_type": "code",
   "execution_count": null,
   "metadata": {},
   "outputs": [],
   "source": [
    "# 유효하지 않은 케이스로 시도\n",
    "try:\n",
    "    invalid_character = DetectiveCharacter(\n",
    "        codename=\"버본\",\n",
    "        real_name=\"아무로 토오루\",\n",
    "        age=35,  # 나이 범위 초과\n",
    "        roles=[\"FBI\", \"요원\"]\n",
    "    )\n",
    "    print(\"캐릭터 적합: \", invalid_character)\n",
    "except ValidationError as e:\n",
    "    print(\"not_relevant: \", e)\n",
    "\n",
    "invalid_character"
   ]
  },
  {
   "cell_type": "markdown",
   "metadata": {},
   "source": [
    "-----\n",
    "** End of Documents **"
   ]
  }
 ],
 "metadata": {
  "kernelspec": {
   "display_name": "langchain-kr-t0JhnSEV-py3.11",
   "language": "python",
   "name": "python3"
  },
  "language_info": {
   "codemirror_mode": {
    "name": "ipython",
    "version": 3
   },
   "file_extension": ".py",
   "mimetype": "text/x-python",
   "name": "python",
   "nbconvert_exporter": "python",
   "pygments_lexer": "ipython3",
   "version": "3.12.3"
  }
 },
 "nbformat": 4,
 "nbformat_minor": 2
}
