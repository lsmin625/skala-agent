{
 "cells": [
  {
   "cell_type": "markdown",
   "id": "f3d4c840",
   "metadata": {},
   "source": [
    "# Gradio\n",
    "\n",
    "- 파이썬 함수, ML 모델, API를 손쉽게 웹 데모나 앱 형태로 만들 수 있는 오픈소스 라이브러리.\n",
    "- 별도의 JS, CSS, 서버 지식 없이 간단한 코드로 UI 작성 및 공유 링크 생성 가능.\n",
    "\n",
    "## Gradio 설치\n",
    "\n",
    "```bash\n",
    "pip install --upgrade gradio\n",
    "```\n"
   ]
  },
  {
   "cell_type": "markdown",
   "id": "74222dbc",
   "metadata": {},
   "source": [
    "## Gradio UI\n",
    "\n",
    "### Gradio UI 컴포넌트 설명\n",
    "  - `with gr.Blocks() as demo:` Gradio의 기본 **앱 컨테이너(Blocks)** 를 demo라는 alias로 생성\n",
    "  - `gr.Markdown(WELCOME_MESSAGE)` 화면에 안내 문구를 보여주는 Markdown \n",
    "  - `with gr.Row(): / with gr.Column():` 레이아웃 구성 - Row는 가로 방향 줄, Column은 세로 방향 칸\n",
    "  - `gr.Textbox(...)` 글자를 입력하거나 결과를 출력하는 텍스트 상자 - label과 편집 속성 interactive=False 설정\n",
    "  - `gr.Button(\"입력\")` 버튼\n",
    "  - `submit_btn.click(...)` 버튼 클릭 이벤트 처리\n",
    "  - `demo.launch()` 앱 실행 - 웹 브라우저에서 접근 가능\n",
    "  - `demo.close()` 앱 정지 - 서버를 close 하지 않는 경우 새로운 port로 추가 생성\n",
    "\n",
    "### Gradio UI - 명탐정 코난 세계관"
   ]
  },
  {
   "cell_type": "code",
   "execution_count": null,
   "id": "669e66db",
   "metadata": {},
   "outputs": [],
   "source": [
    "import gradio as gr\n",
    "\n",
    "\n",
    "WELCOME_MESSAGE = \"\"\"\n",
    "## 🕵️‍♂️ 명탐정 코난 세계관에 오신 것을 환영합니다.\n",
    "### 명탐정 코난의 등장 인물 중 좋아하는 캐릭터를 입력하세요\n",
    "\"\"\"\n",
    "\n",
    "\n",
    "def show_character_info(character: str) -> str:\n",
    "    \"\"\"입력된 캐릭터 이름을 받아 안내 문구를 반환한다.\"\"\"\n",
    "    return f\"{character}에 대해 알아 봅시다\"\n",
    "\n",
    "\n",
    "with gr.Blocks() as demo:\n",
    "    gr.Markdown(WELCOME_MESSAGE)\n",
    "\n",
    "    with gr.Row():\n",
    "        with gr.Column(scale=1):\n",
    "            character_input = gr.Textbox(label=\"캐릭터 이름 입력\")\n",
    "            submit_btn = gr.Button(\"입력\")\n",
    "        with gr.Column(scale=1):\n",
    "            output = gr.Textbox(label=\"결과\", interactive=False)\n",
    "\n",
    "    submit_btn.click(\n",
    "        fn=show_character_info,\n",
    "        inputs=character_input,\n",
    "        outputs=output,\n",
    "    )\n",
    "\n",
    "# 코드 수정 후 다시 실행 할 때는 close() 실행\n",
    "demo.launch()"
   ]
  },
  {
   "cell_type": "code",
   "execution_count": null,
   "id": "23eb9cb7",
   "metadata": {},
   "outputs": [],
   "source": [
    "demo.close()"
   ]
  }
 ],
 "metadata": {
  "kernelspec": {
   "display_name": "venv",
   "language": "python",
   "name": "python3"
  },
  "language_info": {
   "codemirror_mode": {
    "name": "ipython",
    "version": 3
   },
   "file_extension": ".py",
   "mimetype": "text/x-python",
   "name": "python",
   "nbconvert_exporter": "python",
   "pygments_lexer": "ipython3",
   "version": "3.12.3"
  }
 },
 "nbformat": 4,
 "nbformat_minor": 5
}
