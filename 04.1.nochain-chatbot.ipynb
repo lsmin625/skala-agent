{
 "cells": [
  {
   "cell_type": "markdown",
   "metadata": {},
   "source": [
    "# 순차적 프로세스를 통한 챗봇 구현"
   ]
  },
  {
   "cell_type": "markdown",
   "metadata": {},
   "source": [
    "## OpenAI LLM 준비 \n",
    "* 환경 변수(`.env` 파일)에서 API Key 로딩\n",
    "* 개발 환경에서는 `gpt-4o-mini` 또는 `gpt-3.5-turbo`"
   ]
  },
  {
   "cell_type": "code",
   "execution_count": null,
   "metadata": {},
   "outputs": [],
   "source": [
    "from dotenv import load_dotenv\n",
    "from langchain_openai import ChatOpenAI\n",
    "from langchain_core.prompts import ChatPromptTemplate\n",
    "from langchain_core.output_parsers import StrOutputParser\n",
    "import gradio as gr\n",
    "\n",
    "# .env 파일 로드\n",
    "load_dotenv()\n",
    "\n",
    "# OpenAI LLM 준비\n",
    "llm = ChatOpenAI(model=\"gpt-4o-mini\", temperature=0.5)"
   ]
  },
  {
   "cell_type": "markdown",
   "metadata": {},
   "source": [
    "## 프롬프트 - 시스템 역할 메시지 및 사용자 메시지 구성"
   ]
  },
  {
   "cell_type": "code",
   "execution_count": null,
   "metadata": {},
   "outputs": [],
   "source": [
    "prompt = ChatPromptTemplate.from_messages([\n",
    "    (\"system\", \"당신은 '명탐정 코난' 전문가입니다. 모든 질문에 친절하고 정확하게 답해주세요.\"),\n",
    "    (\"human\", \"{question}\")\n",
    "])"
   ]
  },
  {
   "cell_type": "markdown",
   "metadata": {},
   "source": [
    "## UI 입출력 함수 정의\n",
    "\n",
    "### Gradio 입출력 함수 정의\n",
    "- `conan_expert_reply` : 사용자 입력값을 받아 LCEL 체인에 전달하고 결과 리턴\n",
    "\n",
    "    LLM 연동 프로세스를 단계적으로 진행 "
   ]
  },
  {
   "cell_type": "code",
   "execution_count": null,
   "metadata": {},
   "outputs": [],
   "source": [
    "# Gradio 입출력 함수 정의\n",
    "def conan_expert_reply(user_input):\n",
    "\n",
    "    # Prompt 포맷팅 및 LLM 호출\n",
    "    formatted_prompt = prompt.format_messages(question=user_input)\n",
    "    llm_response = llm(formatted_prompt)\n",
    "\n",
    "    # LLM 응답 파싱 후 리턴 \n",
    "    parser = StrOutputParser()\n",
    "    pared_response = parser.parse(llm_response.content)\n",
    "    return pared_response"
   ]
  },
  {
   "cell_type": "markdown",
   "metadata": {},
   "source": [
    "## Gradio UI 구성"
   ]
  },
  {
   "cell_type": "code",
   "execution_count": null,
   "metadata": {},
   "outputs": [],
   "source": [
    "with gr.Blocks() as demo:\n",
    "    gr.Markdown(\"### 🕵️‍♂️ 명탐정 코난 전문가 (질의 & 응답)\")\n",
    "\n",
    "    # 입/출력 영역 구성\n",
    "    question = gr.Textbox(label=\"질문을 입력하세요\", placeholder=\"코난이 작아진 이유는 뭐죠?\")\n",
    "    answer = gr.Textbox(label=\"코난 전문가의 답변\", lines=5)\n",
    "\n",
    "    # 입력 이벤트 처리\n",
    "    question.submit(fn=conan_expert_reply, inputs=question, outputs=answer)\n",
    "\n",
    "# Gradio 실행\n",
    "demo.launch()"
   ]
  },
  {
   "cell_type": "markdown",
   "metadata": {},
   "source": [
    "-----\n",
    "** End of Documents **"
   ]
  }
 ],
 "metadata": {
  "kernelspec": {
   "display_name": "venv",
   "language": "python",
   "name": "python3"
  },
  "language_info": {
   "codemirror_mode": {
    "name": "ipython",
    "version": 3
   },
   "file_extension": ".py",
   "mimetype": "text/x-python",
   "name": "python",
   "nbconvert_exporter": "python",
   "pygments_lexer": "ipython3",
   "version": "3.12.3"
  }
 },
 "nbformat": 4,
 "nbformat_minor": 2
}
