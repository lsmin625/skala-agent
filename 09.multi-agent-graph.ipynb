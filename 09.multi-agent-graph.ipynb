{
 "cells": [
  {
   "cell_type": "markdown",
   "metadata": {},
   "source": [
    "# 명탐정 코난 매니아 판별기 (LangGraph)"
   ]
  },
  {
   "cell_type": "markdown",
   "metadata": {},
   "source": [
    "## OpenAI LLM 준비 및 퀴즈 파일 지정\n",
    "* 환경 변수(`.env` 파일)에서 API Key 로딩\n",
    "* 개발 환경에서는 `gpt-4o-mini` 또는 `gpt-3.5-turbo`\n",
    "* 핵심 실습 환경이라 `gpt-4o` 사용"
   ]
  },
  {
   "cell_type": "code",
   "execution_count": null,
   "metadata": {},
   "outputs": [],
   "source": [
    "import re\n",
    "import json\n",
    "import random\n",
    "import sqlite3\n",
    "from datetime import datetime\n",
    "from typing import Literal, TypedDict, Optional, Annotated\n",
    "\n",
    "import gradio as gr\n",
    "from dotenv import load_dotenv\n",
    "from pydantic import BaseModel, Field\n",
    "\n",
    "from langchain_openai import ChatOpenAI\n",
    "from langchain_core.prompts import ChatPromptTemplate\n",
    "from langgraph.graph import StateGraph, END\n",
    "\n",
    "from langchain_teddynote.graphs import visualize_graph\n",
    "\n",
    "# 경로 및 상수\n",
    "QUIZ_FILE = \"data/quizzes.json\"\n",
    "APPLICANT_FILE = \"data/applicants.json\"\n",
    "DB_FILE = \"data/quiz_results.db\"\n",
    "\n",
    "QUIZ_COUNT = 3  # 퀴즈 문항\n",
    "QUIZ_COMMANDS = [\"퀴즈\", \"퀴즈 시작\"]\n",
    "\n",
    "\n",
    "load_dotenv()\n",
    "llm = ChatOpenAI(model=\"gpt-4o\", temperature=0.5)"
   ]
  },
  {
   "cell_type": "markdown",
   "metadata": {},
   "source": [
    "## DB 초기화 및 데이터 로딩"
   ]
  },
  {
   "cell_type": "code",
   "execution_count": null,
   "metadata": {},
   "outputs": [],
   "source": [
    "# DB 초기화\n",
    "def ensure_db():\n",
    "    conn = sqlite3.connect(DB_FILE)\n",
    "    cursor = conn.cursor()\n",
    "    cursor.execute(\n",
    "        \"\"\"\n",
    "        CREATE TABLE IF NOT EXISTS quiz_results (\n",
    "            id INTEGER PRIMARY KEY AUTOINCREMENT,\n",
    "            taken_at TEXT NOT NULL,\n",
    "            student_class TEXT,\n",
    "            student_name TEXT,\n",
    "            student_id TEXT,\n",
    "            student_phone TEXT,\n",
    "            total_score INTEGER,\n",
    "            total_count INTEGER,\n",
    "            details_json TEXT\n",
    "        )\n",
    "        \"\"\"\n",
    "    )\n",
    "    conn.commit()\n",
    "    conn.close()\n",
    "\n",
    "# 퀴즈 로딩 함수\n",
    "def load_quizzes() -> list[dict]:\n",
    "    with open(QUIZ_FILE, \"r\", encoding=\"utf-8\") as f:\n",
    "        all_q = json.load(f)\n",
    "    return random.sample(all_q, QUIZ_COUNT)\n",
    "\n",
    "# 지원자 로딩 함수\n",
    "def load_applicants() -> list[dict]:\n",
    "    with open(APPLICANT_FILE, \"r\", encoding=\"utf-8\") as f:\n",
    "        return json.load(f)\n"
   ]
  },
  {
   "cell_type": "markdown",
   "metadata": {},
   "source": [
    "## 기본 데이터 정의\n",
    "\n",
    "### 데이터 모델 정의"
   ]
  },
  {
   "cell_type": "code",
   "execution_count": null,
   "metadata": {},
   "outputs": [],
   "source": [
    "# 역할 기반 접근 제어 모델 정의\n",
    "class RoleRoute(BaseModel):\n",
    "    \"\"\"역할 기반 접근 제어를 위한 경로 모델입니다.\"\"\"\n",
    "    role: Literal[\"student\", \"professor\", \"unknown\"]\n",
    "\n",
    "# 지원자 정보 모델 정의\n",
    "class ApplicantInfo(BaseModel):\n",
    "    \"\"\"지원자 정보를 담는 클래스입니다.\"\"\"\n",
    "    student_class: str = Field(description=\"지원자의 학급\")\n",
    "    student_name: str = Field(description=\"지원자의 이름\")\n",
    "    student_id: str = Field(description=\"지원자의 학번\")\n",
    "    student_phone: str = Field(description=\"지원자의 전화번호\")\n",
    "\n",
    "# 채점 결과 모델 정의\n",
    "class GradingResult(BaseModel):\n",
    "    \"\"\"단일 문제에 대한 채점 결과를 상세히 담는 클래스입니다.\"\"\"\n",
    "    question_id: int = Field(description=\"문제의 고유 ID\")\n",
    "    question: str = Field(description=\"채점 대상 문제\")\n",
    "    correct_answer: str = Field(description=\"문제의 정답\")\n",
    "    user_answer: str = Field(description=\"사용자가 제출한 답변\")\n",
    "    is_correct: bool = Field(description=\"정답 여부\")\n",
    "    explanation: str = Field(description=\"정답에 대한 친절한 해설\")\n",
    "\n",
    "# 퀴즈 채점 결과 모델 정의\n",
    "class FinalReport(BaseModel):\n",
    "    \"\"\"퀴즈의 모든 채점 결과와 최종 점수를 종합한 최종 보고서 클래스입니다.\"\"\"\n",
    "    results: list[GradingResult] = Field(description=\"각 문제별 채점 결과 리스트\")\n",
    "    total_score: str = Field(description=\"'총점: X/Y' 형식의 최종 점수 요약\")\n",
    "\n",
    "# 보고서 요청 모델 정의\n",
    "class ReportRequest(BaseModel):\n",
    "    \"\"\"최종 보고서 생성을 위한 요청 모델입니다.\"\"\"\n",
    "    taken_date: Optional[str] = Field(None, description=\"YYYY-MM-DD 또는 YYYY.MM.DD\")\n",
    "    student_class: Optional[str] = Field(None, description=\"반 (예: '2반')\")\n",
    "    report_type: Literal[\"오답\", \"성적\", \"전체\"] = \"전체\"\n",
    "\n",
    "# LLM 출력 형식 지정\n",
    "llm_with_role = llm.with_structured_output(RoleRoute)\n",
    "llm_with_applicant = llm.with_structured_output(ApplicantInfo)\n",
    "llm_with_report = llm.with_structured_output(FinalReport)\n"
   ]
  },
  {
   "cell_type": "markdown",
   "metadata": {},
   "source": [
    "### 리듀서 함수 정의"
   ]
  },
  {
   "cell_type": "code",
   "execution_count": null,
   "metadata": {},
   "outputs": [],
   "source": [
    "# add_messages를 사용하지 않고 단순히 리스트를 합치는 함수\n",
    "def reduce_list(left: list, right: list) -> list:\n",
    "    \"\"\"두 리스트를 합칩니다.\"\"\"\n",
    "\n",
    "    return left + right\n"
   ]
  },
  {
   "cell_type": "markdown",
   "metadata": {},
   "source": [
    "### 상태 정의\n",
    "그래프(workflow)가 관리할 상태 정보 클래스 `AppState(TypedDict)`"
   ]
  },
  {
   "cell_type": "code",
   "execution_count": null,
   "metadata": {},
   "outputs": [],
   "source": [
    "# 애플리케이션 상태 모델 정의\n",
    "# 모든 필드를 선택적(total=False)으로 관리 => 상태 관리에 적합한 방식\n",
    "class AppState(TypedDict, total=False):\n",
    "    \"\"\"\n",
    "    애플리케이션의 전체 상태를 관리하는 중앙 저장소.\n",
    "    Annotated를 사용하여 각 필드에 대한 설명을 타입 힌트에 포함합니다.\n",
    "    \"\"\"\n",
    "    \n",
    "    # --- 공통 및 초기 필드 ---\n",
    "    user_input: Annotated[str, \"사용자의 현재 입력값\"]\n",
    "    chat_history: Annotated[list[tuple[str, str]], \"UI용 대화 기록 리스트\", reduce_list]\n",
    "    role: Annotated[Literal[\"student\", \"professor\", \"unknown\"], \"현재 사용자의 역할\"]\n",
    "\n",
    "    # --- 응시자(student) 흐름 관련 필드 ---\n",
    "    applicant: Annotated[ApplicantInfo, \"응시자 정보\"]\n",
    "    questions: Annotated[list[dict], \"생성된 퀴즈 질문 목록\"]\n",
    "    quiz_index: Annotated[int, \"현재 진행 중인 퀴즈의 인덱스\"]\n",
    "    user_answers: Annotated[list[str], \"사용자가 제출한 답변 목록\", reduce_list]\n",
    "    grading_prompt: Annotated[str, \"채점을 위해 LLM에 전달할 프롬프트\"]\n",
    "    final_report: Annotated[FinalReport, \"최종 채점 결과 보고서\"]\n",
    "\n",
    "    # --- 교수(professor) 리포트 흐름 관련 필드 ---\n",
    "    report_request: Annotated[ReportRequest, \"교수가 요청한 리포트 상세 정보\"]\n"
   ]
  },
  {
   "cell_type": "markdown",
   "metadata": {},
   "source": [
    "## Agent 노드 함수 구현\n",
    "\n",
    "**일반적인 함수** 이름은 **동사** 로 시작하고, **노드 함수** 인 경우 **역할(행위자)** 을 명시해서 작명 권고\n",
    "\n",
    "### 1.1. LLM에 의한 역할 분류 함수"
   ]
  },
  {
   "cell_type": "code",
   "execution_count": null,
   "metadata": {},
   "outputs": [],
   "source": [
    "def classify_role(text: str) -> Literal[\"student\", \"professor\", \"unknown\"]:\n",
    "    \"\"\" 사용자 입력을 분석하여 역할을 분류하는 함수입니다.\"\"\"\n",
    "\n",
    "    system_message = \"\"\"  \n",
    "    당신은 사용자 유형을 분류하는 매우 정확한 라우터입니다. 사용자의 입력을 보고 'student', 'professor', 'unknown' 중 하나로 분류해주세요.\n",
    "\n",
    "    ## 분류 기준:\n",
    "    1. 'student': 반, 이름, 학번 등 개인정보를 포함하여 퀴즈 응시를 시도하는 경우.\n",
    "    2. 'professor': 날짜, 반, '리포트' 또는 '성적'과 같은 키워드를 포함하여 결과를 조회하려는 경우.\n",
    "    3. 'unknown': 위 두 경우에 해당하지 않는 모든 애매한 경우.\n",
    "\n",
    "    ## 예시:\n",
    "    - 입력: \"1반 홍길동 S25B001 010-1111-2222\", 분류: 'student'\n",
    "    - 입력: \"2025-07-07 2반 성적 순위 리포트 좀 보여줘\", 분류: 'professor'\n",
    "    - 입력: \"안녕하세요\", 분류: 'unknown'\n",
    "    - 입력: \"퀴즈를 풀고 싶어요.\", 분류: 'unknown' (퀴즈 응시를 원하지만, 식별 정보가 없으므로 'unknown' 처리 후 안내)\n",
    "\n",
    "    ## 출력 형식:\n",
    "        JSON {\"role\": \"student|professor|unknown\"} 한 값만 주세요.\n",
    "    \"\"\"\n",
    "\n",
    "    prompt = ChatPromptTemplate.from_messages([\n",
    "        ( \"system\", system_message.strip()),\n",
    "        (\"human\", \"{input_text}\")\n",
    "    ])\n",
    "\n",
    "    try:\n",
    "        response = (prompt | llm_with_role).invoke({\"input_text\": text})\n",
    "        return response.role\n",
    "    except Exception:\n",
    "        return \"unknown\"\n"
   ]
  },
  {
   "cell_type": "markdown",
   "metadata": {},
   "source": [
    "### 1.2. 역할에 따른 엔트리 판단 노드\n",
    "\n",
    "※ 엔트리 노드는 그래프 빌드 직전에 선언하여 선행 노드 참조할 수 있도록 구성"
   ]
  },
  {
   "cell_type": "code",
   "execution_count": null,
   "metadata": {},
   "outputs": [],
   "source": [
    "def entry_router(state: AppState) -> str:\n",
    "    \"\"\"역할 분류 및 진입점 라우터 노드 함수입니다.\"\"\"\n",
    "\n",
    "    user_input = state.get(\"user_input\")\n",
    "    if user_input:\n",
    "        role = classify_role(user_input)\n",
    "    else:\n",
    "        role = \"unknown\"\n",
    "\n",
    "    if role == \"student\":\n",
    "        return \"student_entry\"\n",
    "    elif role == \"professor\":\n",
    "        return \"professor_entry\"\n",
    "    else:\n",
    "        return \"unknown_entry\""
   ]
  },
  {
   "cell_type": "markdown",
   "metadata": {},
   "source": [
    "### 1.3. 엔트리 판단을 위한 도움말 제공 노드"
   ]
  },
  {
   "cell_type": "code",
   "execution_count": null,
   "metadata": {},
   "outputs": [],
   "source": [
    "def entry_helper(state: AppState) -> AppState:\n",
    "    \"\"\"알 수 없는 역할에 대한 도움말 메시지를 출력하는 노드 함수입니다.\"\"\"\n",
    "    \n",
    "    help_text = \"\"\"\n",
    "        학생은 '1반 김영희 S25B002 010-0000-0000' 처럼 본인 정보를 입력하세요.\\n\n",
    "        교수는 '2025-07-07 2반 리포트 출력'처럼 날짜와 반을 포함해 입력하세요.\n",
    "    \"\"\"\n",
    "    return {\n",
    "        \"chat_history\": [(\"assistant\", help_text)]\n",
    "    }"
   ]
  },
  {
   "cell_type": "markdown",
   "metadata": {},
   "source": [
    "### 2.1. LLM에 의한 응시자 정보 추출 : 입력된 응시자 정보를 JSON 형식으로 전달"
   ]
  },
  {
   "cell_type": "code",
   "execution_count": null,
   "metadata": {},
   "outputs": [],
   "source": [
    "def parse_applicant_info(text: str) -> ApplicantInfo | None:\n",
    "    \"\"\"사용자 입력에서 지원자 정보를 추출하는 함수입니다.\"\"\"\n",
    "\n",
    "    system_message = \"\"\"  \n",
    "    아래 문장에서 반(student_class), 이름(student_name), 학번(student_id), 전화번호(student_phone)을 추출하세요.\n",
    "    - 반: 숫자와 '반'이 포함된 문자열 (예: '1반', '2반') \n",
    "    - 이름: 한글로 된 이름\n",
    "    - 학번: 'S'로 시작하는 영문자와 숫자의 조합    \n",
    "    - 전화번호: 하이픈(-)이 포함될 수 있는 8개 이상의 숫자 형식\n",
    "\n",
    "    ## 예시:\n",
    "    - 입력: \"1반 홍길동 S25B001 010-1111-2222\"\n",
    "    - 출력: {\"student_class\": \"1반\", \"student_name\": \"홍길동\", \"student_id\": \"S25B001\", \"student_phone\": \"010-1111-2222\"}\n",
    "    \"\"\"\n",
    "\n",
    "    prompt = ChatPromptTemplate.from_messages([\n",
    "        ( \"system\", system_message.strip()),\n",
    "        (\"human\", \"{input_text}\")\n",
    "    ])\n",
    "\n",
    "    try:\n",
    "        response = (prompt | llm.with_applicant).invoke({\"input_text\": text})\n",
    "        if not response.student_name or not response.student_id:\n",
    "            return None\n",
    "        return response\n",
    "    except Exception:\n",
    "        return None\n"
   ]
  },
  {
   "cell_type": "markdown",
   "metadata": {},
   "source": [
    "### 2.2. 응시자 정보 검증 노드"
   ]
  },
  {
   "cell_type": "code",
   "execution_count": null,
   "metadata": {},
   "outputs": [],
   "source": [
    "\n",
    "def applicant_validator(state: AppState) -> AppState:\n",
    "    \"\"\"추출한 응시자 정보로 등록된 사용자 여부 및 퀴즈 응시 여부를 확인하는 노드 함수입니다.\"\"\"\n",
    "    \n",
    "    user_input = state.get(\"user_input\", \"\")\n",
    "    applicant = parse_applicant_info(user_input)\n",
    "    if not applicant:\n",
    "        return {\n",
    "            \"chat_history\": [(\n",
    "                \"assistant\",\n",
    "                \"응시자 정보를 인식하지 못했습니다. 예) 1반 김영희 S25B002 010-0000-0000\"\n",
    "            )]\n",
    "        }\n",
    "\n",
    "    # 등록된 응시자 확인\n",
    "    try:\n",
    "        roster = load_applicants()\n",
    "    except Exception:\n",
    "        roster = []\n",
    "\n",
    "    exists = next((r for r in roster if r.get(\"student_id\") == applicant.student_id), None)\n",
    "    if not exists:\n",
    "        return {\n",
    "            \"chat_history\": [(\n",
    "                \"assistant\",\n",
    "                f\"등록된 응시자를 찾지 못했습니다: {applicant.student_id}\"\n",
    "            )]\n",
    "        }\n",
    "\n",
    "    # 이미 응시했는지 확인\n",
    "    conn = sqlite3.connect(DB_FILE)\n",
    "    cur = conn.cursor()\n",
    "    cur.execute(\"SELECT taken_at,total_score FROM quiz_results WHERE student_id=? ORDER BY id DESC LIMIT 1\", (applicant.student_id))\n",
    "    row = cur.fetchone()\n",
    "    conn.close()\n",
    "    if row:\n",
    "        taken_at, total_score = row\n",
    "        return {\n",
    "            \"chat_history\": [(\n",
    "                \"assistant\",\n",
    "                f\"이미 응시 기록이 있습니다. 응시일자: {taken_at}, 점수: {total_score}\"\n",
    "            )]\n",
    "        }\n",
    "\n",
    "    # 응시자 검증 통과\n",
    "    return  {\n",
    "        \"applicant\": applicant,\n",
    "        \"chat_history\": [(\n",
    "            \"assistant\",\n",
    "            f\"{applicant.student_class} {applicant.student_name}님, 퀴즈를 시작하려면 '퀴즈 시작'이라고 입력하세요.\"\n",
    "        )],\n",
    "    }\n"
   ]
  },
  {
   "cell_type": "markdown",
   "metadata": {},
   "source": [
    "### 2.3. 응시자 퀴즈 출제 노드"
   ]
  },
  {
   "cell_type": "code",
   "execution_count": null,
   "metadata": {},
   "outputs": [],
   "source": [
    "def quiz_setter(state: AppState) -> AppState:\n",
    "    \"\"\"퀴즈 문항을 설정하는 노드 함수입니다.\"\"\"\n",
    "    \n",
    "    questions = load_quizzes()\n",
    "    if not questions:\n",
    "        return {\n",
    "            \"chat_history\": [(\n",
    "                \"assistant\",\n",
    "                \"퀴즈를 불러오는 데 실패했거나 풀 수 있는 문제가 없습니다.\"\n",
    "            )],\n",
    "            \"questions\": [],\n",
    "        }\n",
    "    \n",
    "    return {\n",
    "        \"questions\": questions,\n",
    "        \"quiz_index\": 0,\n",
    "        \"user_answers\": [],\n",
    "        \"final_report\": None,\n",
    "        \"chat_history\": [(\n",
    "            \"assistant\",\n",
    "            f\"퀴즈를 시작합니다. 총 {len(questions)}문항입니다.\"\n",
    "        )],\n",
    "    }"
   ]
  },
  {
   "cell_type": "markdown",
   "metadata": {},
   "source": [
    "### 2.4. 퀴즈 진행 여부 판단 조건부 노드"
   ]
  },
  {
   "cell_type": "code",
   "execution_count": null,
   "metadata": {},
   "outputs": [],
   "source": [
    "def continue_quiz_condition(state: AppState) -> str:\n",
    "    \"\"\"퀴즈 진행 여부를 판단하는 조건부 노드 함수입니다.\"\"\"\n",
    "    \n",
    "    questions = state.get(\"questions\", [])\n",
    "    quiz_index = state.get(\"quiz_index\", 0)\n",
    "    if not questions:\n",
    "        return \"quiz_setter\"\n",
    "    if quiz_index < len(questions):\n",
    "        return \"quiz_popper\"\n",
    "    else:\n",
    "        return \"quiz_grader\""
   ]
  },
  {
   "cell_type": "markdown",
   "metadata": {},
   "source": [
    "### 2.5. 개별 퀴즈 출력 노드"
   ]
  },
  {
   "cell_type": "code",
   "execution_count": null,
   "metadata": {},
   "outputs": [],
   "source": [
    "def quiz_popper(state: AppState) -> AppState:\n",
    "    \"\"\"현재 quiz_index에 맞는 문제를 포맷하여 chat_history에 추가합니다.\"\"\"\n",
    "\n",
    "    quiz_index = state[\"quiz_index\"]\n",
    "    quiz = state[\"questions\"][quiz_index]\n",
    "\n",
    "    text = f\"문제 {quiz_index + 1}: {quiz['question']}\"\n",
    "    if quiz[\"type\"] == \"multiple_choice\":\n",
    "        choices = [f\"{i + 1}. {c}\" for i, c in enumerate(quiz[\"choices\"])]\n",
    "        text += \"\\n\" + \"\\n\".join(choices)\n",
    "   \n",
    "    return {\n",
    "        \"chat_history\": [(\"assistant\", text)],\n",
    "    }"
   ]
  },
  {
   "cell_type": "markdown",
   "metadata": {},
   "source": [
    "### 개별 퀴즈 답변 저장 노드"
   ]
  },
  {
   "cell_type": "code",
   "execution_count": null,
   "metadata": {},
   "outputs": [],
   "source": [
    "def answer_collector(state: AppState) -> AppState:\n",
    "    \"\"\"사용자 답변을 처리하고 저장한 뒤, 다음 문제로 넘어갑니다.\"\"\"\n",
    "    \n",
    "    quiz_index = state[\"quiz_index\"]\n",
    "    quiz = state[\"questions\"][quiz_index]\n",
    "    user_input = state[\"user_input\"].strip()\n",
    "\n",
    "    # 빈 입력일 경우 안내 메시지만 추가하고, 인덱스는 그대로 유지\n",
    "    if not user_input:\n",
    "        return {\n",
    "            \"chat_history\": [(\"assistant\", \"답변을 입력해 주세요.\")],\n",
    "        }\n",
    "\n",
    "    processed_answer = user_input\n",
    "    if quiz[\"type\"] == \"multiple_choice\":\n",
    "        try:\n",
    "            sel = int(user_input) - 1\n",
    "            if 0 <= sel < len(quiz[\"choices\"]):\n",
    "                processed_answer = quiz[\"choices\"][sel]\n",
    "        except (ValueError, IndexError):\n",
    "            pass\n",
    "\n",
    "    return {\n",
    "        \"user_answers\": [processed_answer],\n",
    "        \"quiz_index\": quiz_index + 1\n",
    "    }\n"
   ]
  },
  {
   "cell_type": "markdown",
   "metadata": {},
   "source": [
    "### 2.6. 퀴즈 채점 요청 노드 "
   ]
  },
  {
   "cell_type": "code",
   "execution_count": null,
   "metadata": {},
   "outputs": [],
   "source": [
    "def grading_prompter(state: AppState) -> AppState:\n",
    "    \"\"\"채점을 위해 LLM에 전달할 프롬프트를 생성합니다.\"\"\"\n",
    "    \n",
    "    questions = state[\"questions\"]\n",
    "    user_answers = state[\"user_answers\"]\n",
    "\n",
    "    prompt_buff = [\n",
    "        \"지금부터 아래의 문제와 정답, 그리고 사용자의 답변을 보고 채점을 시작해주세요.\"\n",
    "    ]\n",
    "    for i, (q, a) in enumerate(zip(questions, user_answers)):\n",
    "        prompt_buff.append(f\"\\n--- 문제 {i + 1} ---\")\n",
    "        prompt_buff.append(f\"문제: {q['question']}\")\n",
    "        if q[\"type\"] == \"multiple_choice\":\n",
    "            prompt_buff.append(f\"선택지: {', '.join(q['choices'])}\")\n",
    "        prompt_buff.append(f\"정답: {q['answer']}\")\n",
    "        prompt_buff.append(f\"사용자 답변: {a}\")\n",
    "\n",
    "    return {\n",
    "        \"chat_history\": [(\"assistant\", \"채점을 진행합니다...\")],\n",
    "        \"grading_prompt\": \"\\n\".join(prompt_buff),\n",
    "    }\n"
   ]
  },
  {
   "cell_type": "markdown",
   "metadata": {},
   "source": [
    "### LLM 채점 및 파싱 노드\n",
    "* 상태(state) 갱신의 목적 : \n",
    "    - 채점 대상 데이터를 `state[\"grading_prompt\"]`를 LLM에 전달\n",
    "    - LLM의 채점 결과를 FinalReport 클래스 JSON 데이터로 수신하여 `state[\"final_report\"]`에 저장\n",
    "    \n",
    "- `chain = prompt | llm_with_final_report` : 프롬프트와 FinalReport를 출력으로 하는 LLM을 LCEL 체인으로 연결"
   ]
  },
  {
   "cell_type": "code",
   "execution_count": null,
   "metadata": {},
   "outputs": [],
   "source": [
    "def grade_reporter(state: AppState) -> AppState:\n",
    "    \"\"\"LLM을 호출하여 채점하고 결과를 파싱합니다.\"\"\"\n",
    "    \n",
    "    system_message = \"\"\"\n",
    "    당신은 '명탐정 코난' 퀴즈의 전문 채점관입니다. 주어진 문제, 정답, 사용자 답변을 바탕으로 채점해주세요. \n",
    "    각 문제에 대해 정답 여부를 판단하고 친절한 해설을 덧붙여주세요. \n",
    "    모든 채점이 끝나면, 마지막에는 '총점: X/Y' 형식으로 최종 점수를 반드시 요약해서 보여줘야 합니다. \n",
    "    반드시 지정된 JSON 형식으로만 답변해야 합니다.\"\"\"\n",
    "\n",
    "    prompt = ChatPromptTemplate.from_messages(\n",
    "        [\n",
    "            (\"system\", system_message),\n",
    "            (\"human\", \"{grading_data}\"),\n",
    "        ]\n",
    "    )\n",
    "\n",
    "    try:\n",
    "        # 체인 생성\n",
    "        chain = prompt | llm_with_report\n",
    "        report = chain.invoke({\"grading_data\": state[\"grading_prompt\"]})\n",
    "        return {\n",
    "            \"final_report\": report\n",
    "        }\n",
    "    except Exception as e:\n",
    "        print(f\"채점 중 오류 발생: {e}\")\n",
    "        error_report = FinalReport(results=[], total_score=\"채점 오류가 발생했습니다.\")\n",
    "        return {\n",
    "            \"final_report\": error_report\n",
    "        }\n"
   ]
  },
  {
   "cell_type": "markdown",
   "metadata": {},
   "source": [
    "### 최종 리포트(FinalReport)를 사용자에게 보여줄 문자열로 변환 노드\n",
    "상태(state) 갱신의 목적 : LLM이 제공한 최종 채점 결과를 문제별로 정오, 정답, 제출 답변, 해설을 보기 좋게 포매팅\n",
    "- 마지막에 총점도 포함\n",
    "- 안내 메시지(재시작 방법 등)도 추가\n",
    "- 결과를 `assistant` 메시지로 `chat_history`에 append\n",
    "\n",
    "워크플로우 마지막 단계로 구조화된 채점 결과 객체(`final_report_obj`)를 사람이 읽을 수 있는 문자열로 변환하여 `chat_history`에 추가함으로써 사용자에게 \"마지막 답변\"을 제공"
   ]
  },
  {
   "cell_type": "code",
   "execution_count": null,
   "metadata": {},
   "outputs": [],
   "source": [
    "def report_formatter(state: AppState) -> AppState:\n",
    "    \"\"\"파싱된 최종 리포트를 사용자에게 보여줄 문자열로 변환합니다.\"\"\"\n",
    "    \n",
    "    final_report = state[\"final_report\"]\n",
    "    report_buff = [\"채점이 완료되었습니다! 🎉\\n\"]\n",
    "\n",
    "    if final_report and final_report.results:\n",
    "        for i, res in enumerate(final_report.results):\n",
    "            is_correct_text = \"✅ 정답\" if res.is_correct else \"❌ 오답\"\n",
    "            report_buff.append(f\"--- 문제 {i + 1} ---\")\n",
    "            report_buff.append(f\"문제: {res.question}\")\n",
    "            report_buff.append(f\"정답: {res.correct_answer}\")\n",
    "            report_buff.append(f\"제출한 답변: {res.user_answer}\")\n",
    "            report_buff.append(f\"결과: {is_correct_text}\")\n",
    "            report_buff.append(f\"해설: {res.explanation}\\n\")\n",
    "        report_buff.append(f\"**{final_report.total_score}**\")\n",
    "    else:\n",
    "        report_buff.append(\"채점 결과를 생성하는 데 실패했습니다.\")\n",
    "\n",
    "    report_buff.append(\"\\n퀴즈를 다시 시작하려면 '퀴즈 시작'이라고 입력해주세요.\")    \n",
    "    return {\n",
    "        \"chat_history\": [(\"assistant\", \"\\n\".join(report_buff))],\n",
    "    }"
   ]
  },
  {
   "cell_type": "markdown",
   "metadata": {},
   "source": [
    "### 리포트 결과를 DB에 저장"
   ]
  },
  {
   "cell_type": "code",
   "execution_count": null,
   "metadata": {},
   "outputs": [],
   "source": [
    "def grade_report_saver(state: AppState) -> AppState:\n",
    "    \"\"\"채점 결과를 DB에 저장하는 노드 함수입니다.\"\"\"\n",
    "\n",
    "    applicant = state.get(\"applicant\")\n",
    "    final_report = state.get(\"final_report\")\n",
    "    if applicant and len(final_report.results) > 0:\n",
    "        conn = sqlite3.connect(DB_FILE)\n",
    "        cur = conn.cursor()\n",
    "        details = [r.model_dump() for r in final_report.results]\n",
    "        cur.execute(\n",
    "            \"\"\"\n",
    "            INSERT INTO quiz_results (taken_at,student_class,student_name,student_id,student_phone,total_score,total_count,details_json)\n",
    "            VALUES (?,?,?,?,?,?,?,?)\n",
    "            \"\"\",\n",
    "            (\n",
    "                datetime.now().strftime(\"%Y-%m-%d %H:%M:%S\"),\n",
    "                applicant.student_class,\n",
    "                applicant.student_name,\n",
    "                applicant.student_id,\n",
    "                applicant.student_phone,\n",
    "                final_report.total_score,\n",
    "                final_report.total_count,\n",
    "                json.dumps(details, ensure_ascii=False),\n",
    "            ),\n",
    "        )\n",
    "        conn.commit()\n",
    "        conn.close()\n",
    "        return {\n",
    "            \"chat_history\": [(\"assistant\", \"채점 결과가 성공적으로 저장되었습니다.\")]\n",
    "        }    \n",
    "    else:\n",
    "        return {\n",
    "            \"chat_history\": [(\"assistant\", \"채점 결과를 저장하는 데 실패했습니다.\")]\n",
    "        }"
   ]
  },
  {
   "cell_type": "markdown",
   "metadata": {},
   "source": [
    "### 리포트 요청 유형 분석"
   ]
  },
  {
   "cell_type": "code",
   "execution_count": null,
   "metadata": {},
   "outputs": [],
   "source": [
    "def report_request_parser(state: AppState) -> AppState:\n",
    "    \"\"\"교수의 리포트 요청을 파싱하는 노드 함수입니다.\"\"\"\n",
    "\n",
    "    user_input = state.get(\"user_input\", \"\")\n",
    "\n",
    "    date_match = re.search(r\"(\\d{4}[-/]\\d{2}[-/]\\d{2})\", user_input)\n",
    "    taken_date = date_match.group(1) if date_match else \"\"\n",
    "\n",
    "    class_match = re.search(r\"(\\d+반)\", user_input)\n",
    "    student_class = class_match.group(1) if class_match else \"\"\n",
    "\n",
    "    if \"오답\" in user_input:\n",
    "        report_type = \"오답\"\n",
    "    elif \"성적\" in user_input:\n",
    "        report_type = \"성적\"\n",
    "    else:\n",
    "        report_type = \"전체\"\n",
    "\n",
    "    report_request = ReportRequest(taken_date=taken_date, student_class=student_class, report_type=report_type)\n",
    "    return {\n",
    "        \"report_request\": report_request\n",
    "    }"
   ]
  },
  {
   "cell_type": "markdown",
   "metadata": {},
   "source": [
    "### 리포트 생성"
   ]
  },
  {
   "cell_type": "code",
   "execution_count": null,
   "metadata": {},
   "outputs": [],
   "source": [
    "def fetch_quiz_results(report_request) -> list:\n",
    "    \"\"\"데이터베이스에서 조건에 맞는 퀴즈 결과 데이터를 조회합니다.\"\"\"\n",
    "\n",
    "    taken_date = (report_request.taken_date or \"\").replace(\"/\", \"-\")\n",
    "    student_class = report_request.student_class or \"\"\n",
    "\n",
    "    conn = sqlite3.connect(DB_FILE)\n",
    "    cur = conn.cursor()\n",
    "    \n",
    "    sql = \"SELECT student_name, student_id, student_class, total_score, total_count, details_json, taken_at FROM quiz_results WHERE 1=1\"\n",
    "    params = []\n",
    "    \n",
    "    if taken_date:\n",
    "        sql += \" AND taken_at LIKE ?\"\n",
    "        params.append(f\"{taken_date}%\")\n",
    "    if student_class:\n",
    "        sql += \" AND student_class = ?\"\n",
    "        params.append(student_class)\n",
    "\n",
    "    cur.execute(sql + \" ORDER BY total_score DESC, taken_at ASC\", params)\n",
    "    rows = cur.fetchall()\n",
    "    conn.close()\n",
    "    return rows\n"
   ]
  },
  {
   "cell_type": "code",
   "execution_count": null,
   "metadata": {},
   "outputs": [],
   "source": [
    "\n",
    "def create_rank_table(rows: list) -> str:\n",
    "    \"\"\"퀴즈 결과 데이터를 바탕으로 성적 순위 마크다운 테이블을 생성합니다.\"\"\"\n",
    "\n",
    "    rank_table_parts = [\"### 성적 순위 (높은 점수 우선)\", \"이름 | 학번 | 반 | 점수 | 일시\", \"---|---|---|---|---\"]\n",
    "    for s_name, s_id, s_class, t_score, t_count, _, taken_at in rows:\n",
    "        rank_table_parts.append(f\"{s_name} | {s_id} | {s_class} | {t_score}/{t_count} | {taken_at}\")\n",
    "    return \"\\n\".join(rank_table_parts)\n"
   ]
  },
  {
   "cell_type": "code",
   "execution_count": null,
   "metadata": {},
   "outputs": [],
   "source": [
    "\n",
    "def create_wrong_answer_table(rows: list) -> str:\n",
    "    \"\"\"퀴즈 결과 데이터를 바탕으로 오답률 상위 마크다운 테이블을 생성합니다.\"\"\"\n",
    "\n",
    "    # 1. 문항별 오답 집계\n",
    "    # agg = { \"question_id\": [오답 수, 총 응시 수] }\n",
    "    agg: dict[str, list[int]] = {}\n",
    "    for *_, details_json, _ in rows:\n",
    "        try:\n",
    "            details = json.loads(details_json)\n",
    "            for d in details:\n",
    "                qid = f\"{d.get('question_id', '?')}.{d.get('question', '')[:16]}\"\n",
    "                is_correct = d.get(\"is_correct\", False)\n",
    "                \n",
    "                if qid not in agg:\n",
    "                    agg[qid] = [0, 0] # [incorrect_count, total_count]\n",
    "                \n",
    "                agg[qid][1] += 1 # 총 응시 수 증가\n",
    "                if not is_correct:\n",
    "                    agg[qid][0] += 1 # 오답 수 증가\n",
    "        except (json.JSONDecodeError, TypeError):\n",
    "            continue\n",
    "\n",
    "    # 2. 오답률 계산 및 정렬\n",
    "    items = []\n",
    "    for qid, (wrong, total) in agg.items():\n",
    "        rate = (wrong / total * 100) if total else 0.0\n",
    "        items.append({\"qid\": qid, \"wrong\": wrong, \"total\": total, \"rate\": rate})\n",
    "    \n",
    "    # 오답률(rate) 기준으로 내림차순 정렬\n",
    "    items.sort(key=lambda x: x[\"rate\"], reverse=True)\n",
    "\n",
    "    # 3. 마크다운 테이블 생성\n",
    "    wrong_table_parts = [\"\\n### 오답률 상위 문항\", \"문항 | 오답수/응시수 | 오답률(%)\", \"---|---|---\"]\n",
    "    # 상위 20개만 표시\n",
    "    for item in items[:20]:\n",
    "        wrong_table_parts.append(f\"{item['qid']} | {item['wrong']}/{item['total']} | {item['rate']:.1f}\")\n",
    "        \n",
    "    return \"\\n\".join(wrong_table_parts)\n"
   ]
  },
  {
   "cell_type": "code",
   "execution_count": null,
   "metadata": {},
   "outputs": [],
   "source": [
    "\n",
    "def report_generater(state: AppState) -> AppState:\n",
    "    \"\"\"요청된 조건에 맞는 리포트를 생성하는 노드 함수입니다.\"\"\"\n",
    "    \n",
    "    report_request = state.get(\"report_request\")\n",
    "    if not report_request:\n",
    "        return {\"chat_history\": [(\"assistant\", \"리포트 요청을 파싱하지 못했습니다.\")]}\n",
    "\n",
    "    # 1. 데이터베이스에서 결과 조회\n",
    "    quiz_results = fetch_quiz_results(report_request)\n",
    "    if not quiz_results:\n",
    "        return {\"chat_history\": [(\"assistant\", \"해당 조건의 응시 기록이 없습니다.\")]}\n",
    "\n",
    "    # 2. 요청 타입에 따라 리포트 생성\n",
    "    report_outputs = []\n",
    "    report_type = report_request.report_type\n",
    "\n",
    "    if report_type in (\"성적\", \"전체\"):\n",
    "        rank_table_md = create_rank_table(quiz_results)\n",
    "        report_outputs.append(rank_table_md)\n",
    "\n",
    "    if report_type in (\"오답\", \"전체\"):\n",
    "        wrong_table_md = create_wrong_answer_table(quiz_results)\n",
    "        report_outputs.append(wrong_table_md)\n",
    "        \n",
    "    # 3. 최종 결과 반환\n",
    "    final_report = \"\\n\\n\".join(report_outputs)\n",
    "    return {\"chat_history\": [(\"assistant\", final_report)]}"
   ]
  },
  {
   "cell_type": "markdown",
   "metadata": {},
   "source": [
    "## StateGraph 정의 및 컴파일"
   ]
  },
  {
   "cell_type": "code",
   "execution_count": null,
   "metadata": {},
   "outputs": [],
   "source": [
    "graph = StateGraph(AppState)\n",
    "\n",
    "# 노드 추가\n",
    "graph.add_node(\"entry_helper\", entry_helper)\n",
    "graph.add_node(\"applicant_validator\", applicant_validator)\n",
    "graph.add_node(\"quiz_setter\", quiz_setter)\n",
    "graph.add_node(\"quiz_popper\", quiz_popper)\n",
    "graph.add_node(\"answer_collector\", answer_collector)\n",
    "graph.add_node(\"grading_prompter\", grading_prompter)\n",
    "graph.add_node(\"grade_reporter\", grade_reporter)\n",
    "graph.add_node(\"grade_report_saver\", grade_report_saver)\n",
    "graph.add_node(\"report_formatter\", report_formatter)\n",
    "graph.add_node(\"report_request_parser\", report_request_parser)\n",
    "graph.add_node(\"report_generater\", report_generater)\n",
    "\n",
    "# 조건부 진입점 설정\n",
    "graph.set_conditional_entry_point(\n",
    "    entry_router,\n",
    "    {\n",
    "        \"student_entry\": \"applicant_validator\",\n",
    "        \"professor_entry\": \"report_request_parser\",\n",
    "        \"unknown_entry\": \"entry_helper\",\n",
    "    },\n",
    ")\n",
    "\n",
    "# 엣지 연결\n",
    "graph.add_edge(\"quiz_setter\", \"quiz_popper\")\n",
    "graph.add_edge(\"quiz_popper\", END)\n",
    "graph.add_edge(\"entry_helper\", END)\n",
    "\n",
    "graph.add_conditional_edges(\n",
    "    \"answer_collector\",\n",
    "    continue_quiz_condition,\n",
    "    {\"continue_quiz\": \"quiz_popper\", \"grade_quiz\": \"grading_prompter\"},\n",
    ")\n",
    "graph.add_edge(\"grading_prompter\", \"grade_reporter\")\n",
    "graph.add_edge(\"grade_reporter\", \"grade_report_saver\")\n",
    "graph.add_edge(\"grade_report_saver\", \"report_formatter\")\n",
    "graph.add_edge(\"report_request_parser\", \"report_generater\")\n",
    "graph.add_edge(\"report_formatter\", END)\n",
    "graph.add_edge(\"report_generater\", END)\n",
    "\n",
    "# 그래프 컴파일 : 퀴즈 애플리케이션 워크플로우 완성\n",
    "quiz_app = graph.compile()"
   ]
  },
  {
   "cell_type": "markdown",
   "metadata": {},
   "source": [
    "## 그래프 시각화"
   ]
  },
  {
   "cell_type": "code",
   "execution_count": null,
   "metadata": {},
   "outputs": [],
   "source": [
    "visualize_graph(quiz_app)"
   ]
  },
  {
   "cell_type": "markdown",
   "metadata": {},
   "source": [
    "## UI 인터페이스 함수\n",
    "`init_state()` :\n",
    "- 앱을 초기화할 때 사용할 빈 상태(딕셔너리) 반환\n",
    "- `quiz_state` 아래에 문제/대화 이력만 먼저 준비\n",
    "- 다른 필드는 워크플로우 도중 필요에 따라 추가됨(예: quiz_index, user_answers, final_report 등)\n",
    "\n",
    "`chat_fn(user_input, state)` : Gradio 챗봇 UI에서 실제로 호출되는 메인 처리 함수\n"
   ]
  },
  {
   "cell_type": "code",
   "execution_count": null,
   "metadata": {},
   "outputs": [],
   "source": [
    "def init_state() -> dict:\n",
    "    return {\n",
    "        \"app_state\": {\n",
    "            \"chat_history\": [],\n",
    "            \"role\": \"unknown\",\n",
    "            \"questions\": [],\n",
    "            \"quiz_index\": 0,\n",
    "            \"user_answers\": [],\n",
    "        }\n",
    "    }\n",
    "\n",
    "\n",
    "def chat_fn(user_input, state):\n",
    "    app_state = state[\"app_state\"]\n",
    "\n",
    "    app_state[\"chat_history\"].append((\"user\", user_input))\n",
    "    app_state[\"user_input\"] = user_input\n",
    "\n",
    "    new_state = quiz_app.invoke(app_state)\n",
    "    state[\"app_state\"] = new_state\n",
    "\n",
    "    chat_display = [\n",
    "        {\"role\": role, \"content\": content}\n",
    "        for role, content in new_state.get(\"chat_history\", [])\n",
    "    ]\n",
    "\n",
    "    return chat_display, state\n"
   ]
  },
  {
   "cell_type": "markdown",
   "metadata": {},
   "source": [
    "## Gradio UI 정의\n",
    "Gradio의 Blocks UI 구성 방식을 사용해 명탐정 코난 퀴즈 챗봇 인터페이스를 구성"
   ]
  },
  {
   "cell_type": "code",
   "execution_count": null,
   "metadata": {},
   "outputs": [],
   "source": [
    "# Gradio UI\n",
    "with gr.Blocks(theme=gr.themes.Soft()) as demo:\n",
    "    gr.Markdown(\"\"\"\n",
    "    ### 🧩 멀티 에이전트 퀴즈/리포트 (LangGraph)\n",
    "    - 학생 예: `1반 김영희 S25B002 010-0000-0000` → 확인 후 `퀴즈 시작`\n",
    "    - 교수 예: `2025-07-07 2반 리포트 출력` / `오답 리포트` / `성적 리포트`\n",
    "    \"\"\")\n",
    "\n",
    "    chatbot = gr.Chatbot(\n",
    "        label=\"명탐정 코난 퀴즈 챗봇\",\n",
    "        height=400,\n",
    "        avatar_images=(\"data/avatar_user.png\", \"data/avatar_conan.png\"),\n",
    "        type=\"messages\",\n",
    "    )\n",
    "\n",
    "    txt = gr.Textbox(placeholder=\"메시지를 입력해보세요!\", show_label=False)\n",
    "    state = gr.State(init_state())\n",
    "\n",
    "    txt.submit(chat_fn, inputs=[txt, state], outputs=[chatbot, state])\n",
    "    txt.submit(lambda: \"\", None, txt)\n",
    "\n",
    "    demo.launch()"
   ]
  },
  {
   "cell_type": "code",
   "execution_count": null,
   "metadata": {},
   "outputs": [],
   "source": [
    "demo.close()"
   ]
  },
  {
   "cell_type": "markdown",
   "metadata": {},
   "source": [
    "-----\n",
    "** End of Documents **"
   ]
  }
 ],
 "metadata": {
  "kernelspec": {
   "display_name": "venv",
   "language": "python",
   "name": "python3"
  },
  "language_info": {
   "codemirror_mode": {
    "name": "ipython",
    "version": 3
   },
   "file_extension": ".py",
   "mimetype": "text/x-python",
   "name": "python",
   "nbconvert_exporter": "python",
   "pygments_lexer": "ipython3",
   "version": "3.12.3"
  }
 },
 "nbformat": 4,
 "nbformat_minor": 2
}
