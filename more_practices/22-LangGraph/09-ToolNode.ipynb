{
 "cells": [
  {
   "cell_type": "code",
   "execution_count": 1,
   "metadata": {},
   "outputs": [
    {
     "data": {
      "text/plain": [
       "True"
      ]
     },
     "execution_count": 1,
     "metadata": {},
     "output_type": "execute_result"
    }
   ],
   "source": [
    "# API KEY Loading\n",
    "from dotenv import load_dotenv\n",
    "\n",
    "load_dotenv()"
   ]
  },
  {
   "cell_type": "code",
   "execution_count": 2,
   "metadata": {},
   "outputs": [
    {
     "name": "stdout",
     "output_type": "stream",
     "text": [
      "LangSmith 추적을 시작합니다.\n",
      "[프로젝트명]\n",
      "CH21-LangGraph\n"
     ]
    }
   ],
   "source": [
    "from langchain_teddynote import logging\n",
    "\n",
    "logging.langsmith(\"CH21-LangGraph\")"
   ]
  },
  {
   "cell_type": "markdown",
   "metadata": {},
   "source": [
    "# ToolNode \n",
    "\n",
    "- LangGraph에서 pre-built\n",
    "- 메시지 목록이 포함된 그래프 상태를 입력으로 받아 도구 호출 결과로 상태를 업데이트 \n",
    "\n",
    "[참고] \n",
    "- PythonAstREPLTool\n",
    "- LangChain에서 LLM이 파이썬 코드를 안전하게 실행할 수 있도록 만들어진 도구 \n",
    "- AST(Abstract Syntax Tree) 기반으로 코드를 분석하고 실행하여, 더 안전하고 유연한 실행 환경 제공 "
   ]
  },
  {
   "cell_type": "code",
   "execution_count": 5,
   "metadata": {},
   "outputs": [],
   "source": [
    "from typing import List, Dict\n",
    "from langchain_core.tools import tool\n",
    "from langchain_experimental.tools.python.tool import PythonAstREPLTool\n",
    "from langchain_teddynote.tools import GoogleNews\n",
    "from langgraph.prebuilt import ToolNode, tools_condition"
   ]
  },
  {
   "cell_type": "markdown",
   "metadata": {},
   "source": [
    "### 도구 정의 "
   ]
  },
  {
   "cell_type": "code",
   "execution_count": 4,
   "metadata": {},
   "outputs": [],
   "source": [
    "@tool\n",
    "def search_news(query: str) -> List[Dict[str, str]]:\n",
    "    \"\"\"Search Google News by input keyword\"\"\"\n",
    "    news_tool = GoogleNews()\n",
    "    return news_tool.search_by_keyword(query, k=5)\n",
    "\n",
    "\n",
    "@tool\n",
    "def python_code_interpreter(code: str):\n",
    "    \"\"\"Call to execute python code.\"\"\"\n",
    "    return PythonAstREPLTool().invoke(code)"
   ]
  },
  {
   "cell_type": "code",
   "execution_count": null,
   "metadata": {},
   "outputs": [],
   "source": [
    "# 도구 리스트 생성\n",
    "tools = [search_news, python_code_interpreter]\n",
    "\n",
    "# ToolNode 정의 \n",
    "tool_node = ToolNode(tools)"
   ]
  },
  {
   "cell_type": "markdown",
   "metadata": {},
   "source": [
    "### 수동 호출"
   ]
  },
  {
   "cell_type": "code",
   "execution_count": 7,
   "metadata": {},
   "outputs": [
    {
     "data": {
      "text/plain": [
       "{'messages': [ToolMessage(content='[{\"url\": \"https://news.google.com/rss/articles/CBMiakFVX3lxTE1HMkcySUJIemo1aVowMnlZQXBFWGp1VzBfOXZTczdzQmpLMlJpT19zY1hVeGRkQ0k3eGRJOUtDRVEwUGx4QUhPQlZfNXF5QTJzbm4zbzE1NDdFWVR5ajFrcTktSFlZZGZiVnc?oc=5\", \"content\": \"오픈AI, GPT-4o \\'네이티브\\' 이미지 생성 기능 출시...\\'멀티모달 강자\\' 구글과 대결 - AI타임스\"}, {\"url\": \"https://news.google.com/rss/articles/CBMiVkFVX3lxTFBVNU9EZzNLQkZBRjZBY2l1d2JCRkZpY0d5ODB4S21fdTBjaVczaWxERUdIMUhqZFJHV2FqOWFGc1JuMGNfRDloZnlQUG92enFmQmtjajJR?oc=5\", \"content\": \"\\\\\"트럼프 2기, 또 물류난\\\\\"…삼성SDS, AI로 \\'제2의 팬데믹\\' 막는다 - ZD넷 코리아\"}, {\"url\": \"https://news.google.com/rss/articles/CBMi0wJBVV95cUxPZFlSbDVBbEtKS09WcThBZC02MG4xVzk1MVlPeXpRUzNvLUY4ZHVvTEl5VHcyVGpPbk5JOEVia3ZXaVp6VWllY0I1UzczQXM3VkozMV8xTHBMSHl5SjRJSzFWRl8tT1BPQWZZbC10NThWdmxzOTA3ckJVZDdXYTlGcDBMTDNuU3VsWkxydUZhNEdRUFRKNlloM1QtUXlTbk1YRG1ZWjYwOWhDMEd3c3BGR2F3cWN2RFhrT2JmOEY0SFRZVEpUdlFDTjVrdHFZdmFKdUw5YnhfWFVXazFBejhGSlR5OW8xd2d3NDRjT3lsRUV3U0hhTnBTaHRGNHBMcERIMHcxMmFKdGFmZ0llYnVyODFWZEgxbHNqQ1BIZTVjS3VIczdZR29fOVV0Mjllazg2N3pLclhyX2dmR01BZTU1eFZLWkRpU2FCNTRfaWtveVZhdDA?oc=5\", \"content\": \"네이버클라우드·한국은행, 소버린 생성형 AI 플랫폼 구축한다 \\\\\"금융 경제 모델 개발\\\\\" - CIO.com\"}, {\"url\": \"https://news.google.com/rss/articles/CBMiYEFVX3lxTE9iZXFoMGNSZ1ozMWhOQzVJRTFoMHI4YUh4bm5mNmNEQU9zWEtwQ3g2SEZSbXJPQ3J0dVYySjRSdDdzSmR2Y0RZbEJ6a1BhZ2szWUQycWc0OWoxODZMQVdsX9IBeEFVX3lxTFBQQTBpMHQ1c19xSEdLRGFwZG44N1BtRXM1SzVRUW5sLVdjU2MwN2NDazdUUHAwcjdPNF81SkNHOXgxQkp4ZDV0TzFDUmJYRG82T2g0UVJwZ2lmZ3c1SGp5QzFsVXc4SmtlTml6NGlXNFFUalc4ZFUwMw?oc=5\", \"content\": \"\\\\\"제조업 \\'탈한국\\', AI로 대응\\\\\"…경사노위 AI·노동연구회(종합) - 뉴시스\"}, {\"url\": \"https://news.google.com/rss/articles/CBMiXEFVX3lxTE1mYTVybWU0Yk4xMDdTR1UxZFZTWlJaaXk5QmtmMGJUMjJmV0N1dUMwdFBtVm9VRVFYZ0tUU05NYnIyaGxibjI3QnhFcDB1MC13bVJ0QWlReS1wWUlQ0gFeQVVfeXFMUEY1cVFRckFHWk1YTWhtRDZVRmduNHBrNE5xdlNQa3RKZWttdDdrUzdTT1ZtNUpIeXR3aDI1c3dxN2ZaWE5jMTBkbVYwWE5zSllfMWp0Q2xZaUhVRml2QQ?oc=5\", \"content\": \"산업 현장에 스며든 \\'AI\\'…전문가 \\\\\"고용구조·국가 제조기반 재편 주도해야\\\\\" - 뉴스핌\"}]', name='search_news', tool_call_id='tool_call_id')]}"
      ]
     },
     "execution_count": 7,
     "metadata": {},
     "output_type": "execute_result"
    }
   ],
   "source": [
    "from langchain_core.messages import AIMessage\n",
    "\n",
    "# 단일 도구 호출을 포함하는 AI 메시지 객체 생성\n",
    "# AIMessage 객체이어야 함\n",
    "message_with_single_tool_call = AIMessage(\n",
    "    content=\"\",\n",
    "    tool_calls=[\n",
    "        {\n",
    "            \"name\": \"search_news\",    # 도구 이름\n",
    "            \"args\": {\"query\": \"AI\"},  # 도구 인자\n",
    "            \"id\": \"tool_call_id\",     # 도구 호출 ID\n",
    "            \"type\": \"tool_call\",      # 도구 호출 유형\n",
    "        }\n",
    "    ],\n",
    ")\n",
    "\n",
    "# 도구 노드를 통한 메시지 처리 및 날씨 정보 요청 실행\n",
    "tool_node.invoke({\"messages\": [message_with_single_tool_call]})"
   ]
  },
  {
   "cell_type": "code",
   "execution_count": 8,
   "metadata": {},
   "outputs": [
    {
     "data": {
      "text/plain": [
       "{'messages': [ToolMessage(content='[{\"url\": \"https://news.google.com/rss/articles/CBMiakFVX3lxTE1HMkcySUJIemo1aVowMnlZQXBFWGp1VzBfOXZTczdzQmpLMlJpT19zY1hVeGRkQ0k3eGRJOUtDRVEwUGx4QUhPQlZfNXF5QTJzbm4zbzE1NDdFWVR5ajFrcTktSFlZZGZiVnc?oc=5\", \"content\": \"오픈AI, GPT-4o \\'네이티브\\' 이미지 생성 기능 출시...\\'멀티모달 강자\\' 구글과 대결 - AI타임스\"}, {\"url\": \"https://news.google.com/rss/articles/CBMiVkFVX3lxTFBVNU9EZzNLQkZBRjZBY2l1d2JCRkZpY0d5ODB4S21fdTBjaVczaWxERUdIMUhqZFJHV2FqOWFGc1JuMGNfRDloZnlQUG92enFmQmtjajJR?oc=5\", \"content\": \"\\\\\"트럼프 2기, 또 물류난\\\\\"…삼성SDS, AI로 \\'제2의 팬데믹\\' 막는다 - ZD넷 코리아\"}, {\"url\": \"https://news.google.com/rss/articles/CBMi0wJBVV95cUxPZFlSbDVBbEtKS09WcThBZC02MG4xVzk1MVlPeXpRUzNvLUY4ZHVvTEl5VHcyVGpPbk5JOEVia3ZXaVp6VWllY0I1UzczQXM3VkozMV8xTHBMSHl5SjRJSzFWRl8tT1BPQWZZbC10NThWdmxzOTA3ckJVZDdXYTlGcDBMTDNuU3VsWkxydUZhNEdRUFRKNlloM1QtUXlTbk1YRG1ZWjYwOWhDMEd3c3BGR2F3cWN2RFhrT2JmOEY0SFRZVEpUdlFDTjVrdHFZdmFKdUw5YnhfWFVXazFBejhGSlR5OW8xd2d3NDRjT3lsRUV3U0hhTnBTaHRGNHBMcERIMHcxMmFKdGFmZ0llYnVyODFWZEgxbHNqQ1BIZTVjS3VIczdZR29fOVV0Mjllazg2N3pLclhyX2dmR01BZTU1eFZLWkRpU2FCNTRfaWtveVZhdDA?oc=5\", \"content\": \"네이버클라우드·한국은행, 소버린 생성형 AI 플랫폼 구축한다 \\\\\"금융 경제 모델 개발\\\\\" - CIO.com\"}, {\"url\": \"https://news.google.com/rss/articles/CBMiYEFVX3lxTE9iZXFoMGNSZ1ozMWhOQzVJRTFoMHI4YUh4bm5mNmNEQU9zWEtwQ3g2SEZSbXJPQ3J0dVYySjRSdDdzSmR2Y0RZbEJ6a1BhZ2szWUQycWc0OWoxODZMQVdsX9IBeEFVX3lxTFBQQTBpMHQ1c19xSEdLRGFwZG44N1BtRXM1SzVRUW5sLVdjU2MwN2NDazdUUHAwcjdPNF81SkNHOXgxQkp4ZDV0TzFDUmJYRG82T2g0UVJwZ2lmZ3c1SGp5QzFsVXc4SmtlTml6NGlXNFFUalc4ZFUwMw?oc=5\", \"content\": \"\\\\\"제조업 \\'탈한국\\', AI로 대응\\\\\"…경사노위 AI·노동연구회(종합) - 뉴시스\"}, {\"url\": \"https://news.google.com/rss/articles/CBMiXEFVX3lxTE1mYTVybWU0Yk4xMDdTR1UxZFZTWlJaaXk5QmtmMGJUMjJmV0N1dUMwdFBtVm9VRVFYZ0tUU05NYnIyaGxibjI3QnhFcDB1MC13bVJ0QWlReS1wWUlQ0gFeQVVfeXFMUEY1cVFRckFHWk1YTWhtRDZVRmduNHBrNE5xdlNQa3RKZWttdDdrUzdTT1ZtNUpIeXR3aDI1c3dxN2ZaWE5jMTBkbVYwWE5zSllfMWp0Q2xZaUhVRml2QQ?oc=5\", \"content\": \"산업 현장에 스며든 \\'AI\\'…전문가 \\\\\"고용구조·국가 제조기반 재편 주도해야\\\\\" - 뉴스핌\"}]', name='search_news', tool_call_id='tool_call_id'),\n",
       "  ToolMessage(content='10\\n', name='python_code_interpreter', tool_call_id='tool_call_id')]}"
      ]
     },
     "execution_count": 8,
     "metadata": {},
     "output_type": "execute_result"
    }
   ],
   "source": [
    "# 다중 도구 호출을 포함하는 AI 메시지 객체 생성 및 초기화\n",
    "message_with_multiple_tool_calls = AIMessage(\n",
    "    content=\"\",\n",
    "    tool_calls=[\n",
    "        {\n",
    "            \"name\": \"search_news\",\n",
    "            \"args\": {\"query\": \"AI\"},\n",
    "            \"id\": \"tool_call_id\",\n",
    "            \"type\": \"tool_call\",\n",
    "        },\n",
    "        {\n",
    "            \"name\": \"python_code_interpreter\",\n",
    "            \"args\": {\"code\": \"print(1+2+3+4)\"},\n",
    "            \"id\": \"tool_call_id\",\n",
    "            \"type\": \"tool_call\",\n",
    "        },\n",
    "    ],\n",
    ")\n",
    "\n",
    "# 생성된 메시지를 도구 노드에 전달하여 다중 도구 호출 실행\n",
    "tool_node.invoke({\"messages\": [message_with_multiple_tool_calls]})"
   ]
  },
  {
   "cell_type": "markdown",
   "metadata": {},
   "source": [
    "## LLM binding"
   ]
  },
  {
   "cell_type": "code",
   "execution_count": 9,
   "metadata": {},
   "outputs": [],
   "source": [
    "from langchain_openai import ChatOpenAI"
   ]
  },
  {
   "cell_type": "code",
   "execution_count": 10,
   "metadata": {},
   "outputs": [],
   "source": [
    "model_with_tools = ChatOpenAI(\n",
    "    model=\"gpt-4o-mini\", \n",
    "    temperature=0\n",
    ").bind_tools(tools)"
   ]
  },
  {
   "cell_type": "code",
   "execution_count": 11,
   "metadata": {},
   "outputs": [
    {
     "data": {
      "text/plain": [
       "[{'name': 'python_code_interpreter',\n",
       "  'args': {'code': 'def first_n_primes(n):\\n    primes = []\\n    num = 2  # Starting from the first prime number\\n    while len(primes) < n:\\n        is_prime = True\\n        for i in range(2, int(num**0.5) + 1):\\n            if num % i == 0:\\n                is_prime = False\\n                break\\n        if is_prime:\\n            primes.append(num)\\n        num += 1\\n    return primes\\n\\n# Get the first 5 prime numbers\\nfirst_n_primes(5)'},\n",
       "  'id': 'call_JMgG3lXVkbgJxclBuLmzP6lX',\n",
       "  'type': 'tool_call'}]"
      ]
     },
     "execution_count": 11,
     "metadata": {},
     "output_type": "execute_result"
    }
   ],
   "source": [
    "# 도구 호출 확인\n",
    "model_with_tools.invoke(\"처음 5개의 소수를 출력하는 python code 를 작성해줘\").tool_calls"
   ]
  },
  {
   "cell_type": "code",
   "execution_count": 12,
   "metadata": {},
   "outputs": [
    {
     "data": {
      "text/plain": [
       "{'messages': [ToolMessage(content='[2, 3, 5, 7, 11]', name='python_code_interpreter', tool_call_id='call_tlzR4xRR77H03pzkwIOZkPEg')]}"
      ]
     },
     "execution_count": 12,
     "metadata": {},
     "output_type": "execute_result"
    }
   ],
   "source": [
    "# 도구 노드를 통한 메시지 처리 및 LLM 모델의 도구 기반 응답 생성\n",
    "tool_node.invoke(\n",
    "    {\n",
    "        \"messages\": [\n",
    "            model_with_tools.invoke(\n",
    "                \"처음 5개의 소수를 출력하는 python code 를 작성해줘\"\n",
    "            )\n",
    "        ]\n",
    "    }\n",
    ")"
   ]
  },
  {
   "cell_type": "markdown",
   "metadata": {},
   "source": [
    "## Agent 적용"
   ]
  },
  {
   "cell_type": "code",
   "execution_count": 13,
   "metadata": {},
   "outputs": [],
   "source": [
    "from langgraph.graph import StateGraph, MessagesState, START, END"
   ]
  },
  {
   "cell_type": "code",
   "execution_count": 14,
   "metadata": {},
   "outputs": [],
   "source": [
    "# LLM 모델을 사용하여 메시지 처리 및 응답 생성, 도구 호출이 포함된 응답 반환\n",
    "def call_model(state: MessagesState):\n",
    "    messages = state[\"messages\"]\n",
    "    response = model_with_tools.invoke(messages)\n",
    "    return {\"messages\": [response]}\n",
    "\n",
    "\n",
    "# Graph\n",
    "workflow = StateGraph(MessagesState)\n",
    "\n",
    "workflow.add_node(\"agent\", call_model)\n",
    "workflow.add_node(\"tools\", tool_node)\n",
    "\n",
    "workflow.add_edge(START, \"agent\")\n",
    "workflow.add_conditional_edges(\"agent\", tools_condition)\n",
    "\n",
    "workflow.add_edge(\"tools\", \"agent\")\n",
    "workflow.add_edge(\"agent\", END)\n",
    "\n",
    "app = workflow.compile()"
   ]
  },
  {
   "cell_type": "code",
   "execution_count": 15,
   "metadata": {},
   "outputs": [
    {
     "data": {
      "image/png": "[encoded data removed]",
      "text/plain": [
       "<IPython.core.display.Image object>"
      ]
     },
     "metadata": {},
     "output_type": "display_data"
    }
   ],
   "source": [
    "from langchain_teddynote.graphs import visualize_graph\n",
    "\n",
    "visualize_graph(app)"
   ]
  },
  {
   "cell_type": "code",
   "execution_count": 16,
   "metadata": {},
   "outputs": [
    {
     "name": "stdout",
     "output_type": "stream",
     "text": [
      "================================\u001b[1m Human Message \u001b[0m=================================\n",
      "\n",
      "처음 5개의 소수를 출력하는 python code 를 작성해줘\n",
      "==================================\u001b[1m Ai Message \u001b[0m==================================\n",
      "Tool Calls:\n",
      "  python_code_interpreter (call_2YP8HydwMJlSQjuSwQwQFIk0)\n",
      " Call ID: call_2YP8HydwMJlSQjuSwQwQFIk0\n",
      "  Args:\n",
      "    code: def first_n_primes(n):\n",
      "    primes = []\n",
      "    num = 2  # Starting from the first prime number\n",
      "    while len(primes) < n:\n",
      "        is_prime = True\n",
      "        for i in range(2, int(num**0.5) + 1):\n",
      "            if num % i == 0:\n",
      "                is_prime = False\n",
      "                break\n",
      "        if is_prime:\n",
      "            primes.append(num)\n",
      "        num += 1\n",
      "    return primes\n",
      "\n",
      "# Get the first 5 prime numbers\n",
      "first_n_primes(5)\n",
      "=================================\u001b[1m Tool Message \u001b[0m=================================\n",
      "Name: python_code_interpreter\n",
      "\n",
      "[2, 3, 5, 7, 11]\n",
      "==================================\u001b[1m Ai Message \u001b[0m==================================\n",
      "\n",
      "처음 5개의 소수는 다음과 같습니다: [2, 3, 5, 7, 11]\n"
     ]
    }
   ],
   "source": [
    "# 실행 및 결과 확인\n",
    "for chunk in app.stream(\n",
    "    {\"messages\": [(\"human\", \"처음 5개의 소수를 출력하는 python code 를 작성해줘\")]},\n",
    "    stream_mode=\"values\",\n",
    "):\n",
    "    # 마지막 메시지 출력\n",
    "    chunk[\"messages\"][-1].pretty_print()"
   ]
  },
  {
   "cell_type": "code",
   "execution_count": 17,
   "metadata": {},
   "outputs": [
    {
     "name": "stdout",
     "output_type": "stream",
     "text": [
      "================================\u001b[1m Human Message \u001b[0m=================================\n",
      "\n",
      "search google news about AI\n",
      "==================================\u001b[1m Ai Message \u001b[0m==================================\n",
      "Tool Calls:\n",
      "  search_news (call_GiiChMgZirpIawsf33FxJy0R)\n",
      " Call ID: call_GiiChMgZirpIawsf33FxJy0R\n",
      "  Args:\n",
      "    query: AI\n",
      "=================================\u001b[1m Tool Message \u001b[0m=================================\n",
      "Name: search_news\n",
      "\n",
      "[{\"url\": \"https://news.google.com/rss/articles/CBMiakFVX3lxTE1HMkcySUJIemo1aVowMnlZQXBFWGp1VzBfOXZTczdzQmpLMlJpT19zY1hVeGRkQ0k3eGRJOUtDRVEwUGx4QUhPQlZfNXF5QTJzbm4zbzE1NDdFWVR5ajFrcTktSFlZZGZiVnc?oc=5\", \"content\": \"오픈AI, GPT-4o '네이티브' 이미지 생성 기능 출시...'멀티모달 강자' 구글과 대결 - AI타임스\"}, {\"url\": \"https://news.google.com/rss/articles/CBMiVkFVX3lxTFBVNU9EZzNLQkZBRjZBY2l1d2JCRkZpY0d5ODB4S21fdTBjaVczaWxERUdIMUhqZFJHV2FqOWFGc1JuMGNfRDloZnlQUG92enFmQmtjajJR?oc=5\", \"content\": \"\\\"트럼프 2기, 또 물류난\\\"…삼성SDS, AI로 '제2의 팬데믹' 막는다 - ZD넷 코리아\"}, {\"url\": \"https://news.google.com/rss/articles/CBMi0wJBVV95cUxPZFlSbDVBbEtKS09WcThBZC02MG4xVzk1MVlPeXpRUzNvLUY4ZHVvTEl5VHcyVGpPbk5JOEVia3ZXaVp6VWllY0I1UzczQXM3VkozMV8xTHBMSHl5SjRJSzFWRl8tT1BPQWZZbC10NThWdmxzOTA3ckJVZDdXYTlGcDBMTDNuU3VsWkxydUZhNEdRUFRKNlloM1QtUXlTbk1YRG1ZWjYwOWhDMEd3c3BGR2F3cWN2RFhrT2JmOEY0SFRZVEpUdlFDTjVrdHFZdmFKdUw5YnhfWFVXazFBejhGSlR5OW8xd2d3NDRjT3lsRUV3U0hhTnBTaHRGNHBMcERIMHcxMmFKdGFmZ0llYnVyODFWZEgxbHNqQ1BIZTVjS3VIczdZR29fOVV0Mjllazg2N3pLclhyX2dmR01BZTU1eFZLWkRpU2FCNTRfaWtveVZhdDA?oc=5\", \"content\": \"네이버클라우드·한국은행, 소버린 생성형 AI 플랫폼 구축한다 \\\"금융 경제 모델 개발\\\" - CIO.com\"}, {\"url\": \"https://news.google.com/rss/articles/CBMiYEFVX3lxTE9iZXFoMGNSZ1ozMWhOQzVJRTFoMHI4YUh4bm5mNmNEQU9zWEtwQ3g2SEZSbXJPQ3J0dVYySjRSdDdzSmR2Y0RZbEJ6a1BhZ2szWUQycWc0OWoxODZMQVdsX9IBeEFVX3lxTFBQQTBpMHQ1c19xSEdLRGFwZG44N1BtRXM1SzVRUW5sLVdjU2MwN2NDazdUUHAwcjdPNF81SkNHOXgxQkp4ZDV0TzFDUmJYRG82T2g0UVJwZ2lmZ3c1SGp5QzFsVXc4SmtlTml6NGlXNFFUalc4ZFUwMw?oc=5\", \"content\": \"\\\"제조업 '탈한국', AI로 대응\\\"…경사노위 AI·노동연구회(종합) - 뉴시스\"}, {\"url\": \"https://news.google.com/rss/articles/CBMiXEFVX3lxTE1mYTVybWU0Yk4xMDdTR1UxZFZTWlJaaXk5QmtmMGJUMjJmV0N1dUMwdFBtVm9VRVFYZ0tUU05NYnIyaGxibjI3QnhFcDB1MC13bVJ0QWlReS1wWUlQ0gFeQVVfeXFMUEY1cVFRckFHWk1YTWhtRDZVRmduNHBrNE5xdlNQa3RKZWttdDdrUzdTT1ZtNUpIeXR3aDI1c3dxN2ZaWE5jMTBkbVYwWE5zSllfMWp0Q2xZaUhVRml2QQ?oc=5\", \"content\": \"산업 현장에 스며든 'AI'…전문가 \\\"고용구조·국가 제조기반 재편 주도해야\\\" - 뉴스핌\"}]\n",
      "==================================\u001b[1m Ai Message \u001b[0m==================================\n",
      "\n",
      "Here are some recent news articles about AI:\n",
      "\n",
      "1. **오픈AI, GPT-4o '네이티브' 이미지 생성 기능 출시...'멀티모달 강자' 구글과 대결**  \n",
      "   [Read more](https://news.google.com/rss/articles/CBMiakFVX3lxTE1HMkcySUJIemo1aVowMnlZQXBFWGp1VzBfOXZTczdzQmpLMlJpT19zY1hVeGRkQ0k3eGRJOUtDRVEwUGx4QUhPQlZfNXF5QTJzbm4zbzE1NDdFWVR5ajFrcTktSFlZZGZiVnc?oc=5)\n",
      "\n",
      "2. **\"트럼프 2기, 또 물류난\"…삼성SDS, AI로 '제2의 팬데믹' 막는다**  \n",
      "   [Read more](https://news.google.com/rss/articles/CBMiVkFVX3lxTFBVNU9EZzNLQkZBRjZBY2l1d2JCRkZpY0d5ODB4S21fdTBjaVczaWxERUdIMUhqZFJHV2FqOWFGc1JuMGNfRDloZnlQUG92enFmQmtjajJR?oc=5)\n",
      "\n",
      "3. **네이버클라우드·한국은행, 소버린 생성형 AI 플랫폼 구축한다 \"금융 경제 모델 개발\"**  \n",
      "   [Read more](https://news.google.com/rss/articles/CBMi0wJBVV95cUxPZFlSbDVBbEtKS09WcThBZC02MG4xVzk1MVlPeXpRUzNvLUY4ZHVvTEl5VHcyVGpPbk5JOEVia3ZXaVp6VWllY0I1UzczQXM3VkozMV8xTHBMSHl5SjRJSzFWRl8tT1BPQWZZbC10NThWdmxzOTA3ckJVZDdXYTlGcDBMTDNuU3VsWkxydUZhNEdRUFRKNlloM1QtUXlTbk1YRG1ZWjYwOWhDMEd3c3BGR2F3cWN2RFhrT2JmOEY0SFRZVEpUdlFDTjVrdHFZdmFKdUw5YnhfWFVXazFBejhGSlR5OW8xd2d3NDRjT3lsRUV3U0hhTnBTaHRGNHBMcERIMHcxMmFKdGFmZ0llYnVyODFWZEgxbHNqQ1BIZTVjS3VIczdZR29fOVV0Mjllazg2N3pLclhyX2dmR01BZTU1eFZLWkRpU2FCNTRfaWtveVZhdDA?oc=5)\n",
      "\n",
      "4. **\"제조업 '탈한국', AI로 대응\"…경사노위 AI·노동연구회(종합)**  \n",
      "   [Read more](https://news.google.com/rss/articles/CBMiYEFVX3lxTE9iZXFoMGNSZ1ozMWhOQzVJRTFoMHI4YUh4bm5mNmNEQU9zWEtwQ3g2SEZSbXJPQ3J0dVYySjRSdDdzSmR2Y0RZbEJ6a1BhZ2szWUQycWc0OWoxODZMQVdsX9IBeEFVX3lxTFBQQTBpMHQ1c19xSEdLRGFwZG44N1BtRXM1SzVRUW5sLVdjU2MwN2NDazdUUHAwcjdPNF81SkNHOXgxQkp4ZDV0TzFDUmJYRG82T2g0UVJwZ2lmZ3c1SGp5QzFsVXc4SmtlTml6NGlXNFFUalc4ZFUwMw?oc=5)\n",
      "\n",
      "5. **산업 현장에 스며든 'AI'…전문가 \"고용구조·국가 제조기반 재편 주도해야\"**  \n",
      "   [Read more](https://news.google.com/rss/articles/CBMiXEFVX3lxTE1mYTVybWU0Yk4xMDdTR1UxZFZTWlJaaXk5QmtmMGJUMjJmV0N1dUMwdFBtVm9VRVFYZ0tUU05NYnIyaGxibjI3QnhFcDB1MC13bVJ0QWlReS1wWUlQ0gFeQVVfeXFMUEY1cVFRckFHWk1YTWhtRDZVRmduNHBrNE5xdlNQa3RKZWttdDdrUzdTT1ZtNUpIeXR3aDI1c3dxN2ZaWE5jMTBkbVYwWE5zSllfMWp0Q2xZaUhVRml2QQ?oc=5)\n",
      "\n",
      "Feel free to click on the links to read the full articles!\n"
     ]
    }
   ],
   "source": [
    "# 검색 질문 수행\n",
    "for chunk in app.stream(\n",
    "    {\"messages\": [(\"human\", \"search google news about AI\")]},\n",
    "    stream_mode=\"values\",\n",
    "):\n",
    "    chunk[\"messages\"][-1].pretty_print()"
   ]
  },
  {
   "cell_type": "code",
   "execution_count": 18,
   "metadata": {},
   "outputs": [
    {
     "name": "stdout",
     "output_type": "stream",
     "text": [
      "================================\u001b[1m Human Message \u001b[0m=================================\n",
      "\n",
      "안녕? 반가워\n",
      "==================================\u001b[1m Ai Message \u001b[0m==================================\n",
      "\n",
      "안녕하세요! 반갑습니다. 어떻게 도와드릴까요?\n"
     ]
    }
   ],
   "source": [
    "# 도구 호출이 필요 없는 질문 수행\n",
    "for chunk in app.stream(\n",
    "    {\"messages\": [(\"human\", \"안녕? 반가워\")]},\n",
    "    stream_mode=\"values\",\n",
    "):\n",
    "    chunk[\"messages\"][-1].pretty_print()"
   ]
  },
  {
   "cell_type": "markdown",
   "metadata": {},
   "source": [
    "-----\n",
    "** End of Documents **"
   ]
  }
 ],
 "metadata": {
  "kernelspec": {
   "display_name": "langchain-kr-t0JhnSEV-py3.11",
   "language": "python",
   "name": "python3"
  },
  "language_info": {
   "codemirror_mode": {
    "name": "ipython",
    "version": 3
   },
   "file_extension": ".py",
   "mimetype": "text/x-python",
   "name": "python",
   "nbconvert_exporter": "python",
   "pygments_lexer": "ipython3",
   "version": "3.11.9"
  }
 },
 "nbformat": 4,
 "nbformat_minor": 2
}
