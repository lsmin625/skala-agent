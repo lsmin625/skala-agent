{
 "cells": [
  {
   "cell_type": "markdown",
   "metadata": {},
   "source": [
    "# LangGraph 기본 문법"
   ]
  },
  {
   "cell_type": "markdown",
   "metadata": {},
   "source": [
    "## TypedDict\n",
    "\n",
    "1. `dict`와 `TypedDict`의 주요 차이점:\n",
    "\n",
    "   a) 타입 검사:\n",
    "      - `dict`: 런타임에 타입 검사를 하지 않음\n",
    "      - `TypedDict`: 정적 타입 검사 제공. 즉, 코드 작성 시 IDE나 타입 체커가 오류를 미리 잡아낼 수 있음\n",
    "\n",
    "   b) 키와 값의 타입:\n",
    "      - `dict`: 키와 값의 타입을 일반적으로 지정합니다 (예: Dict[str, str])\n",
    "      - `TypedDict`: 각 키에 대해 구체적인 타입을 지정할 수 있음\n",
    "\n",
    "   c) 유연성:\n",
    "      - `dict`: 런타임에 키를 추가하거나 제거할 수 있음\n",
    "      - `TypedDict`: 정의된 구조를 따라야 함. 추가적인 키는 타입 오류 발생시킴\n",
    "\n",
    "2. `TypedDict`가 `dict` 대신 사용되는 이유:\n",
    "\n",
    "   a) 타입 안정성: 더 엄격한 타입 검사를 제공하여 잠재적인 버그를 미리 방지할 수 있음\n",
    "\n",
    "   b) 코드 가독성: 딕셔너리의 구조를 명확하게 정의할 수 있어 코드의 가독성 향상\n",
    "\n",
    "   c) IDE 지원: IDE에서 자동 완성 및 타입 힌트를 더 정확하게 제공받을 수 있음\n",
    "\n",
    "   d) 문서화: 코드 자체가 문서의 역할을 하여 딕셔너리의 구조를 명확히 보여줌"
   ]
  },
  {
   "cell_type": "code",
   "execution_count": 1,
   "metadata": {},
   "outputs": [],
   "source": [
    "from typing import Dict, TypedDict"
   ]
  },
  {
   "cell_type": "code",
   "execution_count": null,
   "metadata": {},
   "outputs": [],
   "source": [
    "# Dict 기반 정의\n",
    "sample_dict: Dict[str, str] = {\n",
    "    \"name\": \"김영희\",\n",
    "    \"age\": \"25\",\n",
    "    \"job\": \"ai engineer\",\n",
    "}\n",
    "\n",
    "\n",
    "# TypedDict\n",
    "class Person(TypedDict):\n",
    "    name: str\n",
    "    age: int\n",
    "    job: str\n",
    "\n",
    "\n",
    "typed_dict: Person = {\n",
    "    \"name\": \"김영희\",\n",
    "    \"age\": 25,\n",
    "    \"job\": \"ai engineer\",\n",
    "}"
   ]
  },
  {
   "cell_type": "code",
   "execution_count": null,
   "metadata": {},
   "outputs": [
    {
     "ename": "NameError",
     "evalue": "name 'type_dict' is not defined",
     "output_type": "error",
     "traceback": [
      "\u001b[0;31m---------------------------------------------------------------------------\u001b[0m",
      "\u001b[0;31mNameError\u001b[0m                                 Traceback (most recent call last)",
      "Cell \u001b[0;32mIn[3], line 7\u001b[0m\n\u001b[1;32m      5\u001b[0m \u001b[38;5;66;03m# TypedDict\u001b[39;00m\n\u001b[1;32m      6\u001b[0m typed_dict[\u001b[38;5;124m\"\u001b[39m\u001b[38;5;124mage\u001b[39m\u001b[38;5;124m\"\u001b[39m] \u001b[38;5;241m=\u001b[39m \u001b[38;5;241m28\u001b[39m\n\u001b[0;32m----> 7\u001b[0m \u001b[43mtype_dict\u001b[49m[\u001b[38;5;124m\"\u001b[39m\u001b[38;5;124mnew_field\u001b[39m\u001b[38;5;124m\"\u001b[39m] \u001b[38;5;241m=\u001b[39m (\u001b[38;5;124m\"\u001b[39m\u001b[38;5;124m새로운 정보를 추가 합니다\u001b[39m\u001b[38;5;124m\"\u001b[39m)\n",
      "\u001b[0;31mNameError\u001b[0m: name 'type_dict' is not defined"
     ]
    }
   ],
   "source": [
    "# Dict\n",
    "sample_dict[\"age\"] = 28\n",
    "sample_dict[\"new_field\"] = \"새로운 정보를 추가 합니다\"\n",
    "\n",
    "# TypedDict\n",
    "typed_dict[\"age\"] = 28\n",
    "type_dict[\"new_field\"] = \"새로운 정보를 추가 합니다\""
   ]
  },
  {
   "cell_type": "code",
   "execution_count": 4,
   "metadata": {},
   "outputs": [
    {
     "name": "stdout",
     "output_type": "stream",
     "text": [
      "{'name': '김영희', 'age': 28, 'job': 'ai engineer', 'new_field': '새로운 정보를 추가 합니다'}\n"
     ]
    }
   ],
   "source": [
    "print(sample_dict)"
   ]
  },
  {
   "cell_type": "code",
   "execution_count": 5,
   "metadata": {},
   "outputs": [
    {
     "name": "stdout",
     "output_type": "stream",
     "text": [
      "{'name': '김영희', 'age': 28, 'job': 'ai engineer'}\n"
     ]
    }
   ],
   "source": [
    "print(typed_dict)"
   ]
  },
  {
   "cell_type": "markdown",
   "metadata": {},
   "source": [
    "## Annotated\n",
    "\n",
    "- 개요 \n",
    "    - python의 `typing` 모듈에서 제공하는 기능 \n",
    "    - 기본 타입 힌트에 메타데이터(설명, 조건 등)을 덧붙일 수 있게 해주는 도구 \n",
    "    - 메타데이터는 pydantic, FastAPI 등 다양한 프레임워크에서 활용 (검증, 문서화 등)\n",
    "\n",
    "- `Annotated`를 사용하는 주요 이유 \n",
    "\n",
    "1. 추가 정보 제공(타입 힌트)\n",
    "    - 타입 힌트에 추가적인 정보를 포함. 이는 코드를 읽는 사람이나 도구에 더 많은 Context 제공\n",
    "    - 코드에 대한 추가 설명을 타입 힌트에 직접 포함시킬 수 있음\n",
    "        - `name: Annotated[str, \"이름\"]`\n",
    "        - `age: Annotated[int, \"나이\"]`\n",
    "\n",
    "2. 문서화 \n",
    "    - 코드 자체에 추가 설명을 포함시켜 문서화 형태로 관리 가능 \n",
    "\n",
    "3. 유효성 검사 \n",
    "    - 특정 라이브러리(`pydantic`)와 함께 사용하여 유효성 검사 수행 \n",
    "        - `pydantic` : 데이터 유형성 검증, 데이터 파싱을 쉽게 처리할 수 있도록 도와주는 라이브러리 \n",
    "        - 타입 힌트를 기반으로 데이터 검증 및 오류 방지 "
   ]
  },
  {
   "cell_type": "code",
   "execution_count": null,
   "metadata": {},
   "outputs": [],
   "source": [
    "from typing import Annotated, List\n",
    "from pydantic import Field, BaseModel, ValidationError"
   ]
  },
  {
   "cell_type": "code",
   "execution_count": null,
   "metadata": {},
   "outputs": [],
   "source": [
    "class Student(BaseModel):\n",
    "    id: Annotated[str, Field(..., description=\"학생ID\")]\n",
    "    name: Annotated[str, Field(..., min_length=3, max_length=50, description=\"이름\")]\n",
    "    age: Annotated[int, Field(gt=23, lt=31, description=\"나이(24~30세)\")]\n",
    "    skills: Annotated[\n",
    "        List[str], Field(min_items=1, max_items=10, description=\"보유기술(1~10개)\")\n",
    "    ]"
   ]
  },
  {
   "cell_type": "code",
   "execution_count": null,
   "metadata": {},
   "outputs": [
    {
     "name": "stdout",
     "output_type": "stream",
     "text": [
      "is_relevant:  id='skala-0001' name='김영희' age=26 skills=['Python', 'Java']\n"
     ]
    }
   ],
   "source": [
    "try:\n",
    "    valid_student = Student(\n",
    "        id=\"skala-0001\",\n",
    "        name=\"김영희\",\n",
    "        age=26,\n",
    "        skills=[\"Python\", \"Java\"],\n",
    "    )\n",
    "    print(\"is_relevant: \", valid_student)\n",
    "\n",
    "except ValidationError as e:\n",
    "    print(\"not_relevant: \", e)"
   ]
  },
  {
   "cell_type": "code",
   "execution_count": null,
   "metadata": {},
   "outputs": [
    {
     "name": "stdout",
     "output_type": "stream",
     "text": [
      "not_relevant: \n",
      "- id: Input should be a valid string\n",
      "- name: String should have at least 3 characters\n",
      "- age: Input should be greater than 23\n",
      "- skills: Input should be a valid list\n"
     ]
    }
   ],
   "source": [
    "# 유효하지 않은 케이스로 시도\n",
    "try:\n",
    "    valid_student = Student(\n",
    "        id=1,\n",
    "        name=\"영희\",\n",
    "        age=21,\n",
    "        skills=\"Python\",\n",
    "    )\n",
    "    print(\"is_relevant: \", valid_student)\n",
    "\n",
    "except ValidationError as e:\n",
    "    print(\"not_relevant: \")\n",
    "    for error in e.errors():\n",
    "        print(f\"- {error['loc'][0]}: {error['msg']}\")"
   ]
  },
  {
   "cell_type": "markdown",
   "metadata": {},
   "source": [
    "## add_messages\n",
    "\n",
    "1. 주요 기능\n",
    "   - 두 개의 메시지 리스트를 병합\n",
    "   - 기본적으로 \"append-only\" 상태 유지\n",
    "   - 동일한 ID를 가진 메시지가 있을 경우, 새 메시지로 기존 메시지를 대체\n",
    "\n",
    "2. 동작 방식\n",
    "   - `right`의 메시지 중 `left`에 동일한 ID를 가진 메시지가 있으면, `right`의 메시지로 대체\n",
    "   - 그 외의 경우 `right`의 메시지가 `left`에 추가\n",
    "\n",
    "3. 매개변수\n",
    "   - `left` (Messages): 기본 메시지 리스트\n",
    "   - `right` (Messages): 병합할 메시지 리스트 또는 단일 메시지\n",
    "\n",
    "4. 반환값\n",
    "   - `Messages`: `right`의 메시지들이 `left`에 병합된 새로운 메시지 리스트"
   ]
  },
  {
   "cell_type": "code",
   "execution_count": 11,
   "metadata": {},
   "outputs": [],
   "source": [
    "from langchain_core.messages import AIMessage, HumanMessage\n",
    "from langgraph.graph import add_messages"
   ]
  },
  {
   "cell_type": "code",
   "execution_count": 15,
   "metadata": {},
   "outputs": [
    {
     "name": "stdout",
     "output_type": "stream",
     "text": [
      "[HumanMessage(content='안녕하세요?', additional_kwargs={}, response_metadata={}, id='ID-001'), AIMessage(content='반갑습니다.', additional_kwargs={}, response_metadata={}, id='ID-002')]\n"
     ]
    }
   ],
   "source": [
    "message1 = [HumanMessage(content=\"안녕하세요?\", id=\"ID-001\")]\n",
    "message2 = [AIMessage(content=\"반갑습니다.\", id=\"ID-002\")]\n",
    "\n",
    "result = add_messages(message1, message2)\n",
    "print(result)"
   ]
  },
  {
   "cell_type": "code",
   "execution_count": 16,
   "metadata": {},
   "outputs": [
    {
     "name": "stdout",
     "output_type": "stream",
     "text": [
      "[AIMessage(content='반갑습니다.', additional_kwargs={}, response_metadata={}, id='ID-001')]\n"
     ]
    }
   ],
   "source": [
    "message1 = [HumanMessage(content=\"안녕하세요?\", id=\"ID-001\")]\n",
    "message2 = [AIMessage(content=\"반갑습니다.\", id=\"ID-001\")]\n",
    "\n",
    "result = add_messages(message1, message2)\n",
    "print(result)"
   ]
  },
  {
   "cell_type": "markdown",
   "metadata": {},
   "source": [
    "-----\n",
    "** End of Documents **"
   ]
  }
 ],
 "metadata": {
  "kernelspec": {
   "display_name": "langchain-kr-t0JhnSEV-py3.11",
   "language": "python",
   "name": "python3"
  },
  "language_info": {
   "codemirror_mode": {
    "name": "ipython",
    "version": 3
   },
   "file_extension": ".py",
   "mimetype": "text/x-python",
   "name": "python",
   "nbconvert_exporter": "python",
   "pygments_lexer": "ipython3",
   "version": "3.11.9"
  }
 },
 "nbformat": 4,
 "nbformat_minor": 2
}
