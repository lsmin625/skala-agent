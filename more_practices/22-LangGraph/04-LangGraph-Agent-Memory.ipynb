{
 "cells": [
  {
   "cell_type": "code",
   "execution_count": 1,
   "metadata": {},
   "outputs": [
    {
     "data": {
      "text/plain": [
       "True"
      ]
     },
     "execution_count": 1,
     "metadata": {},
     "output_type": "execute_result"
    }
   ],
   "source": [
    "# API KEY Loading\n",
    "from dotenv import load_dotenv\n",
    "\n",
    "load_dotenv()"
   ]
  },
  {
   "cell_type": "code",
   "execution_count": 2,
   "metadata": {},
   "outputs": [
    {
     "name": "stdout",
     "output_type": "stream",
     "text": [
      "LangSmith 추적을 시작합니다.\n",
      "[프로젝트명]\n",
      "CH21-LangGraph\n"
     ]
    }
   ],
   "source": [
    "from langchain_teddynote import logging\n",
    "\n",
    "logging.langsmith(\"CH21-LangGraph\")"
   ]
  },
  {
   "cell_type": "markdown",
   "metadata": {},
   "source": [
    "# LangGraph Agent, Memory 추가 \n",
    "\n",
    "- 개발하고 있는 챗봇은 과거 상호작용을 스스로 기억할 수 없어 일관된 멀티턴 대화를 진행하는데 제한\n",
    "- 이를 해결하기 위해 **memory** 추가\n",
    "- LangGraph에 pre-built 되어 있는 `ToolNode` 와 `tools_condition` 활용\n",
    "\n",
    "1. [ToolNode](https://langchain-ai.github.io/langgraph/reference/prebuilt/#langgraph.prebuilt.tool_node.ToolNode): 도구 호출을 위한 노드\n",
    "2. [tools_condition](https://langchain-ai.github.io/langgraph/reference/prebuilt/#langgraph.prebuilt.tool_node.tools_condition): 도구 호출 여부에 따른 조건 분기"
   ]
  },
  {
   "cell_type": "markdown",
   "metadata": {},
   "source": [
    "## Checkpointer 생성 \n",
    "\n",
    "- 그래프를 컴파일할 때 `checkpointer`를 제공하고 그래프를 호출할 때 `thread_id`를 제공하면, `LangGraph`는 각 단계 후 **상태를 자동으로 저장**  \n",
    "    - 그래프 실행 중 생성된 모든 state가 thread_id 기준으로 전부 저장\n",
    "    - state에 포함되는 기본 정보 \n",
    "        - messages : 대화 히스토리 (HumanMassage, AIMessage, ToolMessage 등)\n",
    "        - tool 결과 : 도구 호출 결과, 파라미터 등 \n",
    "        - memory 정보 : memory 상태정보 \n",
    "        \n",
    "- 동일한 `thread_id`를 사용하여 그래프를 다시 호출하면, 그래프는 저장된 상태를 로드하여 챗봇이 이전에 중단한 지점에서 대화를 이어갈 수 있음\n",
    "\n",
    "<img src=\"./temp/memory_structure.png\" width=\"500\"/>\n",
    "\n",
    "- [참고]\n",
    "    - 해당 노트북 파일에서는 in-memory checkpointer 사용 \n",
    "        - 인메모리에 저장되므로 세션이 종료되면 사라짐 \n",
    "        - 저장 용량은 사용 중인 메모리에 따라 제한 (보통 수천 개 메시지도 가능하지만, 너무 많으면 느려짐) \n",
    "    - 프로덕션에서는 DB 연결 필요 (SqliteSaver, PostgresSaver, 자체 DB 등)\n",
    "        - 저장 용량은 디스크 용량과 DB 설정에 따라 적용 \n",
    "        - 대규모 state 기록이 가능하며, 장기 보존 및 분석에도 활용 가능 \n",
    "        - 다만, 저장되는 state가 너무 크면 읽기/쓰기 성능에 영향 있음"
   ]
  },
  {
   "cell_type": "code",
   "execution_count": 3,
   "metadata": {},
   "outputs": [],
   "source": [
    "from langgraph.checkpoint.memory import MemorySaver"
   ]
  },
  {
   "cell_type": "code",
   "execution_count": 4,
   "metadata": {},
   "outputs": [],
   "source": [
    "# 메모리 저장소 생성\n",
    "memory = MemorySaver()"
   ]
  },
  {
   "cell_type": "markdown",
   "metadata": {},
   "source": [
    "## Graph"
   ]
  },
  {
   "cell_type": "code",
   "execution_count": 5,
   "metadata": {},
   "outputs": [],
   "source": [
    "from typing import Annotated\n",
    "from typing_extensions import TypedDict\n",
    "from langchain_openai import ChatOpenAI\n",
    "from langgraph.graph import StateGraph, START, END\n",
    "from langgraph.graph.message import add_messages\n",
    "from langgraph.prebuilt import ToolNode, tools_condition"
   ]
  },
  {
   "cell_type": "markdown",
   "metadata": {},
   "source": [
    "- ToolNode : 여러 도구(함수)를 실행할 수 있게 해주는 노드 클래스 \n",
    "    - 일반적으로 tool_calls 메시지가 포함된 상태가 들어오면, \n",
    "    - 해당 ToolNode는 해당 도구를 찾아 실행하고, 그 결과를 메시지로 반환 \n",
    "- tools_condition : LLM 응답 중 도구 호출 요청이 있는지를 확인하는 조건 함수 (conditional function) \n",
    "    - 입력 : state 객체 \n",
    "    - 조건 : state[\"messages\"][-1]에 tool_calls_가 존재하는가? \n",
    "    - 반환 \n",
    "        - True : 도구 호출 필요 \n",
    "        - False : 도구 호출 없음 "
   ]
  },
  {
   "cell_type": "code",
   "execution_count": 6,
   "metadata": {},
   "outputs": [
    {
     "data": {
      "text/plain": [
       "<langgraph.graph.state.StateGraph at 0x22b5239c710>"
      ]
     },
     "execution_count": 6,
     "metadata": {},
     "output_type": "execute_result"
    }
   ],
   "source": [
    "########## 1. State ##########\n",
    "class State(TypedDict):\n",
    "    messages: Annotated[list, add_messages]\n",
    "\n",
    "\n",
    "# LLM 초기화\n",
    "llm = ChatOpenAI(model=\"gpt-4o-mini\", temperature=0)\n",
    "\n",
    "\n",
    "########## 3. NODE ##########\n",
    "# 챗봇 함수 정의\n",
    "def chatbot(state: State):\n",
    "    return {\"messages\": [llm.invoke(state[\"messages\"])]}\n",
    "\n",
    "\n",
    "# Graph\n",
    "graph_builder = StateGraph(State)\n",
    "graph_builder.add_node(\"chatbot\", chatbot)\n",
    "\n",
    "\n",
    "########## 4. EDGE ##########\n",
    "graph_builder.add_edge(START, \"chatbot\")\n",
    "graph_builder.add_edge(\"chatbot\", END)"
   ]
  },
  {
   "cell_type": "code",
   "execution_count": 7,
   "metadata": {},
   "outputs": [],
   "source": [
    "# Compile\n",
    "graph = graph_builder.compile(checkpointer=memory)"
   ]
  },
  {
   "cell_type": "code",
   "execution_count": 8,
   "metadata": {},
   "outputs": [
    {
     "data": {
      "image/png": "[encoded data removed]",
      "text/plain": [
       "<IPython.core.display.Image object>"
      ]
     },
     "metadata": {},
     "output_type": "display_data"
    }
   ],
   "source": [
    "from langchain_teddynote.graphs import visualize_graph\n",
    "\n",
    "visualize_graph(graph)"
   ]
  },
  {
   "cell_type": "markdown",
   "metadata": {},
   "source": [
    "[그래프 해석] \n",
    "\n",
    "- __start__ → chatbot : 실선 (기본 흐름)\n",
    "- chatbot → __end__   : 점선 (조건부 분기)\n",
    "- chatbot → tools     : 점선 (조건부 분기)\n",
    "- tools → chatbot     : 실선 (기본 흐름)"
   ]
  },
  {
   "cell_type": "markdown",
   "metadata": {},
   "source": [
    "## RunnableConfig\n",
    "\n",
    "- `recursion_limit`: 최대 방문할 노드 수. 그 이상은 RecursionError 발생\n",
    "- `thread_id`: 스레드 ID 설정. 대화 세션을 구분. 메모리의 저장은 `thread_id` 에 따라 개별적으로 이루어짐"
   ]
  },
  {
   "cell_type": "code",
   "execution_count": 9,
   "metadata": {},
   "outputs": [],
   "source": [
    "from langchain_core.runnables import RunnableConfig"
   ]
  },
  {
   "cell_type": "code",
   "execution_count": 10,
   "metadata": {},
   "outputs": [],
   "source": [
    "config = RunnableConfig(recursion_limit=10, configurable={\"thread_id\": \"001\"})"
   ]
  },
  {
   "cell_type": "code",
   "execution_count": 11,
   "metadata": {},
   "outputs": [
    {
     "name": "stdout",
     "output_type": "stream",
     "text": [
      "==================================\u001b[1m Ai Message \u001b[0m==================================\n",
      "\n",
      "안녕하세요, 김영희님! 따뜻한 봄에 만나서 저도 반갑습니다. 봄은 정말 아름다운 계절이죠. 요즘 어떤 일들을 하고 계신가요?\n"
     ]
    }
   ],
   "source": [
    "# 첫번째 질문\n",
    "question = \"내 이름은 김영희 입니다. 따뜻한 봄에 만나서 반가워요.\"\n",
    "\n",
    "for event in graph.stream({\"messages\": [(\"user\", question)]}, config=config):\n",
    "    for value in event.values():\n",
    "        value[\"messages\"][-1].pretty_print()"
   ]
  },
  {
   "cell_type": "code",
   "execution_count": 12,
   "metadata": {},
   "outputs": [
    {
     "name": "stdout",
     "output_type": "stream",
     "text": [
      "==================================\u001b[1m Ai Message \u001b[0m==================================\n",
      "\n",
      "당신의 이름은 김영희입니다. 맞나요?\n"
     ]
    }
   ],
   "source": [
    "# 이어지는 두번째 질문\n",
    "question = \"제 이름이 뭐라고 했지요?\"\n",
    "\n",
    "for event in graph.stream({\"messages\": [(\"user\", question)]}, config=config):\n",
    "    for value in event.values():\n",
    "        value[\"messages\"][-1].pretty_print()"
   ]
  },
  {
   "cell_type": "code",
   "execution_count": 13,
   "metadata": {},
   "outputs": [
    {
     "name": "stdout",
     "output_type": "stream",
     "text": [
      "==================================\u001b[1m Ai Message \u001b[0m==================================\n",
      "\n",
      "죄송하지만, 당신의 이름을 알 수 있는 정보가 없습니다. 당신의 이름을 알려주시면 기억하겠습니다!\n"
     ]
    }
   ],
   "source": [
    "question = \"제 이름이 뭐라고 했지요?\"\n",
    "\n",
    "config = RunnableConfig( recursion_limit=10, configurable={\"thread_id\": \"002\"})  # ID 변경\n",
    "\n",
    "for event in graph.stream({\"messages\": [(\"user\", question)]}, config=config):\n",
    "    for value in event.values():\n",
    "        value[\"messages\"][-1].pretty_print()"
   ]
  },
  {
   "cell_type": "markdown",
   "metadata": {},
   "source": [
    "## Snapshot : 저장된 State 확인 "
   ]
  },
  {
   "cell_type": "code",
   "execution_count": 14,
   "metadata": {},
   "outputs": [
    {
     "data": {
      "text/plain": [
       "[HumanMessage(content='내 이름은 김영희 입니다. 따뜻한 봄에 만나서 반가워요.', additional_kwargs={}, response_metadata={}, id='798a9c14-2332-4997-9568-7ef18687b0b7'),\n",
       " AIMessage(content='안녕하세요, 김영희님! 따뜻한 봄에 만나서 저도 반갑습니다. 봄은 정말 아름다운 계절이죠. 요즘 어떤 일들을 하고 계신가요?', additional_kwargs={'refusal': None}, response_metadata={'token_usage': {'completion_tokens': 44, 'prompt_tokens': 28, 'total_tokens': 72, 'completion_tokens_details': {'accepted_prediction_tokens': 0, 'audio_tokens': 0, 'reasoning_tokens': 0, 'rejected_prediction_tokens': 0}, 'prompt_tokens_details': {'audio_tokens': 0, 'cached_tokens': 0}}, 'model_name': 'gpt-4o-mini-2024-07-18', 'system_fingerprint': 'fp_34a54ae93c', 'id': 'chatcmpl-BrYizdNRVoNX8uAQVi4Ql6qtnXjp9', 'service_tier': 'default', 'finish_reason': 'stop', 'logprobs': None}, id='run--d2a4f5e0-3d6c-4bf2-b169-786b027df88b-0', usage_metadata={'input_tokens': 28, 'output_tokens': 44, 'total_tokens': 72, 'input_token_details': {'audio': 0, 'cache_read': 0}, 'output_token_details': {'audio': 0, 'reasoning': 0}}),\n",
       " HumanMessage(content='제 이름이 뭐라고 했지요?', additional_kwargs={}, response_metadata={}, id='0fe654e1-9bf3-449c-a16c-291286956d24'),\n",
       " AIMessage(content='당신의 이름은 김영희입니다. 맞나요?', additional_kwargs={'refusal': None}, response_metadata={'token_usage': {'completion_tokens': 13, 'prompt_tokens': 89, 'total_tokens': 102, 'completion_tokens_details': {'accepted_prediction_tokens': 0, 'audio_tokens': 0, 'reasoning_tokens': 0, 'rejected_prediction_tokens': 0}, 'prompt_tokens_details': {'audio_tokens': 0, 'cached_tokens': 0}}, 'model_name': 'gpt-4o-mini-2024-07-18', 'system_fingerprint': 'fp_34a54ae93c', 'id': 'chatcmpl-BrYj17kkLAkvllxJshmcCJ2vMkXRe', 'service_tier': 'default', 'finish_reason': 'stop', 'logprobs': None}, id='run--6a240a94-3966-41ec-85fa-8ec4b315d421-0', usage_metadata={'input_tokens': 89, 'output_tokens': 13, 'total_tokens': 102, 'input_token_details': {'audio': 0, 'cache_read': 0}, 'output_token_details': {'audio': 0, 'reasoning': 0}})]"
      ]
     },
     "execution_count": 14,
     "metadata": {},
     "output_type": "execute_result"
    }
   ],
   "source": [
    "config = RunnableConfig(\n",
    "    configurable={\"thread_id\": \"001\"},\n",
    ")\n",
    "\n",
    "# 그래프 상태 스냅샷 생성\n",
    "snapshot = graph.get_state(config)\n",
    "snapshot.values[\"messages\"]"
   ]
  },
  {
   "cell_type": "code",
   "execution_count": 15,
   "metadata": {},
   "outputs": [
    {
     "data": {
      "text/plain": [
       "{'configurable': {'thread_id': '001',\n",
       "  'checkpoint_ns': '',\n",
       "  'checkpoint_id': '1f05d1e6-aa71-6809-8004-f99366e7e080'}}"
      ]
     },
     "execution_count": 15,
     "metadata": {},
     "output_type": "execute_result"
    }
   ],
   "source": [
    "snapshot.config"
   ]
  },
  {
   "cell_type": "code",
   "execution_count": 16,
   "metadata": {},
   "outputs": [
    {
     "data": {
      "text/plain": [
       "{'messages': [HumanMessage(content='내 이름은 김영희 입니다. 따뜻한 봄에 만나서 반가워요.', additional_kwargs={}, response_metadata={}, id='798a9c14-2332-4997-9568-7ef18687b0b7'),\n",
       "  AIMessage(content='안녕하세요, 김영희님! 따뜻한 봄에 만나서 저도 반갑습니다. 봄은 정말 아름다운 계절이죠. 요즘 어떤 일들을 하고 계신가요?', additional_kwargs={'refusal': None}, response_metadata={'token_usage': {'completion_tokens': 44, 'prompt_tokens': 28, 'total_tokens': 72, 'completion_tokens_details': {'accepted_prediction_tokens': 0, 'audio_tokens': 0, 'reasoning_tokens': 0, 'rejected_prediction_tokens': 0}, 'prompt_tokens_details': {'audio_tokens': 0, 'cached_tokens': 0}}, 'model_name': 'gpt-4o-mini-2024-07-18', 'system_fingerprint': 'fp_34a54ae93c', 'id': 'chatcmpl-BrYizdNRVoNX8uAQVi4Ql6qtnXjp9', 'service_tier': 'default', 'finish_reason': 'stop', 'logprobs': None}, id='run--d2a4f5e0-3d6c-4bf2-b169-786b027df88b-0', usage_metadata={'input_tokens': 28, 'output_tokens': 44, 'total_tokens': 72, 'input_token_details': {'audio': 0, 'cache_read': 0}, 'output_token_details': {'audio': 0, 'reasoning': 0}}),\n",
       "  HumanMessage(content='제 이름이 뭐라고 했지요?', additional_kwargs={}, response_metadata={}, id='0fe654e1-9bf3-449c-a16c-291286956d24'),\n",
       "  AIMessage(content='당신의 이름은 김영희입니다. 맞나요?', additional_kwargs={'refusal': None}, response_metadata={'token_usage': {'completion_tokens': 13, 'prompt_tokens': 89, 'total_tokens': 102, 'completion_tokens_details': {'accepted_prediction_tokens': 0, 'audio_tokens': 0, 'reasoning_tokens': 0, 'rejected_prediction_tokens': 0}, 'prompt_tokens_details': {'audio_tokens': 0, 'cached_tokens': 0}}, 'model_name': 'gpt-4o-mini-2024-07-18', 'system_fingerprint': 'fp_34a54ae93c', 'id': 'chatcmpl-BrYj17kkLAkvllxJshmcCJ2vMkXRe', 'service_tier': 'default', 'finish_reason': 'stop', 'logprobs': None}, id='run--6a240a94-3966-41ec-85fa-8ec4b315d421-0', usage_metadata={'input_tokens': 89, 'output_tokens': 13, 'total_tokens': 102, 'input_token_details': {'audio': 0, 'cache_read': 0}, 'output_token_details': {'audio': 0, 'reasoning': 0}})]}"
      ]
     },
     "execution_count": 16,
     "metadata": {},
     "output_type": "execute_result"
    }
   ],
   "source": [
    "snapshot.values"
   ]
  },
  {
   "cell_type": "code",
   "execution_count": 17,
   "metadata": {},
   "outputs": [
    {
     "name": "stdout",
     "output_type": "stream",
     "text": [
      "    \u001b[93msource\u001b[0m: \"loop\"\n",
      "    \u001b[93mstep\u001b[0m: 4\n",
      "    \u001b[93mparents\u001b[0m: {}\n",
      "    \u001b[93mthread_id\u001b[0m: \"001\"\n"
     ]
    }
   ],
   "source": [
    "from langchain_teddynote.messages import display_message_tree\n",
    "\n",
    "# 메타데이터(tree 형태로 출력)\n",
    "display_message_tree(snapshot.metadata)"
   ]
  },
  {
   "cell_type": "markdown",
   "metadata": {},
   "source": [
    "-----\n",
    "** End of Documents **"
   ]
  }
 ],
 "metadata": {
  "kernelspec": {
   "display_name": "langchain-kr-t0JhnSEV-py3.11",
   "language": "python",
   "name": "python3"
  },
  "language_info": {
   "codemirror_mode": {
    "name": "ipython",
    "version": 3
   },
   "file_extension": ".py",
   "mimetype": "text/x-python",
   "name": "python",
   "nbconvert_exporter": "python",
   "pygments_lexer": "ipython3",
   "version": "3.12.3"
  }
 },
 "nbformat": 4,
 "nbformat_minor": 2
}
