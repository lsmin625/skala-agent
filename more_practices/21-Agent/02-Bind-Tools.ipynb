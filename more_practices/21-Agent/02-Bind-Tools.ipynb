{
 "cells": [
  {
   "cell_type": "code",
   "execution_count": 1,
   "metadata": {},
   "outputs": [
    {
     "data": {
      "text/plain": [
       "True"
      ]
     },
     "execution_count": 1,
     "metadata": {},
     "output_type": "execute_result"
    }
   ],
   "source": [
    "from dotenv import load_dotenv\n",
    "load_dotenv()"
   ]
  },
  {
   "cell_type": "code",
   "execution_count": 2,
   "metadata": {},
   "outputs": [
    {
     "name": "stdout",
     "output_type": "stream",
     "text": [
      "LangSmith 추적을 시작합니다.\n",
      "[프로젝트명]\n",
      "CH21-AGENT\n"
     ]
    }
   ],
   "source": [
    "from langchain_teddynote import logging\n",
    "logging.langsmith(\"CH21-AGENT\")"
   ]
  },
  {
   "cell_type": "markdown",
   "metadata": {},
   "source": [
    "# Binding Tools \n",
    "\n",
    "- LLM 모델이 도구를 호출 위해 chat 요청을 할 때, tool schema 전달 필요  "
   ]
  },
  {
   "cell_type": "markdown",
   "metadata": {},
   "source": [
    "## 도구 정의 \n",
    "\n",
    "해당 노트북에서 실험할 도구 정의 \n",
    "- `get_word_length` : 단어의 길이를 반환하는 함수\n",
    "- `add_function` : 두 숫자를 더하는 함수\n",
    "- `naver_news_crawl` : 네이버 뉴스 기사를 크롤링하여 본문 내용을 반환하는 함수"
   ]
  },
  {
   "cell_type": "code",
   "execution_count": 4,
   "metadata": {},
   "outputs": [],
   "source": [
    "import re \n",
    "import requests \n",
    "from bs4 import BeautifulSoup\n",
    "from langchain.agents import tool"
   ]
  },
  {
   "cell_type": "code",
   "execution_count": 5,
   "metadata": {},
   "outputs": [],
   "source": [
    "@tool\n",
    "def get_word_length(word: str) -> int:\n",
    "    \"\"\"Returns the length of a word.\n",
    "    \"\"\"\n",
    "    return len(word)"
   ]
  },
  {
   "cell_type": "code",
   "execution_count": 6,
   "metadata": {},
   "outputs": [],
   "source": [
    "@tool\n",
    "def add_function(a: float, b: float) -> float:\n",
    "    \"\"\"Adds two numbers together.\n",
    "    \"\"\"\n",
    "    return a + b"
   ]
  },
  {
   "cell_type": "code",
   "execution_count": 7,
   "metadata": {},
   "outputs": [],
   "source": [
    "@tool\n",
    "def naver_news_crawl(news_url: str) -> str:\n",
    "    \"\"\"Crawls a Naver (naver.com) news article and returns the body content.\n",
    "    \"\"\"\n",
    "    # HTTP GET 요청 보내기\n",
    "    response = requests.get(news_url)\n",
    "\n",
    "    # 요청이 성공했는지 확인\n",
    "    if response.status_code == 200:\n",
    "        # BeautifulSoup을 사용하여 HTML 파싱\n",
    "        soup = BeautifulSoup(response.text, \"html.parser\")\n",
    "\n",
    "        # 원하는 정보 추출\n",
    "        title = soup.find(\"h2\", id=\"title_area\").get_text()\n",
    "        content = soup.find(\"div\", id=\"contents\").get_text()\n",
    "        cleaned_title = re.sub(r\"\\n{2,}\", \"\\n\", title)\n",
    "        cleaned_content = re.sub(r\"\\n{2,}\", \"\\n\", content)\n",
    "    else:\n",
    "        print(f\"HTTP 요청 실패. 응답 코드: {response.status_code}\")\n",
    "\n",
    "    return f\"{cleaned_title}\\n{cleaned_content}\""
   ]
  },
  {
   "cell_type": "code",
   "execution_count": 8,
   "metadata": {},
   "outputs": [],
   "source": [
    "tools = [get_word_length, add_function, naver_news_crawl]"
   ]
  },
  {
   "cell_type": "code",
   "execution_count": 16,
   "metadata": {},
   "outputs": [
    {
     "data": {
      "text/plain": [
       "[StructuredTool(name='get_word_length', description='Returns the length of a word.', args_schema=<class 'langchain_core.utils.pydantic.get_word_length'>, func=<function get_word_length at 0x11df17d80>),\n",
       " StructuredTool(name='add_function', description='Adds two numbers together.', args_schema=<class 'langchain_core.utils.pydantic.add_function'>, func=<function add_function at 0x11df17ec0>),\n",
       " StructuredTool(name='naver_news_crawl', description='Crawls a Naver (naver.com) news article and returns the body content.', args_schema=<class 'langchain_core.utils.pydantic.naver_news_crawl'>, func=<function naver_news_crawl at 0x10fdfd760>)]"
      ]
     },
     "execution_count": 16,
     "metadata": {},
     "output_type": "execute_result"
    }
   ],
   "source": [
    "tools"
   ]
  },
  {
   "cell_type": "markdown",
   "metadata": {},
   "source": [
    "## `.bind_tools()`\n",
    "\n",
    "- `.bind_tools()` : 도구 바인딩 \n",
    "- `tool_calls` : 결과 저장\n",
    "    - `name` : 도구 이름 \n",
    "    - `args` : 도구에 전달되는 인자 "
   ]
  },
  {
   "cell_type": "code",
   "execution_count": 9,
   "metadata": {},
   "outputs": [],
   "source": [
    "from langchain_openai import ChatOpenAI"
   ]
  },
  {
   "cell_type": "markdown",
   "metadata": {},
   "source": [
    "- OpenAI : 단순 프롬프트 기반 모델 사용 시 \n",
    "- ChatOpenAI : 대화형 목적으로 모델 사용 시 \n",
    "\n",
    "| 항목 | OpenAI | ChatOpenAI |\n",
    "|-----|--------|------------|\n",
    "| 사용 모델 | GPT-3 계열 (기존 Completion API) | GPT-3.5, GPT-4 등 (Chat API) |\n",
    "| 대화 형식 | 일반 텍스트 입력 | 시스템/사용자/페르소나 기반의 대화 메시지 포맷 | \n",
    "| 주요 사용 | 단순 프롬프트 -> 응답 | 멀티턴, 에이전트 기반 구조 |\n",
    "| 내부 동작 | `openai.Completion.create()` | `openai.ChatCompletion.create()`"
   ]
  },
  {
   "cell_type": "code",
   "execution_count": 10,
   "metadata": {},
   "outputs": [],
   "source": [
    "# 모델 \n",
    "llm = ChatOpenAI(model='gpt-4o-mini', temperature=0)\n",
    "\n",
    "# 도구 바인딩 \n",
    "llm_with_tools = llm.bind_tools(tools)"
   ]
  },
  {
   "cell_type": "code",
   "execution_count": 12,
   "metadata": {},
   "outputs": [
    {
     "data": {
      "text/plain": [
       "[{'name': 'get_word_length',\n",
       "  'args': {'word': 'SKALA'},\n",
       "  'id': 'call_hhMJKBYLo2pMY7JKREIUizgp',\n",
       "  'type': 'tool_call'}]"
      ]
     },
     "execution_count": 12,
     "metadata": {},
     "output_type": "execute_result"
    }
   ],
   "source": [
    "# 도구 실행 \n",
    "llm_with_tools.invoke(\"'SKALA' 단어는 몇 자 인가요?\").tool_calls"
   ]
  },
  {
   "cell_type": "code",
   "execution_count": 13,
   "metadata": {},
   "outputs": [],
   "source": [
    "from langchain_core.output_parsers.openai_tools import JsonOutputToolsParser"
   ]
  },
  {
   "cell_type": "markdown",
   "metadata": {},
   "source": [
    "도구 결과에서...\n",
    "- `type` : 도구 이름\n",
    "- `args` : 도구에 전달되는 인자 "
   ]
  },
  {
   "cell_type": "code",
   "execution_count": 14,
   "metadata": {},
   "outputs": [
    {
     "name": "stdout",
     "output_type": "stream",
     "text": [
      "[{'args': {'word': 'SKALA'}, 'type': 'get_word_length'}]\n"
     ]
    }
   ],
   "source": [
    "# 도구 바인딩 & 도구 파서 \n",
    "chain = llm_with_tools | JsonOutputToolsParser(tools=tools)\n",
    "\n",
    "# 실행 \n",
    "tool_call_results = chain.invoke(\"'SKALA' 단어는 몇 자 인가요?\")\n",
    "print(tool_call_results)"
   ]
  },
  {
   "cell_type": "code",
   "execution_count": 15,
   "metadata": {},
   "outputs": [
    {
     "name": "stdout",
     "output_type": "stream",
     "text": [
      "[{'args': {'word': 'SKALA'}, 'type': 'get_word_length'}]\n",
      "\n",
      "==========\n",
      "\n",
      "get_word_length\n",
      "{'word': 'SKALA'}\n"
     ]
    }
   ],
   "source": [
    "print(tool_call_results, end=\"\\n\\n==========\\n\\n\")\n",
    "\n",
    "# 첫 번째 도구 호출 결과\n",
    "single_result = tool_call_results[0]\n",
    "\n",
    "print(single_result[\"type\"]) # 도구 이름\n",
    "print(single_result[\"args\"]) # 도구에 전달되는 인자"
   ]
  },
  {
   "cell_type": "markdown",
   "metadata": {},
   "source": [
    "### def `execute_tool_calls` \n",
    "\n",
    "- 도구를 찾아서 `args`에 전달하여 도구 실행 \n",
    "    - `type` : 도구 이름 \n",
    "    - `args` : 도구에 전달되는 인자 "
   ]
  },
  {
   "cell_type": "code",
   "execution_count": 17,
   "metadata": {},
   "outputs": [],
   "source": [
    "def execute_tool_calls(tool_call_results):\n",
    "    \"\"\"\n",
    "    도구 호출 결과를 실행하는 함수\n",
    "\n",
    "    :param tool_call_results: 도구 호출 결과 리스트\n",
    "    :param tools: 사용 가능한 도구 리스트\n",
    "    \"\"\"\n",
    "    # 도구 호출 결과 리스트 순회\n",
    "    for tool_call_result in tool_call_results:\n",
    "        \n",
    "        # 도구의 이름과 인자 추출\n",
    "        tool_name = tool_call_result[\"type\"]  # 도구의 이름(함수명)\n",
    "        tool_args = tool_call_result[\"args\"]  # 도구에 전달되는 인자\n",
    "\n",
    "        # 도구 이름과 일치하는 도구를 찾아 실행\n",
    "        # next() 함수를 사용하여 일치하는 첫 번째 도구를 확인\n",
    "        matching_tool = next((tool for tool in tools if tool.name == tool_name), None)\n",
    "\n",
    "        if matching_tool:\n",
    "            # 일치하는 도구를 찾았다면 실행\n",
    "            result = matching_tool.invoke(tool_args)\n",
    "            \n",
    "            # 실행 결과 출력\n",
    "            print(f\"[실행도구] {tool_name} [Argument] {tool_args}\\n[실행결과] {result}\")\n",
    "        \n",
    "        else:\n",
    "            # 일치하는 도구를 찾지 못했다면 에러 메시지\n",
    "            print(f\"에러: {tool_name}에 해당하는 도구를 찾을 수 없습니다.\")"
   ]
  },
  {
   "cell_type": "code",
   "execution_count": 18,
   "metadata": {},
   "outputs": [
    {
     "name": "stdout",
     "output_type": "stream",
     "text": [
      "[실행도구] get_word_length [Argument] {'word': 'SKALA'}\n",
      "[실행결과] 5\n"
     ]
    }
   ],
   "source": [
    "execute_tool_calls(tool_call_results)"
   ]
  },
  {
   "cell_type": "markdown",
   "metadata": {},
   "source": [
    "### bind_tools + Parser + Execution\n",
    "\n",
    "- 도구 실행, 결과 파싱 및 실행을 하나의 체인을 묶어서 진행 \n",
    "- 흐름 정의 \n",
    "    1. 모델에 도구 바인딩 : `llm_with_tools`\n",
    "    2. 도구 호출 결과 파싱 : `JsonOutputToolsParser`\n",
    "    3. 도구 호출 결과 실행 : `execute_tool_calls`"
   ]
  },
  {
   "cell_type": "code",
   "execution_count": 20,
   "metadata": {},
   "outputs": [],
   "source": [
    "chain = llm_with_tools | JsonOutputToolsParser(tools=tools) | execute_tool_calls"
   ]
  },
  {
   "cell_type": "code",
   "execution_count": 21,
   "metadata": {},
   "outputs": [
    {
     "name": "stdout",
     "output_type": "stream",
     "text": [
      "[실행도구] get_word_length [Argument] {'word': 'SKALA'}\n",
      "[실행결과] 5\n"
     ]
    }
   ],
   "source": [
    "chain.invoke(\"'SKALA' 단어는 몇 자 인가요?\")"
   ]
  },
  {
   "cell_type": "code",
   "execution_count": 22,
   "metadata": {},
   "outputs": [
    {
     "name": "stdout",
     "output_type": "stream",
     "text": [
      "[실행도구] add_function [Argument] {'a': 114.52, 'b': 382.93}\n",
      "[실행결과] 497.45\n"
     ]
    }
   ],
   "source": [
    "chain.invoke(\"114.52 + 382.93\")"
   ]
  },
  {
   "cell_type": "code",
   "execution_count": 23,
   "metadata": {},
   "outputs": [
    {
     "name": "stdout",
     "output_type": "stream",
     "text": [
      "[실행도구] naver_news_crawl [Argument] {'news_url': 'https://n.news.naver.com/mnews/article/001/0015275227'}\n",
      "[실행결과] 앤스로픽 \"한국에 지사 만들 것…올해 아태지역 투자 본격화\"\n",
      "\n",
      "국내 첫 행사 개최 \n",
      "마이크 크리거 앤스로픽 최고제품책임자(CPO)(서울=연합뉴스) 조현영 기자 = 마이크 크리거 최고제품책임자(CPO)가 19일 서울 송파구 시그니엘에서 열린 '코리아 빌더 서밋'에서 발표하고 있다. 2025.3.19 hyun0@yna.co.kr    (서울=연합뉴스) 조현영 기자 = 케이트 젠슨 앤스로픽 매출 총괄 책임자는 19일 \"인공지능(AI) 모델 '클로드'를 통해 기업이 문제를 해결하는 것을 지원하고자 한국에 왔다\"며 \"올해는 아시아태평양 지역에 본격적으로 투자하는 첫해가 될 것이며 한국에 지사도 만들 예정\"이라고 말했다.    젠슨 책임자는 이날 거대 언어 모델(LLM) 모니터링 및 분석 플랫폼을 제공하는 한국 스타트업 콕스웨이브와 앤스로픽이 서울 송파구 시그니엘에서 공동 주최한 '코리아 빌더 서밋' 오프닝 세션에서 이같이 밝혔다.         앤스로픽은 챗GPT 개발사인 오픈AI 창립 멤버가 2021년 설립한 미국의 AI 스타트업으로, 클로드를 통해 아마존 등으로부터 대규모 자금을 유치하며 이름을 알렸다.     콕스웨이브는 클로드의 기능 등 앤스로픽 연구 성과를 한국에 소개하고, 앤스로픽과 한국 기업 간 접점을 늘리기 위해 서밋을 개최했다고 설명했다. 앤스로픽으로서는 한국에서 진행하는 첫 행사다.     이날 행사에서 마이크 크리거 최고제품책임자(CPO)는 최신 AI 모델 '클로드 3.7 소넷'을 소개했다. 크리거 CPO는 인스타그램의 공동 창업자다.     이 모델은 하이브리드 추론 모델로서, 뛰어난 코딩 능력과 인간과 협업에 특화한 강점을 바탕으로 국내 기업이 AI를 업무에 적용하는 데 도움을 줄 수 있다고 크리거 CPO는 설명했다.     그는 \"클로드가 한국어를 잘 활용해서, 한국의 B2B(기업간 거래) 기업뿐 아니라 B2C(기업과 소비자간 거래) 기업도 클로드를 많이 사용한다고 들었다\"며 \"모델을 개선하면서 한국어를 더욱 잘할 수 있도록 피드백을 많이 해줬으면 한다\"고 말했다.    어떤 성향의 이용자가 챗GPT보다 클로드를 선호하냐는 질문에는 \"클로드는 공감과 이해를 더 잘한다\"며 \"인간적 대화를 원하는 사람은 '클로드형' 사람인 것 같다\"고 말했다.    이날 앤스로픽은 이엽 콕스웨이브 이사, 이동재 뤼튼 CPO, 최호준 링크알파 공동대표, 강지수 클레온 최고기술책임자(CTO)와 패널 토론을 통해 클로드 사용 시 장단점과 한국 시장의 특징에 대한 의견을 나눴다.    행사 후반부에는 SK텔레콤, 라이너, 로앤컴퍼니의 기술 리더들이 패널로 참여하는 'AI 혁신 리더십' 세션이 진행됐다. 이들은 클로드를 활용한 각 산업 분야별 AI 설루션 개발 경험과 한국 시장에서의 AI 혁신 전략에 대해 공유했다.    한편 글로벌 빅테크들은 최근 한국 시장으로 활발히 영역을 확장하는 추세다.     지난 2월에는 샘 올트먼 오픈AI 최고경영자(CEO)가 한국을 찾아 카카오와 전략적 제휴 방침을 밝혔으며, 작년 9월에는 마이크로소프트(MS)가 KT와 전략적 파트너십을 체결한 바 있다.     hyun0@yna.co.kr\n",
      "조현영(hyun0@yna.co.kr)\n",
      "기자 프로필\n",
      "연합뉴스\n",
      "연합뉴스\n",
      "조현영 기자\n",
      "조현영 기자\n",
      "구독\n",
      "구독중\n",
      "구독자 0\n",
      "응원수\n",
      "0\n",
      "[위클리 스마트] 새학기 맞아 대학생 커뮤니티·자녀 위치추적 앱 사용 증가\n",
      "삼성전자, 내달 7일부터 갤럭시 주요모델 'One UI 7' 업그레이드\n",
      "연합뉴스의 구독 많은 기자를 구독해보세요!\n",
      "닫기\n",
      "Copyright ⓒ 연합뉴스. All rights reserved. 무단 전재-재배포, AI 학습 및 활용 금지.\n",
      " \n",
      "이 기사는 언론사에서 IT, 경제 섹션으로 분류했습니다.\n",
      "기사 섹션 분류 안내\n",
      "기사의 섹션 정보는 해당 언론사의 분류를 따르고 있습니다. 언론사는 개별 기사를 2개 이상 섹션으로 중복 분류할 수 있습니다.\n",
      "닫기\n",
      "구독\n",
      "메인에서 바로 보는 언론사 편집 뉴스 지금 바로 구독해보세요!\n",
      "구독중\n",
      "메인에서 바로 보는 언론사 편집 뉴스 지금 바로 확인해보세요!\n",
      "[앱 다운] 빠르고 정확한 연합뉴스를 받아보세요\n",
      "뉴스제보는 연합뉴스 okjebo 톡!\n",
      "연합뉴스\n",
      "연합뉴스\n",
      "\t\t\t주요뉴스해당 언론사에서 선정하며 언론사 페이지(아웃링크)로 이동해 볼 수 있습니다.\n",
      " 안철수 \"李 목긁힌 뒤 누워\"…野전용기 \"安, 인간이길 포기했나\"\n",
      " 새벽에 치킨집 몰래 들어가 통닭 2마리 직접 튀겨 훔친 절도범\n",
      " 음주운전하며 지인 여성 강제로 태운 뒤 못 내리게 한 30대 구속\n",
      " 학교 앞서 버젓이 성매매 알선…손님 위장한 경찰관에 적발\n",
      " 술 마신 채 흉기 들고 거리 배회한 부천시 공무원 입건\n",
      "이 기사를 추천합니다\n",
      "기사 추천은 24시간 내 50회까지 참여할 수 있습니다.\n",
      "닫기\n",
      "쏠쏠정보\n",
      "0\n",
      "흥미진진\n",
      "0\n",
      "공감백배\n",
      "0\n",
      "분석탁월\n",
      "0\n",
      "후속강추\n",
      "0\n",
      " \n",
      "모두에게 보여주고 싶은 기사라면?beta\n",
      "이 기사를 추천합니다 버튼을 눌러주세요.  집계 기간 동안 추천을 많이 받은 기사는 네이버 자동 기사배열 영역에 추천 요소로 활용됩니다.\n",
      "레이어 닫기\n",
      " \n",
      "연합뉴스 언론사가 직접 선정한 이슈\n",
      "\t\t\t\n",
      "이슈\n",
      "윤대통령 탄핵심판\n",
      "尹탄핵심판 선고일 발표 여부에 긴장고조…도심 찬반집회 계속\n",
      "이슈\n",
      "다시 트럼프 시대\n",
      "트럼프 취임 후 미, '러 그림자전쟁' 대응 활동 일부 중단\n",
      "이슈\n",
      "북한, 러시아 파병\n",
      "우크라 \"러시아, 북한군 잘 훈련된 덕에 영토 지켰다\" 탄식\n",
      "이전\n",
      "다음\n",
      "연합뉴스 언론사홈 바로가기\n",
      " \n",
      "기자 구독 후 기사보기\n",
      "구독 없이 계속 보기\n",
      "\n"
     ]
    }
   ],
   "source": [
    "chain.invoke(\"뉴스 기사 내용을 크롤링 해주세요: https://n.news.naver.com/mnews/article/001/0015275227\")"
   ]
  },
  {
   "cell_type": "markdown",
   "metadata": {},
   "source": [
    "## AgentExecutor 대체\n",
    "\n",
    "- `bind_tools` : 모델이 사용할 수 있는 도구 제공 \n",
    "- `AgentExecutor` : 실제로 LLM 호출, 올바른 도구로 라우팅/실행/모델 호출 등을 위한 실행 루프 생성 "
   ]
  },
  {
   "cell_type": "code",
   "execution_count": 25,
   "metadata": {},
   "outputs": [],
   "source": [
    "from langchain_core.prompts import ChatPromptTemplate, MessagesPlaceholder\n",
    "from langchain_openai import ChatOpenAI\n",
    "from langchain.agents import create_tool_calling_agent\n",
    "from langchain.agents import AgentExecutor"
   ]
  },
  {
   "cell_type": "code",
   "execution_count": 29,
   "metadata": {},
   "outputs": [],
   "source": [
    "# Agent 프롬프트 생성\n",
    "prompt = ChatPromptTemplate.from_messages(\n",
    "    [\n",
    "        (\n",
    "            \"system\",\n",
    "            \"You are very powerful assistant, but don't know current events\",\n",
    "        ),\n",
    "        (\n",
    "            \"user\", \n",
    "            \"{input}\"\n",
    "         ),\n",
    "        MessagesPlaceholder(variable_name=\"agent_scratchpad\"),\n",
    "    ]\n",
    ")\n",
    "\n",
    "# 모델 생성\n",
    "llm = ChatOpenAI(model=\"gpt-4o-mini\", temperature=0)\n",
    "\n",
    "# 도구 정의 \n",
    "tools = [get_word_length, add_function, naver_news_crawl]\n",
    "\n",
    "# Agent 정의 \n",
    "agent = create_tool_calling_agent(llm, tools, prompt)\n",
    "\n",
    "# AgentExecutor 생성 \n",
    "agent_executor = AgentExecutor(\n",
    "    agent=agent,\n",
    "    tools=tools,\n",
    "    verbose=True,\n",
    "    handle_parsing_erros=True,\n",
    ")"
   ]
  },
  {
   "cell_type": "code",
   "execution_count": 30,
   "metadata": {},
   "outputs": [
    {
     "name": "stdout",
     "output_type": "stream",
     "text": [
      "\n",
      "\n",
      "\u001b[1m> Entering new AgentExecutor chain...\u001b[0m\n",
      "\u001b[32;1m\u001b[1;3m\n",
      "Invoking: `get_word_length` with `{'word': 'SKALA'}`\n",
      "\n",
      "\n",
      "\u001b[0m\u001b[36;1m\u001b[1;3m5\u001b[0m\u001b[32;1m\u001b[1;3m'SKALA' 단어는 5자입니다.\u001b[0m\n",
      "\n",
      "\u001b[1m> Finished chain.\u001b[0m\n"
     ]
    }
   ],
   "source": [
    "# Agent 실행 \n",
    "result = agent_executor.invoke({\n",
    "    \"input\":\"'SKALA' 단어는 몇 자 인가요?\",\n",
    "})"
   ]
  },
  {
   "cell_type": "code",
   "execution_count": 31,
   "metadata": {},
   "outputs": [
    {
     "name": "stdout",
     "output_type": "stream",
     "text": [
      "'SKALA' 단어는 5자입니다.\n"
     ]
    }
   ],
   "source": [
    "# 결과 확인 \n",
    "print(result[\"output\"])"
   ]
  },
  {
   "cell_type": "code",
   "execution_count": 32,
   "metadata": {},
   "outputs": [
    {
     "name": "stdout",
     "output_type": "stream",
     "text": [
      "\n",
      "\n",
      "\u001b[1m> Entering new AgentExecutor chain...\u001b[0m\n",
      "\u001b[32;1m\u001b[1;3m\n",
      "Invoking: `add_function` with `{'a': 298873.275, 'b': 1876236.62}`\n",
      "\n",
      "\n",
      "\u001b[0m\u001b[33;1m\u001b[1;3m2175109.895\u001b[0m\u001b[32;1m\u001b[1;3m298873.275 + 1876236.62의 계산 결과는 2175109.895입니다.\u001b[0m\n",
      "\n",
      "\u001b[1m> Finished chain.\u001b[0m\n",
      "298873.275 + 1876236.62의 계산 결과는 2175109.895입니다.\n"
     ]
    }
   ],
   "source": [
    "result = agent_executor.invoke({\n",
    "    \"input\":\"298873.275 + 1876236.62 계산 결과는?\",\n",
    "})\n",
    "\n",
    "print(result[\"output\"])"
   ]
  },
  {
   "cell_type": "code",
   "execution_count": 33,
   "metadata": {},
   "outputs": [
    {
     "name": "stdout",
     "output_type": "stream",
     "text": [
      "\n",
      "\n",
      "\u001b[1m> Entering new AgentExecutor chain...\u001b[0m\n",
      "\u001b[32;1m\u001b[1;3m\n",
      "Invoking: `add_function` with `{'a': 114.2, 'b': 213.2}`\n",
      "\n",
      "\n",
      "\u001b[0m\u001b[33;1m\u001b[1;3m327.4\u001b[0m\u001b[32;1m\u001b[1;3m\n",
      "Invoking: `add_function` with `{'a': 327.4, 'b': 0.05}`\n",
      "\n",
      "\n",
      "\u001b[0m\u001b[33;1m\u001b[1;3m327.45\u001b[0m\u001b[32;1m\u001b[1;3m\n",
      "Invoking: `add_function` with `{'a': 327.45, 'b': 100}`\n",
      "\n",
      "\n",
      "\u001b[0m\u001b[33;1m\u001b[1;3m427.45\u001b[0m\u001b[32;1m\u001b[1;3m계산 결과는 427.45입니다.\u001b[0m\n",
      "\n",
      "\u001b[1m> Finished chain.\u001b[0m\n",
      "계산 결과는 427.45입니다.\n"
     ]
    }
   ],
   "source": [
    "result = agent_executor.invoke({\n",
    "    \"input\":\"114.2 + 213.2 + 0.05 + 100.0 계산 결과는?\",\n",
    "})\n",
    "\n",
    "print(result[\"output\"])"
   ]
  },
  {
   "cell_type": "code",
   "execution_count": 35,
   "metadata": {},
   "outputs": [
    {
     "name": "stdout",
     "output_type": "stream",
     "text": [
      "\n",
      "\n",
      "\u001b[1m> Entering new AgentExecutor chain...\u001b[0m\n",
      "\u001b[32;1m\u001b[1;3m\n",
      "Invoking: `naver_news_crawl` with `{'news_url': 'https://n.news.naver.com/mnews/article/001/0015275227'}`\n",
      "\n",
      "\n",
      "\u001b[0m\u001b[38;5;200m\u001b[1;3m앤스로픽 \"한국에 지사 만들 것…올해 아태지역 투자 본격화\"\n",
      "\n",
      "국내 첫 행사 개최 \n",
      "마이크 크리거 앤스로픽 최고제품책임자(CPO)(서울=연합뉴스) 조현영 기자 = 마이크 크리거 최고제품책임자(CPO)가 19일 서울 송파구 시그니엘에서 열린 '코리아 빌더 서밋'에서 발표하고 있다. 2025.3.19 hyun0@yna.co.kr    (서울=연합뉴스) 조현영 기자 = 케이트 젠슨 앤스로픽 매출 총괄 책임자는 19일 \"인공지능(AI) 모델 '클로드'를 통해 기업이 문제를 해결하는 것을 지원하고자 한국에 왔다\"며 \"올해는 아시아태평양 지역에 본격적으로 투자하는 첫해가 될 것이며 한국에 지사도 만들 예정\"이라고 말했다.    젠슨 책임자는 이날 거대 언어 모델(LLM) 모니터링 및 분석 플랫폼을 제공하는 한국 스타트업 콕스웨이브와 앤스로픽이 서울 송파구 시그니엘에서 공동 주최한 '코리아 빌더 서밋' 오프닝 세션에서 이같이 밝혔다.         앤스로픽은 챗GPT 개발사인 오픈AI 창립 멤버가 2021년 설립한 미국의 AI 스타트업으로, 클로드를 통해 아마존 등으로부터 대규모 자금을 유치하며 이름을 알렸다.     콕스웨이브는 클로드의 기능 등 앤스로픽 연구 성과를 한국에 소개하고, 앤스로픽과 한국 기업 간 접점을 늘리기 위해 서밋을 개최했다고 설명했다. 앤스로픽으로서는 한국에서 진행하는 첫 행사다.     이날 행사에서 마이크 크리거 최고제품책임자(CPO)는 최신 AI 모델 '클로드 3.7 소넷'을 소개했다. 크리거 CPO는 인스타그램의 공동 창업자다.     이 모델은 하이브리드 추론 모델로서, 뛰어난 코딩 능력과 인간과 협업에 특화한 강점을 바탕으로 국내 기업이 AI를 업무에 적용하는 데 도움을 줄 수 있다고 크리거 CPO는 설명했다.     그는 \"클로드가 한국어를 잘 활용해서, 한국의 B2B(기업간 거래) 기업뿐 아니라 B2C(기업과 소비자간 거래) 기업도 클로드를 많이 사용한다고 들었다\"며 \"모델을 개선하면서 한국어를 더욱 잘할 수 있도록 피드백을 많이 해줬으면 한다\"고 말했다.    어떤 성향의 이용자가 챗GPT보다 클로드를 선호하냐는 질문에는 \"클로드는 공감과 이해를 더 잘한다\"며 \"인간적 대화를 원하는 사람은 '클로드형' 사람인 것 같다\"고 말했다.    이날 앤스로픽은 이엽 콕스웨이브 이사, 이동재 뤼튼 CPO, 최호준 링크알파 공동대표, 강지수 클레온 최고기술책임자(CTO)와 패널 토론을 통해 클로드 사용 시 장단점과 한국 시장의 특징에 대한 의견을 나눴다.    행사 후반부에는 SK텔레콤, 라이너, 로앤컴퍼니의 기술 리더들이 패널로 참여하는 'AI 혁신 리더십' 세션이 진행됐다. 이들은 클로드를 활용한 각 산업 분야별 AI 설루션 개발 경험과 한국 시장에서의 AI 혁신 전략에 대해 공유했다.    한편 글로벌 빅테크들은 최근 한국 시장으로 활발히 영역을 확장하는 추세다.     지난 2월에는 샘 올트먼 오픈AI 최고경영자(CEO)가 한국을 찾아 카카오와 전략적 제휴 방침을 밝혔으며, 작년 9월에는 마이크로소프트(MS)가 KT와 전략적 파트너십을 체결한 바 있다.     hyun0@yna.co.kr\n",
      "조현영(hyun0@yna.co.kr)\n",
      "기자 프로필\n",
      "연합뉴스\n",
      "연합뉴스\n",
      "조현영 기자\n",
      "조현영 기자\n",
      "구독\n",
      "구독중\n",
      "구독자 0\n",
      "응원수\n",
      "0\n",
      "[위클리 스마트] 새학기 맞아 대학생 커뮤니티·자녀 위치추적 앱 사용 증가\n",
      "삼성전자, 내달 7일부터 갤럭시 주요모델 'One UI 7' 업그레이드\n",
      "연합뉴스의 구독 많은 기자를 구독해보세요!\n",
      "닫기\n",
      "Copyright ⓒ 연합뉴스. All rights reserved. 무단 전재-재배포, AI 학습 및 활용 금지.\n",
      " \n",
      "이 기사는 언론사에서 IT, 경제 섹션으로 분류했습니다.\n",
      "기사 섹션 분류 안내\n",
      "기사의 섹션 정보는 해당 언론사의 분류를 따르고 있습니다. 언론사는 개별 기사를 2개 이상 섹션으로 중복 분류할 수 있습니다.\n",
      "닫기\n",
      "구독\n",
      "메인에서 바로 보는 언론사 편집 뉴스 지금 바로 구독해보세요!\n",
      "구독중\n",
      "메인에서 바로 보는 언론사 편집 뉴스 지금 바로 확인해보세요!\n",
      "[앱 다운] 빠르고 정확한 연합뉴스를 받아보세요\n",
      "뉴스제보는 연합뉴스 okjebo 톡!\n",
      "연합뉴스\n",
      "연합뉴스\n",
      "\t\t\t주요뉴스해당 언론사에서 선정하며 언론사 페이지(아웃링크)로 이동해 볼 수 있습니다.\n",
      " 안철수 \"李 목긁힌 뒤 누워\"…野전용기 \"安, 인간이길 포기했나\"\n",
      " 새벽에 치킨집 몰래 들어가 통닭 2마리 직접 튀겨 훔친 절도범\n",
      " 음주운전하며 지인 여성 강제로 태운 뒤 못 내리게 한 30대 구속\n",
      " 학교 앞서 버젓이 성매매 알선…손님 위장한 경찰관에 적발\n",
      " 술 마신 채 흉기 들고 거리 배회한 부천시 공무원 입건\n",
      "이 기사를 추천합니다\n",
      "기사 추천은 24시간 내 50회까지 참여할 수 있습니다.\n",
      "닫기\n",
      "쏠쏠정보\n",
      "0\n",
      "흥미진진\n",
      "0\n",
      "공감백배\n",
      "0\n",
      "분석탁월\n",
      "0\n",
      "후속강추\n",
      "0\n",
      " \n",
      "모두에게 보여주고 싶은 기사라면?beta\n",
      "이 기사를 추천합니다 버튼을 눌러주세요.  집계 기간 동안 추천을 많이 받은 기사는 네이버 자동 기사배열 영역에 추천 요소로 활용됩니다.\n",
      "레이어 닫기\n",
      " \n",
      "연합뉴스 언론사가 직접 선정한 이슈\n",
      "\t\t\t\n",
      "이슈\n",
      "윤대통령 탄핵심판\n",
      "尹탄핵심판 선고일 발표 여부에 긴장고조…도심 찬반집회 계속\n",
      "이슈\n",
      "다시 트럼프 시대\n",
      "트럼프 취임 후 미, '러 그림자전쟁' 대응 활동 일부 중단\n",
      "이슈\n",
      "북한, 러시아 파병\n",
      "우크라 \"러시아, 북한군 잘 훈련된 덕에 영토 지켰다\" 탄식\n",
      "이전\n",
      "다음\n",
      "연합뉴스 언론사홈 바로가기\n",
      " \n",
      "기자 구독 후 기사보기\n",
      "구독 없이 계속 보기\n",
      "\u001b[0m\u001b[32;1m\u001b[1;3m앤스로픽이 한국에 지사를 설립하고 아시아태평양 지역에 본격 투자할 계획을 발표했습니다. '코리아 빌더 서밋'에서 AI 모델 '클로드'를 소개하며, 한국 기업과의 협력을 강조했습니다.\u001b[0m\n",
      "\n",
      "\u001b[1m> Finished chain.\u001b[0m\n",
      "앤스로픽이 한국에 지사를 설립하고 아시아태평양 지역에 본격 투자할 계획을 발표했습니다. '코리아 빌더 서밋'에서 AI 모델 '클로드'를 소개하며, 한국 기업과의 협력을 강조했습니다.\n"
     ]
    }
   ],
   "source": [
    "result = agent_executor.invoke({\n",
    "    \"input\":\"뉴스 기사 내용을 100자 이내로 요약해 해주세요: https://n.news.naver.com/mnews/article/001/0015275227\",\n",
    "})\n",
    "\n",
    "print(result[\"output\"])"
   ]
  },
  {
   "cell_type": "markdown",
   "metadata": {},
   "source": [
    "--------\n",
    "** End of Documents **"
   ]
  }
 ],
 "metadata": {
  "kernelspec": {
   "display_name": "langchain-kr-t0JhnSEV-py3.11",
   "language": "python",
   "name": "python3"
  },
  "language_info": {
   "codemirror_mode": {
    "name": "ipython",
    "version": 3
   },
   "file_extension": ".py",
   "mimetype": "text/x-python",
   "name": "python",
   "nbconvert_exporter": "python",
   "pygments_lexer": "ipython3",
   "version": "3.11.9"
  }
 },
 "nbformat": 4,
 "nbformat_minor": 2
}
