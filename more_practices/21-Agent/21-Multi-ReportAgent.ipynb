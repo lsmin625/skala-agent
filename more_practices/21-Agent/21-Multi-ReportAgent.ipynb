{
 "cells": [
  {
   "cell_type": "code",
   "execution_count": 1,
   "metadata": {},
   "outputs": [],
   "source": [
    "# !pip install python-docx"
   ]
  },
  {
   "cell_type": "code",
   "execution_count": 2,
   "metadata": {},
   "outputs": [
    {
     "data": {
      "text/plain": [
       "True"
      ]
     },
     "execution_count": 2,
     "metadata": {},
     "output_type": "execute_result"
    }
   ],
   "source": [
    "from dotenv import load_dotenv\n",
    "load_dotenv()"
   ]
  },
  {
   "cell_type": "code",
   "execution_count": 3,
   "metadata": {},
   "outputs": [
    {
     "name": "stdout",
     "output_type": "stream",
     "text": [
      "LangSmith 추적을 시작합니다.\n",
      "[프로젝트명]\n",
      "CH21-2-MultiAGENT\n"
     ]
    }
   ],
   "source": [
    "from langchain_teddynote import logging\n",
    "logging.langsmith(\"CH21-2-MultiAGENT\")"
   ]
  },
  {
   "cell_type": "markdown",
   "metadata": {},
   "source": [
    "# Multi Agent \n",
    "\n",
    "리포트 생성 자동화 "
   ]
  },
  {
   "cell_type": "code",
   "execution_count": null,
   "metadata": {},
   "outputs": [],
   "source": [
    "from typing import Annotated, TypedDict, List, Dict, Sequence\n",
    "from pydantic import Field, create_model\n",
    "\n",
    "from openai import OpenAI\n",
    "from langchain_openai import ChatOpenAI\n",
    "from langchain_core.messages import AIMessage, HumanMessage, BaseMessage\n",
    "from langchain_core.output_parsers import JsonOutputParser\n",
    "from langchain_core.prompts import PromptTemplate\n",
    "from langchain_community.tools.tavily_search import TavilySearchResults\n",
    "from langgraph.graph.message import add_messages\n",
    "from langgraph.graph import StateGraph, START, END"
   ]
  },
  {
   "cell_type": "markdown",
   "metadata": {},
   "source": [
    "## 0. State"
   ]
  },
  {
   "cell_type": "code",
   "execution_count": null,
   "metadata": {},
   "outputs": [],
   "source": [
    "# State definition\n",
    "# 각 항목은 멀티 에이전트 간 데이터 전달을 위한 키 역할 담당 \n",
    "\n",
    "class State(TypedDict):\n",
    "    messages: Annotated[Sequence[BaseMessage], add_messages]\n",
    "    outline: Dict[str, str]\n",
    "    current_section: int\n",
    "    section_content: str\n",
    "    section_image: str\n",
    "    image_prompt: str\n",
    "    total_sections: int\n",
    "    full_report: List[Dict[str, str]]\n",
    "\n",
    "# Graph builder initialization\n",
    "graph_builder = StateGraph(State)"
   ]
  },
  {
   "cell_type": "markdown",
   "metadata": {},
   "source": [
    "## 1. Tool"
   ]
  },
  {
   "cell_type": "code",
   "execution_count": 6,
   "metadata": {},
   "outputs": [],
   "source": [
    "# 인터넷 검색 도구 \n",
    "web_search = TavilySearchResults(max_results=3)"
   ]
  },
  {
   "cell_type": "markdown",
   "metadata": {},
   "source": [
    "## 2. Agent \n",
    "### 개요 작성 에이전트 "
   ]
  },
  {
   "cell_type": "code",
   "execution_count": 7,
   "metadata": {},
   "outputs": [],
   "source": [
    "def create_outline_model(section_count: int):\n",
    "    fields = {\n",
    "        f\"section{i}\": \n",
    "        (\n",
    "            str, Field(description=f\"Title for section {i}\")\n",
    "        ) for i in range(1, section_count + 1)\n",
    "    }\n",
    "    return create_model(\"DynamicOutline\", **fields)"
   ]
  },
  {
   "cell_type": "code",
   "execution_count": 8,
   "metadata": {},
   "outputs": [],
   "source": [
    "fields = {\n",
    "    f\"section{i}\": \n",
    "    (\n",
    "        str, Field(description=f\"Title for section {i}\")\n",
    "     ) for i in range(1, 3 + 1)\n",
    "}\n",
    "\n",
    "DynamicOutline = create_model(\"DynamicOutline\", **fields)"
   ]
  },
  {
   "cell_type": "code",
   "execution_count": 9,
   "metadata": {},
   "outputs": [
    {
     "name": "stdout",
     "output_type": "stream",
     "text": [
      "key:section1\n",
      "\n",
      "value:annotation=str required=True description='Title for section 1'\n",
      "\n",
      "key:section2\n",
      "\n",
      "value:annotation=str required=True description='Title for section 2'\n",
      "\n",
      "key:section3\n",
      "\n",
      "value:annotation=str required=True description='Title for section 3'\n",
      "\n"
     ]
    }
   ],
   "source": [
    "for key, value in DynamicOutline.model_fields.items():\n",
    "    print(f\"key:{key}\\n\")\n",
    "    print(f\"value:{value}\\n\")"
   ]
  },
  {
   "cell_type": "code",
   "execution_count": 10,
   "metadata": {},
   "outputs": [
    {
     "name": "stdout",
     "output_type": "stream",
     "text": [
      "key:section1\n",
      "\n",
      "value:annotation=str required=True description='Title for section 1'\n",
      "\n",
      "key:section2\n",
      "\n",
      "value:annotation=str required=True description='Title for section 2'\n",
      "\n",
      "key:section3\n",
      "\n",
      "value:annotation=str required=True description='Title for section 3'\n",
      "\n",
      "key:section4\n",
      "\n",
      "value:annotation=str required=True description='Title for section 4'\n",
      "\n",
      "key:section5\n",
      "\n",
      "value:annotation=str required=True description='Title for section 5'\n",
      "\n"
     ]
    }
   ],
   "source": [
    "DynamicOutline = create_outline_model(5)\n",
    "\n",
    "for key, value in DynamicOutline.model_fields.items():\n",
    "    print(f\"key:{key}\\n\")\n",
    "    print(f\"value:{value}\\n\")"
   ]
  },
  {
   "cell_type": "code",
   "execution_count": 11,
   "metadata": {},
   "outputs": [],
   "source": [
    "# Outline generation node\n",
    "def outline_generator(state: State):\n",
    "    DynamicOutline = create_outline_model(state[\"total_sections\"])\n",
    "    outline_parser = JsonOutputParser(pydantic_object=DynamicOutline)\n",
    "\n",
    "    outline_prompt = PromptTemplate(\n",
    "        template=\"\"\"\n",
    "        Create an outline for a detailed report with exactly {section_count} main sections.\n",
    "        {format_instructions}\n",
    "        The topic is: {topic}\n",
    "        \"\"\",\n",
    "        input_variables=[\"section_count\", \"topic\"],\n",
    "        partial_variables={\"format_instructions\": outline_parser.get_format_instructions()},\n",
    "    )\n",
    "    \n",
    "    chain = outline_prompt | llm | outline_parser\n",
    "    \n",
    "    outline = chain.invoke({\n",
    "        \"section_count\": state[\"total_sections\"], \n",
    "        \"topic\": state[\"messages\"][-1].content\n",
    "    })\n",
    "    return {\"outline\": outline}"
   ]
  },
  {
   "cell_type": "markdown",
   "metadata": {},
   "source": [
    "### 이미지 생성 에이전트 "
   ]
  },
  {
   "cell_type": "code",
   "execution_count": null,
   "metadata": {},
   "outputs": [],
   "source": [
    "# 이미지 생성 위한 클라이언트 초기화 \n",
    "client = OpenAI()\n",
    "\n",
    "def generate_image(prompt):\n",
    "    \"\"\"Generate an image using DALL-E based on the given prompt.\"\"\"\n",
    "    response = client.images.generate(\n",
    "        model=\"dall-e-3\",\n",
    "        prompt=prompt,\n",
    "        size=\"1024x1024\",\n",
    "        quality=\"standard\",\n",
    "        n=1\n",
    "    )\n",
    "    return response.data[0].url\n",
    "\n",
    "def image_generator(state: State):\n",
    "    prompt_template = PromptTemplate(\n",
    "        template=\"\"\"\n",
    "        Based on the following section content, create a prompt for generating an infographic that represents this section.\n",
    "        \n",
    "        Section content: \n",
    "        \n",
    "        {section_content}\n",
    "        \n",
    "        Image generation prompt(under 500 characters):\"\"\",\n",
    "        input_variables=[\"section_content\"],\n",
    "    )\n",
    "    \n",
    "    image_prompt = llm.invoke(prompt_template.format(section_content=state[\"section_content\"]))\n",
    "    # image_url = generate_image(image_prompt.content)\n",
    "\n",
    "    # 길이 제한 및 금지어 필터링 적용 (#31 ~ #41)\n",
    "    raw_prompt = image_prompt.content if isinstance(image_prompt, AIMessage) else str(image_prompt)\n",
    "    safe_prompt = raw_prompt[:500]  # 500자 제한\n",
    "\n",
    "    forbidden_keywords = [\"violence\", \"suicide\", \"nude\", \"explosion\", \"blood\"]\n",
    "    if any(word in safe_prompt.lower() for word in forbidden_keywords):\n",
    "        image_url = \"Image generation blocked due to unsafe prompt.\"\n",
    "    else:\n",
    "        try:\n",
    "            image_url = generate_image(safe_prompt)\n",
    "        except Exception as e:\n",
    "            image_url = f\"Image generation failed: {str(e)}\"\n",
    "\n",
    "\n",
    "    current_section = {\n",
    "        \"title\": state['outline'][f\"section{state['current_section']}\"],\n",
    "        \"content\": state['section_content'],\n",
    "        \"image_url\": image_url,\n",
    "        #\"image_prompt\": image_prompt.content if isinstance(image_prompt, AIMessage) else image_prompt\n",
    "        \"image_prompt\": safe_prompt,\n",
    "    }\n",
    "\n",
    "    updated_full_report = state.get(\"full_report\", []) + [current_section]\n",
    "\n",
    "    print(f\"Completed section {state['current_section']} of {state['total_sections']}\")\n",
    "\n",
    "    return {\n",
    "        \"image_prompt\": image_prompt.content if isinstance(image_prompt, AIMessage) else image_prompt,\n",
    "        \"section_image\": image_url,\n",
    "        \"current_section\": state[\"current_section\"] + 1,\n",
    "        \"full_report\": updated_full_report\n",
    "    }"
   ]
  },
  {
   "cell_type": "markdown",
   "metadata": {},
   "source": [
    "### LLM 설정"
   ]
  },
  {
   "cell_type": "code",
   "execution_count": 13,
   "metadata": {},
   "outputs": [],
   "source": [
    "llm = ChatOpenAI(model=\"gpt-4o-mini\")"
   ]
  },
  {
   "cell_type": "markdown",
   "metadata": {},
   "source": [
    "### 컨텐츠 작성 에이전트 "
   ]
  },
  {
   "cell_type": "code",
   "execution_count": null,
   "metadata": {},
   "outputs": [],
   "source": [
    "def contents_writer(state: State):\n",
    "    # 메시지 출력 처리 \n",
    "    # 에러가 전달된 경우\n",
    "    if \"error\" in state:\n",
    "        return {\"messages\": [AIMessage(content=f\"An error occurred: {state['error']}\")]}\n",
    "    \n",
    "    # 모든 섹션 생성을 완료한 경우 \n",
    "    if state[\"current_section\"] > state[\"total_sections\"]:\n",
    "        return {\"messages\": [AIMessage(content=\"Report completed.\")]}\n",
    "\n",
    "    # 현재 작성할 섹션 키와 주제 추출     \n",
    "    current_section_key = f\"section{state['current_section']}\"\n",
    "    current_topic = state[\"outline\"][current_section_key]\n",
    "\n",
    "    # 현재 섹션 주제 기반 웹검색 수행 \n",
    "    search_results = web_search.invoke(current_topic)    \n",
    "    \n",
    "    # 이전 섹션들의 내용을 누적 저장 (컨텐츠 연결을 고려하여 생성하기 위함) \n",
    "    previous_sections_content = []\n",
    "    for i in range(1, state['current_section']):\n",
    "        section_key = f\"section{i}\"\n",
    "        if section_key in state[\"section_content\"]:\n",
    "            previous_sections_content.append(f\"\"\"\n",
    "            Section {i}: \n",
    "            {state['outline'][section_key]}\n",
    "            {state['section_content'][section_key]}\n",
    "            \"\"\")\n",
    "    \n",
    "    previous_sections = \"\\n\\n\".join(previous_sections_content)\n",
    "    \n",
    "    # 섹션 컨텐츠 생성 위한 프롬프트 \n",
    "    section_prompt = PromptTemplate(\n",
    "        template=\"\"\"\n",
    "        Write a detailed section for the topic: {topic}. \n",
    "        \n",
    "        Use the following search results for information: {search_results}\n",
    "        \n",
    "        Previous sections:\n",
    "        {previous_sections}\n",
    "        Write only the content for this section, \n",
    "        do not include any image prompts or suggestions.\n",
    "        Detailed statistics or information is needed, \n",
    "        so you should include collected information from search result.\"\"\",\n",
    "        input_variables=[\"topic\", \"search_results\", \"previous_sections\"],\n",
    "    )\n",
    "\n",
    "    # 섹션 컨텐츠 작성 요청 \n",
    "    section_content = llm.invoke(section_prompt.format(\n",
    "        topic=current_topic,\n",
    "        search_results=search_results,\n",
    "        previous_sections=previous_sections\n",
    "    ))\n",
    "\n",
    "    # 결과 반환 : 생성된 컨텐츠의 현재 섹션 번호 유지 \n",
    "    return {\n",
    "        \"section_content\": section_content.content,\n",
    "        \"current_section\": state[\"current_section\"]\n",
    "    }"
   ]
  },
  {
   "cell_type": "markdown",
   "metadata": {},
   "source": [
    "### 워드 생성 에이전트 "
   ]
  },
  {
   "cell_type": "code",
   "execution_count": 15,
   "metadata": {},
   "outputs": [],
   "source": [
    "from docx import Document\n",
    "from docx.shared import Inches\n",
    "import requests\n",
    "from io import BytesIO"
   ]
  },
  {
   "cell_type": "code",
   "execution_count": 16,
   "metadata": {},
   "outputs": [
    {
     "name": "stdout",
     "output_type": "stream",
     "text": [
      "결과 저장 디렉토리: /Users/a05131/Documents/skala-gai/21-Agent/results\n"
     ]
    }
   ],
   "source": [
    "import os\n",
    "\n",
    "# 결과 저장 폴더 생성\n",
    "result_directory = os.path.join(os.getcwd(), \"results\")\n",
    "if not os.path.exists(result_directory):\n",
    "    os.makedirs(result_directory)\n",
    "\n",
    "print(f\"결과 저장 디렉토리: {result_directory}\")"
   ]
  },
  {
   "cell_type": "code",
   "execution_count": 17,
   "metadata": {},
   "outputs": [],
   "source": [
    "def report_generator(state: State):\n",
    "    doc = Document()\n",
    "    doc.add_heading(f\"Report: {state['messages'][0].content}\", 0)\n",
    "\n",
    "    for section in state['full_report']:\n",
    "        doc.add_heading(section['title'], level=1)\n",
    "        doc.add_paragraph(section['content'])\n",
    "        \n",
    "        # 이미지 추가\n",
    "        if section['image_url'] != \"Image generation failed\":\n",
    "            try:\n",
    "                response = requests.get(section['image_url'])\n",
    "                image = BytesIO(response.content)\n",
    "                doc.add_picture(image, width=Inches(6))\n",
    "                doc.add_paragraph(f\"Image prompt: {section['image_prompt']}\")\n",
    "            except Exception as e:\n",
    "                doc.add_paragraph(f\"Failed to add image: {str(e)}\")\n",
    "\n",
    "        doc.add_page_break()\n",
    "\n",
    "    # 보고서 저장\n",
    "    filename = f\"report_{state['messages'][0].content}.docx\".replace(\" \", \"_\")\n",
    "    filepath = os.path.join(result_directory, filename)  \n",
    "\n",
    "    doc.save(filepath)\n",
    "\n",
    "    return {\n",
    "        \"messages\": [AIMessage(content=f\"Report finalized and saved as {filepath}.\")],\n",
    "        \"report_file\": filepath\n",
    "    }"
   ]
  },
  {
   "cell_type": "markdown",
   "metadata": {},
   "source": [
    "## 3. Graph"
   ]
  },
  {
   "cell_type": "code",
   "execution_count": null,
   "metadata": {},
   "outputs": [],
   "source": [
    "# Add nodes\n",
    "graph_builder.add_node(\"outline_generator\", outline_generator)\n",
    "graph_builder.add_node(\"contents_writer\", contents_writer)\n",
    "graph_builder.add_node(\"image_generator\", image_generator)\n",
    "graph_builder.add_node(\"report_generator\", report_generator)\n",
    "\n",
    "# Add edges\n",
    "graph_builder.add_edge(START, \"outline_generator\")\n",
    "graph_builder.add_edge(\"outline_generator\", \"contents_writer\")\n",
    "graph_builder.add_edge(\"contents_writer\", \"image_generator\")\n",
    "graph_builder.add_edge(\"report_generator\", END)\n",
    "\n",
    "# Add conditional edges\n",
    "def should_continue_writing(state: State):\n",
    "    if state[\"current_section\"] <= state[\"total_sections\"]:\n",
    "        return \"write_section\"\n",
    "    else:\n",
    "        return \"finalize_report\"\n",
    "\n",
    "graph_builder.add_conditional_edges(\n",
    "    \"image_generator\",\n",
    "    should_continue_writing,\n",
    "    {\n",
    "        \"write_section\": \"contents_writer\",\n",
    "        \"finalize_report\": \"report_generator\"\n",
    "    }\n",
    ")\n",
    "\n",
    "# Compile graph\n",
    "graph = graph_builder.compile()"
   ]
  },
  {
   "cell_type": "code",
   "execution_count": 19,
   "metadata": {},
   "outputs": [
    {
     "data": {
      "image/png": "[encoded data removed]",
      "text/plain": [
       "<IPython.core.display.Image object>"
      ]
     },
     "metadata": {},
     "output_type": "display_data"
    }
   ],
   "source": [
    "from langchain_teddynote.graphs import visualize_graph\n",
    "\n",
    "visualize_graph(graph)"
   ]
  },
  {
   "cell_type": "markdown",
   "metadata": {},
   "source": [
    "## 4. 실행"
   ]
  },
  {
   "cell_type": "code",
   "execution_count": 20,
   "metadata": {},
   "outputs": [
    {
     "name": "stdout",
     "output_type": "stream",
     "text": [
      "Completed section 1 of 3\n",
      "Completed section 2 of 3\n",
      "Completed section 3 of 3\n",
      "\n",
      "=== 보고서 생성 완료 ===\n"
     ]
    }
   ],
   "source": [
    "# 사용자 입력 받기\n",
    "topic = input(\"보고서 주제를 입력하세요: \")\n",
    "total_sections = int(input(\"생성할 섹션의 수를 입력하세요: \"))\n",
    "\n",
    "# 초기 상태 설정\n",
    "initial_state = {\n",
    "    \"messages\": [HumanMessage(content=topic)],\n",
    "    \"total_sections\": total_sections,\n",
    "    \"current_section\": 1,\n",
    "}\n",
    "\n",
    "# 그래프 실행\n",
    "for chunk in graph.stream(initial_state,stream_mode=\"update\"):\n",
    "    print(chunk)\n",
    "\n",
    "print(\"\\n=== 보고서 생성 완료 ===\")"
   ]
  },
  {
   "cell_type": "markdown",
   "metadata": {},
   "source": [
    "--------\n",
    "** End of Documents **"
   ]
  }
 ],
 "metadata": {
  "kernelspec": {
   "display_name": "langchain-kr-t0JhnSEV-py3.11",
   "language": "python",
   "name": "python3"
  },
  "language_info": {
   "codemirror_mode": {
    "name": "ipython",
    "version": 3
   },
   "file_extension": ".py",
   "mimetype": "text/x-python",
   "name": "python",
   "nbconvert_exporter": "python",
   "pygments_lexer": "ipython3",
   "version": "3.11.9"
  }
 },
 "nbformat": 4,
 "nbformat_minor": 2
}
