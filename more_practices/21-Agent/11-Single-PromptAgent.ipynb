{
 "cells": [
  {
   "cell_type": "code",
   "execution_count": 1,
   "metadata": {},
   "outputs": [
    {
     "data": {
      "text/plain": [
       "True"
      ]
     },
     "execution_count": 1,
     "metadata": {},
     "output_type": "execute_result"
    }
   ],
   "source": [
    "from dotenv import load_dotenv\n",
    "load_dotenv()"
   ]
  },
  {
   "cell_type": "code",
   "execution_count": 2,
   "metadata": {},
   "outputs": [
    {
     "name": "stdout",
     "output_type": "stream",
     "text": [
      "LangSmith 추적을 시작합니다.\n",
      "[프로젝트명]\n",
      "CH21-1-SingleAGENT\n"
     ]
    }
   ],
   "source": [
    "from langchain_teddynote import logging\n",
    "logging.langsmith(\"CH21-1-SingleAGENT\")"
   ]
  },
  {
   "cell_type": "markdown",
   "metadata": {},
   "source": [
    "# Single Agent \n",
    "\n",
    "프롬프트를 생성해주는 에이전트 "
   ]
  },
  {
   "cell_type": "code",
   "execution_count": null,
   "metadata": {},
   "outputs": [],
   "source": [
    "from typing import List, Annotated, Literal\n",
    "from typing_extensions import TypedDict\n",
    "from pydantic import BaseModel\n",
    "import uuid\n",
    "\n",
    "from langchain_openai import ChatOpenAI\n",
    "from langchain_core.messages import AIMessage, SystemMessage, HumanMessage, ToolMessage\n",
    "from langgraph.checkpoint.memory import MemorySaver\n",
    "from langgraph.graph import StateGraph, START, END\n",
    "from langgraph.graph.message import add_messages"
   ]
  },
  {
   "cell_type": "markdown",
   "metadata": {},
   "source": [
    "## 1. 정보 수집\n",
    "\n",
    "프롬프트 작성 위한 정보 수집 용도"
   ]
  },
  {
   "cell_type": "code",
   "execution_count": null,
   "metadata": {},
   "outputs": [],
   "source": [
    "# 사용자로부터 수집할 정보에 대한 시스템 프롬프트 템플릿\n",
    "\n",
    "template = \"\"\"Your job is to get information from a user about what type of prompt template they want to create.\n",
    "\n",
    "You should get the following information from them:\n",
    "\n",
    "- What the objective of the prompt is\n",
    "- What variables will be passed into the prompt template\n",
    "- Any constraints for what the output should NOT do\n",
    "- Any requirements that the output MUST adhere to\n",
    "\n",
    "If you are not able to discern this info, ask them to clarify! Do not attempt to wildly guess.\n",
    "\n",
    "After you are able to discern all the information, call the relevant tool.\"\"\""
   ]
  },
  {
   "cell_type": "code",
   "execution_count": null,
   "metadata": {},
   "outputs": [],
   "source": [
    "# 사용자 대화에 시스템 메시지를 추가\n",
    "def get_messages_info(messages):\n",
    "    return [SystemMessage(content=template)] + messages"
   ]
  },
  {
   "cell_type": "code",
   "execution_count": 6,
   "metadata": {},
   "outputs": [],
   "source": [
    "class PromptInstructions(BaseModel):\n",
    "    \"\"\"Instructions on how to prompt the LLM.\"\"\"\n",
    "\n",
    "    objective: str\n",
    "    variables: List[str]\n",
    "    constraints: List[str]\n",
    "    requirements: List[str]"
   ]
  },
  {
   "cell_type": "code",
   "execution_count": null,
   "metadata": {},
   "outputs": [],
   "source": [
    "# 모델 정의 + 도구 연결 \n",
    "llm = ChatOpenAI(model=\"gpt-4o-mini\",temperature=0)\n",
    "llm_with_tool = llm.bind_tools([PromptInstructions])"
   ]
  },
  {
   "cell_type": "code",
   "execution_count": null,
   "metadata": {},
   "outputs": [],
   "source": [
    "# 정보 수집 위한 함수 정의 \n",
    "def info_chain(state):\n",
    "    messages = get_messages_info(state[\"messages\"])\n",
    "    response = llm_with_tool.invoke(messages)\n",
    "    return {\"messages\": [response]}"
   ]
  },
  {
   "cell_type": "markdown",
   "metadata": {},
   "source": [
    "## 2. 프롬프트 생성"
   ]
  },
  {
   "cell_type": "code",
   "execution_count": null,
   "metadata": {},
   "outputs": [],
   "source": [
    "# 프롬프트 생성 위한 시스템 프롬프트 \n",
    "prompt_system = \"\"\"Based on the following requirements, write a good prompt template:\n",
    "\n",
    "{reqs}\"\"\""
   ]
  },
  {
   "cell_type": "code",
   "execution_count": null,
   "metadata": {},
   "outputs": [],
   "source": [
    "# 도구 호출 이후의 메시지를 추출하고 프롬프트 생성 메시지 구성 \n",
    "def get_prompt_messages(messages: list):\n",
    "    tool_call = None\n",
    "    other_msgs = []\n",
    "    for m in messages:\n",
    "        if isinstance(m, AIMessage) and m.tool_calls:\n",
    "            tool_call = m.tool_calls[0][\"args\"]\n",
    "            print(tool_call)\n",
    "        elif isinstance(m, ToolMessage):\n",
    "            continue\n",
    "        elif tool_call is not None:\n",
    "            other_msgs.append(m)\n",
    "    return [SystemMessage(content=prompt_system.format(reqs=tool_call))] + other_msgs\n",
    "\n",
    "# 프롬프트 생성 체인 함수\n",
    "def prompt_gen_chain(state):\n",
    "    messages = get_prompt_messages(state[\"messages\"])\n",
    "    response = llm.invoke(messages)\n",
    "    return {\"messages\": [response]}"
   ]
  },
  {
   "cell_type": "markdown",
   "metadata": {},
   "source": [
    "## 3. Graph"
   ]
  },
  {
   "cell_type": "code",
   "execution_count": 11,
   "metadata": {},
   "outputs": [],
   "source": [
    "def get_state(state) -> Literal[\"prompt\", \"info\", \"__end__\"]:\n",
    "    messages = state[\"messages\"]\n",
    "    if isinstance(messages[-1], AIMessage) and messages[-1].tool_calls:\n",
    "        return \"prompt\"\n",
    "    elif not isinstance(messages[-1], HumanMessage):\n",
    "        return END\n",
    "    return \"info\""
   ]
  },
  {
   "cell_type": "code",
   "execution_count": 12,
   "metadata": {},
   "outputs": [],
   "source": [
    "class State(TypedDict):\n",
    "    messages: Annotated[list, add_messages]\n",
    "\n",
    "memory = MemorySaver()\n",
    "workflow = StateGraph(State)\n",
    "\n",
    "workflow.add_node(\"info\", info_chain)\n",
    "workflow.add_node(\"prompt\", prompt_gen_chain)\n",
    "\n",
    "workflow.add_conditional_edges(\"info\", get_state)\n",
    "workflow.add_edge(\"prompt\", END)\n",
    "workflow.add_edge(START, \"info\")\n",
    "\n",
    "graph = workflow.compile(checkpointer=memory)"
   ]
  },
  {
   "cell_type": "code",
   "execution_count": 13,
   "metadata": {},
   "outputs": [
    {
     "data": {
      "image/png": "[encoded data removed]",
      "text/plain": [
       "<IPython.core.display.Image object>"
      ]
     },
     "metadata": {},
     "output_type": "display_data"
    }
   ],
   "source": [
    "from langchain_teddynote.graphs import visualize_graph\n",
    "\n",
    "visualize_graph(graph)"
   ]
  },
  {
   "cell_type": "markdown",
   "metadata": {},
   "source": [
    "## 4. 실행"
   ]
  },
  {
   "cell_type": "code",
   "execution_count": null,
   "metadata": {},
   "outputs": [],
   "source": [
    "config = {\"configurable\": {\"thread_id\": str(uuid.uuid4())}}"
   ]
  },
  {
   "cell_type": "code",
   "execution_count": null,
   "metadata": {},
   "outputs": [
    {
     "name": "stdout",
     "output_type": "stream",
     "text": [
      "==================================\u001b[1m Ai Message \u001b[0m==================================\n",
      "\n",
      "빙수 레시피를 작성하기 위한 프롬프트를 만들기 위해 몇 가지 정보를 더 필요로 합니다.\n",
      "\n",
      "1. **프롬프트의 목표**: 빙수 레시피를 작성하는 것 외에 어떤 특정한 목표가 있나요? 예를 들어, 특정 재료를 사용하거나 특정 스타일의 빙수를 만드는 것과 같은 목표가 있을 수 있습니다.\n",
      "\n",
      "2. **프롬프트 템플릿에 전달될 변수**: 어떤 변수들이 프롬프트에 포함되어야 하나요? 예를 들어, 재료 목록, 서빙 인원수, 조리 시간 등이 있을 수 있습니다.\n",
      "\n",
      "3. **출력에서 하지 말아야 할 제약 조건**: 출력에서 어떤 내용이 포함되지 않아야 하나요? 예를 들어, 특정 재료를 사용하지 않거나, 너무 복잡한 조리법을 피해야 하는 등의 제약이 있을 수 있습니다.\n",
      "\n",
      "4. **출력에서 반드시 지켜야 할 요구 사항**: 출력이 반드시 따라야 할 요구 사항은 무엇인가요? 예를 들어, 레시피가 간단해야 하거나, 특정 영양 정보를 포함해야 하는 등의 요구 사항이 있을 수 있습니다.\n",
      "\n",
      "이 정보를 제공해 주시면, 적절한 프롬프트 템플릿을 작성할 수 있습니다!\n",
      "==================================\u001b[1m Ai Message \u001b[0m==================================\n",
      "\n",
      "감사합니다! 이제 추가 정보를 요청하겠습니다.\n",
      "\n",
      "1. **프롬프트 템플릿에 전달될 변수**: 어떤 변수들이 프롬프트에 포함되어야 하나요? 예를 들어, 사용하고 싶은 재료, 서빙 인원수, 조리 시간 등이 있을 수 있습니다.\n",
      "\n",
      "2. **출력에서 하지 말아야 할 제약 조건**: 출력에서 어떤 내용이 포함되지 않아야 하나요? 예를 들어, 특정 재료를 사용하지 않거나, 너무 복잡한 조리법을 피해야 하는 등의 제약이 있을 수 있습니다.\n",
      "\n",
      "3. **출력에서 반드시 지켜야 할 요구 사항**: 출력이 반드시 따라야 할 요구 사항은 무엇인가요? 예를 들어, 레시피가 간단해야 하거나, 특정 영양 정보를 포함해야 하는 등의 요구 사항이 있을 수 있습니다.\n",
      "\n",
      "이 정보를 제공해 주시면, 프롬프트 템플릿을 작성할 수 있습니다!\n",
      "==================================\u001b[1m Ai Message \u001b[0m==================================\n",
      "\n",
      "알겠습니다! 추가 정보를 제공하지 않으신다면, 기본적인 빙수 레시피를 위한 프롬프트를 작성해 보겠습니다. \n",
      "\n",
      "프롬프트는 다음과 같이 구성될 수 있습니다:\n",
      "\n",
      "- **목적**: 간단하게 만들 수 있는 빙수 레시피\n",
      "- **변수**: 사용하고 싶은 재료, 서빙 인원수\n",
      "- **제약 조건**: 복잡한 조리법은 피할 것\n",
      "- **요구 사항**: 레시피는 간단하고 쉽게 따라할 수 있어야 함\n",
      "\n",
      "이 정보를 바탕으로 프롬프트를 생성하겠습니다. 잠시만 기다려 주세요.\n",
      "Tool Calls:\n",
      "  PromptInstructions (call_PsspIzBn9KVTJIGcrJ3vkF8Q)\n",
      " Call ID: call_PsspIzBn9KVTJIGcrJ3vkF8Q\n",
      "  Args:\n",
      "    objective: 간단하게 만들 수 있는 빙수 레시피\n",
      "    variables: ['사용하고 싶은 재료', '서빙 인원수']\n",
      "    constraints: ['복잡한 조리법은 피할 것']\n",
      "    requirements: ['레시피는 간단하고 쉽게 따라할 수 있어야 함']\n",
      "{'objective': '간단하게 만들 수 있는 빙수 레시피', 'variables': ['사용하고 싶은 재료', '서빙 인원수'], 'constraints': ['복잡한 조리법은 피할 것'], 'requirements': ['레시피는 간단하고 쉽게 따라할 수 있어야 함']}\n",
      "==================================\u001b[1m Ai Message \u001b[0m==================================\n",
      "\n",
      "**Prompt Template:**\n",
      "\n",
      "\"간단하게 만들 수 있는 빙수 레시피를 제공해 주세요. 사용하고 싶은 재료는 [사용하고 싶은 재료]이며, 서빙 인원수는 [서빙 인원수]입니다. 복잡한 조리법은 피하고, 레시피는 간단하고 쉽게 따라할 수 있도록 작성해 주세요.\"\n",
      "Done!\n",
      "AI: Byebye\n"
     ]
    }
   ],
   "source": [
    "while True:\n",
    "    # 사용자 종료 선언 시 처리 \n",
    "    user = input(\"User (q/Q to quit): \")\n",
    "    if user in {\"q\", \"Q\"}:\n",
    "        print(\"AI: Byebye\")\n",
    "        break\n",
    "    output = None\n",
    "\n",
    "    # 실행 \n",
    "    for output in graph.stream(\n",
    "        {\"messages\": [HumanMessage(content=user)]}, config=config, stream_mode=\"updates\"\n",
    "    ):\n",
    "        last_message = next(iter(output.values()))[\"messages\"][-1]\n",
    "        last_message.pretty_print()\n",
    "\n",
    "    # output이 존재하고, 그 안에 'prompt' 키가 있을 경우\n",
    "    if output and \"prompt\" in output:\n",
    "        print(\"Done!\")"
   ]
  },
  {
   "cell_type": "markdown",
   "metadata": {},
   "source": [
    "--------\n",
    "** End of Documents **"
   ]
  }
 ],
 "metadata": {
  "kernelspec": {
   "display_name": "langchain-kr-t0JhnSEV-py3.11",
   "language": "python",
   "name": "python3"
  },
  "language_info": {
   "codemirror_mode": {
    "name": "ipython",
    "version": 3
   },
   "file_extension": ".py",
   "mimetype": "text/x-python",
   "name": "python",
   "nbconvert_exporter": "python",
   "pygments_lexer": "ipython3",
   "version": "3.11.9"
  }
 },
 "nbformat": 4,
 "nbformat_minor": 2
}
