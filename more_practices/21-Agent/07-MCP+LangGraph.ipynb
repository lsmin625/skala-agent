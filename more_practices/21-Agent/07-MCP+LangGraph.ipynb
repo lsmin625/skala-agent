{
 "cells": [
  {
   "cell_type": "code",
   "execution_count": 1,
   "metadata": {},
   "outputs": [
    {
     "data": {
      "text/plain": [
       "True"
      ]
     },
     "execution_count": 1,
     "metadata": {},
     "output_type": "execute_result"
    }
   ],
   "source": [
    "from dotenv import load_dotenv\n",
    "load_dotenv()"
   ]
  },
  {
   "cell_type": "code",
   "execution_count": 2,
   "metadata": {},
   "outputs": [
    {
     "name": "stdout",
     "output_type": "stream",
     "text": [
      "LangSmith 추적을 시작합니다.\n",
      "[프로젝트명]\n",
      "CH21-AGENT\n"
     ]
    }
   ],
   "source": [
    "from langchain_teddynote import logging\n",
    "logging.langsmith(\"CH21-AGENT\")"
   ]
  },
  {
   "cell_type": "markdown",
   "metadata": {},
   "source": [
    "# MCP \n",
    "\n",
    "LangGraph 기반으로 MCP 개념을 반영"
   ]
  },
  {
   "cell_type": "code",
   "execution_count": null,
   "metadata": {},
   "outputs": [],
   "source": [
    "from pydantic import BaseModel\n",
    "from typing import Dict, Any\n",
    "from langgraph.graph import StateGraph, END\n",
    "from langchain_openai import ChatOpenAI\n",
    "from langchain.schema import SystemMessage"
   ]
  },
  {
   "cell_type": "markdown",
   "metadata": {},
   "source": [
    "## 1. 모델 정의"
   ]
  },
  {
   "cell_type": "code",
   "execution_count": 4,
   "metadata": {},
   "outputs": [],
   "source": [
    "llm = ChatOpenAI(model='gpt-3.5-turbo', temperature=0)"
   ]
  },
  {
   "cell_type": "markdown",
   "metadata": {},
   "source": [
    "## 2. Agent 정의"
   ]
  },
  {
   "cell_type": "code",
   "execution_count": 5,
   "metadata": {},
   "outputs": [],
   "source": [
    "research_prompt = SystemMessage(content=\"당신은 리서치 전문가입니다. 주어진 주제에 대해 핵심 정보를 수집하세요.\")\n",
    "summary_prompt = SystemMessage(content=\"당신은 요약 전문가입니다. 주어진 정보를 명확하고 간결하게 요약하세요.\")"
   ]
  },
  {
   "cell_type": "code",
   "execution_count": 6,
   "metadata": {},
   "outputs": [],
   "source": [
    "# MCP 사상 반영: context에 agent/task/result를 구조화하여 명시\n",
    "class AgentState(BaseModel):\n",
    "    topic: str\n",
    "    context: Dict[str, Any]"
   ]
  },
  {
   "cell_type": "code",
   "execution_count": 7,
   "metadata": {},
   "outputs": [],
   "source": [
    "def research_agent(state: AgentState) -> AgentState:\n",
    "    topic = state.topic  \n",
    "\n",
    "    messages = [\n",
    "        research_prompt,\n",
    "        {\"role\": \"user\", \"content\": f\"{topic}에 대해 조사해 주세요.\"}\n",
    "    ]\n",
    "\n",
    "    research_result = llm.invoke(messages)\n",
    "\n",
    "    # MCP 사상 반영: context에 agent/task/result를 구조화하여 명시\n",
    "    return AgentState(\n",
    "        topic=state.topic,\n",
    "        context={\n",
    "            \"agent\": \"ResearchAgent\",\n",
    "            \"task\": \"research\",\n",
    "            \"result\": research_result.content\n",
    "        }\n",
    "    )"
   ]
  },
  {
   "cell_type": "code",
   "execution_count": 8,
   "metadata": {},
   "outputs": [],
   "source": [
    "def summary_agent(state: AgentState) -> AgentState:\n",
    "    research_text = state.context[\"result\"]\n",
    "\n",
    "    messages = [\n",
    "        summary_prompt,\n",
    "        {\"role\": \"user\", \"content\": f\"다음 정보를 요약해 주세요:\\n{research_text}\"}\n",
    "    ]\n",
    "\n",
    "    summary_result = llm.invoke(messages)\n",
    "\n",
    "    # MCP 사상 반영: 에이전트별 task와 결과를 context로 저장\n",
    "    return AgentState(\n",
    "        topic=state.topic,\n",
    "        context={\n",
    "            \"agent\": \"SummaryAgent\",\n",
    "            \"task\": \"summarize\",\n",
    "            \"result\": summary_result.content\n",
    "        }\n",
    "    )"
   ]
  },
  {
   "cell_type": "markdown",
   "metadata": {},
   "source": [
    "## 3. Workflow 설계"
   ]
  },
  {
   "cell_type": "code",
   "execution_count": 9,
   "metadata": {},
   "outputs": [],
   "source": [
    "workflow = StateGraph(AgentState)\n",
    "\n",
    "workflow.add_node(\"research\", research_agent)\n",
    "workflow.add_node(\"summary\", summary_agent)\n",
    "\n",
    "workflow.set_entry_point(\"research\")\n",
    "workflow.add_edge(\"research\", \"summary\")\n",
    "workflow.add_edge(\"summary\", END)\n",
    "\n",
    "graph = workflow.compile()"
   ]
  },
  {
   "cell_type": "code",
   "execution_count": 10,
   "metadata": {},
   "outputs": [
    {
     "data": {
      "image/png": "[encoded data removed]",
      "text/plain": [
       "<IPython.core.display.Image object>"
      ]
     },
     "metadata": {},
     "output_type": "display_data"
    }
   ],
   "source": [
    "from langchain_teddynote.graphs import visualize_graph\n",
    "\n",
    "visualize_graph(graph)"
   ]
  },
  {
   "cell_type": "markdown",
   "metadata": {},
   "source": [
    "## 4. 실행"
   ]
  },
  {
   "cell_type": "code",
   "execution_count": 13,
   "metadata": {},
   "outputs": [],
   "source": [
    "# 실행 예시\n",
    "initial_state = {\n",
    "    \"topic\": \"전기차 시장의 최근 이슈\",\n",
    "    \"context\": {}\n",
    "}"
   ]
  },
  {
   "cell_type": "code",
   "execution_count": 14,
   "metadata": {},
   "outputs": [
    {
     "name": "stdout",
     "output_type": "stream",
     "text": [
      "🔍 조사 내용:\n",
      " 전기차 시장에서 주요 이슈는 다음과 같습니다: 1. 전기차의 인기 상승으로 많은 자동차 제조사가 시장에 진출하고 있음. 2. 충전 인프라가 확대되어 전기차 보급이 촉진되고 있음. 3. 전기차 기술과 자율 주행 기술이 융합되어 EVAV의 개발이 진행 중임. 4. 배터리 기술의 발전으로 주행 거리와 성능이 향상되고 있음. 5. 정부 정책이 전기차 보급을 촉진하고 있음. 이러한 이슈들이 전기차 시장의 성장을 촉진하고 있으며, 앞으로 더욱 빠르게 성장할 것으로 예상됨.\n"
     ]
    }
   ],
   "source": [
    "result = graph.invoke(initial_state)\n",
    "print(\"🔍 조사 내용:\\n\", result[\"context\"][\"result\"])"
   ]
  },
  {
   "cell_type": "markdown",
   "metadata": {},
   "source": [
    "----\n",
    "# NO-MCP\n",
    "\n",
    "MCP 구조를 따르지 않을 경우의 코드"
   ]
  },
  {
   "cell_type": "code",
   "execution_count": null,
   "metadata": {},
   "outputs": [],
   "source": [
    "# 1. 상태(state) 정의 \n",
    "\n",
    "# 2. LLM 설정\n",
    "llm = ChatOpenAI(model=\"gpt-3.5-turbo\", temperature=0)\n",
    "\n",
    "# 3. 에이전트 역할별 system prompt 정의\n",
    "research_prompt = SystemMessage(content=\"당신은 리서치 전문가입니다. 주어진 주제에 대해 핵심 정보를 수집하세요.\")\n",
    "summary_prompt = SystemMessage(content=\"당신은 요약 전문가입니다. 주어진 정보를 명확하고 간결하게 요약하세요.\")\n",
    "\n",
    "# 4. Research Agent - 단순 result 필드만 반환\n",
    "def research_agent(state: dict) -> dict:\n",
    "    topic = state[\"topic\"]\n",
    "\n",
    "    messages = [\n",
    "        research_prompt,\n",
    "        {\"role\": \"user\", \"content\": f\"{topic}에 대해 조사해 주세요.\"}\n",
    "    ]\n",
    "\n",
    "    research_result = llm.invoke(messages)\n",
    "\n",
    "    # result 필드를 추가해서 상태 확장\n",
    "    return {\n",
    "        \"topic\": state[\"topic\"],\n",
    "        \"result\": research_result.content\n",
    "    }\n",
    "\n",
    "# 5. Summary Agent - 앞선 결과를 요약하고 다시 result에 덮어씀\n",
    "def summary_agent(state: dict) -> dict:\n",
    "    research_text = state[\"result\"]\n",
    "\n",
    "    messages = [\n",
    "        summary_prompt,\n",
    "        {\"role\": \"user\", \"content\": f\"다음 정보를 요약해 주세요:\\n{research_text}\"}\n",
    "    ]\n",
    "\n",
    "    summary_result = llm.invoke(messages)\n",
    "\n",
    "    return {\n",
    "        \"topic\": state[\"topic\"],\n",
    "        \"result\": summary_result.content\n",
    "    }\n",
    "\n",
    "# 6. LangGraph 워크플로우 구성\n",
    "workflow = StateGraph(dict)\n",
    "workflow.add_node(\"research\", research_agent)\n",
    "workflow.add_node(\"summary\", summary_agent)\n",
    "workflow.set_entry_point(\"research\")\n",
    "workflow.add_edge(\"research\", \"summary\")\n",
    "workflow.add_edge(\"summary\", END)\n",
    "\n",
    "graph = workflow.compile()\n"
   ]
  },
  {
   "cell_type": "code",
   "execution_count": 21,
   "metadata": {},
   "outputs": [],
   "source": [
    "def run_workflow():\n",
    "    initial_state = {\"topic\": \"전기차 시장의 최근 이슈\"}\n",
    "    result = graph.invoke(initial_state)\n",
    "\n",
    "    print(\"\\n🔍 최종 결과 (요약된 리서치 내용):\\n\")\n",
    "    print(result[\"result\"])"
   ]
  },
  {
   "cell_type": "code",
   "execution_count": 22,
   "metadata": {},
   "outputs": [
    {
     "name": "stdout",
     "output_type": "stream",
     "text": [
      "\n",
      "🔍 최종 결과 (요약된 리서치 내용):\n",
      "\n",
      "전기차 시장의 주요 이슈:\n",
      "1. 전기차의 인기 상승으로 많은 자동차 제조사가 투자하고 있음.\n",
      "2. 배터리 기술이 발전하며 성능 향상이 이루어지고 있음.\n",
      "3. 정부 정책이 전기차 보급을 촉진하고 있음.\n",
      "4. 자율 주행 기술과의 융합이 미래 자동차 산업의 주요 트렌드로 부상.\n",
      "5. 전기차 시장에서의 치열한 경쟁이 심화되고 있음.\n"
     ]
    }
   ],
   "source": [
    "if __name__ == \"__main__\":\n",
    "    run_workflow()"
   ]
  },
  {
   "cell_type": "markdown",
   "metadata": {},
   "source": [
    "--------\n",
    "** End of Documents **"
   ]
  }
 ],
 "metadata": {
  "kernelspec": {
   "display_name": "langchain-kr-t0JhnSEV-py3.11",
   "language": "python",
   "name": "python3"
  },
  "language_info": {
   "codemirror_mode": {
    "name": "ipython",
    "version": 3
   },
   "file_extension": ".py",
   "mimetype": "text/x-python",
   "name": "python",
   "nbconvert_exporter": "python",
   "pygments_lexer": "ipython3",
   "version": "3.11.9"
  }
 },
 "nbformat": 4,
 "nbformat_minor": 2
}
