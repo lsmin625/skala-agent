{
 "cells": [
  {
   "cell_type": "code",
   "execution_count": 1,
   "metadata": {},
   "outputs": [
    {
     "data": {
      "text/plain": [
       "True"
      ]
     },
     "execution_count": 1,
     "metadata": {},
     "output_type": "execute_result"
    }
   ],
   "source": [
    "from dotenv import load_dotenv\n",
    "load_dotenv()"
   ]
  },
  {
   "cell_type": "code",
   "execution_count": 2,
   "metadata": {},
   "outputs": [
    {
     "name": "stdout",
     "output_type": "stream",
     "text": [
      "LangSmith 추적을 시작합니다.\n",
      "[프로젝트명]\n",
      "CH21-AGENT\n"
     ]
    }
   ],
   "source": [
    "from langchain_teddynote import logging\n",
    "logging.langsmith(\"CH21-AGENT\")"
   ]
  },
  {
   "cell_type": "markdown",
   "metadata": {},
   "source": [
    "# React Agent "
   ]
  },
  {
   "cell_type": "code",
   "execution_count": 3,
   "metadata": {},
   "outputs": [],
   "source": [
    "import json\n",
    "from langchain_openai import ChatOpenAI\n",
    "from langchain_teddynote.tools.tavily import TavilySearch\n",
    "from langchain_core.messages import HumanMessage\n",
    "from langgraph.checkpoint.memory import MemorySaver\n",
    "from langgraph.prebuilt import create_react_agent"
   ]
  },
  {
   "cell_type": "markdown",
   "metadata": {},
   "source": [
    "## 메모리 설정 "
   ]
  },
  {
   "cell_type": "code",
   "execution_count": 4,
   "metadata": {},
   "outputs": [],
   "source": [
    "# 메모리 설정\n",
    "memory = MemorySaver()\n",
    "\n",
    "# 모델 설정\n",
    "model = ChatOpenAI(model_name=\"gpt-4o-mini\", temperature=0)"
   ]
  },
  {
   "cell_type": "markdown",
   "metadata": {},
   "source": [
    "## 도구 설정 \n",
    "### 웹 검색 "
   ]
  },
  {
   "cell_type": "code",
   "execution_count": 5,
   "metadata": {},
   "outputs": [],
   "source": [
    "web_search = TavilySearch(\n",
    "    topic=\"general\",  # 뉴스 주제 (general 또는 news)\n",
    "    include_domains=[\"google.com\"],\n",
    "    max_results=5,  # 최대 검색 결과\n",
    "    include_answer=False,\n",
    "    include_raw_content=False,\n",
    "    include_images=False,\n",
    "    format_output=False,\n",
    ")\n",
    "\n",
    "web_search.name = \"web_search\"\n",
    "web_search.description = (\n",
    "    \"Use this tool to search on the web for any topic other than news.\"\n",
    ")"
   ]
  },
  {
   "cell_type": "code",
   "execution_count": 6,
   "metadata": {},
   "outputs": [
    {
     "data": {
      "text/plain": [
       "[{'title': 'The Prompt: 최근 AI 관련 사건에 대한 논의 - Google Cloud',\n",
       "  'url': 'https://cloud.google.com/blog/transform/ko/prompt-lets-talk-about-recent-ai-missteps',\n",
       "  'content': \"비즈니스 리더들 사이에서 생성형 AI가 큰 관심을 모으고 있습니다. 매주 'The Prompt'는 빠르게 변화하는 이 주제에 대한 최신 정보를 놓치지 않도록 고객 및 파트너와의 협업을 통해 얻은 시각과 Google의 최신 AI 트렌드를 전해드립니다. 이번 호에서는 최근 보고된\",\n",
       "  'score': 0.6083387,\n",
       "  'raw_content': None},\n",
       " {'title': '멀티모달로 마무리한 AI의 역사적인 한 해 | Google Cloud 블로그',\n",
       "  'url': 'https://cloud.google.com/transform/ko/historic-year-for-ai-momentous-multimodal-moment-the-prompt',\n",
       "  'content': \"*본 아티클의 원문은 2023년 12월 21일 Google Cloud 블로그()에 게재되었습니다.비즈니스 리더들 사이에서 생성형 AI가 큰 관심을 끌고 있습니다. 'The Prompt'는 빠르게 변화하는 이 주제에 대한 최신 정보를 놓치지 않도록 고객 및 파트너와 계속 협업하면서 확인한 사항과 Google의 최신 AI 트렌드를 전해\",\n",
       "  'score': 0.4436251,\n",
       "  'raw_content': None},\n",
       " {'title': 'Google 검색에서 AI 개요로 더 쉽고 빠르게 정보 찾기',\n",
       "  'url': 'https://support.google.com/websearch/answer/14901683?hl=ko',\n",
       "  'content': '검색 결과의 AI 개요를 사용하면 원하는 정보를 더 빠르고 쉽게 찾을 수 있습니다. AI 개요는 핵심 정보 및 더 자세히 살펴볼 수 있는 링크가 포함된 AI 생성 개요를 제공해 주므로 검색의 부담을 덜어 줄 수 있습니다. Google의 생성형 AI 개발을 위해 Google 검색에서 데이터가 활용되는 방식 검색 결과에 AI',\n",
       "  'score': 0.3863703,\n",
       "  'raw_content': None},\n",
       " {'title': 'Google 어시스턴트에게 요청할 수 있는 작업 - Android - Google 어시스턴트 고객센터',\n",
       "  'url': 'https://support.google.com/assistant/answer/7172842?hl=ko&co=GENIE.Platform=Android',\n",
       "  'content': '검색: \"여름휴가 때 뭐 하면 좋을지 검색해 줘.\" 이미지 검색: ... 팟캐스트: \"비밀보장의 최신 에피소드 틀어 줘.\" ... Google 어시스턴트는 사용자가 콘텐츠를 검토할 수 있는 \\'AI 개요\\'를 생성합니다. AI 개요를 평가하고 계속해서 글 전체를 읽을 수 있습니다.',\n",
       "  'score': 0.37717408,\n",
       "  'raw_content': None},\n",
       " {'title': 'Google 뉴스 - 세계 - 최신 뉴스',\n",
       "  'url': 'https://news.google.com/topics/CAAqJggKIiBDQkFTRWdvSUwyMHZNRGx1YlY4U0FtdHZHZ0pMVWlnQVAB?hl=ko&ceid=KR:ko',\n",
       "  'content': 'https://news.google.com/topics/CAAqJggKIiBDQkFTRWdvSUwyMHZNRGx1YlY4U0FtdHZHZ0pMVWlnQVAB?hl=ko&ceid=KR:ko 페이지 정보  Google의 시스템이 컴퓨터 네트워크에서 비정상적인 트래픽을 감지했습니다. 이 페이지는 로봇이 아니라 실제 사용자가 요청을 보내고 있는지를 확인하는 페이지입니다. 왜 이런 현상이 발생하는 거죠? 해당 페이지는 Google이 자동으로 사용자의 컴퓨터 네트워크에서 서비스 약관을 위배하는 것으로 보이는 요청을 감지했을 때 표시됩니다. 요청이 중지되면 곧 차단이 해제됩니다. 그 전에 위의 보안문자를 입력하면 Google 서비스를 계속 사용할 수 있습니다. 비정상적인 트래픽은 자동으로 요청을 전송하는 악성 소프트웨어, 브라우저 플러그인 또는 스크립트에 의해 전송될 수 있습니다. 네트워크 연결을 공유하고 있다면 관리자에게 문의하여 동일한 IP주소를 사용하는 다른 컴퓨터에 문제가 있는지 확인하세요. 자세히 알아보기  로봇이 사용한다고 알려진 고급 검색어를 사용하거나 요청을 매우 빠르게 전송하면 보안문자를 입력하도록 요청받을 수 있습니다. IP주소: 2600:1900:0:2d05::1201 시간: 2025-02-09T09:45:43Z URL: https://news.google.com/topics/CAAqJggKIiBDQkFTRWdvSUwyMHZNRGx1YlY4U0FtdHZHZ0pMVWlnQVAB?hl=ko&ceid=KR:ko',\n",
       "  'score': 0.2826147,\n",
       "  'raw_content': None}]"
      ]
     },
     "execution_count": 6,
     "metadata": {},
     "output_type": "execute_result"
    }
   ],
   "source": [
    "result = web_search.search(\"AI 관련된 최신 뉴스를 검색해줘\")\n",
    "result"
   ]
  },
  {
   "cell_type": "markdown",
   "metadata": {},
   "source": [
    "### 구글 뉴스 키워드 검색 "
   ]
  },
  {
   "cell_type": "code",
   "execution_count": 7,
   "metadata": {},
   "outputs": [],
   "source": [
    "from langchain_teddynote.tools import GoogleNews\n",
    "from langchain.tools import tool\n",
    "from typing import List, Dict"
   ]
  },
  {
   "cell_type": "code",
   "execution_count": 8,
   "metadata": {},
   "outputs": [],
   "source": [
    "# 키워드로 뉴스 검색하는 도구 정의 \n",
    "@tool\n",
    "def search_news_by_keyword(query: str) -> List[Dict[str, str]]:\n",
    "    \"\"\"Look up news by keyword\"\"\"\n",
    "    print(query)\n",
    "    news_tool = GoogleNews()\n",
    "    return news_tool.search_by_keyword(query, k=10)"
   ]
  },
  {
   "cell_type": "code",
   "execution_count": 9,
   "metadata": {},
   "outputs": [
    {
     "name": "stdout",
     "output_type": "stream",
     "text": [
      "AI 관련된 최신 뉴스를 검색해줘\n"
     ]
    },
    {
     "data": {
      "text/plain": [
       "[{'url': 'https://news.google.com/rss/articles/CBMiRkFVX3lxTFBDeDQwSFQwTEM5ZW1VV09TTUR0TDZLLWUxUjNMSkJNY1BtLUNLTHV0OXk4SVBUWjdYaGFfazFyUmhScVFtdlE?oc=5',\n",
       "  'content': 'Perplexity AI: AI 검색 엔진의 혁신 - 브런치'},\n",
       " {'url': 'https://news.google.com/rss/articles/CBMiVkFVX3lxTE41elhUcXRaa3BsUE5NS1pDYUozWFZab3JtdHZ0QXFwWTdyY21yV0dfblk3REZPeW90NVBodklQUTlHWk9Ud3Y5aTlFTXFidW4zUUJsZG1B?oc=5',\n",
       "  'content': '삼성·LG전자 IF 디자인상 싹쓸이…삼성 ‘볼리’·LG ‘올레드 T’ 금상 - 매일경제'},\n",
       " {'url': 'https://news.google.com/rss/articles/CBMiREFVX3lxTE5aYVdLTXB6ckNNbWpNT1pNYTAza1VNZ0tfNzFEaFJyQ0g0Yl8zaUhERWtDb0Vxd3hZS1lHcUpJN29jbXZq?oc=5',\n",
       "  'content': '젠스파크(Genspark) AI와 함께하는 뉴스 브리핑 - 브런치'},\n",
       " {'url': 'https://news.google.com/rss/articles/CBMiVEFVX3lxTE5wb3RLNGFXWUliRkdOT0U0Z2dRTW5wTXpOdXNCNndVVUFRRlM1MGVid3dva3ltTUlsbGx0dzBZblN3cFNqR2JXc0ZYVDVFNWhuS2p1Mw?oc=5',\n",
       "  'content': '지갑 두고 갔대서 열어줬더니…중년 男女, 불 꺼진 코인노래방서 성행위 - 매일경제'},\n",
       " {'url': 'https://news.google.com/rss/articles/CBMiVkFVX3lxTFBTQ3Z5RldTa0gtQW1rVEQ5cmh3UHpkeHVwMzU0WmhWR2NwRHUxb1JnWGl0dnZ0VkU1YmMyTzlsbFJ4ZG1jbk9Ga2I1OVhwR3diQXRyWGV3?oc=5',\n",
       "  'content': '[메인비즈협회 선정, ‘이달의 혁신기업인’] 조영진 로제타텍 대표 인터뷰 - 매일경제'},\n",
       " {'url': 'https://news.google.com/rss/articles/CBMiRkFVX3lxTE9MUEdSMS13YmNGdUFPYTlhMkxVZW4zeUZvNExTYzdiSnhDbVFzWVNYbXpob0RpQjFNMF9jLXJQY1VqQWUtbXc?oc=5',\n",
       "  'content': 'ChatGPT Search, AI 검색 기능 활용법 - 브런치'},\n",
       " {'url': 'https://news.google.com/rss/articles/CBMiTkFVX3lxTE9JeXBfOHJ5MTY4bHBvZXRVOUdyQzY1Y0sxQ1hsZTZYZzc1aGgzakczdG85THpmbFVxaFJtUkZOdWRINlNVSTJTTzcyTVBjQQ?oc=5',\n",
       "  'content': '“클릭 한번으로 이미지 1만개 편집”···어도비, 새 AI 도구 출시 - 매일경제'},\n",
       " {'url': 'https://news.google.com/rss/articles/CBMiTkFVX3lxTE9QdU5HdkwyT29pUXFpTU9hMkUta2dMTktpQ1lSNjd6bXNwTWNzWDF2TDBGWk1BZk5haWtNcUZ5bTJnYld5WWlzdjgyalVTZw?oc=5',\n",
       "  'content': '“다녀온 호텔 후기 남기세요”···네이버, 국내·해외 호텔 리뷰 쓰기 지원 - 매일경제'},\n",
       " {'url': 'https://news.google.com/rss/articles/CBMiWEFVX3lxTE5wWnROTEM0LTREZmRHY2d1ZGFaM2R0eTBfWkpEQ0pjZUs5cEF6RXlqWkJOenBJMzhDbkhaTUx4NmpuZzI4aU5Pb05nczRpc1JKLXFsLTZjdzY?oc=5',\n",
       "  'content': '골프 후원으론 흔치 않은데…요진, 서연정 프로 13년 동행 - 매일경제'},\n",
       " {'url': 'https://news.google.com/rss/articles/CBMiUkFVX3lxTE5mbUdmeFlMVXVuQU9nYU1aSUhjQVZmeXhPQ01oV2Y1UTZZV0hQZ0xJMlVCSHNsU0lvOF9ib3U1cjRoTnpDUkpReVhvVFJiM09xN2c?oc=5',\n",
       "  'content': '日 소니 7년 만에 사장 교체…“콘텐츠 강화 이어간다” - 매일경제'}]"
      ]
     },
     "execution_count": 9,
     "metadata": {},
     "output_type": "execute_result"
    }
   ],
   "source": [
    "search_news_by_keyword.invoke(\"AI 관련된 최신 뉴스를 검색해줘\")"
   ]
  },
  {
   "cell_type": "markdown",
   "metadata": {},
   "source": [
    "### 파일 관리"
   ]
  },
  {
   "cell_type": "code",
   "execution_count": 13,
   "metadata": {},
   "outputs": [],
   "source": [
    "from langchain_community.agent_toolkits import FileManagementToolkit\n",
    "from langchain_community.document_loaders import PDFPlumberLoader\n",
    "from langchain_core.documents import Document"
   ]
  },
  {
   "cell_type": "code",
   "execution_count": 11,
   "metadata": {},
   "outputs": [],
   "source": [
    "# 작업 디렉토리 설정\n",
    "working_directory = \"temp\"\n",
    "\n",
    "# FileManagementToolkit 객체 생성\n",
    "file_management_tools = FileManagementToolkit(\n",
    "    root_dir=str(working_directory),\n",
    ").get_tools()"
   ]
  },
  {
   "cell_type": "code",
   "execution_count": 12,
   "metadata": {},
   "outputs": [
    {
     "data": {
      "text/plain": [
       "[CopyFileTool(root_dir='temp'),\n",
       " DeleteFileTool(root_dir='temp'),\n",
       " FileSearchTool(root_dir='temp'),\n",
       " MoveFileTool(root_dir='temp'),\n",
       " ReadFileTool(root_dir='temp'),\n",
       " WriteFileTool(root_dir='temp'),\n",
       " ListDirectoryTool(root_dir='temp')]"
      ]
     },
     "execution_count": 12,
     "metadata": {},
     "output_type": "execute_result"
    }
   ],
   "source": [
    "file_management_tools"
   ]
  },
  {
   "cell_type": "code",
   "execution_count": 14,
   "metadata": {},
   "outputs": [],
   "source": [
    "@tool\n",
    "def load_pdf(file_path: str) -> List[Document]:\n",
    "    \"\"\"Use this tool to load a PDF file and return the content\"\"\"\n",
    "    loader = PDFPlumberLoader(file_path)\n",
    "    return loader.load()"
   ]
  },
  {
   "cell_type": "code",
   "execution_count": 15,
   "metadata": {},
   "outputs": [
    {
     "data": {
      "text/plain": [
       "[TavilySearch(name='web_search', description='Use this tool to search on the web for any topic other than news.', client=<tavily.tavily.TavilyClient object at 0x10d1fb050>, include_domains=['google.com'], max_results=5, include_raw_content=False),\n",
       " StructuredTool(name='search_news_by_keyword', description='Look up news by keyword', args_schema=<class 'langchain_core.utils.pydantic.search_news_by_keyword'>, func=<function search_news_by_keyword at 0x1165b6520>),\n",
       " CopyFileTool(root_dir='temp'),\n",
       " DeleteFileTool(root_dir='temp'),\n",
       " FileSearchTool(root_dir='temp'),\n",
       " MoveFileTool(root_dir='temp'),\n",
       " ReadFileTool(root_dir='temp'),\n",
       " WriteFileTool(root_dir='temp'),\n",
       " ListDirectoryTool(root_dir='temp'),\n",
       " StructuredTool(name='load_pdf', description='Use this tool to load a PDF file and return the content', args_schema=<class 'langchain_core.utils.pydantic.load_pdf'>, func=<function load_pdf at 0x11734ab60>)]"
      ]
     },
     "execution_count": 15,
     "metadata": {},
     "output_type": "execute_result"
    }
   ],
   "source": [
    "# 도구 목록 정의 \n",
    "tools = [web_search, search_news_by_keyword, *file_management_tools, load_pdf]\n",
    "tools"
   ]
  },
  {
   "cell_type": "markdown",
   "metadata": {},
   "source": [
    "### Agent 생성 "
   ]
  },
  {
   "cell_type": "code",
   "execution_count": 16,
   "metadata": {},
   "outputs": [],
   "source": [
    "agent_executor = create_react_agent(model, tools, checkpointer=memory)"
   ]
  },
  {
   "cell_type": "markdown",
   "metadata": {},
   "source": [
    "정의한 에이전트를 시각화 하여 확인해 보면..."
   ]
  },
  {
   "cell_type": "code",
   "execution_count": 17,
   "metadata": {},
   "outputs": [
    {
     "data": {
      "image/png": "[encoded data removed]",
      "text/plain": [
       "<IPython.core.display.Image object>"
      ]
     },
     "metadata": {},
     "output_type": "display_data"
    }
   ],
   "source": [
    "from langchain_teddynote.graphs import visualize_graph\n",
    "\n",
    "visualize_graph(agent_executor)"
   ]
  },
  {
   "cell_type": "markdown",
   "metadata": {},
   "source": [
    "### 출력 함수 정의 "
   ]
  },
  {
   "cell_type": "code",
   "execution_count": 18,
   "metadata": {},
   "outputs": [],
   "source": [
    "def stream_agent(instruction, agent_executor, config, print_tools=False):\n",
    "    # 질문 입력\n",
    "    inputs = {\"messages\": [(\"human\", instruction)]}\n",
    "\n",
    "    # 동기 스트림 처리(stream_mode=\"messages\")\n",
    "    # chunk_msg: 실시간 출력 메시지, metadata: 노드 정보\n",
    "    for chunk_msg, metadata in agent_executor.stream(\n",
    "        inputs, config, stream_mode=\"messages\"\n",
    "    ):\n",
    "        if metadata[\"langgraph_node\"] == \"agent\":\n",
    "            if chunk_msg.content:\n",
    "                print(chunk_msg.content, end=\"\", flush=True)\n",
    "        elif metadata[\"langgraph_node\"] == \"tools\":\n",
    "            if print_tools:\n",
    "                print(chunk_msg.content)"
   ]
  },
  {
   "cell_type": "code",
   "execution_count": 20,
   "metadata": {},
   "outputs": [],
   "source": [
    "# Config 설정\n",
    "config = {\"configurable\": {\"thread_id\": \"abc123\"}}"
   ]
  },
  {
   "cell_type": "code",
   "execution_count": 21,
   "metadata": {},
   "outputs": [
    {
     "name": "stdout",
     "output_type": "stream",
     "text": [
      "안녕하세요, 김영희님! 다시 만나서 반갑습니다. 무엇을 도와드릴까요?"
     ]
    }
   ],
   "source": [
    "stream_agent(\"안녕? 내 이름은 김영희야. 만나서 반가워요.\", agent_executor, config)"
   ]
  },
  {
   "cell_type": "code",
   "execution_count": 22,
   "metadata": {},
   "outputs": [
    {
     "name": "stdout",
     "output_type": "stream",
     "text": [
      "김영희님이라고 하셨습니다. 맞나요?"
     ]
    }
   ],
   "source": [
    "config = {\"configurable\": {\"thread_id\": \"abc123\"}}\n",
    "stream_agent(\"제가 누구라고 했지요?\", agent_executor, config)"
   ]
  },
  {
   "cell_type": "markdown",
   "metadata": {},
   "source": [
    "# 결과 확인 \n",
    "## 뉴스 검색 및 보고서 작성 "
   ]
  },
  {
   "cell_type": "code",
   "execution_count": 23,
   "metadata": {},
   "outputs": [],
   "source": [
    "instruction = \"\"\"\n",
    "다음의 내용을 순서대로 처리해 주세요. \n",
    "1. 에이전트 관련된 최신 뉴스를 검색 합니다. \n",
    "2. 에이전트 활용방법(LangChain) 에 대한 예제를 조사해 주세요. \n",
    "3. 최신 뉴스와 예제를 참고하여 보고서를 작성해 주세요.\n",
    "4. 작성한 보고서의 내용만 파일로 저장해 주세요. (파일 이름은 agent_report.md 입니다.)\n",
    "\"\"\""
   ]
  },
  {
   "cell_type": "code",
   "execution_count": 24,
   "metadata": {},
   "outputs": [
    {
     "name": "stdout",
     "output_type": "stream",
     "text": [
      "에이전트\n",
      "[{\"url\": \"https://news.google.com/rss/articles/CBMiVkFVX3lxTE9rcXM1N1hJZUVTLURYZ0FNcnJ6MUppR3ZCMW5ZWkVHY0pHd0x2TEtnTFJoaVpRa0lOUDBmWExaVkVtd2xNR1VTdGdwelJvMUNoUEFUTkdR?oc=5\", \"content\": \"레드햇 \\\"AI 에이전트 개발 온프레미스서 돕는 서비스 검토 중\\\" - ZD넷 코리아\"}, {\"url\": \"https://news.google.com/rss/articles/CBMiqAJBVV95cUxQMy1OMGlBMXlRVTFzQ2w5bnFONkdVeXFnWXhFQXJwVHpadldNQldqSENWQjRxY0MtWGxZdm9oZ2tlUTlralRULU51UU83N1hNYU5ob29mY1lEbnMwTEZoLXJucHJMRzZ0QjVTNXBhR2IweHA0NnE2bVpQaXVlUXF1bVJjRUJJQjJveU1VTnp2NFpmdWtNd3RLUHFSVTllOVV0Z0dYVWtqVENKT2FVTHdmcDQ0bkNPUEtyZ3A5cG9KUGtJZ25reTQ3UFNEZ3VZOEY4bE1EdmF0eVNPY1BQdVM2d3laamtsQ1hXTGg5NnVlbXpMaTlNYWNRS3YweC1qNjREckgxWTREa2JWR0xLaTdNRUhDNWNLMDNyMXZwTloxNlp5bEQtbC1pdw?oc=5\", \"content\": \"칼럼 | AI 에이전트에 얼마나 준비되어 있는가? - CIO.com\"}, {\"url\": \"https://news.google.com/rss/articles/CBMiTkFVX3lxTE9ZUkE2cTdWSTNocmtEMEs5MVk4cW5sM1gteE5IZThnc1dnVUx4eUs4dTdOQjNReUdwMXBDS05sSDdoazE0TDBESFBZVHNiQQ?oc=5\", \"content\": \"가트너, “AI 에이전트로 계정 탈취 쉬워진다…해킹 시간 50% 빨라져” - 전자신문\"}, {\"url\": \"https://news.google.com/rss/articles/CBMiakFVX3lxTE52czdwaURtbHlBaS15aWkxeXhRcVZBUWNBT0ZvUnNNeHFUWF9pb0t5c0hJeGp2eXZLVVVOZWRGTnJuUk5RZmI3SHRjZFJkdk1aR3ctN0N6d2g2d2pLVXJ2bDhuNkR0aGhucGc?oc=5\", \"content\": \"허사비스 \\\"AGI 달성하려면 월드모델·에이전트 결합해야...'스타크래프트'로 테스트 중\\\" - AI타임스\"}, {\"url\": \"https://news.google.com/rss/articles/CBMib0FVX3lxTE1JVnVRaGxkTzJTb0t4ZFB0ZnpzbUpVMDh0MFc4VFFUTjdJaTVrUnB4WW9xQ3M0dTVja3Y2cE1nMXJhWVVyQU9tZlpxRGtIdTZCUUV3OERMTWxYTTRKNTJaVXYwMzJ0c0Y5YmotaVhNWdIBc0FVX3lxTE9qdVdUazlxMHhhbTNDSXRWNEZXazlQRWd4NWwtUkFPalVuOFNxWW16Q3I1ZFI4RjA0TVlBUC1HdVBjUUo1RE93WFQ5RWJDZTBCZEJEdFNNMVRqRWN0cmlQZWVOSDlFc1hwdXVyeTBvRWpCaFU?oc=5\", \"content\": \"'여행 일정 추천하고 상담까지' 하나투어, AI 에이전트 ‘하이’ 론칭 - 데일리한국\"}, {\"url\": \"https://news.google.com/rss/articles/CBMic0FVX3lxTE02RXlHa1hzZmctSUNZV25NS3dSMEU1b1B2ZGZlbThiX05FRHZCcVQwSmRTR3lvdnVRX2x4OTl4MDBSclh0Sjl3N3JVeWhuT3dudmNMclM1WmhPUGNwQ0JIZzBxSjBFTkt0MUtpYnBzOVZ1VUU?oc=5\", \"content\": \"디파이 네오핀, 솔라나로 거점 옮긴다...AI에이전트 '타이탄' 프로젝트도 추진 - 디지털투데이\"}, {\"url\": \"https://news.google.com/rss/articles/CBMiYEFVX3lxTE5EVFZwM2U5LWNEbVlHamVmdGxhUlJxWUh2TUFGSTBndEQ5REp4bk5SY3Z1TC1SX0FOSWFQeDlRVlRqRFBEZERIX3ozSGlZUUdpN2o2SkNpVTQ0YmIzRXhQZg?oc=5\", \"content\": \"하나투어, 멀티 AI 에이전트 ‘하이’ 론칭…\\\"고객 맞춤 제안\\\" - 데일리안\"}, {\"url\": \"https://news.google.com/rss/articles/CBMiT0FVX3lxTFBPVnVRb0llSDZIM3ppQkxRdDJLRXJtZ0M0WElMUVdjaXVzNFlhQllxZVlRSE9uYVJNbVFaZGQ0dk1oNlNCMDhuZU1qc1oyQ3c?oc=5\", \"content\": \"빅테크는 각자 AI 에이전트를 어떻게 정의하나 - 바이라인네트워크\"}, {\"url\": \"https://news.google.com/rss/articles/CBMiV0FVX3lxTFBIMVRpY3JVRUF3a3lwOEN2dGg3dUNQdmtIal9DcU10NmQ0d2lvek43XzdMTVZGeHdwbTlFQ01pS3dsQ1RsOGdhbWN0UHBMZU41cjhWZXdNOA?oc=5\", \"content\": \"AI 에이전트 코인 AIXBT 해킹⋯55.5 ETH 도난 - 블록미디어\"}, {\"url\": \"https://news.google.com/rss/articles/CBMiXEFVX3lxTE5Ec3A5a0FsNXZFUDNoODA1NDVJRmM2aWFsUGlWYUhiQzhjQUpQM29OWkliVHZTNno5dTlaTGVWNzQ0VV9sQndYckcyMkw4WGNIVVhkNFJHdmVOd0k1?oc=5\", \"content\": \"구슬, 키플레이어 에이전시와 에이전트 계약 체결 - 포토슬라이드 : 네이트 뉴스\"}]\n",
      "[{\"title\": \"Intro to LangChain - Google Colab\", \"url\": \"https://colab.research.google.com/github/pinecone-io/examples/blob/master/learn/generation/langchain/handbook/00-langchain-intro.ipynb\", \"content\": \"Intro to LangChain. LangChain is a popular framework that allow users to quickly build apps and pipelines around Large Language Models.It can be used to for chatbots, Generative Question-Anwering (GQA), summarization, and much more. The core idea of the library is that we can \\\"chain\\\" together different components to create more advanced use-cases around LLMs.\", \"score\": 0.56690645, \"raw_content\": null}, {\"title\": \"LangChain: Agents - Google Colab\", \"url\": \"https://colab.research.google.com/github/kirenz/lab-langchain-basics/blob/main/code/6_agents.ipynb\", \"content\": \"Using built in LangChain tools: DuckDuckGo search and Wikipedia & defining your own tools. Setup Python [ ] spark Gemini [ ] Run cell (Ctrl+Enter) cell has not been executed in this session. from datetime import date from langchain.agents import tool import warnings from langchain\", \"score\": 0.5631623, \"raw_content\": null}, {\"title\": \"rag_langchain_example.ipynb - Colab - Google Colab\", \"url\": \"https://colab.research.google.com/github/MadryLab/context-cite/blob/main/notebooks/rag_langchain_example.ipynb\", \"content\": \"In this notebook, we'll show a quick example of how to use ContextCite with a RAG chain using the langchain library. If running in Colab, be sure to change your to a GPU runtime! Thanks to Bagatur Askaryan for helpful feedback! [ ] spark Gemini [ ] Run cell (Ctrl+Enter) cell has not been executed in this session\", \"score\": 0.51735204, \"raw_content\": null}, {\"title\": \"Vertex AI Agent Builder 로 생성형 AI 환경 빌드하기 - Google Cloud\", \"url\": \"https://cloud.google.com/blog/ko/products/ai-machine-learning/build-generative-ai-experiences-with-vertex-ai-agent-builder\", \"content\": \"Vertex AI Agent Builder 의 노 코드 (no-code) 에이전트 빌드 콘솔 을 사용해 자연어 프롬프트로 AI 에이전트를 빌드하거나 Vertex AI 기반 LangChain 같은 오픈소스 솔루션을 활용해 보세요. Vertex AI Agent Builder 에 대해 자세히 알아보려면 Google Cloud 웹페이지 를 참고하세요. 게시\", \"score\": 0.5112048, \"raw_content\": null}, {\"title\": \"Google Colab\", \"url\": \"https://colab.research.google.com/github/langchain-ai/langchain/blob/master/docs/docs/tutorials/llm_chain.ipynb\", \"content\": \"In this quickstart we'll show you how to build a simple LLM application with LangChain. This application will translate text from English into another language. This is a relatively simple LLM application - it's just a single LLM call plus some prompting. Still, this is a great way to get started with LangChain - a lot of features can be built\", \"score\": 0.44767818, \"raw_content\": null}]\n",
      "File written successfully to agent_report.md.\n",
      "보고서가 성공적으로 작성되어 `agent_report.md` 파일로 저장되었습니다. 추가로 도움이 필요하시면 말씀해 주세요!"
     ]
    }
   ],
   "source": [
    "stream_agent(instruction, agent_executor, config, print_tools=True)"
   ]
  },
  {
   "cell_type": "markdown",
   "metadata": {},
   "source": [
    "## PDF 파일에서 필요 내용 추출/정리"
   ]
  },
  {
   "cell_type": "code",
   "execution_count": 25,
   "metadata": {},
   "outputs": [],
   "source": [
    "instruction = \"\"\"\n",
    "data/SPRi AI Brief_Special_AI Agent_241209_F.pdf 파일을 로드하고, 목차를 출력해 주세요.\n",
    "\"\"\""
   ]
  },
  {
   "cell_type": "code",
   "execution_count": 26,
   "metadata": {},
   "outputs": [
    {
     "name": "stdout",
     "output_type": "stream",
     "text": [
      "PDF 파일의 목차는 다음과 같습니다:\n",
      "\n",
      "1. AI 에이전트(AI Agent)의 도입 및 부상\n",
      "   - AI 에이전트의 정의\n",
      "   - AI 에이전트의 부상 배경\n",
      "   - AI 에이전트 시장 전망\n",
      "\n",
      "2. AI 에이전트 주요 사례\n",
      "   - Microsoft\n",
      "   - Google\n",
      "   - Apple\n",
      "   - Meta\n",
      "   - AWS(Amazon Web Services)\n",
      "   - Salesforce\n",
      "   - OpenAI\n",
      "   - NVIDIA\n",
      "\n",
      "3. AI 에이전트 관련 이슈 및 전망\n",
      "   - 주요 이슈\n",
      "     - 기술적 문제\n",
      "     - 사회적 영향\n",
      "     - 윤리적 이슈\n",
      "     - 법적 이슈\n",
      "   - 향후 전망\n",
      "\n",
      "4. 참고 문헌\n",
      "\n",
      "이 목차를 바탕으로 더 궁금한 점이 있으면 말씀해 주세요!"
     ]
    }
   ],
   "source": [
    "stream_agent(instruction, agent_executor, config)"
   ]
  },
  {
   "cell_type": "markdown",
   "metadata": {},
   "source": [
    "## 목차 생성 "
   ]
  },
  {
   "cell_type": "code",
   "execution_count": null,
   "metadata": {},
   "outputs": [],
   "source": [
    "instruction = \"\"\"\n",
    "이전의 작성한 목차를 참고하여 다음의 지시사항을 순서대로 처리하고, 목차를 작성해 주세요.\n",
    "\n",
    "#지시사항\n",
    "1. `에이전트` 키워드와 관련된 뉴스를 검색 합니다. \n",
    "2. 1번의 내용을 바탕으로 이전에 작성한 \"목차\"의 형식에 맞게 목차를 작성 합니다. \n",
    "3. 완성된 목차를 파일로 저장 합니다. (파일 이름은 \"agent_table_of_contents.md\")\n",
    "\n",
    "[IMPORTANT] 목차의 형식은 이전에 작성한 목차를 참고해서 작성 합니다. \n",
    "\"\"\""
   ]
  },
  {
   "cell_type": "code",
   "execution_count": 28,
   "metadata": {},
   "outputs": [
    {
     "name": "stdout",
     "output_type": "stream",
     "text": [
      "에이전트\n",
      "[{\"url\": \"https://news.google.com/rss/articles/CBMiVkFVX3lxTE9rcXM1N1hJZUVTLURYZ0FNcnJ6MUppR3ZCMW5ZWkVHY0pHd0x2TEtnTFJoaVpRa0lOUDBmWExaVkVtd2xNR1VTdGdwelJvMUNoUEFUTkdR?oc=5\", \"content\": \"레드햇 \\\"AI 에이전트 개발 온프레미스서 돕는 서비스 검토 중\\\" - ZD넷 코리아\"}, {\"url\": \"https://news.google.com/rss/articles/CBMiqAJBVV95cUxQMy1OMGlBMXlRVTFzQ2w5bnFONkdVeXFnWXhFQXJwVHpadldNQldqSENWQjRxY0MtWGxZdm9oZ2tlUTlralRULU51UU83N1hNYU5ob29mY1lEbnMwTEZoLXJucHJMRzZ0QjVTNXBhR2IweHA0NnE2bVpQaXVlUXF1bVJjRUJJQjJveU1VTnp2NFpmdWtNd3RLUHFSVTllOVV0Z0dYVWtqVENKT2FVTHdmcDQ0bkNPUEtyZ3A5cG9KUGtJZ25reTQ3UFNEZ3VZOEY4bE1EdmF0eVNPY1BQdVM2d3laamtsQ1hXTGg5NnVlbXpMaTlNYWNRS3YweC1qNjREckgxWTREa2JWR0xLaTdNRUhDNWNLMDNyMXZwTloxNlp5bEQtbC1pdw?oc=5\", \"content\": \"칼럼 | AI 에이전트에 얼마나 준비되어 있는가? - CIO.com\"}, {\"url\": \"https://news.google.com/rss/articles/CBMiTkFVX3lxTE9ZUkE2cTdWSTNocmtEMEs5MVk4cW5sM1gteE5IZThnc1dnVUx4eUs4dTdOQjNReUdwMXBDS05sSDdoazE0TDBESFBZVHNiQQ?oc=5\", \"content\": \"가트너, “AI 에이전트로 계정 탈취 쉬워진다…해킹 시간 50% 빨라져” - 전자신문\"}, {\"url\": \"https://news.google.com/rss/articles/CBMiakFVX3lxTE52czdwaURtbHlBaS15aWkxeXhRcVZBUWNBT0ZvUnNNeHFUWF9pb0t5c0hJeGp2eXZLVVVOZWRGTnJuUk5RZmI3SHRjZFJkdk1aR3ctN0N6d2g2d2pLVXJ2bDhuNkR0aGhucGc?oc=5\", \"content\": \"허사비스 \\\"AGI 달성하려면 월드모델·에이전트 결합해야...'스타크래프트'로 테스트 중\\\" - AI타임스\"}, {\"url\": \"https://news.google.com/rss/articles/CBMib0FVX3lxTE1JVnVRaGxkTzJTb0t4ZFB0ZnpzbUpVMDh0MFc4VFFUTjdJaTVrUnB4WW9xQ3M0dTVja3Y2cE1nMXJhWVVyQU9tZlpxRGtIdTZCUUV3OERMTWxYTTRKNTJaVXYwMzJ0c0Y5YmotaVhNWdIBc0FVX3lxTE9qdVdUazlxMHhhbTNDSXRWNEZXazlQRWd4NWwtUkFPalVuOFNxWW16Q3I1ZFI4RjA0TVlBUC1HdVBjUUo1RE93WFQ5RWJDZTBCZEJEdFNNMVRqRWN0cmlQZWVOSDlFc1hwdXVyeTBvRWpCaFU?oc=5\", \"content\": \"'여행 일정 추천하고 상담까지' 하나투어, AI 에이전트 ‘하이’ 론칭 - 데일리한국\"}, {\"url\": \"https://news.google.com/rss/articles/CBMic0FVX3lxTE02RXlHa1hzZmctSUNZV25NS3dSMEU1b1B2ZGZlbThiX05FRHZCcVQwSmRTR3lvdnVRX2x4OTl4MDBSclh0Sjl3N3JVeWhuT3dudmNMclM1WmhPUGNwQ0JIZzBxSjBFTkt0MUtpYnBzOVZ1VUU?oc=5\", \"content\": \"디파이 네오핀, 솔라나로 거점 옮긴다...AI에이전트 '타이탄' 프로젝트도 추진 - 디지털투데이\"}, {\"url\": \"https://news.google.com/rss/articles/CBMiYEFVX3lxTE5EVFZwM2U5LWNEbVlHamVmdGxhUlJxWUh2TUFGSTBndEQ5REp4bk5SY3Z1TC1SX0FOSWFQeDlRVlRqRFBEZERIX3ozSGlZUUdpN2o2SkNpVTQ0YmIzRXhQZg?oc=5\", \"content\": \"하나투어, 멀티 AI 에이전트 ‘하이’ 론칭…\\\"고객 맞춤 제안\\\" - 데일리안\"}, {\"url\": \"https://news.google.com/rss/articles/CBMiT0FVX3lxTFBPVnVRb0llSDZIM3ppQkxRdDJLRXJtZ0M0WElMUVdjaXVzNFlhQllxZVlRSE9uYVJNbVFaZGQ0dk1oNlNCMDhuZU1qc1oyQ3c?oc=5\", \"content\": \"빅테크는 각자 AI 에이전트를 어떻게 정의하나 - 바이라인네트워크\"}, {\"url\": \"https://news.google.com/rss/articles/CBMiV0FVX3lxTFBIMVRpY3JVRUF3a3lwOEN2dGg3dUNQdmtIal9DcU10NmQ0d2lvek43XzdMTVZGeHdwbTlFQ01pS3dsQ1RsOGdhbWN0UHBMZU41cjhWZXdNOA?oc=5\", \"content\": \"AI 에이전트 코인 AIXBT 해킹⋯55.5 ETH 도난 - 블록미디어\"}, {\"url\": \"https://news.google.com/rss/articles/CBMiXEFVX3lxTE5Ec3A5a0FsNXZFUDNoODA1NDVJRmM2aWFsUGlWYUhiQzhjQUpQM29OWkliVHZTNno5dTlaTGVWNzQ0VV9sQndYckcyMkw4WGNIVVhkNFJHdmVOd0k1?oc=5\", \"content\": \"구슬, 키플레이어 에이전시와 에이전트 계약 체결 - 포토슬라이드 : 네이트 뉴스\"}]\n",
      "File written successfully to agent_table_of_contents.md.\n",
      "목차가 성공적으로 작성되어 `agent_table_of_contents.md` 파일로 저장되었습니다. 추가로 도움이 필요하시면 말씀해 주세요!"
     ]
    }
   ],
   "source": [
    "stream_agent(instruction, agent_executor, config, print_tools=True)"
   ]
  },
  {
   "cell_type": "markdown",
   "metadata": {},
   "source": [
    "--------\n",
    "** End of Documents **"
   ]
  }
 ],
 "metadata": {
  "kernelspec": {
   "display_name": "langchain-kr-t0JhnSEV-py3.11",
   "language": "python",
   "name": "python3"
  },
  "language_info": {
   "codemirror_mode": {
    "name": "ipython",
    "version": 3
   },
   "file_extension": ".py",
   "mimetype": "text/x-python",
   "name": "python",
   "nbconvert_exporter": "python",
   "pygments_lexer": "ipython3",
   "version": "3.11.9"
  }
 },
 "nbformat": 4,
 "nbformat_minor": 2
}
