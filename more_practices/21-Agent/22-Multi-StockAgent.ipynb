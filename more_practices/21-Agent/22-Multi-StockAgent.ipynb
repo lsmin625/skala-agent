{
 "cells": [
  {
   "cell_type": "code",
   "execution_count": 1,
   "metadata": {},
   "outputs": [],
   "source": [
    "# !pip install yfinance"
   ]
  },
  {
   "cell_type": "code",
   "execution_count": 2,
   "metadata": {},
   "outputs": [
    {
     "data": {
      "text/plain": [
       "True"
      ]
     },
     "execution_count": 2,
     "metadata": {},
     "output_type": "execute_result"
    }
   ],
   "source": [
    "from dotenv import load_dotenv\n",
    "load_dotenv()"
   ]
  },
  {
   "cell_type": "code",
   "execution_count": 3,
   "metadata": {},
   "outputs": [
    {
     "name": "stdout",
     "output_type": "stream",
     "text": [
      "LangSmith 추적을 시작합니다.\n",
      "[프로젝트명]\n",
      "CH21-2-MultiAGENT\n"
     ]
    }
   ],
   "source": [
    "from langchain_teddynote import logging\n",
    "logging.langsmith(\"CH21-2-MultiAGENT\")"
   ]
  },
  {
   "cell_type": "markdown",
   "metadata": {},
   "source": [
    "# Multi Agent \n",
    "\n",
    "Supervision 기반 주식 종목 평가"
   ]
  },
  {
   "cell_type": "code",
   "execution_count": 4,
   "metadata": {},
   "outputs": [],
   "source": [
    "import functools\n",
    "import operator\n",
    "from typing import Annotated, TypedDict, Sequence, Literal\n",
    "from pydantic import BaseModel\n",
    "\n",
    "from langchain_openai import ChatOpenAI\n",
    "from langchain_core.messages import HumanMessage, BaseMessage\n",
    "from langchain_core.prompts import ChatPromptTemplate, MessagesPlaceholder\n",
    "from langchain_community.tools.tavily_search import TavilySearchResults\n",
    "from langchain_experimental.tools import PythonREPLTool\n",
    "from langchain.tools import tool\n",
    "from langgraph.graph import StateGraph, START, END\n",
    "from langgraph.prebuilt import create_react_agent"
   ]
  },
  {
   "cell_type": "code",
   "execution_count": 5,
   "metadata": {},
   "outputs": [],
   "source": [
    "# 폰트 설정 \n",
    "import matplotlib.pyplot as plt\n",
    "import matplotlib as mpl\n",
    "\n",
    "# MAC\n",
    "plt.rcParams['font.family'] = 'AppleGothic'\n",
    "mpl.rcParams['axes.unicode_minus'] = False\n",
    "\n",
    "# WINDOWS\n",
    "# plt.rcParams['font.family'] = 'Malgun Gothic'\n",
    "# mpl.rcParams['axes.unicode_minus'] = False"
   ]
  },
  {
   "cell_type": "markdown",
   "metadata": {},
   "source": [
    "## 1. Tool"
   ]
  },
  {
   "cell_type": "markdown",
   "metadata": {},
   "source": [
    "### 인터넷 도구, 파이썬 코드 도구"
   ]
  },
  {
   "cell_type": "code",
   "execution_count": 6,
   "metadata": {},
   "outputs": [],
   "source": [
    "tavily_tool = TavilySearchResults(max_results=5)\n",
    "python_repl_tool = PythonREPLTool()"
   ]
  },
  {
   "cell_type": "markdown",
   "metadata": {},
   "source": [
    "### 주식 도구"
   ]
  },
  {
   "cell_type": "code",
   "execution_count": 7,
   "metadata": {},
   "outputs": [],
   "source": [
    "import yfinance as yf\n",
    "from datetime import datetime, timedelta\n",
    "import pandas as pd"
   ]
  },
  {
   "cell_type": "code",
   "execution_count": 8,
   "metadata": {},
   "outputs": [
    {
     "name": "stdout",
     "output_type": "stream",
     "text": [
      "2025-04-01 16:18:40.128302+09:00\n"
     ]
    }
   ],
   "source": [
    "# 한국시간으로 데이터를 정확하게 가져오기 위한 확인 \n",
    "import pytz\n",
    "from datetime import datetime, timedelta\n",
    "\n",
    "# 한국 시간 기준 현재 시각 확인\n",
    "now_kst = datetime.now(pytz.timezone('Asia/Seoul'))\n",
    "print(now_kst)"
   ]
  },
  {
   "cell_type": "code",
   "execution_count": 9,
   "metadata": {},
   "outputs": [
    {
     "name": "stdout",
     "output_type": "stream",
     "text": [
      "                              Open     High      Low    Close   Volume  \\\n",
      "Datetime                                                                 \n",
      "2025-04-01 10:00:00+09:00  58200.0  59100.0  58050.0  59100.0  2902054   \n",
      "2025-04-01 11:00:00+09:00  59050.0  59600.0  59000.0  59300.0  1758858   \n",
      "2025-04-01 12:00:00+09:00  59300.0  59400.0  58900.0  58950.0  1041837   \n",
      "2025-04-01 13:00:00+09:00  58950.0  59300.0  58700.0  59100.0  1591998   \n",
      "2025-04-01 14:00:00+09:00  59150.0  59300.0  58800.0  59000.0  1236448   \n",
      "\n",
      "                           Dividends  Stock Splits  \n",
      "Datetime                                            \n",
      "2025-04-01 10:00:00+09:00        0.0           0.0  \n",
      "2025-04-01 11:00:00+09:00        0.0           0.0  \n",
      "2025-04-01 12:00:00+09:00        0.0           0.0  \n",
      "2025-04-01 13:00:00+09:00        0.0           0.0  \n",
      "2025-04-01 14:00:00+09:00        0.0           0.0  \n"
     ]
    }
   ],
   "source": [
    "# 조회기간 \n",
    "end_date = datetime.today()\n",
    "start_date = end_date - timedelta(days=7)\n",
    "\n",
    "# 삼성전자 시세 불러오기 (1시간 간격, 최근 7일)\n",
    "ticker = yf.Ticker(\"005930.KS\")\n",
    "historical_prices = ticker.history(start=start_date, end=end_date, interval='1h')\n",
    "\n",
    "print(historical_prices.tail())"
   ]
  },
  {
   "cell_type": "code",
   "execution_count": 10,
   "metadata": {},
   "outputs": [
    {
     "data": {
      "text/plain": [
       "Datetime\n",
       "2025-03-26 09:00:00+09:00    60350.0\n",
       "2025-03-26 10:00:00+09:00    61400.0\n",
       "2025-03-26 11:00:00+09:00    61200.0\n",
       "2025-03-26 12:00:00+09:00    61200.0\n",
       "2025-03-26 13:00:00+09:00    61200.0\n",
       "2025-03-26 14:00:00+09:00    61100.0\n",
       "2025-03-27 09:00:00+09:00    61600.0\n",
       "2025-03-27 10:00:00+09:00    61650.0\n",
       "2025-03-27 11:00:00+09:00    61800.0\n",
       "2025-03-27 12:00:00+09:00    61700.0\n",
       "2025-03-27 13:00:00+09:00    61800.0\n",
       "2025-03-27 14:00:00+09:00    61600.0\n",
       "2025-03-28 09:00:00+09:00    60600.0\n",
       "2025-03-28 10:00:00+09:00    60600.0\n",
       "2025-03-28 11:00:00+09:00    60400.0\n",
       "2025-03-28 12:00:00+09:00    60500.0\n",
       "2025-03-28 13:00:00+09:00    60350.0\n",
       "2025-03-28 14:00:00+09:00    60000.0\n",
       "2025-03-31 09:00:00+09:00    58800.0\n",
       "2025-03-31 10:00:00+09:00    58600.0\n",
       "2025-03-31 11:00:00+09:00    58200.0\n",
       "2025-03-31 12:00:00+09:00    58150.0\n",
       "2025-03-31 13:00:00+09:00    58200.0\n",
       "2025-03-31 14:00:00+09:00    58150.0\n",
       "2025-04-01 09:00:00+09:00    58200.0\n",
       "2025-04-01 10:00:00+09:00    59100.0\n",
       "2025-04-01 11:00:00+09:00    59300.0\n",
       "2025-04-01 12:00:00+09:00    58950.0\n",
       "2025-04-01 13:00:00+09:00    59100.0\n",
       "2025-04-01 14:00:00+09:00    59000.0\n",
       "Name: Close, dtype: float64"
      ]
     },
     "execution_count": 10,
     "metadata": {},
     "output_type": "execute_result"
    }
   ],
   "source": [
    "# 최근 7일 시점의 날짜+시간과 종가 추출\n",
    "last_close_history = historical_prices['Close']\n",
    "\n",
    "# 날짜와 시간까지 포함된 딕셔너리 생성\n",
    "last_5_hours_close_dict = {\n",
    "    date.strftime('%Y-%m-%d %H:%M'): price for date, price in last_close_history.items()\n",
    "}\n",
    "\n",
    "# 결과 확인\n",
    "last_close_history"
   ]
  },
  {
   "cell_type": "code",
   "execution_count": 11,
   "metadata": {},
   "outputs": [],
   "source": [
    "#재무 분석 툴 설정\n",
    "@tool\n",
    "def stock_analysis(ticker: str) -> str:\n",
    "    \"\"\"\n",
    "    주어진 주식 티커에 대한 업데이트된 종합적인 재무 분석을 수행합니다.\n",
    "    최신 주가 정보, 재무 지표, 성장률, 밸류에이션 및 주요 비율을 제공합니다.\n",
    "    가장 최근 영업일 기준의 데이터를 사용합니다.\n",
    "    \n",
    "    :param ticker: 분석할 주식의 티커 심볼\n",
    "    :return: 재무 분석 결과를 포함한 문자열\n",
    "    \"\"\"\n",
    "    def format_number(number):\n",
    "        if number is None or pd.isna(number):\n",
    "            return \"N/A\"\n",
    "        return f\"{number:,.0f}\"\n",
    "\n",
    "    def format_financial_summary(financials):\n",
    "        summary = {}\n",
    "        for date, data in financials.items():\n",
    "            date_str = date.strftime('%Y-%m-%d %H:%M')\n",
    "            summary[date_str] = {\n",
    "                \"총수익\": format_number(data.get('TotalRevenue')),\n",
    "                \"영업이익\": format_number(data.get('OperatingIncome')),\n",
    "                \"순이익\": format_number(data.get('NetIncome')),\n",
    "                \"EBITDA\": format_number(data.get('EBITDA')),\n",
    "                \"EPS(희석)\": f\"${data.get('DilutedEPS'):.2f}\" if pd.notna(data.get('DilutedEPS')) else \"N/A\"\n",
    "            }\n",
    "        return summary\n",
    "\n",
    "    ticker = yf.Ticker(ticker)\n",
    "    historical_prices = ticker.history(start=start_date, end=end_date, interval='1h')\n",
    "\n",
    "    last_histroy_close = historical_prices['Close']\n",
    "    last_histroy_close_dict = {date.strftime('%Y-%m-%d %H:%M'): price for date, price in last_histroy_close.items()}\n",
    "\n",
    "    # 연간 및 분기별 재무제표 데이터 가져오기\n",
    "    annual_financials = ticker.get_financials()\n",
    "    quarterly_financials = ticker.get_financials(freq=\"quarterly\")\n",
    "\n",
    "    return str({\n",
    "        \"최근 종가\": last_histroy_close_dict,\n",
    "        \"연간 재무제표 요약\": format_financial_summary(annual_financials),\n",
    "        \"분기별 재무제표 요약\": format_financial_summary(quarterly_financials),\n",
    "    })"
   ]
  },
  {
   "cell_type": "markdown",
   "metadata": {},
   "source": [
    "## 2. Agent \n",
    "### Supervisor 에이전트 \n",
    "\n",
    "options = [\"FINISH\"] + members\n",
    "\n",
    "- Supervisor 에이전트의 역할은 다음 중 하나를 결정하는 것 \n",
    "    - 다음 어떤 member가 일을 해야 할지 \n",
    "    - 아니면 작업이 다 끝났는지 (\"FINISH\")\n",
    "- 최종 선택지 = [\"FINISH\", \"Researcher\", \"Stock_Analyzer\", \"Chart_Generator\"]"
   ]
  },
  {
   "cell_type": "code",
   "execution_count": 12,
   "metadata": {},
   "outputs": [],
   "source": [
    "today = datetime.today().strftime('%Y-%m-%d')"
   ]
  },
  {
   "cell_type": "code",
   "execution_count": 13,
   "metadata": {},
   "outputs": [],
   "source": [
    "members = [\"Researcher\", \"Stock_Analyzer\", \"Chart_Generator\"]\n",
    "system_prompt = (\n",
    "    \"Today is {today}.\"\n",
    "    \"You are a supervisor tasked with managing a conversation between the\"\n",
    "    \" following workers: {members}. Given the following user request,\"\n",
    "    \" respond with the worker to act next. Each worker will perform a\"\n",
    "    \" task and respond with their results and status. When finished,\"\n",
    "    \" respond with FINISH.\"\n",
    ")\n",
    "\n",
    "options = [\"FINISH\"] + members"
   ]
  },
  {
   "cell_type": "code",
   "execution_count": 14,
   "metadata": {},
   "outputs": [],
   "source": [
    "class routeResponse(BaseModel):\n",
    "    next: Literal[*options]\n",
    "\n",
    "prompt = ChatPromptTemplate.from_messages(\n",
    "    [\n",
    "        (\"system\", system_prompt),\n",
    "        MessagesPlaceholder(variable_name=\"messages\"),\n",
    "        (\n",
    "            \"system\",\n",
    "            \"Given the conversation above, who should act next?\"\n",
    "            \" Or should we FINISH? Select one of: {options}\",\n",
    "        ),\n",
    "    ]\n",
    ").partial(\n",
    "    today=today,\n",
    "    options=str(options), \n",
    "    members=\", \".join(members),\n",
    ")\n",
    "\n",
    "llm = ChatOpenAI(model=\"gpt-4o-mini\")\n",
    "\n",
    "def supervisor_agent(state):\n",
    "    supervisor_chain = (\n",
    "        prompt\n",
    "        | llm.with_structured_output(routeResponse)\n",
    "    )\n",
    "    return supervisor_chain.invoke(state)"
   ]
  },
  {
   "cell_type": "markdown",
   "metadata": {},
   "source": [
    "### 하위 에이전트 "
   ]
  },
  {
   "cell_type": "code",
   "execution_count": 15,
   "metadata": {},
   "outputs": [],
   "source": [
    "def agent_node(state, agent, name):\n",
    "    result = agent.invoke(state)\n",
    "    return {\"messages\": [HumanMessage(content=result[\"messages\"][-1].content, name=name)]}"
   ]
  },
  {
   "cell_type": "code",
   "execution_count": 16,
   "metadata": {},
   "outputs": [],
   "source": [
    "class AgentState(TypedDict):\n",
    "    messages: Annotated[Sequence[BaseMessage], operator.add]\n",
    "    next: str # 다음 어떤 노드로 이동할지 지시 (Supervisor 판단 결과) "
   ]
  },
  {
   "cell_type": "code",
   "execution_count": 17,
   "metadata": {},
   "outputs": [],
   "source": [
    "# Researcher\n",
    "research_system_prompt = \"\"\"\n",
    "You are a helpful research analyst who is specialized in \n",
    "gathering valuable info for given stock.\n",
    "\"\"\"\n",
    "\n",
    "research_agent = create_react_agent(\n",
    "    llm, \n",
    "    tools=[tavily_tool], \n",
    "    state_modifier=research_system_prompt,\n",
    ")\n",
    "research_node = functools.partial(\n",
    "    agent_node, \n",
    "    agent=research_agent, \n",
    "    name=\"Researcher\",\n",
    ")\n",
    "\n",
    "# Stock_Analyzer\n",
    "stock_system_prompt=\"\"\"\n",
    "You are a helpful Stock and financial analyst. Never hallucinate the given metrics.\n",
    "\"\"\"\n",
    "\n",
    "stock_agent = create_react_agent(\n",
    "    llm, \n",
    "    tools=[stock_analysis], \n",
    "    state_modifier=stock_system_prompt,\n",
    ")\n",
    "stock_node = functools.partial(\n",
    "    agent_node, \n",
    "    agent=stock_agent, \n",
    "    name=\"Stock_Analyzer\",\n",
    ")\n",
    "\n",
    "# Chart_Generator\n",
    "chart_system_prompt=\"\"\"\n",
    "You are a helpful Stock Chart Generator. \n",
    "Only make accurate charts for given query. Chart design and accuracy should be state of the art.\n",
    "Never make any other mention.\n",
    "\"\"\"\n",
    "chart_agent = create_react_agent(\n",
    "    llm, \n",
    "    tools=[python_repl_tool], \n",
    "    state_modifier=chart_system_prompt,\n",
    ")\n",
    "chart_node = functools.partial(\n",
    "    agent_node, \n",
    "    agent=chart_agent, \n",
    "    name=\"Chart_Generator\",\n",
    ")"
   ]
  },
  {
   "cell_type": "code",
   "execution_count": 18,
   "metadata": {},
   "outputs": [],
   "source": [
    "workflow = StateGraph(AgentState)\n",
    "\n",
    "workflow.add_node(\"Researcher\", research_node)\n",
    "workflow.add_node(\"Stock_Analyzer\", stock_node)\n",
    "workflow.add_node(\"Chart_Generator\", chart_node)\n",
    "workflow.add_node(\"supervisor\", supervisor_agent)\n",
    "\n",
    "# 각 에이전트는 작업을 마친 후 반드시 supervisor에게 보고\n",
    "for member in members:\n",
    "    workflow.add_edge(member, \"supervisor\")\n",
    "\n",
    "# Supervisor는 상태의 \"next\" 필드를 바탕으로 다음 노드 또는 종료 여부를 결정 \n",
    "conditional_map = {k: k for k in members}\n",
    "conditional_map[\"FINISH\"] = END\n",
    "\n",
    "workflow.add_conditional_edges(\n",
    "    \"supervisor\", \n",
    "    lambda x: x[\"next\"], \n",
    "    conditional_map)\n",
    "\n",
    "workflow.add_edge(START, \"supervisor\")\n",
    "\n",
    "graph = workflow.compile()"
   ]
  },
  {
   "cell_type": "code",
   "execution_count": 19,
   "metadata": {},
   "outputs": [
    {
     "data": {
      "image/png": "[encoded data removed]",
      "text/plain": [
       "<IPython.core.display.Image object>"
      ]
     },
     "metadata": {},
     "output_type": "display_data"
    }
   ],
   "source": [
    "from langchain_teddynote.graphs import visualize_graph\n",
    "\n",
    "visualize_graph(graph)"
   ]
  },
  {
   "cell_type": "markdown",
   "metadata": {},
   "source": [
    "## 3. 실행"
   ]
  },
  {
   "cell_type": "code",
   "execution_count": 20,
   "metadata": {},
   "outputs": [
    {
     "name": "stdout",
     "output_type": "stream",
     "text": [
      "{'supervisor': {'next': 'Researcher'}}\n",
      "----\n",
      "{'Researcher': {'messages': [HumanMessage(content='삼성전자 주식 매수 결정을 위한 정보를 요약해 드리겠습니다.\\n\\n1. **시장 전망**: 삼성전자의 주력 사업인 메모리 반도체 시장은 2023년 하반기에 중요한 변수로 작용할 것으로 보입니다. 과거 몇 년간 공급 과잉과 수요 감소가 있었으나, 향후 수요 회복이 예상되고 있습니다. [자세한 내용](https://blog.naver.com/banana0422_/223556491776)\\n\\n2. **재무 지표**:\\n   - 배당수익률: 3.70%\\n   - 영업이익률: 11.95%\\n   - 순이익률: 12.00%\\n   - ROE: 12.63%\\n   이러한 지표들은 삼성전자가 안정적인 수익성을 유지하고 있음을 보여줍니다. [자세한 내용](http://comp.fnguide.com/SVO2/ASP/SVD_Main.asp?%s)\\n\\n3. **사업 부문**: 삼성전자는 크게 3가지 사업 부문(디바이스 익스피리언스, 디바이스 솔루션, 그리고 하드웨어)에 나뉘며, 이들 부문 모두에서 성장이 기대되고 있습니다. [자세한 내용](https://www.therich.io/community/articles/24036)\\n\\n4. **전문가 의견**: 최근 보고서에서는 삼성전자가 수요 회복의 초입 단계에 있으며, 매수 추천 의견이 나오고 있습니다. [자세한 내용](https://securities.miraeasset.com/bbs/board/message/list.do?categoryId=1800&searchType=2&searchStartYear=2023&searchStartMonth=05&searchStartDay=20&searchEndYear=2024&searchEndMonth=05&searchEndDay=19&listType=1&startId=09hdd~&startPage=51&curPage=54&direction=1)\\n\\n### 결론\\n삼성전자는 안정적인 배당 수익과 긍정적인 시장 전망을 가지고 있으며, 전문가들의 매수 추천 의견도 있습니다. 하지만 주식 투자는 리스크가 있으므로, 개인의 투자 목표와 리스크 수용 능력을 고려하여 신중히 결정하시기 바랍니다.', additional_kwargs={}, response_metadata={}, name='Researcher')]}}\n",
      "----\n",
      "{'supervisor': {'next': 'Stock_Analyzer'}}\n",
      "----\n"
     ]
    },
    {
     "name": "stderr",
     "output_type": "stream",
     "text": [
      "404 Client Error: Not Found for url: https://query2.finance.yahoo.com/v10/finance/quoteSummary/005930?modules=financialData%2CquoteType%2CdefaultKeyStatistics%2CassetProfile%2CsummaryDetail&corsDomain=finance.yahoo.com&formatted=false&symbol=005930&crumb=bUs%2FAHLjMxV\n",
      "404 Client Error: Not Found for url: https://query2.finance.yahoo.com/v10/finance/quoteSummary/005930?modules=financialData%2CquoteType%2CdefaultKeyStatistics%2CassetProfile%2CsummaryDetail&corsDomain=finance.yahoo.com&formatted=false&symbol=005930&crumb=bUs%2FAHLjMxV\n",
      "$005930: possibly delisted; no timezone found\n"
     ]
    },
    {
     "name": "stdout",
     "output_type": "stream",
     "text": [
      "{'Stock_Analyzer': {'messages': [HumanMessage(content='삼성전자(티커: 005930) 주식에 대한 최근 재무 분석 결과는 다음과 같습니다:\\n\\n1. **최근 종가**: 현재 주가는 확인할 수 없습니다.\\n2. **연간 재무제표 요약**: 구체적인 수치가 제공되지 않았습니다.\\n3. **분기별 재무제표 요약**: 구체적인 수치가 제공되지 않았습니다.\\n\\n현재 구체적인 재무 지표를 제공하지 못한 점 양해 부탁드립니다. 그러나, 이전에 제공된 정보들은 다음과 같은 결정을 내리는 데 도움이 될 수 있습니다:\\n\\n- **배당수익률**: 3.70%로 안정적인 배당을 제공하고 있어, 배당주 투자에 적합합니다.\\n- **영업이익률과 순이익률**: 각각 11.95%와 12.00%로, 안정적인 수익성을 보여줍니다.\\n- **ROE(자기자본이익률)**: 12.63%로, 자기자본에 대한 수익성이 높습니다.\\n- **전문가 의견**: 수요 회복의 초입 단계에 있으며, 매수 추천 의견이 있습니다.\\n\\n이 외에도 시장 전망이 긍정적이고, 사업 부문에서의 성장이 기대되고 있습니다. 하지만, 주식 투자는 항상 리스크가 있으므로, 개인의 투자 목표와 리스크 수용 능력을 고려하여 신중히 결정하시기 바랍니다. 추가적인 정보나 분석이 필요하시면 말씀해 주세요.', additional_kwargs={}, response_metadata={}, name='Stock_Analyzer')]}}\n",
      "----\n",
      "{'supervisor': {'next': 'Chart_Generator'}}\n",
      "----\n"
     ]
    },
    {
     "name": "stderr",
     "output_type": "stream",
     "text": [
      "Python REPL can execute arbitrary code. Use with caution.\n"
     ]
    },
    {
     "data": {
      "image/png": "[encoded data removed]",
      "text/plain": [
       "<Figure size 1000x500 with 2 Axes>"
      ]
     },
     "metadata": {},
     "output_type": "display_data"
    },
    {
     "name": "stdout",
     "output_type": "stream",
     "text": [
      "{'Chart_Generator': {'messages': [HumanMessage(content='삼성전자의 주가 차트와 거래량을 아래와 같이 시각화했습니다. 이 차트는 가상의 데이터를 기반으로 하여 작성되었으며, 주가는 파란색 선으로, 거래량은 주황색 막대그래프로 나타내어져 있습니다.\\n\\n![삼성전자 주가 및 거래량 차트](attachment://삼성전자주가차트.png) \\n\\n이 차트를 통해 삼성전자의 주가 동향과 거래량 변화를 시각적으로 확인할 수 있습니다. 추가적인 정보나 다른 차트가 필요하시면 말씀해 주세요.', additional_kwargs={}, response_metadata={}, name='Chart_Generator')]}}\n",
      "----\n",
      "{'supervisor': {'next': 'FINISH'}}\n",
      "----\n"
     ]
    }
   ],
   "source": [
    "for s in graph.stream({\"messages\": [HumanMessage(content=\"삼성전자 주식 매수 위한 의사 결정을 도와주세요\")]}):\n",
    "    if \"__end__\" not in s:\n",
    "        print(s)\n",
    "        print(\"----\")"
   ]
  },
  {
   "cell_type": "markdown",
   "metadata": {},
   "source": [
    "--------\n",
    "** End of Documents **"
   ]
  }
 ],
 "metadata": {
  "kernelspec": {
   "display_name": "langchain-kr-t0JhnSEV-py3.11",
   "language": "python",
   "name": "python3"
  },
  "language_info": {
   "codemirror_mode": {
    "name": "ipython",
    "version": 3
   },
   "file_extension": ".py",
   "mimetype": "text/x-python",
   "name": "python",
   "nbconvert_exporter": "python",
   "pygments_lexer": "ipython3",
   "version": "3.11.9"
  }
 },
 "nbformat": 4,
 "nbformat_minor": 2
}
