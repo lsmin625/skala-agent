{
 "cells": [
  {
   "cell_type": "code",
   "execution_count": 1,
   "metadata": {},
   "outputs": [
    {
     "data": {
      "text/plain": [
       "True"
      ]
     },
     "execution_count": 1,
     "metadata": {},
     "output_type": "execute_result"
    }
   ],
   "source": [
    "from dotenv import load_dotenv\n",
    "load_dotenv()"
   ]
  },
  {
   "cell_type": "code",
   "execution_count": 2,
   "metadata": {},
   "outputs": [
    {
     "name": "stdout",
     "output_type": "stream",
     "text": [
      "LangSmith 추적을 시작합니다.\n",
      "[프로젝트명]\n",
      "CH21-AGENT\n"
     ]
    }
   ],
   "source": [
    "from langchain_teddynote import logging\n",
    "logging.langsmith(\"CH21-AGENT\")"
   ]
  },
  {
   "cell_type": "markdown",
   "metadata": {},
   "source": [
    "# Tools \n",
    "\n",
    "- 도구(Tool) : Agent, Chain 또는 LLM이 외부와 상호작용 하기 위한 인터페이스 \n",
    "- LangChain에서 기본적으로 제공하는 도구, 또는 Custom Tool 구성하여 적용 \n",
    "- LangChain 도구 리스트 : https://python.langchain.com/v0.1/docs/integrations/tools/\n",
    "\n",
    "\n",
    "## Built-in Tools \n",
    "- LangChain에서 제공하는 사전 정의된 took & toolkit \n",
    "    - tool : 단일 도구 \n",
    "    - toolkit : 여러 도구를 묶어서 하나의 도구로 사용할 수 있음 \n",
    "    - https://python.langchain.com/docs/integrations/tools/\n",
    "\n",
    "### Python REPL Tools \n",
    "- 파이썬 코드를 REPL 환경에서 실행하기 위한 클래스 제공 \n",
    "    - REPL : Read-Eval-Print Loop, 파이썬을 바로 실행해 볼 수 있는 대화형 환경 \n",
    "    - https://python.langchain.com/docs/integrations/tools/python/\n"
   ]
  },
  {
   "cell_type": "code",
   "execution_count": 3,
   "metadata": {},
   "outputs": [],
   "source": [
    "from langchain_experimental.tools import PythonREPLTool"
   ]
  },
  {
   "cell_type": "code",
   "execution_count": 4,
   "metadata": {},
   "outputs": [
    {
     "name": "stderr",
     "output_type": "stream",
     "text": [
      "Python REPL can execute arbitrary code. Use with caution.\n"
     ]
    },
    {
     "name": "stdout",
     "output_type": "stream",
     "text": [
      "600\n",
      "\n"
     ]
    }
   ],
   "source": [
    "python_tool = PythonREPLTool()\n",
    "\n",
    "print(python_tool.invoke(\n",
    "    \"print (100 + 500)\"\n",
    "))"
   ]
  },
  {
   "cell_type": "markdown",
   "metadata": {},
   "source": [
    "#### LLM 적용 \n",
    "\n",
    "기본 흐름 \n",
    "1. LLM 모델에게 특정 작업을 수행하는 파이썬 코드 작성 요청 \n",
    "2. 작성된 코드를 실행하여 결과 획득 \n",
    "3. 결과 출력"
   ]
  },
  {
   "cell_type": "code",
   "execution_count": 5,
   "metadata": {},
   "outputs": [],
   "source": [
    "from langchain_openai import OpenAI\n",
    "from langchain_core.prompts import ChatPromptTemplate\n",
    "from langchain_core.output_parsers import StrOutputParser\n",
    "from langchain_core.runnables import RunnableLambda"
   ]
  },
  {
   "cell_type": "code",
   "execution_count": 10,
   "metadata": {},
   "outputs": [],
   "source": [
    "def print_and_execute(code, debug=True):\n",
    "    if debug:\n",
    "        print(\"CODE: \")\n",
    "        print(code)\n",
    "    \n",
    "    return python_tool.invoke(code)"
   ]
  },
  {
   "cell_type": "code",
   "execution_count": 11,
   "metadata": {},
   "outputs": [],
   "source": [
    "prompt = ChatPromptTemplate.from_messages(\n",
    "    [\n",
    "        (\n",
    "            \"system\",\n",
    "            \"You are Raymond Hetting, an expert python programmer, well versed in meta-programming and elegant, concise and short but well documented code. You follow the PEP8 style guide. \"\n",
    "            \"Return only the code, no intro, no explanation, no chatty, no markdown, no code block, no nothing. Just the code.\",\n",
    "        ),\n",
    "        (\"human\", \"{input}\"),\n",
    "    ]\n",
    ")\n",
    "\n",
    "llm = OpenAI(temperature=0)\n",
    "\n",
    "chain = prompt | llm | StrOutputParser() | RunnableLambda(print_and_execute)"
   ]
  },
  {
   "cell_type": "code",
   "execution_count": 12,
   "metadata": {},
   "outputs": [
    {
     "name": "stdout",
     "output_type": "stream",
     "text": [
      "CODE: \n",
      "\n",
      "\n",
      "import random\n",
      "\n",
      "# Generate 6 random numbers between 1 and 45\n",
      "lotto_numbers = random.sample(range(1, 46), 6)\n",
      "\n",
      "# Sort the numbers in ascending order\n",
      "lotto_numbers.sort()\n",
      "\n",
      "# Print the numbers\n",
      "print(lotto_numbers)\n",
      "[1, 4, 23, 26, 32, 34]\n",
      "\n"
     ]
    }
   ],
   "source": [
    "print(chain.invoke(\"로또 번호 생성기를 출력하는 코드를 작성하세요.\"))"
   ]
  },
  {
   "cell_type": "markdown",
   "metadata": {},
   "source": [
    "### 검색API 도구\n",
    "\n",
    "- Tavily API : 검색 기능을 구현해 놓은 도구 \n",
    "- [Ref] https://python.langchain.com/docs/integrations/tools/tavily_search/\n",
    "\n",
    "- 사전준비 : \n",
    "    - API 키 발급 : https://app.tavily.com/\n",
    "    - 발급받은 키를 `.env` 파일에 반영 (TAVILY_API_KEY=tv...)\n",
    "\n",
    "- 주요 클래스 : \n",
    "    - `TavilyAnswer`\n",
    "    - `TavilySerachResults`\n",
    "        - API 통해 검색하고 JSON 형식을 결과를 반환 \n",
    "        - 주요 매개 변수 \n",
    "            - `max_results` (int): 반환할 최대 검색 결과 수 (기본값: 5)\n",
    "            - `search_depth` (str): 검색 깊이 (\"basic\" 또는 \"advanced\")\n",
    "            - `include_domains` (List[str]): 검색 결과에 포함할 도메인 목록\n",
    "            - `exclude_domains` (List[str]): 검색 결과에서 제외할 도메인 목록\n",
    "            - `include_answer` (bool): 원본 쿼리에 대한 짧은 답변 포함 여부\n",
    "            - `include_raw_content` (bool): 각 사이트의 정제된 HTML 콘텐츠 포함 여부\n",
    "            - `include_images` (bool): 쿼리 관련 이미지 목록 포함 여부"
   ]
  },
  {
   "cell_type": "code",
   "execution_count": 13,
   "metadata": {},
   "outputs": [],
   "source": [
    "from langchain_core.pydantic_v1 import BaseModel\n",
    "from langchain_community.tools.tavily_search import TavilySearchResults"
   ]
  },
  {
   "cell_type": "code",
   "execution_count": 14,
   "metadata": {},
   "outputs": [],
   "source": [
    "# 도구 생성 \n",
    "tool = TavilySearchResults(\n",
    "    max_results=6,\n",
    "    include_answer=True,\n",
    "    include_raw_content=True,\n",
    "    # include_images=True,\n",
    "    # search_depth=\"advanced\" # or \"basic\"\n",
    "    include_domains=[\"github.io\",\"wikidocs.net\"],\n",
    "    # exclude_domains=[]\n",
    ")"
   ]
  },
  {
   "cell_type": "code",
   "execution_count": 16,
   "metadata": {},
   "outputs": [
    {
     "data": {
      "text/plain": [
       "[{'url': 'https://langchain-ai.github.io/langgraph/tutorials/introduction/',\n",
       "  'content': '[](https://langchain-ai.github.io/langgraph/tutorials/introduction/#__codelineno-9-1)Assistant: LangGraph is a library designed to help build stateful multi-agent applications using language models. It provides tools for creating workflows and state machines to coordinate multiple AI agents or language model interactions. LangGraph is built on top of LangChain, leveraging its components while adding graph-based coordination capabilities. It\\'s particularly useful for developing more complex, [...] [](https://langchain-ai.github.io/langgraph/tutorials/introduction/#__codelineno-21-9)   LangGraph is developed by LangChain, a company known for its tools and frameworks in the AI and LLM space.\\n[](https://langchain-ai.github.io/langgraph/tutorials/introduction/#__codelineno-21-10)\\n[](https://langchain-ai.github.io/langgraph/tutorials/introduction/#__codelineno-21-11)3. Key Features: [...] [](https://langchain-ai.github.io/langgraph/tutorials/introduction/#__codelineno-66-15)[{\"url\": \"https://blockchain.news/news/langchain-new-features-upcoming-events-update\", \"content\": \"LangChain, a leading platform in the AI development space, has released its latest updates, showcasing new use cases and enhancements across its ecosystem. According to the LangChain Blog, the updates cover advancements in LangGraph Cloud, LangSmith\\'s self-improving evaluators, and revamped documentation for'},\n",
       " {'url': 'https://langchain-ai.github.io/langgraph/how-tos/many-tools/',\n",
       "  'content': '[](https://langchain-ai.github.io/langgraph/how-tos/many-tools/#__codelineno-3-6)    Document(\\n[](https://langchain-ai.github.io/langgraph/how-tos/many-tools/#__codelineno-3-7)        page_content=tool.description,\\n[](https://langchain-ai.github.io/langgraph/how-tos/many-tools/#__codelineno-3-8)        id=id,\\n[](https://langchain-ai.github.io/langgraph/how-tos/many-tools/#__codelineno-3-9)        metadata={\"tool_name\": tool.name},'},\n",
       " {'url': 'https://langchain-ai.github.io/langchain-benchmarks/notebooks/tool_usage/intro.html',\n",
       "  'content': \"Name | Type | Dataset ID | Description\\nTool Usage - Typewriter (1 tool) | ToolUsageTask | 59577193-8938-4ccf-92a7-e8a96bcf4f86 | Environment with a single tool that accepts a single letter as input, and prints it on a piece of virtual paper.\\n\\nThe objective of this task is to evaluate the ability of the model to use the provided tools to repeat a given input string.\\n\\nFor example, if the string is 'abc', the tools 'a', 'b', and 'c' must be invoked in that order. [...] The objective of this task is to evaluate the ability to use the provided tools to solve simple math questions and ignore any innate knowledge about math.\\n\\nThis task is associated with 20 test examples.\\nLet’s understand what a tool usage task is in a bit more detail\\n\\nName | Tool Usage - Typewriter (26 tools)\\nType | ToolUsageTask\\nDataset ID | 128af05e-aa00-4e3b-a958-d166dd450581\\nDescription | Environment with 26 tools each tool represents a letter of the alphabet. [...] The AgentExecutor should accept question as an input and include the fields output, intermediate_steps and potentially state in its response – for this we\\nwill wrap the agent executor in an adapter (apply_agent_executor_adapter) that will help match the expected schema.\\n\\nName | Tool Usage - Typewriter (26 tools)\\nType | ToolUsageTask\\nDataset ID | 128af05e-aa00-4e3b-a958-d166dd450581\\nDescription | Environment with 26 tools each tool represents a letter of the alphabet.\"},\n",
       " {'url': 'https://langchain-ai.github.io/langgraph/how-tos/tool-calling/',\n",
       "  'content': 'How to call tools using ToolNode¶\\nThis guide covers how to use LangGraph\\'s prebuilt ToolNode for tool calling.\\nToolNode is a LangChain Runnable that takes graph state (with a list of messages) as input and outputs state update with the result of tool calls. It is designed to work well out-of-box with LangGraph\\'s prebuilt ReAct agent, but can also work with any StateGraph as long as its state has a messages key with an appropriate reducer (see MessagesState).\\nSetup¶ [...] [](https://langchain-ai.github.io/langgraph/how-tos/tool-calling/#__codelineno-7-5)            \"name\": \"get_coolest_cities\",\\n[](https://langchain-ai.github.io/langgraph/how-tos/tool-calling/#__codelineno-7-6)            \"args\": {},\\n[](https://langchain-ai.github.io/langgraph/how-tos/tool-calling/#__codelineno-7-7)            \"id\": \"tool_call_id_1\",\\n[](https://langchain-ai.github.io/langgraph/how-tos/tool-calling/#__codelineno-7-8)            \"type\": \"tool_call\",'}]"
      ]
     },
     "execution_count": 16,
     "metadata": {},
     "output_type": "execute_result"
    }
   ],
   "source": [
    "tool.invoke({\n",
    "    \"query\":\"LangChain Tool에 대해서 알려주세요\"\n",
    "})"
   ]
  },
  {
   "cell_type": "markdown",
   "metadata": {},
   "source": [
    "## Custom Tools \n",
    "\n",
    "- LangChain에서 제공하는 빌트인 도구와 별도로, 사용자가 직접 도구를 정의하교 사용 \n",
    "- 이를 위해 `langchain.tools` 모듈에서 제공하는 `tool` decorator를 사용하여 파이썬 함수를 도구로 변환 \n",
    "\n",
    "### @tool decorator \n",
    "- 파이썬 함수를 도구로 변환 하는 기능 \n",
    "- 사용 방법 \n",
    "    - 함수 위에 `@tool` 데코레이터 적용 \n",
    "    - 필요에 따라 데코레이터 매개변수 설정 "
   ]
  },
  {
   "cell_type": "code",
   "execution_count": 17,
   "metadata": {},
   "outputs": [],
   "source": [
    "from langchain.tools import tool"
   ]
  },
  {
   "cell_type": "code",
   "execution_count": 18,
   "metadata": {},
   "outputs": [],
   "source": [
    "# 데코레이터 추가하여 함수 -> 도구로 변환 \n",
    "# LLM이 함수를 호출할 때 함수의 역할을 확인할 수 있도록 주석을 반드시 추가 (in English)\n",
    "\n",
    "@tool\n",
    "def add_numbers(a: int, b: int) -> int:\n",
    "    \"\"\" Add two numbers\n",
    "    \"\"\"\n",
    "    return a + b\n",
    "\n",
    "@tool\n",
    "def mult_numbers(a: int, b: int) -> int:\n",
    "    \"\"\" Multiply two numbers\n",
    "    \"\"\"\n",
    "    return a * b"
   ]
  },
  {
   "cell_type": "code",
   "execution_count": 19,
   "metadata": {},
   "outputs": [
    {
     "data": {
      "text/plain": [
       "15"
      ]
     },
     "execution_count": 19,
     "metadata": {},
     "output_type": "execute_result"
    }
   ],
   "source": [
    "add_numbers.invoke({'a': 10, 'b':5})"
   ]
  },
  {
   "cell_type": "code",
   "execution_count": 20,
   "metadata": {},
   "outputs": [
    {
     "data": {
      "text/plain": [
       "50"
      ]
     },
     "execution_count": 20,
     "metadata": {},
     "output_type": "execute_result"
    }
   ],
   "source": [
    "mult_numbers.invoke({'a': 10, 'b':5})"
   ]
  },
  {
   "cell_type": "markdown",
   "metadata": {},
   "source": [
    "--------\n",
    "** End of Documents **"
   ]
  }
 ],
 "metadata": {
  "kernelspec": {
   "display_name": "langchain-kr-t0JhnSEV-py3.11",
   "language": "python",
   "name": "python3"
  },
  "language_info": {
   "codemirror_mode": {
    "name": "ipython",
    "version": 3
   },
   "file_extension": ".py",
   "mimetype": "text/x-python",
   "name": "python",
   "nbconvert_exporter": "python",
   "pygments_lexer": "ipython3",
   "version": "3.11.9"
  }
 },
 "nbformat": 4,
 "nbformat_minor": 2
}
