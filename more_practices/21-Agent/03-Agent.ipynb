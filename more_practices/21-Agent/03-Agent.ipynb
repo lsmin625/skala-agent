{
 "cells": [
  {
   "cell_type": "code",
   "execution_count": 1,
   "metadata": {},
   "outputs": [
    {
     "data": {
      "text/plain": [
       "True"
      ]
     },
     "execution_count": 1,
     "metadata": {},
     "output_type": "execute_result"
    }
   ],
   "source": [
    "from dotenv import load_dotenv\n",
    "load_dotenv()"
   ]
  },
  {
   "cell_type": "code",
   "execution_count": 2,
   "metadata": {},
   "outputs": [
    {
     "name": "stdout",
     "output_type": "stream",
     "text": [
      "LangSmith 추적을 시작합니다.\n",
      "[프로젝트명]\n",
      "CH21-AGENT\n"
     ]
    }
   ],
   "source": [
    "from langchain_teddynote import logging\n",
    "logging.langsmith(\"CH21-AGENT\")"
   ]
  },
  {
   "cell_type": "markdown",
   "metadata": {},
   "source": [
    "# Tool Calling Agent \n",
    "\n",
    "- 도구 호출 : LLM 모델이 하나 이상의 도구가 호출되어야 하는 시기를 감지하고, 해당 도구에 전달해야 하는 입력값 전달 \n",
    "- API 호출 : 도구를 설명하고 모델이 도구를 호출하기 위한 인수가 포함된 JSON과 같은 구조화된 객체를 출력 \n",
    "\n",
    "- 도구 API : 일반 텍스트 완성이나 채팅 API를 사용하여 수행하는 것 보다 **더 안정적이고 유효하고 유용한 도구 호출**을 반환하는 것이 목표 \n",
    "- Agent : 도구 API 호출 통해 사용자 요청을 해결할 때까지 반복적으로 도구를 호출하고 결과를 수신하는 역할 \n",
    " \n",
    "- [Ref] https://python.langchain.com/v0.1/docs/modules/agents/agent_types/tool_calling/"
   ]
  },
  {
   "cell_type": "code",
   "execution_count": 4,
   "metadata": {},
   "outputs": [],
   "source": [
    "from langchain.agents import tool\n",
    "from typing import List, Dict, Annotated\n",
    "from langchain_teddynote.tools import GoogleNews \n",
    "from langchain_experimental.utilities import PythonREPL"
   ]
  },
  {
   "cell_type": "code",
   "execution_count": null,
   "metadata": {},
   "outputs": [],
   "source": [
    "# 도구 정의 \n",
    "@tool\n",
    "def search_news(query: str) -> List[Dict[str, str]]:\n",
    "    \"\"\"Search Google News by input keyword\n",
    "    \"\"\"\n",
    "    news_tool = GoogleNews()\n",
    "\n",
    "    return news_tool.search_by_keyword(query, k=5)\n",
    "\n",
    "@tool\n",
    "def python_repl_tool(\n",
    "    code: Annotated[str, \"The python code to execute to generate your chart.\"],\n",
    "):\n",
    "    \"\"\"Use this to execute python code. If you want to see the output of a value,\n",
    "    you should print it out with `print(...)`. This is visible to the user.\n",
    "    \"\"\"\n",
    "    result = \"\"\n",
    "    try:\n",
    "        result = PythonREPL().run(code)\n",
    "    except BaseException as e:\n",
    "        print(f\"Failed to execute. Error: {repr(e)}\")\n",
    "    finally:\n",
    "        return result"
   ]
  },
  {
   "cell_type": "code",
   "execution_count": 6,
   "metadata": {},
   "outputs": [
    {
     "name": "stdout",
     "output_type": "stream",
     "text": [
      "도구 이름: search_news\n",
      "도구 설명: Search Google News by input keyword\n",
      "도구 이름: python_repl_tool\n",
      "도구 설명: Use this to execute python code. If you want to see the output of a value,\n",
      "    you should print it out with `print(...)`. This is visible to the user.\n"
     ]
    }
   ],
   "source": [
    "print(f\"도구 이름: {search_news.name}\")\n",
    "print(f\"도구 설명: {search_news.description}\")\n",
    "print(f\"도구 이름: {python_repl_tool.name}\")\n",
    "print(f\"도구 설명: {python_repl_tool.description}\")"
   ]
  },
  {
   "cell_type": "code",
   "execution_count": 7,
   "metadata": {},
   "outputs": [],
   "source": [
    "# tools 정의\n",
    "tools = [search_news, python_repl_tool]"
   ]
  },
  {
   "cell_type": "markdown",
   "metadata": {},
   "source": [
    "## Agent Prompt \n",
    "\n",
    "- `chat_history` : 이전 대화 내용을 저장하는 변수 (멀티턴을 지원하지 않는다면, 생략 가능)\n",
    "- `agent_scratchpad` : 에이전트가 임시로 저장하는 변수 (likely, 끄적 거리는 메모장)\n",
    "- `input` : 사용자 입력"
   ]
  },
  {
   "cell_type": "code",
   "execution_count": 8,
   "metadata": {},
   "outputs": [],
   "source": [
    "from langchain_core.prompts import ChatPromptTemplate"
   ]
  },
  {
   "cell_type": "code",
   "execution_count": 9,
   "metadata": {},
   "outputs": [],
   "source": [
    "# 프롬프트 정의 \n",
    "# 에이전트에게 모델이 수행할 작업을 설명하는 텍스트 제공 (도구의 이름과 역할)\n",
    "\n",
    "prompt = ChatPromptTemplate.from_messages(\n",
    "    [\n",
    "        (\n",
    "            \"system\",\n",
    "            \"You are a helpful assistant. \"\n",
    "            \"Make sure to use the `search_news` tool for searching keyword related news.\",\n",
    "        ),\n",
    "        (\"placeholder\", \"{chat_history}\"),\n",
    "        (\"human\", \"{input}\"),\n",
    "        (\"placeholder\", \"{agent_scratchpad}\"),\n",
    "    ]\n",
    ")"
   ]
  },
  {
   "cell_type": "markdown",
   "metadata": {},
   "source": [
    "## Agent 생성 "
   ]
  },
  {
   "cell_type": "code",
   "execution_count": 10,
   "metadata": {},
   "outputs": [],
   "source": [
    "from langchain_openai import ChatOpenAI\n",
    "from langchain.agents import create_tool_calling_agent"
   ]
  },
  {
   "cell_type": "code",
   "execution_count": 11,
   "metadata": {},
   "outputs": [],
   "source": [
    "llm = ChatOpenAI(temperature=0)\n",
    "agent = create_tool_calling_agent(llm, tools, prompt)"
   ]
  },
  {
   "cell_type": "markdown",
   "metadata": {},
   "source": [
    "## AgentExecutor \n",
    "\n",
    "- 도구를 사용하는 에이전트를 실행하는 클래스 \n",
    "\n",
    "**주요 속성**\n",
    "- `agent`: 실행 루프의 각 단계에서 계획을 생성하고 행동을 결정하는 에이전트\n",
    "- `tools`: 에이전트가 사용할 수 있는 유효한 도구 목록\n",
    "- `return_intermediate_steps`: 최종 출력과 함께 에이전트의 중간 단계 경로를 반환할지 여부\n",
    "- `max_iterations`: 실행 루프를 종료하기 전 최대 단계 수\n",
    "- `max_execution_time`: 실행 루프에 소요될 수 있는 최대 시간\n",
    "- `early_stopping_method`: 에이전트가 `AgentFinish`를 반환하지 않을 때 사용할 조기 종료 방법. (\"force\" or \"generate\")\n",
    "  - `\"force\"` : 시간 또는 반복 제한에 도달하여 중지되었다는 문자열을 반환\n",
    "  - `\"generate\"` : 에이전트의 LLM 체인을 마지막으로 한 번 호출하여 이전 단계에 따라 최종 답변 생성\n",
    "- `handle_parsing_errors`: 에이전트의 출력 파서에서 발생한 오류 처리 방법 (\"True\", False, 또는 오류 처리 함수)\n",
    "- `trim_intermediate_steps`: 중간 단계를 트리밍하는 방법 (-1 trim 하지 않음, 또는 트리밍 함수)\n",
    "\n",
    "**주요 메서드**\n",
    "1. `invoke`: 에이전트 실행\n",
    "2. `stream`: 최종 출력에 도달하는 데 필요한 단계를 스트리밍\n",
    "\n",
    "**주요 기능**\n",
    "1. **도구 검증**: 에이전트와 호환되는 도구인지 확인\n",
    "2. **실행 제어**: 최대 반복 횟수 및 실행 시간 제한 설정 가능\n",
    "3. **오류 처리**: 출력 파싱 오류에 대한 다양한 처리 옵션 제공\n",
    "4. **중간 단계 관리**: 중간 단계 트리밍 및 반환 옵션\n",
    "5. **비동기 지원**: 비동기 실행 및 스트리밍 지원\n",
    "\n",
    "**최적화 팁**\n",
    "- `max_iterations`와 `max_execution_time`을 적절히 설정하여 실행 시간 관리\n",
    "- `trim_intermediate_steps`를 활용하여 메모리 사용량 최적화\n",
    "- 복잡한 작업의 경우 `stream` 메서드를 사용하여 단계별 결과 모니터링"
   ]
  },
  {
   "cell_type": "code",
   "execution_count": 12,
   "metadata": {},
   "outputs": [],
   "source": [
    "from langchain.agents import AgentExecutor"
   ]
  },
  {
   "cell_type": "code",
   "execution_count": 13,
   "metadata": {},
   "outputs": [],
   "source": [
    "# AgentExecutor 정의 \n",
    "agent_executor = AgentExecutor(\n",
    "    agent=agent,\n",
    "    tools=tools,\n",
    "    verbose=True,\n",
    "    max_iterations=10,\n",
    "    max_execution_time=10,\n",
    "    handle_parsing_errors=True,\n",
    ")"
   ]
  },
  {
   "cell_type": "code",
   "execution_count": 14,
   "metadata": {},
   "outputs": [
    {
     "name": "stdout",
     "output_type": "stream",
     "text": [
      "\n",
      "\n",
      "\u001b[1m> Entering new AgentExecutor chain...\u001b[0m\n",
      "\u001b[32;1m\u001b[1;3m\n",
      "Invoking: `search_news` with `{'query': 'AI Agent'}`\n",
      "\n",
      "\n",
      "\u001b[0m\u001b[36;1m\u001b[1;3m[{'url': 'https://news.google.com/rss/articles/CBMiugJBVV95cUxNQ2w4LWUwLUJFcnNRUTQ4cUpib1V3aTJtWUs1MnhqOERObjhYTFBab010a25xTFN4Tm41Q05pSlpqSG9QcHpTTVBaUGRkaUduR2NyQzc1bXBROS1IdDBSSkMyRFZnNzQ3TU5ENVVFclRxZTVOWVpRNkFIckcycFQ4b3lYdFZRSnB6dWNrbXB1OUZCQnlTY0R4SWVvS2h0cVl4ejdma0xPZHdkX2MyR3JqVU0zUUhCd05IX0NiQmhrbXQzSzEwcTVmR0hCZms0N3J1VlJoN3lrM0tTcFJWTkdOUGI3Z0ZwSmoxNjRyMXNQRzhKTXZ3RUtNbmpNVzByRHpUUWt4ajd2YWpKVTNXVVhPNHNDdUlETkhPZGhzeGZYWjVoY1JIdGZhSlhiR3JhV3kxQzgtMnFqWFlLZ9IBugJBVV95cUxNQ2w4LWUwLUJFcnNRUTQ4cUpib1V3aTJtWUs1MnhqOERObjhYTFBab010a25xTFN4Tm41Q05pSlpqSG9QcHpTTVBaUGRkaUduR2NyQzc1bXBROS1IdDBSSkMyRFZnNzQ3TU5ENVVFclRxZTVOWVpRNkFIckcycFQ4b3lYdFZRSnB6dWNrbXB1OUZCQnlTY0R4SWVvS2h0cVl4ejdma0xPZHdkX2MyR3JqVU0zUUhCd05IX0NiQmhrbXQzSzEwcTVmR0hCZms0N3J1VlJoN3lrM0tTcFJWTkdOUGI3Z0ZwSmoxNjRyMXNQRzhKTXZ3RUtNbmpNVzByRHpUUWt4ajd2YWpKVTNXVVhPNHNDdUlETkhPZGhzeGZYWjVoY1JIdGZhSlhiR3JhV3kxQzgtMnFqWFlLZw?oc=5', 'content': '“디지털 동료 개념, 현실화 중”··· CB인사이츠, AI 에이전트 시장 지도 제시 - CIO.com'}, {'url': 'https://news.google.com/rss/articles/CBMiXkFVX3lxTE9fMHgtaEFKZHk5R1FOZjREMUgybXh3d3VqT2pTTU1TTVQ1UHpJRTcxX3pQeURwZUNpZ2JsX3NtMXpRU1pxVUQxVlE4YnhFVktpbnc1Q1JJVXFWeHlpU0E?oc=5', 'content': '‘AI 에이전트’가 몰려온다! ⑨ - 중국의 AI 에이전트 ‘마누스(Manus)’, 또다른 센세이션 일으키다 (上) - 뉴스투데이'}, {'url': 'https://news.google.com/rss/articles/CBMib0FVX3lxTE5pMUlVRlBjTjZwbmZES2tPNklzUHJlQ0VJM2gyZF94aVVDTHdrOUZzdUhvMU9HVm1FS1N4TXU0cExJVHE0MHRUWUNMcVdTSlNYdW5HbUVVS3ZUcTB1aHFIeFlvT0tHbkF4R3RMOUJNVQ?oc=5', 'content': 'AI 에이전트 AI Agents 란 무엇인가? | 인사이트리포트 | 삼성SDS - Samsung SDS'}, {'url': 'https://news.google.com/rss/articles/CBMinwFBVV95cUxOTjNNZjV3Nk9kWjZBVmV6UkdZQmhqeVRyZ3IzeEF3XzUxdWFYR3hlZUZ0bWFZQjd5czZpN3pNWnV4WklGTUFEVnlzRnFlUHMycHVZVlNaNlJRNThfamFnMVdCdEdnMDdYVDk2MDZtNzhTSTBhWFVpb1ZFMFlKTXdncWtSSEFQdTlUVmNQd1RLTHFoYl9EQTBUV3B4UEFhM0U?oc=5', 'content': '중국의 AI 에이전트 마누스, 혁신일까 허상일까? - 데일리바이트'}, {'url': 'https://news.google.com/rss/articles/CBMiakFVX3lxTE0tS1ZDby1FT2xhc2x5c0ZWd2s4QW9hOHlxbjZpeTRtYnI1S2FzNF9RWnBSdk5NdzV3bXhNVy1DWWEtYnNBZXRBLThlY0NXSGxMbTdQS3NhSzNSYkhfWkktdkdJLWxQYk1HVkE?oc=5', 'content': \"와이즈넛, 상반기 'B2B 맞춤 AI 에이전트 플랫폼' 출시 - AI타임스\"}]\u001b[0m\u001b[32;1m\u001b[1;3m여러 AI Agent 관련 뉴스를 찾았습니다:\n",
      "\n",
      "1. 제목: “디지털 동료 개념, 현실화 중”··· CB인사이츠, AI 에이전트 시장 지도 제시 - CIO.com\n",
      "   링크: [기사 보기](https://news.google.com/rss/articles/CBMiugJBVV95cUxNQ2w4LWUwLUJFcnNRUTQ4cUpib1V3aTJtWUs1MnhqOERObjhYTFBab010a25xTFN4Tm41Q05pSlpqSG9QcHpTTVBaUGRkaUduR2NyQzc1bXBROS1IdDBSSkMyRFZnNzQ3TU5ENVVFclRxZTVOWVpRNkFIckcycFQ4b3lYdVZRSnB6dWNrbXB1OUZCQnlTY0R4SWVvS2h0cVl4ejdma0xPZHdkX2MyR3JqVU0zUUhCd05IX0NiQmhrbXQzSzEwcTVmR0hCZms0N3J1VlJoN3lrM0tTcFJWTkdOUGI3Z0ZwSmoxNjRyMXNQRzhKTXZ3RUtNbmpNVzByRHpUUWt4ajd2YWpKVTNXVVhPNHNDdUlETkhPZGhzeGZYWjVoY1JIdGZhSlhiR3JhV3kxQzgtMnFqWllLZ9IBugJBVV95cUxNQ2w4LWUwLUJFcnNRUTQ4cUpib1V3aTJtWUs1MnhqOERObjhYTFBab010a25xTFN4Tm41Q05pSlpqSG9QcHpTTVBaUGRkaUduR2NyQzc1bXBROS1IdDBSSkMyRFZnNzQ3TU5ENVVFclRxZTVOWVpRNkFIckcycFQ4b3lYdVZRSnB6dWNrbXB1OUZCQnlTY0R4SWVvS2h0cVl4ejdma0xPZHdkX2MyR3JqVU0zUUhCd05IX0NiQmhrbXQzSzEwcTVmR0hCZms0N3J1VlJoN3lrM0tTcFJWTkdOUGI3Z0ZwSmoxNjRyMXNQRzhKTXZ3RUtNbmpNVzByRHpUUWt4ajd2YWpKVTNXVVhPNHNDdUlETkhPZGhzeGZYWjVoY1JIdGZhSlhiR3JhV3kxQzgtMnFqWllLZw?oc=5)\n",
      "\n",
      "2. 제목: ‘AI 에이전트’가 몰려온다! ⑨ - 중국의 AI 에이전트 ‘마누스(Manus)’, 또다른 센세이션 일으키다 (上) - 뉴스투데이\n",
      "   링크: [기사 보기](https://news.google.com/rss/articles/CBMiXkFVX3lxTE9fMHgtaEFKZHk5R1FOZjREMUgybXh3d3VqT2pTTU1TTVQ1UHpJRTcxX3pQeURwZUNpZ2JsX3NtMXpRU1pxVUQxVlE4YnhFVktpbnc1Q1JJVXFWeHlpU0E?oc=5)\n",
      "\n",
      "3. 제목: AI 에이전트 AI Agents 란 무엇인가? | 인사이트리포트 | 삼성SDS - Samsung SDS\n",
      "   링크: [기사 보기](https://news.google.com/rss/articles/CBMib0FVX3lxTE5pMUlVRlBjTjZwbmZES2tPNklzUHJlQ0VJM2gyZF94aVVDTHdrOUZzdUhvMU9HVm1FS1N4TXU0cExJVHE0MHRUWUNMcVdTSlNYdW5HbUVVS3ZUcTB1aHFIeFlvT0tHbkF4R3RMOUJNVQ?oc=5)\n",
      "\n",
      "4. 제목: 중국의 AI 에이전트 마누스, 혁신일까 허상일까? - 데일리바이트\n",
      "   링크: [기사 보기](https://news.google.com/rss/articles/CBMinwFBVV95cUxOTjNNZjV3Nk9kWjZBVmV6UkdZQmhqeVRyZ3IzeEF3XzUxdWFYR3hlZUZ0bWFZQjd5czZpN3pNWnV4WklGTUFEVnlzRnFlUHMycHVZVlNaNlJRNThfamFnMVdCdEdnMDdYVDk2MDZtNzhTSTBhWFVpb1ZFMFlKTXdncWtSSEFQdTlUVmNQd1RLTHFoYl9EQTBUV3B4UEFhM0U?oc=5)\n",
      "\n",
      "5. 제목: 와이즈넛, 상반기 'B2B 맞춤 AI 에이전트 플랫폼' 출시 - AI타임스\n",
      "   링크: [기사 보기](https://news.google.com/rss/articles/CBMiakFVX3lxTE0tS1ZDby1FT2xhc2x5c0ZWd2s4QW9hOHlxbjZpeTRtYnI1S2FzNF9RWnBSdk5NdzV3bXhNVy1DWWEtYnNBZXRBLThlY0NXSGxMbTdQS3NhSzNSYkhfWkktdkdJLWxQYk1HVkE?oc=5)\u001b[0m\n",
      "\n",
      "\u001b[1m> Finished chain.\u001b[0m\n"
     ]
    }
   ],
   "source": [
    "# AgentExecutor 실행 \n",
    "result = agent_executor.invoke({\n",
    "    \"input\":\"AI Agent와 관련된 뉴스를 검색해 주세요.\",\n",
    "})"
   ]
  },
  {
   "cell_type": "code",
   "execution_count": 15,
   "metadata": {},
   "outputs": [
    {
     "name": "stdout",
     "output_type": "stream",
     "text": [
      "Agent 실행 결과:\n",
      "여러 AI Agent 관련 뉴스를 찾았습니다:\n",
      "\n",
      "1. 제목: “디지털 동료 개념, 현실화 중”··· CB인사이츠, AI 에이전트 시장 지도 제시 - CIO.com\n",
      "   링크: [기사 보기](https://news.google.com/rss/articles/CBMiugJBVV95cUxNQ2w4LWUwLUJFcnNRUTQ4cUpib1V3aTJtWUs1MnhqOERObjhYTFBab010a25xTFN4Tm41Q05pSlpqSG9QcHpTTVBaUGRkaUduR2NyQzc1bXBROS1IdDBSSkMyRFZnNzQ3TU5ENVVFclRxZTVOWVpRNkFIckcycFQ4b3lYdVZRSnB6dWNrbXB1OUZCQnlTY0R4SWVvS2h0cVl4ejdma0xPZHdkX2MyR3JqVU0zUUhCd05IX0NiQmhrbXQzSzEwcTVmR0hCZms0N3J1VlJoN3lrM0tTcFJWTkdOUGI3Z0ZwSmoxNjRyMXNQRzhKTXZ3RUtNbmpNVzByRHpUUWt4ajd2YWpKVTNXVVhPNHNDdUlETkhPZGhzeGZYWjVoY1JIdGZhSlhiR3JhV3kxQzgtMnFqWllLZ9IBugJBVV95cUxNQ2w4LWUwLUJFcnNRUTQ4cUpib1V3aTJtWUs1MnhqOERObjhYTFBab010a25xTFN4Tm41Q05pSlpqSG9QcHpTTVBaUGRkaUduR2NyQzc1bXBROS1IdDBSSkMyRFZnNzQ3TU5ENVVFclRxZTVOWVpRNkFIckcycFQ4b3lYdVZRSnB6dWNrbXB1OUZCQnlTY0R4SWVvS2h0cVl4ejdma0xPZHdkX2MyR3JqVU0zUUhCd05IX0NiQmhrbXQzSzEwcTVmR0hCZms0N3J1VlJoN3lrM0tTcFJWTkdOUGI3Z0ZwSmoxNjRyMXNQRzhKTXZ3RUtNbmpNVzByRHpUUWt4ajd2YWpKVTNXVVhPNHNDdUlETkhPZGhzeGZYWjVoY1JIdGZhSlhiR3JhV3kxQzgtMnFqWllLZw?oc=5)\n",
      "\n",
      "2. 제목: ‘AI 에이전트’가 몰려온다! ⑨ - 중국의 AI 에이전트 ‘마누스(Manus)’, 또다른 센세이션 일으키다 (上) - 뉴스투데이\n",
      "   링크: [기사 보기](https://news.google.com/rss/articles/CBMiXkFVX3lxTE9fMHgtaEFKZHk5R1FOZjREMUgybXh3d3VqT2pTTU1TTVQ1UHpJRTcxX3pQeURwZUNpZ2JsX3NtMXpRU1pxVUQxVlE4YnhFVktpbnc1Q1JJVXFWeHlpU0E?oc=5)\n",
      "\n",
      "3. 제목: AI 에이전트 AI Agents 란 무엇인가? | 인사이트리포트 | 삼성SDS - Samsung SDS\n",
      "   링크: [기사 보기](https://news.google.com/rss/articles/CBMib0FVX3lxTE5pMUlVRlBjTjZwbmZES2tPNklzUHJlQ0VJM2gyZF94aVVDTHdrOUZzdUhvMU9HVm1FS1N4TXU0cExJVHE0MHRUWUNMcVdTSlNYdW5HbUVVS3ZUcTB1aHFIeFlvT0tHbkF4R3RMOUJNVQ?oc=5)\n",
      "\n",
      "4. 제목: 중국의 AI 에이전트 마누스, 혁신일까 허상일까? - 데일리바이트\n",
      "   링크: [기사 보기](https://news.google.com/rss/articles/CBMinwFBVV95cUxOTjNNZjV3Nk9kWjZBVmV6UkdZQmhqeVRyZ3IzeEF3XzUxdWFYR3hlZUZ0bWFZQjd5czZpN3pNWnV4WklGTUFEVnlzRnFlUHMycHVZVlNaNlJRNThfamFnMVdCdEdnMDdYVDk2MDZtNzhTSTBhWFVpb1ZFMFlKTXdncWtSSEFQdTlUVmNQd1RLTHFoYl9EQTBUV3B4UEFhM0U?oc=5)\n",
      "\n",
      "5. 제목: 와이즈넛, 상반기 'B2B 맞춤 AI 에이전트 플랫폼' 출시 - AI타임스\n",
      "   링크: [기사 보기](https://news.google.com/rss/articles/CBMiakFVX3lxTE0tS1ZDby1FT2xhc2x5c0ZWd2s4QW9hOHlxbjZpeTRtYnI1S2FzNF9RWnBSdk5NdzV3bXhNVy1DWWEtYnNBZXRBLThlY0NXSGxMbTdQS3NhSzNSYkhfWkktdkdJLWxQYk1HVkE?oc=5)\n"
     ]
    }
   ],
   "source": [
    "print(\"Agent 실행 결과:\")\n",
    "print(result[\"output\"])"
   ]
  },
  {
   "cell_type": "markdown",
   "metadata": {},
   "source": [
    "## 단계별 결과 출력 \n",
    "\n",
    "- `stream()` 메소드를 사용하여 에이전트의 중간 단계를 스트리밍\n",
    "- `stream()` 출력: (Action, Observation) 쌍 사이에서 번갈아 나타나며, 최종적으로 에이전트가 목표를 달성했다면 답변으로 마무리\n",
    "\n",
    "- 기본 흐름\n",
    "1. Action 출력\n",
    "2. Observation 출력\n",
    "3. Action 출력\n",
    "4. Observation 출력\n",
    "\n",
    "... (목표 달성까지 계속) ...\n",
    "n. 최종 목표가 달성되면 에이전트는 최종 답변을 출력\n",
    "\n",
    "| 출력 | 내용 |\n",
    "|--------|----------|\n",
    "| Action | `actions`: AgentAction 또는 그 하위 클래스<br>`messages`: 액션 호출에 해당하는 채팅 메시지 |\n",
    "| Observation | `steps`: 현재 액션과 그 관찰을 포함한 에이전트가 지금까지 수행한 작업의 기록<br>`messages`: 함수 호출 결과(즉, 관찰)를 포함한 채팅 메시지 |\n",
    "| Final Answer | `output`: AgentFinish<br>`messages`: 최종 출력을 포함한 채팅 메시지 |\n",
    "```"
   ]
  },
  {
   "cell_type": "code",
   "execution_count": null,
   "metadata": {},
   "outputs": [
    {
     "name": "stdout",
     "output_type": "stream",
     "text": [
      "\n",
      "\n",
      "\u001b[1m> Entering new None chain...\u001b[0m\n",
      "{'actions': [ToolAgentAction(tool='search_news', tool_input={'query': 'AI Agent'}, log=\"\\nInvoking: `search_news` with `{'query': 'AI Agent'}`\\n\\n\\n\", message_log=[AIMessageChunk(content='', additional_kwargs={'tool_calls': [{'index': 0, 'id': 'call_IyUi89ier7aF5n0pQWEK5M28', 'function': {'arguments': '{\"query\":\"AI Agent\"}', 'name': 'search_news'}, 'type': 'function'}]}, response_metadata={'finish_reason': 'tool_calls', 'model_name': 'gpt-3.5-turbo-0125'}, id='run-d0ac120f-4029-4c3b-852b-b56d072cf9f2', tool_calls=[{'name': 'search_news', 'args': {'query': 'AI Agent'}, 'id': 'call_IyUi89ier7aF5n0pQWEK5M28', 'type': 'tool_call'}], tool_call_chunks=[{'name': 'search_news', 'args': '{\"query\":\"AI Agent\"}', 'id': 'call_IyUi89ier7aF5n0pQWEK5M28', 'index': 0, 'type': 'tool_call_chunk'}])], tool_call_id='call_IyUi89ier7aF5n0pQWEK5M28')], 'messages': [AIMessageChunk(content='', additional_kwargs={'tool_calls': [{'index': 0, 'id': 'call_IyUi89ier7aF5n0pQWEK5M28', 'function': {'arguments': '{\"query\":\"AI Agent\"}', 'name': 'search_news'}, 'type': 'function'}]}, response_metadata={'finish_reason': 'tool_calls', 'model_name': 'gpt-3.5-turbo-0125'}, id='run-d0ac120f-4029-4c3b-852b-b56d072cf9f2', tool_calls=[{'name': 'search_news', 'args': {'query': 'AI Agent'}, 'id': 'call_IyUi89ier7aF5n0pQWEK5M28', 'type': 'tool_call'}], tool_call_chunks=[{'name': 'search_news', 'args': '{\"query\":\"AI Agent\"}', 'id': 'call_IyUi89ier7aF5n0pQWEK5M28', 'index': 0, 'type': 'tool_call_chunk'}])]}\n",
      "============================================================\n",
      "\u001b[32;1m\u001b[1;3m\n",
      "Invoking: `search_news` with `{'query': 'AI Agent'}`\n",
      "\n",
      "\n",
      "\u001b[0m\u001b[36;1m\u001b[1;3m[{'url': 'https://news.google.com/rss/articles/CBMiugJBVV95cUxNQ2w4LWUwLUJFcnNRUTQ4cUpib1V3aTJtWUs1MnhqOERObjhYTFBab010a25xTFN4Tm41Q05pSlpqSG9QcHpTTVBaUGRkaUduR2NyQzc1bXBROS1IdDBSSkMyRFZnNzQ3TU5ENVVFclRxZTVOWVpRNkFIckcycFQ4b3lYdFZRSnB6dWNrbXB1OUZCQnlTY0R4SWVvS2h0cVl4ejdma0xPZHdkX2MyR3JqVU0zUUhCd05IX0NiQmhrbXQzSzEwcTVmR0hCZms0N3J1VlJoN3lrM0tTcFJWTkdOUGI3Z0ZwSmoxNjRyMXNQRzhKTXZ3RUtNbmpNVzByRHpUUWt4ajd2YWpKVTNXVVhPNHNDdUlETkhPZGhzeGZYWjVoY1JIdGZhSlhiR3JhV3kxQzgtMnFqWFlLZ9IBugJBVV95cUxNQ2w4LWUwLUJFcnNRUTQ4cUpib1V3aTJtWUs1MnhqOERObjhYTFBab010a25xTFN4Tm41Q05pSlpqSG9QcHpTTVBaUGRkaUduR2NyQzc1bXBROS1IdDBSSkMyRFZnNzQ3TU5ENVVFclRxZTVOWVpRNkFIckcycFQ4b3lYdFZRSnB6dWNrbXB1OUZCQnlTY0R4SWVvS2h0cVl4ejdma0xPZHdkX2MyR3JqVU0zUUhCd05IX0NiQmhrbXQzSzEwcTVmR0hCZms0N3J1VlJoN3lrM0tTcFJWTkdOUGI3Z0ZwSmoxNjRyMXNQRzhKTXZ3RUtNbmpNVzByRHpUUWt4ajd2YWpKVTNXVVhPNHNDdUlETkhPZGhzeGZYWjVoY1JIdGZhSlhiR3JhV3kxQzgtMnFqWFlLZw?oc=5', 'content': '“디지털 동료 개념, 현실화 중”··· CB인사이츠, AI 에이전트 시장 지도 제시 - CIO.com'}, {'url': 'https://news.google.com/rss/articles/CBMiXkFVX3lxTE9fMHgtaEFKZHk5R1FOZjREMUgybXh3d3VqT2pTTU1TTVQ1UHpJRTcxX3pQeURwZUNpZ2JsX3NtMXpRU1pxVUQxVlE4YnhFVktpbnc1Q1JJVXFWeHlpU0E?oc=5', 'content': '‘AI 에이전트’가 몰려온다! ⑨ - 중국의 AI 에이전트 ‘마누스(Manus)’, 또다른 센세이션 일으키다 (上) - 뉴스투데이'}, {'url': 'https://news.google.com/rss/articles/CBMinwFBVV95cUxOTjNNZjV3Nk9kWjZBVmV6UkdZQmhqeVRyZ3IzeEF3XzUxdWFYR3hlZUZ0bWFZQjd5czZpN3pNWnV4WklGTUFEVnlzRnFlUHMycHVZVlNaNlJRNThfamFnMVdCdEdnMDdYVDk2MDZtNzhTSTBhWFVpb1ZFMFlKTXdncWtSSEFQdTlUVmNQd1RLTHFoYl9EQTBUV3B4UEFhM0U?oc=5', 'content': '중국의 AI 에이전트 마누스, 혁신일까 허상일까? - 데일리바이트'}, {'url': 'https://news.google.com/rss/articles/CBMiakFVX3lxTE0tS1ZDby1FT2xhc2x5c0ZWd2s4QW9hOHlxbjZpeTRtYnI1S2FzNF9RWnBSdk5NdzV3bXhNVy1DWWEtYnNBZXRBLThlY0NXSGxMbTdQS3NhSzNSYkhfWkktdkdJLWxQYk1HVkE?oc=5', 'content': \"와이즈넛, 상반기 'B2B 맞춤 AI 에이전트 플랫폼' 출시 - AI타임스\"}, {'url': 'https://news.google.com/rss/articles/CBMicEFVX3lxTE1hclROOFVyUDVDZ1dDdkF5dl9xMDZCMHNISm1FSy1DRGs3RFFEMk1US0xrbUQ3dVc2Y29nTjBZMC1oNE85c1M0QjdRQXZ2RlJmeXhFb0ltQkxxVjZxWmJUVHNnNllsZHBudTNyRFNNSEE?oc=5', 'content': \"SKT Enhances AI Agent ‘A.’ with Latest Google 'Gemini' Version - Korea IT Times\"}]\u001b[0m{'steps': [AgentStep(action=ToolAgentAction(tool='search_news', tool_input={'query': 'AI Agent'}, log=\"\\nInvoking: `search_news` with `{'query': 'AI Agent'}`\\n\\n\\n\", message_log=[AIMessageChunk(content='', additional_kwargs={'tool_calls': [{'index': 0, 'id': 'call_IyUi89ier7aF5n0pQWEK5M28', 'function': {'arguments': '{\"query\":\"AI Agent\"}', 'name': 'search_news'}, 'type': 'function'}]}, response_metadata={'finish_reason': 'tool_calls', 'model_name': 'gpt-3.5-turbo-0125'}, id='run-d0ac120f-4029-4c3b-852b-b56d072cf9f2', tool_calls=[{'name': 'search_news', 'args': {'query': 'AI Agent'}, 'id': 'call_IyUi89ier7aF5n0pQWEK5M28', 'type': 'tool_call'}], tool_call_chunks=[{'name': 'search_news', 'args': '{\"query\":\"AI Agent\"}', 'id': 'call_IyUi89ier7aF5n0pQWEK5M28', 'index': 0, 'type': 'tool_call_chunk'}])], tool_call_id='call_IyUi89ier7aF5n0pQWEK5M28'), observation=[{'url': 'https://news.google.com/rss/articles/CBMiugJBVV95cUxNQ2w4LWUwLUJFcnNRUTQ4cUpib1V3aTJtWUs1MnhqOERObjhYTFBab010a25xTFN4Tm41Q05pSlpqSG9QcHpTTVBaUGRkaUduR2NyQzc1bXBROS1IdDBSSkMyRFZnNzQ3TU5ENVVFclRxZTVOWVpRNkFIckcycFQ4b3lYdFZRSnB6dWNrbXB1OUZCQnlTY0R4SWVvS2h0cVl4ejdma0xPZHdkX2MyR3JqVU0zUUhCd05IX0NiQmhrbXQzSzEwcTVmR0hCZms0N3J1VlJoN3lrM0tTcFJWTkdOUGI3Z0ZwSmoxNjRyMXNQRzhKTXZ3RUtNbmpNVzByRHpUUWt4ajd2YWpKVTNXVVhPNHNDdUlETkhPZGhzeGZYWjVoY1JIdGZhSlhiR3JhV3kxQzgtMnFqWFlLZ9IBugJBVV95cUxNQ2w4LWUwLUJFcnNRUTQ4cUpib1V3aTJtWUs1MnhqOERObjhYTFBab010a25xTFN4Tm41Q05pSlpqSG9QcHpTTVBaUGRkaUduR2NyQzc1bXBROS1IdDBSSkMyRFZnNzQ3TU5ENVVFclRxZTVOWVpRNkFIckcycFQ4b3lYdFZRSnB6dWNrbXB1OUZCQnlTY0R4SWVvS2h0cVl4ejdma0xPZHdkX2MyR3JqVU0zUUhCd05IX0NiQmhrbXQzSzEwcTVmR0hCZms0N3J1VlJoN3lrM0tTcFJWTkdOUGI3Z0ZwSmoxNjRyMXNQRzhKTXZ3RUtNbmpNVzByRHpUUWt4ajd2YWpKVTNXVVhPNHNDdUlETkhPZGhzeGZYWjVoY1JIdGZhSlhiR3JhV3kxQzgtMnFqWFlLZw?oc=5', 'content': '“디지털 동료 개념, 현실화 중”··· CB인사이츠, AI 에이전트 시장 지도 제시 - CIO.com'}, {'url': 'https://news.google.com/rss/articles/CBMiXkFVX3lxTE9fMHgtaEFKZHk5R1FOZjREMUgybXh3d3VqT2pTTU1TTVQ1UHpJRTcxX3pQeURwZUNpZ2JsX3NtMXpRU1pxVUQxVlE4YnhFVktpbnc1Q1JJVXFWeHlpU0E?oc=5', 'content': '‘AI 에이전트’가 몰려온다! ⑨ - 중국의 AI 에이전트 ‘마누스(Manus)’, 또다른 센세이션 일으키다 (上) - 뉴스투데이'}, {'url': 'https://news.google.com/rss/articles/CBMinwFBVV95cUxOTjNNZjV3Nk9kWjZBVmV6UkdZQmhqeVRyZ3IzeEF3XzUxdWFYR3hlZUZ0bWFZQjd5czZpN3pNWnV4WklGTUFEVnlzRnFlUHMycHVZVlNaNlJRNThfamFnMVdCdEdnMDdYVDk2MDZtNzhTSTBhWFVpb1ZFMFlKTXdncWtSSEFQdTlUVmNQd1RLTHFoYl9EQTBUV3B4UEFhM0U?oc=5', 'content': '중국의 AI 에이전트 마누스, 혁신일까 허상일까? - 데일리바이트'}, {'url': 'https://news.google.com/rss/articles/CBMiakFVX3lxTE0tS1ZDby1FT2xhc2x5c0ZWd2s4QW9hOHlxbjZpeTRtYnI1S2FzNF9RWnBSdk5NdzV3bXhNVy1DWWEtYnNBZXRBLThlY0NXSGxMbTdQS3NhSzNSYkhfWkktdkdJLWxQYk1HVkE?oc=5', 'content': \"와이즈넛, 상반기 'B2B 맞춤 AI 에이전트 플랫폼' 출시 - AI타임스\"}, {'url': 'https://news.google.com/rss/articles/CBMicEFVX3lxTE1hclROOFVyUDVDZ1dDdkF5dl9xMDZCMHNISm1FSy1DRGs3RFFEMk1US0xrbUQ3dVc2Y29nTjBZMC1oNE85c1M0QjdRQXZ2RlJmeXhFb0ltQkxxVjZxWmJUVHNnNllsZHBudTNyRFNNSEE?oc=5', 'content': \"SKT Enhances AI Agent ‘A.’ with Latest Google 'Gemini' Version - Korea IT Times\"}])], 'messages': [FunctionMessage(content='[{\"url\": \"https://news.google.com/rss/articles/CBMiugJBVV95cUxNQ2w4LWUwLUJFcnNRUTQ4cUpib1V3aTJtWUs1MnhqOERObjhYTFBab010a25xTFN4Tm41Q05pSlpqSG9QcHpTTVBaUGRkaUduR2NyQzc1bXBROS1IdDBSSkMyRFZnNzQ3TU5ENVVFclRxZTVOWVpRNkFIckcycFQ4b3lYdFZRSnB6dWNrbXB1OUZCQnlTY0R4SWVvS2h0cVl4ejdma0xPZHdkX2MyR3JqVU0zUUhCd05IX0NiQmhrbXQzSzEwcTVmR0hCZms0N3J1VlJoN3lrM0tTcFJWTkdOUGI3Z0ZwSmoxNjRyMXNQRzhKTXZ3RUtNbmpNVzByRHpUUWt4ajd2YWpKVTNXVVhPNHNDdUlETkhPZGhzeGZYWjVoY1JIdGZhSlhiR3JhV3kxQzgtMnFqWFlLZ9IBugJBVV95cUxNQ2w4LWUwLUJFcnNRUTQ4cUpib1V3aTJtWUs1MnhqOERObjhYTFBab010a25xTFN4Tm41Q05pSlpqSG9QcHpTTVBaUGRkaUduR2NyQzc1bXBROS1IdDBSSkMyRFZnNzQ3TU5ENVVFclRxZTVOWVpRNkFIckcycFQ4b3lYdFZRSnB6dWNrbXB1OUZCQnlTY0R4SWVvS2h0cVl4ejdma0xPZHdkX2MyR3JqVU0zUUhCd05IX0NiQmhrbXQzSzEwcTVmR0hCZms0N3J1VlJoN3lrM0tTcFJWTkdOUGI3Z0ZwSmoxNjRyMXNQRzhKTXZ3RUtNbmpNVzByRHpUUWt4ajd2YWpKVTNXVVhPNHNDdUlETkhPZGhzeGZYWjVoY1JIdGZhSlhiR3JhV3kxQzgtMnFqWFlLZw?oc=5\", \"content\": \"“디지털 동료 개념, 현실화 중”··· CB인사이츠, AI 에이전트 시장 지도 제시 - CIO.com\"}, {\"url\": \"https://news.google.com/rss/articles/CBMiXkFVX3lxTE9fMHgtaEFKZHk5R1FOZjREMUgybXh3d3VqT2pTTU1TTVQ1UHpJRTcxX3pQeURwZUNpZ2JsX3NtMXpRU1pxVUQxVlE4YnhFVktpbnc1Q1JJVXFWeHlpU0E?oc=5\", \"content\": \"‘AI 에이전트’가 몰려온다! ⑨ - 중국의 AI 에이전트 ‘마누스(Manus)’, 또다른 센세이션 일으키다 (上) - 뉴스투데이\"}, {\"url\": \"https://news.google.com/rss/articles/CBMinwFBVV95cUxOTjNNZjV3Nk9kWjZBVmV6UkdZQmhqeVRyZ3IzeEF3XzUxdWFYR3hlZUZ0bWFZQjd5czZpN3pNWnV4WklGTUFEVnlzRnFlUHMycHVZVlNaNlJRNThfamFnMVdCdEdnMDdYVDk2MDZtNzhTSTBhWFVpb1ZFMFlKTXdncWtSSEFQdTlUVmNQd1RLTHFoYl9EQTBUV3B4UEFhM0U?oc=5\", \"content\": \"중국의 AI 에이전트 마누스, 혁신일까 허상일까? - 데일리바이트\"}, {\"url\": \"https://news.google.com/rss/articles/CBMiakFVX3lxTE0tS1ZDby1FT2xhc2x5c0ZWd2s4QW9hOHlxbjZpeTRtYnI1S2FzNF9RWnBSdk5NdzV3bXhNVy1DWWEtYnNBZXRBLThlY0NXSGxMbTdQS3NhSzNSYkhfWkktdkdJLWxQYk1HVkE?oc=5\", \"content\": \"와이즈넛, 상반기 \\'B2B 맞춤 AI 에이전트 플랫폼\\' 출시 - AI타임스\"}, {\"url\": \"https://news.google.com/rss/articles/CBMicEFVX3lxTE1hclROOFVyUDVDZ1dDdkF5dl9xMDZCMHNISm1FSy1DRGs3RFFEMk1US0xrbUQ3dVc2Y29nTjBZMC1oNE85c1M0QjdRQXZ2RlJmeXhFb0ltQkxxVjZxWmJUVHNnNllsZHBudTNyRFNNSEE?oc=5\", \"content\": \"SKT Enhances AI Agent ‘A.’ with Latest Google \\'Gemini\\' Version - Korea IT Times\"}]', additional_kwargs={}, response_metadata={}, name='search_news')]}\n",
      "============================================================\n",
      "\u001b[32;1m\u001b[1;3m여러 AI Agent 관련 뉴스를 찾았습니다:\n",
      "\n",
      "1. **[CB인사이츠, AI 에이전트 시장 지도 제시 - CIO.com](https://news.google.com/rss/articles/CBMiugJBVV95cUxNQ2w4LWUwLUJFcnNRUTQ4cUpib1V3aTJtWUs1MnhqOERObjhYTFBab010a25xTFN4Tm41Q05pSlpqSG9QcHpTTVBaUGRkaUduR2NyQzc1bXBROS1IdDBSSkMyRFZnNzQ3TU5ENVVFclRxZTVOWVpRNkFIckcycFQ4b3lYdFZRSnB6dWNrbXB1OUZCQnlTY0R4SWVvS2h0cVl4ejdma0xPZHdkX2MyR3JqVU0zUUhCd05IX0NiQmhrbXQzSzEwcTVmR0hCZms0N3J1VlJoN3lrM0tTcFJWTkdOUGI3Z0ZwSmoxNjRyMXNQRzhKTXZ3RUtNbmpNVzByRHpUUWt4ajd2YWpKVTNXVVhPNHNDdUlETkhPZGhzeGZYWjVoY1JIdGZhSlhiR3JhV3kxQzgtMnFqWFlLZ9IBugJBVV95cUxNQ2w4LWUwLUJFcnNRUTQ4cUpib1V3aTJtWUs1MnhqOERObjhYTFBab010a25xTFN4Tm41Q05pSlpqSG9QcHpTTVBaUGRkaUduR2NyQzc1bXBROS1IdDBSSkMyRFZnNzQ3TU5ENVVFclRxZTVOWVpRNkFIckcycFQ4b3lYdFZRSnB6dWNrbXB1OUZCQnlTY0R4SWVvS2h0cVl4ejdma0xPZHdkX2MyR3JqVU0zUUhCd05IX0NiQmhrbXQzSzEwcTVmR0hCZms0N3J1VlJoN3lrM0tTcFJWTkdOUGI3Z0ZwSmoxNjRyMXNQRzhKTXZ3RUtNbmpNVzByRHpUUWt4ajd2YWpKVTNXVVhPNHNDdUlETkhPZGhzeGZYWjVoY1JIdGZhSlhiR3JhV3kxQzgtMnFqWFlLZw?oc=5)**\n",
      "\n",
      "2. **['AI 에이전트'가 몰려온다! ⑨ - 중국의 AI 에이전트 '마누스(Manus)', 또다른 센세이션 일으키다 (上) - 뉴스투데이](https://news.google.com/rss/articles/CBMiXkFVX3lxTE9fMHgtaEFKZHk5R1FOZjREMUgybXh3d3VqT2pTTU1TTVQ1UHpJRTcxX3pQeURwZUNpZ2JsX3NtMXpRU1pxVUQxVlE4YnhFVktpbnc1Q1JJVXFWeHlpU0E?oc=5)**\n",
      "\n",
      "3. **[중국의 AI 에이전트 마누스, 혁신일까 허상일까? - 데일리바이트](https://news.google.com/rss/articles/CBMinwFBVV95cUxOTjNNZjV3Nk9kWjZBVmV6UkdZQmhqeVRyZ3IzeEF3XzUxdWFYR3hlZUZ0bWFZQjd5czZpN3pNWnV4WklGTUFEVnlzRnFlUHMycHVZVlNaNlJRNThfamFnMVdCdEdnMDdYVDk2MDZtNzhTSTBhWFVpb1ZFMFlKTXdncWtSSEFQdTlUVmNQd1RLTHFoYl9EQTBUV3B4UEFhM0U?oc=5)**\n",
      "\n",
      "4. **[와이즈넛, 상반기 'B2B 맞춤 AI 에이전트 플랫폼' 출시 - AI타임스](https://news.google.com/rss/articles/CBMiakFVX3lxTE0tS1ZDby1FT2xhc2x5c0ZWd2s4QW9hOHlxbjZpeTRtYnI1S2FzNF9RWnBSdk5NdzV3bXhNVy1DWWEtYnNBZXRBLThlY0NXSGxMbTdQS3NhSzNSYkhfWkktdkdJLWxQYk1HVkE?oc=5)**\n",
      "\n",
      "5. **[SKT Enhances AI Agent ‘A.’ with Latest Google 'Gemini' Version - Korea IT Times](https://news.google.com/rss/articles/CBMicEFVX3lxTE1hclROOFVyUDVDZ1dDdkF5dl9xMDZCMHNISm1FSy1DRGs3RFFEMk1US0xrbUQ3dVc2Y29nTjBZMC1oNE85c1M0QjdRQXZ2RlJmeXhFb0ltQkxxVjZxWmJUVHNnNllsZHBudTNyRFNNSEE?oc=5)**\n",
      "\n",
      "더 많은 정보를 보시려면 위의 링크를 클릭해주세요.\u001b[0m\n",
      "\n",
      "\u001b[1m> Finished chain.\u001b[0m\n",
      "{'output': \"여러 AI Agent 관련 뉴스를 찾았습니다:\\n\\n1. **[CB인사이츠, AI 에이전트 시장 지도 제시 - CIO.com](https://news.google.com/rss/articles/CBMiugJBVV95cUxNQ2w4LWUwLUJFcnNRUTQ4cUpib1V3aTJtWUs1MnhqOERObjhYTFBab010a25xTFN4Tm41Q05pSlpqSG9QcHpTTVBaUGRkaUduR2NyQzc1bXBROS1IdDBSSkMyRFZnNzQ3TU5ENVVFclRxZTVOWVpRNkFIckcycFQ4b3lYdFZRSnB6dWNrbXB1OUZCQnlTY0R4SWVvS2h0cVl4ejdma0xPZHdkX2MyR3JqVU0zUUhCd05IX0NiQmhrbXQzSzEwcTVmR0hCZms0N3J1VlJoN3lrM0tTcFJWTkdOUGI3Z0ZwSmoxNjRyMXNQRzhKTXZ3RUtNbmpNVzByRHpUUWt4ajd2YWpKVTNXVVhPNHNDdUlETkhPZGhzeGZYWjVoY1JIdGZhSlhiR3JhV3kxQzgtMnFqWFlLZ9IBugJBVV95cUxNQ2w4LWUwLUJFcnNRUTQ4cUpib1V3aTJtWUs1MnhqOERObjhYTFBab010a25xTFN4Tm41Q05pSlpqSG9QcHpTTVBaUGRkaUduR2NyQzc1bXBROS1IdDBSSkMyRFZnNzQ3TU5ENVVFclRxZTVOWVpRNkFIckcycFQ4b3lYdFZRSnB6dWNrbXB1OUZCQnlTY0R4SWVvS2h0cVl4ejdma0xPZHdkX2MyR3JqVU0zUUhCd05IX0NiQmhrbXQzSzEwcTVmR0hCZms0N3J1VlJoN3lrM0tTcFJWTkdOUGI3Z0ZwSmoxNjRyMXNQRzhKTXZ3RUtNbmpNVzByRHpUUWt4ajd2YWpKVTNXVVhPNHNDdUlETkhPZGhzeGZYWjVoY1JIdGZhSlhiR3JhV3kxQzgtMnFqWFlLZw?oc=5)**\\n\\n2. **['AI 에이전트'가 몰려온다! ⑨ - 중국의 AI 에이전트 '마누스(Manus)', 또다른 센세이션 일으키다 (上) - 뉴스투데이](https://news.google.com/rss/articles/CBMiXkFVX3lxTE9fMHgtaEFKZHk5R1FOZjREMUgybXh3d3VqT2pTTU1TTVQ1UHpJRTcxX3pQeURwZUNpZ2JsX3NtMXpRU1pxVUQxVlE4YnhFVktpbnc1Q1JJVXFWeHlpU0E?oc=5)**\\n\\n3. **[중국의 AI 에이전트 마누스, 혁신일까 허상일까? - 데일리바이트](https://news.google.com/rss/articles/CBMinwFBVV95cUxOTjNNZjV3Nk9kWjZBVmV6UkdZQmhqeVRyZ3IzeEF3XzUxdWFYR3hlZUZ0bWFZQjd5czZpN3pNWnV4WklGTUFEVnlzRnFlUHMycHVZVlNaNlJRNThfamFnMVdCdEdnMDdYVDk2MDZtNzhTSTBhWFVpb1ZFMFlKTXdncWtSSEFQdTlUVmNQd1RLTHFoYl9EQTBUV3B4UEFhM0U?oc=5)**\\n\\n4. **[와이즈넛, 상반기 'B2B 맞춤 AI 에이전트 플랫폼' 출시 - AI타임스](https://news.google.com/rss/articles/CBMiakFVX3lxTE0tS1ZDby1FT2xhc2x5c0ZWd2s4QW9hOHlxbjZpeTRtYnI1S2FzNF9RWnBSdk5NdzV3bXhNVy1DWWEtYnNBZXRBLThlY0NXSGxMbTdQS3NhSzNSYkhfWkktdkdJLWxQYk1HVkE?oc=5)**\\n\\n5. **[SKT Enhances AI Agent ‘A.’ with Latest Google 'Gemini' Version - Korea IT Times](https://news.google.com/rss/articles/CBMicEFVX3lxTE1hclROOFVyUDVDZ1dDdkF5dl9xMDZCMHNISm1FSy1DRGs3RFFEMk1US0xrbUQ3dVc2Y29nTjBZMC1oNE85c1M0QjdRQXZ2RlJmeXhFb0ltQkxxVjZxWmJUVHNnNllsZHBudTNyRFNNSEE?oc=5)**\\n\\n더 많은 정보를 보시려면 위의 링크를 클릭해주세요.\", 'messages': [AIMessage(content=\"여러 AI Agent 관련 뉴스를 찾았습니다:\\n\\n1. **[CB인사이츠, AI 에이전트 시장 지도 제시 - CIO.com](https://news.google.com/rss/articles/CBMiugJBVV95cUxNQ2w4LWUwLUJFcnNRUTQ4cUpib1V3aTJtWUs1MnhqOERObjhYTFBab010a25xTFN4Tm41Q05pSlpqSG9QcHpTTVBaUGRkaUduR2NyQzc1bXBROS1IdDBSSkMyRFZnNzQ3TU5ENVVFclRxZTVOWVpRNkFIckcycFQ4b3lYdFZRSnB6dWNrbXB1OUZCQnlTY0R4SWVvS2h0cVl4ejdma0xPZHdkX2MyR3JqVU0zUUhCd05IX0NiQmhrbXQzSzEwcTVmR0hCZms0N3J1VlJoN3lrM0tTcFJWTkdOUGI3Z0ZwSmoxNjRyMXNQRzhKTXZ3RUtNbmpNVzByRHpUUWt4ajd2YWpKVTNXVVhPNHNDdUlETkhPZGhzeGZYWjVoY1JIdGZhSlhiR3JhV3kxQzgtMnFqWFlLZ9IBugJBVV95cUxNQ2w4LWUwLUJFcnNRUTQ4cUpib1V3aTJtWUs1MnhqOERObjhYTFBab010a25xTFN4Tm41Q05pSlpqSG9QcHpTTVBaUGRkaUduR2NyQzc1bXBROS1IdDBSSkMyRFZnNzQ3TU5ENVVFclRxZTVOWVpRNkFIckcycFQ4b3lYdFZRSnB6dWNrbXB1OUZCQnlTY0R4SWVvS2h0cVl4ejdma0xPZHdkX2MyR3JqVU0zUUhCd05IX0NiQmhrbXQzSzEwcTVmR0hCZms0N3J1VlJoN3lrM0tTcFJWTkdOUGI3Z0ZwSmoxNjRyMXNQRzhKTXZ3RUtNbmpNVzByRHpUUWt4ajd2YWpKVTNXVVhPNHNDdUlETkhPZGhzeGZYWjVoY1JIdGZhSlhiR3JhV3kxQzgtMnFqWFlLZw?oc=5)**\\n\\n2. **['AI 에이전트'가 몰려온다! ⑨ - 중국의 AI 에이전트 '마누스(Manus)', 또다른 센세이션 일으키다 (上) - 뉴스투데이](https://news.google.com/rss/articles/CBMiXkFVX3lxTE9fMHgtaEFKZHk5R1FOZjREMUgybXh3d3VqT2pTTU1TTVQ1UHpJRTcxX3pQeURwZUNpZ2JsX3NtMXpRU1pxVUQxVlE4YnhFVktpbnc1Q1JJVXFWeHlpU0E?oc=5)**\\n\\n3. **[중국의 AI 에이전트 마누스, 혁신일까 허상일까? - 데일리바이트](https://news.google.com/rss/articles/CBMinwFBVV95cUxOTjNNZjV3Nk9kWjZBVmV6UkdZQmhqeVRyZ3IzeEF3XzUxdWFYR3hlZUZ0bWFZQjd5czZpN3pNWnV4WklGTUFEVnlzRnFlUHMycHVZVlNaNlJRNThfamFnMVdCdEdnMDdYVDk2MDZtNzhTSTBhWFVpb1ZFMFlKTXdncWtSSEFQdTlUVmNQd1RLTHFoYl9EQTBUV3B4UEFhM0U?oc=5)**\\n\\n4. **[와이즈넛, 상반기 'B2B 맞춤 AI 에이전트 플랫폼' 출시 - AI타임스](https://news.google.com/rss/articles/CBMiakFVX3lxTE0tS1ZDby1FT2xhc2x5c0ZWd2s4QW9hOHlxbjZpeTRtYnI1S2FzNF9RWnBSdk5NdzV3bXhNVy1DWWEtYnNBZXRBLThlY0NXSGxMbTdQS3NhSzNSYkhfWkktdkdJLWxQYk1HVkE?oc=5)**\\n\\n5. **[SKT Enhances AI Agent ‘A.’ with Latest Google 'Gemini' Version - Korea IT Times](https://news.google.com/rss/articles/CBMicEFVX3lxTE1hclROOFVyUDVDZ1dDdkF5dl9xMDZCMHNISm1FSy1DRGs3RFFEMk1US0xrbUQ3dVc2Y29nTjBZMC1oNE85c1M0QjdRQXZ2RlJmeXhFb0ltQkxxVjZxWmJUVHNnNllsZHBudTNyRFNNSEE?oc=5)**\\n\\n더 많은 정보를 보시려면 위의 링크를 클릭해주세요.\", additional_kwargs={}, response_metadata={})]}\n",
      "============================================================\n"
     ]
    }
   ],
   "source": [
    "# 스트리밍 모드로 실행\n",
    "result = agent_executor.stream({\n",
    "    \"input\":\"AI Agent와 관련된 뉴스를 검색해 주세요.\",\n",
    "})\n",
    "\n",
    "for step in result:\n",
    "    # 중간 단계 출력\n",
    "    print(step)\n",
    "    print(\"===\" * 20)"
   ]
  },
  {
   "cell_type": "markdown",
   "metadata": {},
   "source": [
    "## 단계별 결과 출력 (Custom)\n",
    "\n",
    "- `tool_callback`: 도구 호출 출력을 처리하는 함수\n",
    "- `observation_callback`: 관찰(Observation) 출력을 처리하는 함수\n",
    "- `result_callback`: 최종 답변 출력을 처리하는 함수"
   ]
  },
  {
   "cell_type": "code",
   "execution_count": 17,
   "metadata": {},
   "outputs": [],
   "source": [
    "from langchain_teddynote.messages import AgentStreamParser"
   ]
  },
  {
   "cell_type": "code",
   "execution_count": 20,
   "metadata": {},
   "outputs": [],
   "source": [
    "agent_stream_parser = AgentStreamParser()"
   ]
  },
  {
   "cell_type": "code",
   "execution_count": 21,
   "metadata": {},
   "outputs": [
    {
     "name": "stdout",
     "output_type": "stream",
     "text": [
      "\n",
      "\n",
      "\u001b[1m> Entering new None chain...\u001b[0m\n"
     ]
    },
    {
     "data": {
      "image/png": "[encoded data removed]",
      "text/plain": [
       "<Figure size 800x800 with 1 Axes>"
      ]
     },
     "metadata": {},
     "output_type": "display_data"
    },
    {
     "name": "stdout",
     "output_type": "stream",
     "text": [
      "[도구 호출]\n",
      "Tool: python_repl_tool\n",
      "code: import matplotlib.pyplot as plt\n",
      "\n",
      "# Data to plot\n",
      "labels = ['Apple', 'Banana', 'Orange', 'Grapes']\n",
      "sizes = [25, 30, 20, 25]\n",
      "\n",
      "# Plot\n",
      "plt.figure(figsize=(8, 8))\n",
      "plt.pie(sizes, labels=labels, autopct='%1.1f%%', startangle=140)\n",
      "plt.axis('equal')  # Equal aspect ratio ensures that pie is drawn as a circle.\n",
      "plt.title('Fruit Distribution')\n",
      "plt.show()\n",
      "Log: \n",
      "Invoking: `python_repl_tool` with `{'code': \"import matplotlib.pyplot as plt\\n\\n# Data to plot\\nlabels = ['Apple', 'Banana', 'Orange', 'Grapes']\\nsizes = [25, 30, 20, 25]\\n\\n# Plot\\nplt.figure(figsize=(8, 8))\\nplt.pie(sizes, labels=labels, autopct='%1.1f%%', startangle=140)\\nplt.axis('equal')  # Equal aspect ratio ensures that pie is drawn as a circle.\\nplt.title('Fruit Distribution')\\nplt.show()\"}`\n",
      "\n",
      "\n",
      "\n",
      "\u001b[32;1m\u001b[1;3m\n",
      "Invoking: `python_repl_tool` with `{'code': \"import matplotlib.pyplot as plt\\n\\n# Data to plot\\nlabels = ['Apple', 'Banana', 'Orange', 'Grapes']\\nsizes = [25, 30, 20, 25]\\n\\n# Plot\\nplt.figure(figsize=(8, 8))\\nplt.pie(sizes, labels=labels, autopct='%1.1f%%', startangle=140)\\nplt.axis('equal')  # Equal aspect ratio ensures that pie is drawn as a circle.\\nplt.title('Fruit Distribution')\\nplt.show()\"}`\n",
      "\n",
      "\n",
      "\u001b[0m\u001b[33;1m\u001b[1;3m\u001b[0m[관찰 내용]\n",
      "Observation: \n",
      "\u001b[32;1m\u001b[1;3m위의 코드를 실행하여 생성된 pie 차트를 확인할 수 있습니다.\u001b[0m\n",
      "\n",
      "\u001b[1m> Finished chain.\u001b[0m\n",
      "[최종 답변]\n",
      "위의 코드를 실행하여 생성된 pie 차트를 확인할 수 있습니다.\n"
     ]
    }
   ],
   "source": [
    "# 스트리밍 모드로 실행 \n",
    "result = agent_executor.stream({\n",
    "    \"input\":\"matplotlib 을 사용하여 pie 차트를 그리는 코드를 작성하고 실행하세요.\",\n",
    "})\n",
    "\n",
    "for step in result:\n",
    "    agent_stream_parser.process_agent_steps(step)"
   ]
  },
  {
   "cell_type": "markdown",
   "metadata": {},
   "source": [
    "## Callback (Custom)"
   ]
  },
  {
   "cell_type": "code",
   "execution_count": 22,
   "metadata": {},
   "outputs": [],
   "source": [
    "from langchain_teddynote.messages import AgentCallbacks, AgentStreamParser"
   ]
  },
  {
   "cell_type": "code",
   "execution_count": 23,
   "metadata": {},
   "outputs": [],
   "source": [
    "# 도구 호출 시 실행되는 콜백 함수\n",
    "def tool_callback(tool) -> None:\n",
    "    print(\"<<<<<<< 도구 호출 >>>>>>\")\n",
    "    print(f\"Tool: {tool.get('tool')}\")  # 사용된 도구의 이름 출력\n",
    "    print(\"<<<<<<< 도구 호출 >>>>>>\")\n",
    "\n",
    "\n",
    "# 관찰 결과를 출력하는 콜백 함수\n",
    "def observation_callback(observation) -> None:\n",
    "    print(\"<<<<<<< 관찰 내용 >>>>>>\")\n",
    "    print(f\"Observation: {observation.get('observation')[0]}\")  # 관찰 내용 출력\n",
    "    print(\"<<<<<<< 관찰 내용 >>>>>>\")\n",
    "\n",
    "\n",
    "# 최종 결과를 출력하는 콜백 함수\n",
    "def result_callback(result: str) -> None:\n",
    "    print(\"<<<<<<< 최종 답변 >>>>>>\")\n",
    "    print(result)  # 최종 답변 출력\n",
    "    print(\"<<<<<<< 최종 답변 >>>>>>\")"
   ]
  },
  {
   "cell_type": "code",
   "execution_count": 24,
   "metadata": {},
   "outputs": [],
   "source": [
    "# AgentCallbacks 객체를 생성하여 각 단계별 콜백 함수 설정\n",
    "agent_callbacks = AgentCallbacks(\n",
    "    tool_callback=tool_callback,\n",
    "    observation_callback=observation_callback,\n",
    "    result_callback=result_callback,\n",
    ")"
   ]
  },
  {
   "cell_type": "code",
   "execution_count": 25,
   "metadata": {},
   "outputs": [],
   "source": [
    "# AgentStreamParser 객체를 생성하여 에이전트의 실행 과정을 파싱\n",
    "agent_stream_parser = AgentStreamParser(agent_callbacks)"
   ]
  },
  {
   "cell_type": "code",
   "execution_count": 26,
   "metadata": {},
   "outputs": [
    {
     "name": "stdout",
     "output_type": "stream",
     "text": [
      "\n",
      "\n",
      "\u001b[1m> Entering new None chain...\u001b[0m\n",
      "<<<<<<< 도구 호출 >>>>>>\n",
      "Tool: search_news\n",
      "<<<<<<< 도구 호출 >>>>>>\n",
      "\u001b[32;1m\u001b[1;3m\n",
      "Invoking: `search_news` with `{'query': 'AI Agent'}`\n",
      "\n",
      "\n",
      "\u001b[0m\u001b[36;1m\u001b[1;3m[{'url': 'https://news.google.com/rss/articles/CBMiugJBVV95cUxNQ2w4LWUwLUJFcnNRUTQ4cUpib1V3aTJtWUs1MnhqOERObjhYTFBab010a25xTFN4Tm41Q05pSlpqSG9QcHpTTVBaUGRkaUduR2NyQzc1bXBROS1IdDBSSkMyRFZnNzQ3TU5ENVVFclRxZTVOWVpRNkFIckcycFQ4b3lYdFZRSnB6dWNrbXB1OUZCQnlTY0R4SWVvS2h0cVl4ejdma0xPZHdkX2MyR3JqVU0zUUhCd05IX0NiQmhrbXQzSzEwcTVmR0hCZms0N3J1VlJoN3lrM0tTcFJWTkdOUGI3Z0ZwSmoxNjRyMXNQRzhKTXZ3RUtNbmpNVzByRHpUUWt4ajd2YWpKVTNXVVhPNHNDdUlETkhPZGhzeGZYWjVoY1JIdGZhSlhiR3JhV3kxQzgtMnFqWFlLZ9IBugJBVV95cUxNQ2w4LWUwLUJFcnNRUTQ4cUpib1V3aTJtWUs1MnhqOERObjhYTFBab010a25xTFN4Tm41Q05pSlpqSG9QcHpTTVBaUGRkaUduR2NyQzc1bXBROS1IdDBSSkMyRFZnNzQ3TU5ENVVFclRxZTVOWVpRNkFIckcycFQ4b3lYdFZRSnB6dWNrbXB1OUZCQnlTY0R4SWVvS2h0cVl4ejdma0xPZHdkX2MyR3JqVU0zUUhCd05IX0NiQmhrbXQzSzEwcTVmR0hCZms0N3J1VlJoN3lrM0tTcFJWTkdOUGI3Z0ZwSmoxNjRyMXNQRzhKTXZ3RUtNbmpNVzByRHpUUWt4ajd2YWpKVTNXVVhPNHNDdUlETkhPZGhzeGZYWjVoY1JIdGZhSlhiR3JhV3kxQzgtMnFqWFlLZw?oc=5', 'content': '“디지털 동료 개념, 현실화 중”··· CB인사이츠, AI 에이전트 시장 지도 제시 - CIO.com'}, {'url': 'https://news.google.com/rss/articles/CBMiXkFVX3lxTE9fMHgtaEFKZHk5R1FOZjREMUgybXh3d3VqT2pTTU1TTVQ1UHpJRTcxX3pQeURwZUNpZ2JsX3NtMXpRU1pxVUQxVlE4YnhFVktpbnc1Q1JJVXFWeHlpU0E?oc=5', 'content': '‘AI 에이전트’가 몰려온다! ⑨ - 중국의 AI 에이전트 ‘마누스(Manus)’, 또다른 센세이션 일으키다 (上) - 뉴스투데이'}, {'url': 'https://news.google.com/rss/articles/CBMib0FVX3lxTE5pMUlVRlBjTjZwbmZES2tPNklzUHJlQ0VJM2gyZF94aVVDTHdrOUZzdUhvMU9HVm1FS1N4TXU0cExJVHE0MHRUWUNMcVdTSlNYdW5HbUVVS3ZUcTB1aHFIeFlvT0tHbkF4R3RMOUJNVQ?oc=5', 'content': 'AI 에이전트 AI Agents 란 무엇인가? | 인사이트리포트 | 삼성SDS - Samsung SDS'}, {'url': 'https://news.google.com/rss/articles/CBMinwFBVV95cUxOTjNNZjV3Nk9kWjZBVmV6UkdZQmhqeVRyZ3IzeEF3XzUxdWFYR3hlZUZ0bWFZQjd5czZpN3pNWnV4WklGTUFEVnlzRnFlUHMycHVZVlNaNlJRNThfamFnMVdCdEdnMDdYVDk2MDZtNzhTSTBhWFVpb1ZFMFlKTXdncWtSSEFQdTlUVmNQd1RLTHFoYl9EQTBUV3B4UEFhM0U?oc=5', 'content': '중국의 AI 에이전트 마누스, 혁신일까 허상일까? - 데일리바이트'}, {'url': 'https://news.google.com/rss/articles/CBMiakFVX3lxTE0tS1ZDby1FT2xhc2x5c0ZWd2s4QW9hOHlxbjZpeTRtYnI1S2FzNF9RWnBSdk5NdzV3bXhNVy1DWWEtYnNBZXRBLThlY0NXSGxMbTdQS3NhSzNSYkhfWkktdkdJLWxQYk1HVkE?oc=5', 'content': \"와이즈넛, 상반기 'B2B 맞춤 AI 에이전트 플랫폼' 출시 - AI타임스\"}]\u001b[0m<<<<<<< 관찰 내용 >>>>>>\n",
      "Observation: {'url': 'https://news.google.com/rss/articles/CBMiugJBVV95cUxNQ2w4LWUwLUJFcnNRUTQ4cUpib1V3aTJtWUs1MnhqOERObjhYTFBab010a25xTFN4Tm41Q05pSlpqSG9QcHpTTVBaUGRkaUduR2NyQzc1bXBROS1IdDBSSkMyRFZnNzQ3TU5ENVVFclRxZTVOWVpRNkFIckcycFQ4b3lYdFZRSnB6dWNrbXB1OUZCQnlTY0R4SWVvS2h0cVl4ejdma0xPZHdkX2MyR3JqVU0zUUhCd05IX0NiQmhrbXQzSzEwcTVmR0hCZms0N3J1VlJoN3lrM0tTcFJWTkdOUGI3Z0ZwSmoxNjRyMXNQRzhKTXZ3RUtNbmpNVzByRHpUUWt4ajd2YWpKVTNXVVhPNHNDdUlETkhPZGhzeGZYWjVoY1JIdGZhSlhiR3JhV3kxQzgtMnFqWFlLZ9IBugJBVV95cUxNQ2w4LWUwLUJFcnNRUTQ4cUpib1V3aTJtWUs1MnhqOERObjhYTFBab010a25xTFN4Tm41Q05pSlpqSG9QcHpTTVBaUGRkaUduR2NyQzc1bXBROS1IdDBSSkMyRFZnNzQ3TU5ENVVFclRxZTVOWVpRNkFIckcycFQ4b3lYdFZRSnB6dWNrbXB1OUZCQnlTY0R4SWVvS2h0cVl4ejdma0xPZHdkX2MyR3JqVU0zUUhCd05IX0NiQmhrbXQzSzEwcTVmR0hCZms0N3J1VlJoN3lrM0tTcFJWTkdOUGI3Z0ZwSmoxNjRyMXNQRzhKTXZ3RUtNbmpNVzByRHpUUWt4ajd2YWpKVTNXVVhPNHNDdUlETkhPZGhzeGZYWjVoY1JIdGZhSlhiR3JhV3kxQzgtMnFqWFlLZw?oc=5', 'content': '“디지털 동료 개념, 현실화 중”··· CB인사이츠, AI 에이전트 시장 지도 제시 - CIO.com'}\n",
      "<<<<<<< 관찰 내용 >>>>>>\n",
      "\u001b[32;1m\u001b[1;3m여러 AI Agent 관련 뉴스를 찾았습니다:\n",
      "\n",
      "1. 제목: “디지털 동료 개념, 현실화 중”··· CB인사이츠, AI 에이전트 시장 지도 제시 - CIO.com\n",
      "   링크: [기사 보기](https://news.google.com/rss/articles/CBMiugJBVV95cUxNQ2w4LWUwLUJFcnNRUTQ4cUpib1V3aTJtWUs1MnhqOERObjhYTFBab010a25xTFN4Tm41Q05pSlpqSG9QcHpTTVBaUGRkaUduR2NyQzc1bXBROS1IdDBSSkMyRFZnNzQ3TU5ENVVFclRxZTVOWVpRNkFIckcycFQ4b3lYdVZRSnB6dWNrbXB1OUZCQnlTY0R4SWVvS2h0cVl4ejdma0xPZHdkX2MyR3JqVU0zUUhCd05IX0NiQmhrbXQzSzEwcTVmR0hCZms0N3J1VlJoN3lrM0tTcFJWTkdOUGI3Z0ZwSmoxNjRyMXNQRzhKTXZ3RUtNbmpNVzByRHpUUWt4ajd2YWpKVTNXVVhPNHNDdUlETkhPZGhzeGZYWjVoY1JIdGZhSlhiR3JhV3kxQzgtMnFqWllLZ9IBugJBVV95cUxNQ2w4LWUwLUJFcnNRUTQ4cUpib1V3aTJtWUs1MnhqOERObjhYTFBab010a25xTFN4Tm41Q05pSlpqSG9QcHpTTVBaUGRkaUduR2NyQzc1bXBROS1IdDBSSkMyRFZnNzQ3TU5ENVVFclRxZTVOWVpRNkFIckcycFQ4b3lYdVZRSnB6dWNrbXB1OUZCQnlTY0X4SWVvS2h0cVl4ejdma0xPZHdkX2MyR3JqVU0zUUhCd05IX0NiQmhrbXQzSzEwcTVmR0hCZms0N3J1VlJoN3lrM0tTcFJWTkdOUGI3Z0ZwSmoxNjRyMXNQRzhKTXZ3RUtNbmpNVzByRHpUUWt4ajd2YWpKVTNXVVhPNHNDdUlETkhPZGhzeGZYWjVoY1JIdGZhSlhiR3JhV3kxQzgtMnFqWllLZw?oc=5)\n",
      "\n",
      "2. 제목: ‘AI 에이전트’가 몰려온다! ⑨ - 중국의 AI 에이전트 ‘마누스(Manus)’, 또다른 센세이션 일으키다 (上) - 뉴스투데이\n",
      "   링크: [기사 보기](https://news.google.com/rss/articles/CBMiXkFVX3lxTE9fMHgtaEFKZHk5R1FOZjREMUgybXh3d3VqT2pTTU1TTVQ1UHpJRTcxX3pQeURwZUNpZ2JsX3NtMXpRU1pxVUQxVlE4YnhFVktpbnc1Q1JJVXFWeHlpU0E?oc=5)\n",
      "\n",
      "3. 제목: AI 에이전트 AI Agents 란 무엇인가? | 인사이트리포트 | 삼성SDS - Samsung SDS\n",
      "   링크: [기사 보기](https://news.google.com/rss/articles/CBMib0FVX3lxTE5pMUlVRlBjTjZwbmZES2tPNklzUHJlQ0VJM2gyZF94aVVDTHdrOUZzdUhvMU9HVm1FS1N4TXU0cExJVHE0MHRUWUNMcVdTSlNYdW5HbUVVS3ZUcTB1aHFIeFlvT0tHbkF4R3RMOUJNVQ?oc=5)\n",
      "\n",
      "4. 제목: 중국의 AI 에이전트 마누스, 혁신일까 허상일까? - 데일리바이트\n",
      "   링크: [기사 보기](https://news.google.com/rss/articles/CBMinwFBVV95cUxOTjNNZjV3Nk9kWjZBVmV6UkdZQmhqeVRyZ3IzeEF3XzUxdWFYR3hlZUZ0bWFZQjd5czZpN3pNWnV4WklGTUFEVnlzRnElUHMycHVZVlNaNlJRNThfamFnMVdCdEdnMDdYVDk2MDZtNzhTSTBhWFVpb1ZFMFlKTXdncWtSSEFQdTlUVmNQd1RLTHFoYl9EQTBUV3B4UEFhM0U?oc=5)\n",
      "\n",
      "5. 제목: 와이즈넛, 상반기 'B2B 맞춤 AI 에이전트 플랫폼' 출시 - AI타임스\n",
      "   링크: [기사 보기](https://news.google.com/rss/articles/CBMiakFVX3lxTE0tS1ZDby1FT2xhc2x5c0ZWd2s4QW9hOHlxbjZpeTRtYnI1S2FzNF9RWnBSdk5NdzV3bXhNVy1DWWEtYnNBZXRBLThlY0NXSGxMbTdQS3NhSzNSYkhfWkktdkdJLWxQYk1HVkE?oc=5)\n",
      "\n",
      "더 많은 정보를 원하시면 위 링크를 클릭해 주세요.\u001b[0m\n",
      "\n",
      "\u001b[1m> Finished chain.\u001b[0m\n",
      "<<<<<<< 최종 답변 >>>>>>\n",
      "여러 AI Agent 관련 뉴스를 찾았습니다:\n",
      "\n",
      "1. 제목: “디지털 동료 개념, 현실화 중”··· CB인사이츠, AI 에이전트 시장 지도 제시 - CIO.com\n",
      "   링크: [기사 보기](https://news.google.com/rss/articles/CBMiugJBVV95cUxNQ2w4LWUwLUJFcnNRUTQ4cUpib1V3aTJtWUs1MnhqOERObjhYTFBab010a25xTFN4Tm41Q05pSlpqSG9QcHpTTVBaUGRkaUduR2NyQzc1bXBROS1IdDBSSkMyRFZnNzQ3TU5ENVVFclRxZTVOWVpRNkFIckcycFQ4b3lYdVZRSnB6dWNrbXB1OUZCQnlTY0R4SWVvS2h0cVl4ejdma0xPZHdkX2MyR3JqVU0zUUhCd05IX0NiQmhrbXQzSzEwcTVmR0hCZms0N3J1VlJoN3lrM0tTcFJWTkdOUGI3Z0ZwSmoxNjRyMXNQRzhKTXZ3RUtNbmpNVzByRHpUUWt4ajd2YWpKVTNXVVhPNHNDdUlETkhPZGhzeGZYWjVoY1JIdGZhSlhiR3JhV3kxQzgtMnFqWllLZ9IBugJBVV95cUxNQ2w4LWUwLUJFcnNRUTQ4cUpib1V3aTJtWUs1MnhqOERObjhYTFBab010a25xTFN4Tm41Q05pSlpqSG9QcHpTTVBaUGRkaUduR2NyQzc1bXBROS1IdDBSSkMyRFZnNzQ3TU5ENVVFclRxZTVOWVpRNkFIckcycFQ4b3lYdVZRSnB6dWNrbXB1OUZCQnlTY0X4SWVvS2h0cVl4ejdma0xPZHdkX2MyR3JqVU0zUUhCd05IX0NiQmhrbXQzSzEwcTVmR0hCZms0N3J1VlJoN3lrM0tTcFJWTkdOUGI3Z0ZwSmoxNjRyMXNQRzhKTXZ3RUtNbmpNVzByRHpUUWt4ajd2YWpKVTNXVVhPNHNDdUlETkhPZGhzeGZYWjVoY1JIdGZhSlhiR3JhV3kxQzgtMnFqWllLZw?oc=5)\n",
      "\n",
      "2. 제목: ‘AI 에이전트’가 몰려온다! ⑨ - 중국의 AI 에이전트 ‘마누스(Manus)’, 또다른 센세이션 일으키다 (上) - 뉴스투데이\n",
      "   링크: [기사 보기](https://news.google.com/rss/articles/CBMiXkFVX3lxTE9fMHgtaEFKZHk5R1FOZjREMUgybXh3d3VqT2pTTU1TTVQ1UHpJRTcxX3pQeURwZUNpZ2JsX3NtMXpRU1pxVUQxVlE4YnhFVktpbnc1Q1JJVXFWeHlpU0E?oc=5)\n",
      "\n",
      "3. 제목: AI 에이전트 AI Agents 란 무엇인가? | 인사이트리포트 | 삼성SDS - Samsung SDS\n",
      "   링크: [기사 보기](https://news.google.com/rss/articles/CBMib0FVX3lxTE5pMUlVRlBjTjZwbmZES2tPNklzUHJlQ0VJM2gyZF94aVVDTHdrOUZzdUhvMU9HVm1FS1N4TXU0cExJVHE0MHRUWUNMcVdTSlNYdW5HbUVVS3ZUcTB1aHFIeFlvT0tHbkF4R3RMOUJNVQ?oc=5)\n",
      "\n",
      "4. 제목: 중국의 AI 에이전트 마누스, 혁신일까 허상일까? - 데일리바이트\n",
      "   링크: [기사 보기](https://news.google.com/rss/articles/CBMinwFBVV95cUxOTjNNZjV3Nk9kWjZBVmV6UkdZQmhqeVRyZ3IzeEF3XzUxdWFYR3hlZUZ0bWFZQjd5czZpN3pNWnV4WklGTUFEVnlzRnElUHMycHVZVlNaNlJRNThfamFnMVdCdEdnMDdYVDk2MDZtNzhTSTBhWFVpb1ZFMFlKTXdncWtSSEFQdTlUVmNQd1RLTHFoYl9EQTBUV3B4UEFhM0U?oc=5)\n",
      "\n",
      "5. 제목: 와이즈넛, 상반기 'B2B 맞춤 AI 에이전트 플랫폼' 출시 - AI타임스\n",
      "   링크: [기사 보기](https://news.google.com/rss/articles/CBMiakFVX3lxTE0tS1ZDby1FT2xhc2x5c0ZWd2s4QW9hOHlxbjZpeTRtYnI1S2FzNF9RWnBSdk5NdzV3bXhNVy1DWWEtYnNBZXRBLThlY0NXSGxMbTdQS3NhSzNSYkhfWkktdkdJLWxQYk1HVkE?oc=5)\n",
      "\n",
      "더 많은 정보를 원하시면 위 링크를 클릭해 주세요.\n",
      "<<<<<<< 최종 답변 >>>>>>\n"
     ]
    }
   ],
   "source": [
    "# 실행 & 출력\n",
    "result = agent_executor.stream({\"input\": \"AI Agent와 관련된 뉴스를 검색해 주세요.\"})\n",
    "\n",
    "for step in result:\n",
    "    agent_stream_parser.process_agent_steps(step)"
   ]
  },
  {
   "cell_type": "markdown",
   "metadata": {},
   "source": [
    "# 이전 대화 기억\n",
    "\n",
    "- 이전의 대화 내용을 기억하기 위해 `RunnableWithMessageHistory`를 사용하여 `AgentExecutor`를 감싸줌 \n",
    "- [Ref] https://python.langchain.com/api_reference/core/runnables/langchain_core.runnables.history.RunnableWithMessageHistory.html\n"
   ]
  },
  {
   "cell_type": "code",
   "execution_count": 27,
   "metadata": {},
   "outputs": [],
   "source": [
    "from langchain_community.chat_message_histories import ChatMessageHistory\n",
    "from langchain_core.runnables.history import RunnableWithMessageHistory"
   ]
  },
  {
   "cell_type": "code",
   "execution_count": 28,
   "metadata": {},
   "outputs": [],
   "source": [
    "# session_id 를 저장할 딕셔너리 생성\n",
    "store = {}\n",
    "\n",
    "\n",
    "# session_id 를 기반으로 세션 기록을 가져오는 함수\n",
    "def get_session_history(session_ids):\n",
    "    if session_ids not in store:  # session_id 가 store에 없는 경우\n",
    "        # 새로운 ChatMessageHistory 객체를 생성하여 store에 저장\n",
    "        store[session_ids] = ChatMessageHistory()\n",
    "    return store[session_ids]  # 해당 세션 ID에 대한 세션 기록 반환\n",
    "\n",
    "\n",
    "# 채팅 메시지 기록이 추가된 에이전트 생성\n",
    "agent_with_chat_history = RunnableWithMessageHistory(\n",
    "    agent_executor,\n",
    "    # 대화 session_id\n",
    "    get_session_history,\n",
    "    # 프롬프트의 질문이 입력되는 key: \"input\"\n",
    "    input_messages_key=\"input\",\n",
    "    # 프롬프트의 메시지가 입력되는 key: \"chat_history\"\n",
    "    history_messages_key=\"chat_history\",\n",
    ")"
   ]
  },
  {
   "cell_type": "code",
   "execution_count": 29,
   "metadata": {},
   "outputs": [
    {
     "name": "stdout",
     "output_type": "stream",
     "text": [
      "\n",
      "\n",
      "\u001b[1m> Entering new None chain...\u001b[0m\n",
      "\u001b[32;1m\u001b[1;3m안녕, 영희! 봄이 오는 소식을 듣고 기쁘네요. 봄에는 따뜻한 날씨와 아름다운 꽃들이 만개하는 모습을 기대할 수 있죠. 봄에 관련된 뉴스나 정보가 궁금하신가요? 함께 찾아볼까요?\u001b[0m\n",
      "\n",
      "\u001b[1m> Finished chain.\u001b[0m\n",
      "<<<<<<< 최종 답변 >>>>>>\n",
      "안녕, 영희! 봄이 오는 소식을 듣고 기쁘네요. 봄에는 따뜻한 날씨와 아름다운 꽃들이 만개하는 모습을 기대할 수 있죠. 봄에 관련된 뉴스나 정보가 궁금하신가요? 함께 찾아볼까요?\n",
      "<<<<<<< 최종 답변 >>>>>>\n"
     ]
    }
   ],
   "source": [
    "# 질의에 대한 답변을 스트리밍으로 출력 요청\n",
    "response = agent_with_chat_history.stream(\n",
    "    {\"input\": \"안녕? 나는 영희야. 이제 봄이 오는 것 같아.\"},\n",
    "    # session_id 설정\n",
    "    config={\"configurable\": {\"session_id\": \"abc123\"}},\n",
    ")\n",
    "\n",
    "# 출력 확인\n",
    "for step in response:\n",
    "    agent_stream_parser.process_agent_steps(step)"
   ]
  },
  {
   "cell_type": "code",
   "execution_count": 30,
   "metadata": {},
   "outputs": [
    {
     "name": "stdout",
     "output_type": "stream",
     "text": [
      "\n",
      "\n",
      "\u001b[1m> Entering new None chain...\u001b[0m\n",
      "\u001b[32;1m\u001b[1;3m당연히 알아요, 영희씨! 영희라는 이름을 사용하셨죠. 어떤 도움이 필요하신가요? 함께 무엇을 찾아드릴까요?\u001b[0m\n",
      "\n",
      "\u001b[1m> Finished chain.\u001b[0m\n",
      "<<<<<<< 최종 답변 >>>>>>\n",
      "당연히 알아요, 영희씨! 영희라는 이름을 사용하셨죠. 어떤 도움이 필요하신가요? 함께 무엇을 찾아드릴까요?\n",
      "<<<<<<< 최종 답변 >>>>>>\n"
     ]
    }
   ],
   "source": [
    "response = agent_with_chat_history.stream(\n",
    "    {\"input\": \"내가 누구인지 알아? 내 이름이 뭐야?\"},\n",
    "    config={\"configurable\": {\"session_id\": \"abc123\"}},\n",
    ")\n",
    "\n",
    "# 출력 확인\n",
    "for step in response:\n",
    "    agent_stream_parser.process_agent_steps(step)"
   ]
  },
  {
   "cell_type": "code",
   "execution_count": 31,
   "metadata": {},
   "outputs": [
    {
     "name": "stdout",
     "output_type": "stream",
     "text": [
      "\n",
      "\n",
      "\u001b[1m> Entering new None chain...\u001b[0m\n",
      "\u001b[32;1m\u001b[1;3mSKALA 주식회사에서 AI 개발자로 일하시는 영희씨군요. 멋진 직업이시네요! 이메일 주소도 알려주셔서 감사합니다. 어떤 도움이 필요하신가요, 영희씨? 무엇을 도와드릴까요?\u001b[0m\n",
      "\n",
      "\u001b[1m> Finished chain.\u001b[0m\n",
      "<<<<<<< 최종 답변 >>>>>>\n",
      "SKALA 주식회사에서 AI 개발자로 일하시는 영희씨군요. 멋진 직업이시네요! 이메일 주소도 알려주셔서 감사합니다. 어떤 도움이 필요하신가요, 영희씨? 무엇을 도와드릴까요?\n",
      "<<<<<<< 최종 답변 >>>>>>\n"
     ]
    }
   ],
   "source": [
    "response = agent_with_chat_history.stream(\n",
    "    {\n",
    "        \"input\": \"나는 SKALA 주식회사에서 AI개발자로 일하고 있어. 내 메일 주소는 younghee@skala.com 이야.\"\n",
    "    },\n",
    "    config={\"configurable\": {\"session_id\": \"abc123\"}},\n",
    ")\n",
    "\n",
    "# 출력 확인\n",
    "for step in response:\n",
    "    agent_stream_parser.process_agent_steps(step)"
   ]
  },
  {
   "cell_type": "code",
   "execution_count": 32,
   "metadata": {},
   "outputs": [
    {
     "name": "stdout",
     "output_type": "stream",
     "text": [
      "\n",
      "\n",
      "\u001b[1m> Entering new None chain...\u001b[0m\n",
      "<<<<<<< 도구 호출 >>>>>>\n",
      "Tool: search_news\n",
      "<<<<<<< 도구 호출 >>>>>>\n",
      "\u001b[32;1m\u001b[1;3m\n",
      "Invoking: `search_news` with `{'query': 'SK 주식회사'}`\n",
      "\n",
      "\n",
      "\u001b[0m\u001b[36;1m\u001b[1;3m[{'url': 'https://news.google.com/rss/articles/CBMihAFBVV95cUxQOUEtR2cwSkVSS3lJRTRTdWphZGs2N2g3Y253Yms4bEdrNHhadVdlcTRWRDVnVkE2aFo4OVNWZmMzVnM2aUhBNzI4cnNLajFEQklVM3ZWRVpCMkV0RlJDNzRBMjdsWVlqSjFrR3owQmhTWUVJVjUwaWJpMUhPNjU3Z01hSkfSAZgBQVVfeXFMTzVJb0xtcDAxbGZNNVQ4REF0WFl0bThnQTI2aU1vT3Z5akhLU21iTnBPaWFoQ2FGYVVIZmpwVWM0NUM0NnVhM2NZaG90RF9ObDJ6NUQ4OXo0anNsOFNXZFBHNGdVbjNIQm1yVG1xX1VJaGs0N0djei1lTmYtZHd6aFdZNlJyM05zeXIzemJyMl9WUnB1V042a04?oc=5', 'content': '[CSR] “비용 줄여라”… SK 계열사, 그랑서울서 속속 방 뺄 준비 - 조선비즈 - 조선비즈'}, {'url': 'https://news.google.com/rss/articles/CBMiYEFVX3lxTE9OOWxRZDlXSnhYbmlvT0tyVHdfUFZOQ0lDSVJ6blRKdjlUQWJicXM2Nm1vR1I3d2I3Um5KVVE4UHcxdF9Pb1hscWJrbTRuejdmNnBzamhxX1AyMXRDQTVHaNIBeEFVX3lxTFBRcFJ2LWFaTk9NZ3hGcUtmVnc2OS1GSHIyQWExd0RKS0dkWXZaVmtpbnJtcnhobmlMVTc1cUIzdTZjaGYyT3RjNVN1WU9GQU1vYnYxcTBLU3VHdmxQQ0xuOEo1TjhmcTZHYmMwVURSUVNXd2RQbFFYZA?oc=5', 'content': \"SK C&C, 'AI 반송 물류 시스템'으로 글로벌 제조 AI 사업 본격화 - 뉴시스\"}, {'url': 'https://news.google.com/rss/articles/CBMiWkFVX3lxTE5TRnBIVzAyZVNuZGVONUxVM0VvUjVvSmVmZWdCQzd5WjFOYkVJYWdVTFFULXNYRjJUMWtmQURKR2dkSkxSbnk5MGJfZGN1Tjh0UFowTVM0bDBPQdIBXkFVX3lxTE5BRW5tWlFnZjNCdnFZSk5MMFo1RmU4QTdEVUx5LVZwaTFESDVjczUwRF9pYWo1Y25IQmRibnJBeTJyNGdsd3U3YWJGeEM3dkNROWltYmFteTVDMUFGc2c?oc=5', 'content': \"SK C&C, 작년 영업익 24% 증가…DX 사업도 '순항' - 파이낸셜뉴스\"}, {'url': 'https://news.google.com/rss/articles/CBMiW0FVX3lxTE9fOFNlN05WQ0NmQmtvQUxZRFRlb0drRUMwOEUtWVZ0ejRfLWlIRDhaMGY0NFJXbWZneHZ1YjQyMkc5dTBBZkRVUHNVdEI2Qk42MUVNVlNwNXVPWjA?oc=5', 'content': '일성신약, SK(주)에 14억여원 출자 결의 - 데일리팜'}, {'url': 'https://news.google.com/rss/articles/CBMi-glBVV95cUxOMFluTWFuN2pnVmFJdlZyQlFqVTZZaUFLQ0FxTTNoVkpzakoxVVB6TjNYLW9tWVZrYU85REtGdUJ4c2dUZEUtOFZPOGpiN2dFWGZ4dWF3VmNMY3FyNUdHb2RYYkdadWxqTDRoX1NXVkJXU1ZhMl9pMjZ6bU1WalQ1RDNTZFFqUVRLc2hiQzYwVEdJODFCbWZYbjJreGwwc29xTmh5WGd6ekNxODg1dms1X3kxN2d5M1RNZ0FQMUpuajdadXJJMFZmUkFvOGNoWm5EbW4yM1JGbk5RX0loYWppYm0wdkVZcEVWQnVRS2ZwcEVKcWp5RFpaNGphdm5iUnc1RFpLandYUldhLWVTZHpmVW1rZC1lVWh6LWZGMVY4M3RXS0VjRkh3aEUzenZteTYzTWZQdC0wS3JGM2s1SmlselpVN1pkMkRWUkNMV0hrQVhZbkJoYXhhd1dSaXN1ZFVLNElxS3k0TGl5NzVXdUd4S1BoX0FSMXdEZU8ya0hyQmVEWmhHYUF4bVhZWjNkV3B4NWZ4R0pHTTk4VUZXTFk0akhxS0h5blpadnZEaWNudEpmSTRKVVN4MmpjcTNLWFdrdjBrS21jNFdMcWNlOGI5d21ibE9PRDdYekNBQkxOR0pYWHZiak1NRlZqRmFfUFgzeUNFc3AtOTlUSWxIdU45STlDM2VNVzlZM2QwbkNlcVhueTZVS1h4RHF2dVpraE5oNmt0OUI4NThRMEk4cFNVcTd3S2h5VXJ3Y1Z2X2cyMGpUb3pEVjNSdDRYWHpPRmx1OXprSXh1dkRsakh3QTN4aU1TNGhyRGJGZk1BLXhxS3llcEY3Z3A1ME1zUlp3RzdlZjRqcUwzR2RWekJxR1AwVmJRSDZtci1SZWtEb1hnTElwRVRDZ1F3T29mZ1ZSLTFMdlVZTFlsUTRjMHhDSks2a3VlZXBSWC1KdHlpQ0lqSWdnYWFrSm5mODgwNUh5NnlUMHdqVXFocng1VXNSZlF3R3BsZGoyTHVOZ2MyM3NEdWtmQmdSemg1NVY2MDNfSGRFcVpWUVY5QlJiOGlrYXBVV0U3VVNsWVRyR093TVZfdHZCbFcwZFJrRzcwc3NwVnRzckR0OXZCbndyOGlvQzFEams2dTN3dVptbzZlQTJ0MThSS2JrY3hFOWplaDJiQktmSFJYelJkUTRoWFRscUNGVlJLSUpwQzA5U3U5a0VxODdrbVFDdGVuVU5rWE0wdWxnbEVkVDZENHhuOTZfOXA5bUJrQVVVZllvWG9oMW44VlNkeWdyS2phOFRxWVVqOTRzSVdaZ1plTW1JcTZFampVYmxBS2NfTFZOUDhRYW1sdW91dWZ1RGRtaWlNbzVhM1BwNnVxc1VHOFBqVllNUlRYRnlRTHpxZ2tKcW5nWUQxUDJoSG9tWXFyblpLWkstVzJGb3ZoVFlrME5XNDdabmJOcXhGVWoyaWZpWVI0NzVwcVJCcjdOSE1Kb0lOY21WbkdyNFpNTTJ1Q2cyNjN2SEwxR3BRRGJBdjlGSEdIbmVrR0FRcnYyTTQ5bHpwZHJsQVc4c296VUc1a2ROamgxaUNKcENRYWZtS1RYalk3d18zNm8yS2pLOTJKUF94blFDU2J4STlFWGdmMERFNjllN2pQX2xpMjh5V2hQZE1fTHkwWXRONEdVeEtsQ2owSXZYel9FdUJtdlBkanZ1Zw?oc=5', 'content': '박정호 SK주식회사 C&C 사장(왼쪽 다섯번째), 양치우친 저스다 대표(왼쪽 네번째), 고재범 FSK L&S 대표(오른쪽 두번째) 등이 FSK L&S 출범 테이프 커팅을 하고 있다. - 전자신문'}]\u001b[0m<<<<<<< 관찰 내용 >>>>>>\n",
      "Observation: {'url': 'https://news.google.com/rss/articles/CBMihAFBVV95cUxQOUEtR2cwSkVSS3lJRTRTdWphZGs2N2g3Y253Yms4bEdrNHhadVdlcTRWRDVnVkE2aFo4OVNWZmMzVnM2aUhBNzI4cnNLajFEQklVM3ZWRVpCMkV0RlJDNzRBMjdsWVlqSjFrR3owQmhTWUVJVjUwaWJpMUhPNjU3Z01hSkfSAZgBQVVfeXFMTzVJb0xtcDAxbGZNNVQ4REF0WFl0bThnQTI2aU1vT3Z5akhLU21iTnBPaWFoQ2FGYVVIZmpwVWM0NUM0NnVhM2NZaG90RF9ObDJ6NUQ4OXo0anNsOFNXZFBHNGdVbjNIQm1yVG1xX1VJaGs0N0djei1lTmYtZHd6aFdZNlJyM05zeXIzemJyMl9WUnB1V042a04?oc=5', 'content': '[CSR] “비용 줄여라”… SK 계열사, 그랑서울서 속속 방 뺄 준비 - 조선비즈 - 조선비즈'}\n",
      "<<<<<<< 관찰 내용 >>>>>>\n",
      "<<<<<<< 도구 호출 >>>>>>\n",
      "Tool: python_repl_tool\n",
      "<<<<<<< 도구 호출 >>>>>>\n",
      "<<<<<<< 도구 호출 >>>>>>\n",
      "Tool: python_repl_tool\n",
      "<<<<<<< 도구 호출 >>>>>>\n",
      "\u001b[32;1m\u001b[1;3m\n",
      "Invoking: `python_repl_tool` with `{'code': 'print(\"최철수 팀장님\")'}`\n",
      "\n",
      "\n",
      "\u001b[0m\u001b[33;1m\u001b[1;3m최철수 팀장님\n",
      "\u001b[0m<<<<<<< 관찰 내용 >>>>>>\n",
      "Observation: 최\n",
      "<<<<<<< 관찰 내용 >>>>>>\n",
      "\u001b[32;1m\u001b[1;3m\n",
      "Invoking: `python_repl_tool` with `{'code': 'print(\"발신인: 영희 (younghee@skala.com)\")'}`\n",
      "\n",
      "\n",
      "\u001b[0m\u001b[33;1m\u001b[1;3m발신인: 영희 (younghee@skala.com)\n",
      "\u001b[0m<<<<<<< 관찰 내용 >>>>>>\n",
      "Observation: 발\n",
      "<<<<<<< 관찰 내용 >>>>>>\n",
      "\u001b[32;1m\u001b[1;3m메일 본문 작성을 위해 최신 SK 주식회사 관련 뉴스 3개를 검색했습니다. 아래는 메일의 내용입니다.\n",
      "\n",
      "---\n",
      "\n",
      "최철수 팀장님,\n",
      "\n",
      "SK 주식회사와 관련된 최신 뉴스를 안내드립니다.\n",
      "\n",
      "1. 제목: \"비용 줄여라… SK 계열사, 그랑서울서 속속 방 뺄 준비\"\n",
      "   내용: SK 계열사들이 그랑서울에서 비용을 줄이고 방을 준비하고 있습니다. (자세한 내용은 링크를 참고해주세요)\n",
      "\n",
      "2. 제목: \"SK C&C, 'AI 반송 물류 시스템'으로 글로벌 제조 AI 사업 본격화\"\n",
      "   내용: SK C&C가 'AI 반송 물류 시스템'을 통해 글로벌 제조 AI 사업을 본격화하고 있습니다. (자세한 내용은 링크를 참고해주세요)\n",
      "\n",
      "3. 제목: \"SK C&C, 작년 영업익 24% 증가…DX 사업도 '순항'\"\n",
      "   내용: SK C&C가 작년 영업익이 24% 증가하며 DX 사업도 순항하고 있는 소식입니다. (자세한 내용은 링크를 참고해주세요)\n",
      "\n",
      "감사합니다.\n",
      "\n",
      "발신인: 영희 (younghee@skala.com)\n",
      "\n",
      "--- \n",
      "\n",
      "이렇게 작성해도 좋을까요, 영희씨?\n",
      "메일 본문이 잘 작성되었나요, 영희씨? 괜찮다면 메일을 전송하시기 전에 확인하고 싶은 부분이 있나요? 부족한 부분이나 수정이 필요한 내용이 있다면 알려주세요. 함께 완벽한 메일을 작성해보겠습니다.\u001b[0m\n",
      "\n",
      "\u001b[1m> Finished chain.\u001b[0m\n",
      "<<<<<<< 최종 답변 >>>>>>\n",
      "메일 본문 작성을 위해 최신 SK 주식회사 관련 뉴스 3개를 검색했습니다. 아래는 메일의 내용입니다.\n",
      "\n",
      "---\n",
      "\n",
      "최철수 팀장님,\n",
      "\n",
      "SK 주식회사와 관련된 최신 뉴스를 안내드립니다.\n",
      "\n",
      "1. 제목: \"비용 줄여라… SK 계열사, 그랑서울서 속속 방 뺄 준비\"\n",
      "   내용: SK 계열사들이 그랑서울에서 비용을 줄이고 방을 준비하고 있습니다. (자세한 내용은 링크를 참고해주세요)\n",
      "\n",
      "2. 제목: \"SK C&C, 'AI 반송 물류 시스템'으로 글로벌 제조 AI 사업 본격화\"\n",
      "   내용: SK C&C가 'AI 반송 물류 시스템'을 통해 글로벌 제조 AI 사업을 본격화하고 있습니다. (자세한 내용은 링크를 참고해주세요)\n",
      "\n",
      "3. 제목: \"SK C&C, 작년 영업익 24% 증가…DX 사업도 '순항'\"\n",
      "   내용: SK C&C가 작년 영업익이 24% 증가하며 DX 사업도 순항하고 있는 소식입니다. (자세한 내용은 링크를 참고해주세요)\n",
      "\n",
      "감사합니다.\n",
      "\n",
      "발신인: 영희 (younghee@skala.com)\n",
      "\n",
      "--- \n",
      "\n",
      "이렇게 작성해도 좋을까요, 영희씨?\n",
      "메일 본문이 잘 작성되었나요, 영희씨? 괜찮다면 메일을 전송하시기 전에 확인하고 싶은 부분이 있나요? 부족한 부분이나 수정이 필요한 내용이 있다면 알려주세요. 함께 완벽한 메일을 작성해보겠습니다.\n",
      "<<<<<<< 최종 답변 >>>>>>\n"
     ]
    }
   ],
   "source": [
    "response = agent_with_chat_history.stream(\n",
    "    {\n",
    "        \"input\": \"SK주식회사와 관련된 최신 뉴스 3개를 검색해서 이메일의 본문으로 작성해줘. \"\n",
    "        \"수신인에는 `최철수 팀장님` 그리고, 발신인에는 내 인적정보를 적어줘.\"\n",
    "        \"정중한 어조로 작성하고, 메일의 시작과 끝에는 적절한 인사말과 맺음말을 적어줘.\"\n",
    "    },\n",
    "    config={\"configurable\": {\"session_id\": \"abc123\"}},\n",
    ")\n",
    "\n",
    "# 출력 확인\n",
    "for step in response:\n",
    "    agent_stream_parser.process_agent_steps(step)"
   ]
  },
  {
   "cell_type": "code",
   "execution_count": 34,
   "metadata": {},
   "outputs": [
    {
     "name": "stdout",
     "output_type": "stream",
     "text": [
      "\n",
      "\n",
      "\u001b[1m> Entering new None chain...\u001b[0m\n",
      "\u001b[32;1m\u001b[1;3mOf course! Please provide the content of the email that you would like me to translate into English.\u001b[0m\n",
      "\n",
      "\u001b[1m> Finished chain.\u001b[0m\n",
      "<<<<<<< 최종 답변 >>>>>>\n",
      "Of course! Please provide the content of the email that you would like me to translate into English.\n",
      "<<<<<<< 최종 답변 >>>>>>\n"
     ]
    }
   ],
   "source": [
    "response = agent_with_chat_history.stream(\n",
    "    {\"input\": \"작성된 메일 내용을 영어 버전으로 작성해 주세요.\"},\n",
    "    # session_id 변경 하면...\n",
    "    config={\"configurable\": {\"session_id\": \"def456\"}},\n",
    ")\n",
    "\n",
    "for step in response:\n",
    "    agent_stream_parser.process_agent_steps(step)"
   ]
  },
  {
   "cell_type": "markdown",
   "metadata": {},
   "source": [
    "--------\n",
    "** End of Documents **"
   ]
  }
 ],
 "metadata": {
  "kernelspec": {
   "display_name": "langchain-kr-t0JhnSEV-py3.11",
   "language": "python",
   "name": "python3"
  },
  "language_info": {
   "codemirror_mode": {
    "name": "ipython",
    "version": 3
   },
   "file_extension": ".py",
   "mimetype": "text/x-python",
   "name": "python",
   "nbconvert_exporter": "python",
   "pygments_lexer": "ipython3",
   "version": "3.11.9"
  }
 },
 "nbformat": 4,
 "nbformat_minor": 2
}
