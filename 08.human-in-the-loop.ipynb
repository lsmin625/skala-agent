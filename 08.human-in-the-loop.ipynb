{
 "cells": [
  {
   "cell_type": "markdown",
   "metadata": {},
   "source": [
    "# LangGraph HITL (Human in the Loop)\n",
    "\n",
    "- **동적 인터럽트 (Dynamic Interrupts)**: 특정 노드 내에서 코드 실행 중 조건에 따라 `interrupt()` 함수를 호출하여 그래프를 일시 중지\n",
    "- **정적 인터럽트 (Static Interrupts)**: 그래프를 컴파일할 때 `interrupt_before` 또는 `interrupt_after` 인자를 사용하여 특정 노드의 실행 전후에 항상 일시 중지되도록 설정"
   ]
  },
  {
   "cell_type": "code",
   "execution_count": null,
   "metadata": {},
   "outputs": [],
   "source": [
    "import uuid\n",
    "import gradio as gr\n",
    "from typing import Annotated, TypedDict\n",
    "\n",
    "from langchain.schema import HumanMessage, AIMessage\n",
    "from langchain_openai import ChatOpenAI\n",
    "from langchain_core.prompts import ChatPromptTemplate\n",
    "from langchain_core.tools import tool\n",
    "from langchain_teddynote.graphs import visualize_graph\n",
    "from langchain_teddynote.tools import GoogleNews\n",
    "\n",
    "from langgraph.checkpoint.memory import InMemorySaver\n",
    "from langgraph.graph import StateGraph, START, END\n",
    "from langgraph.graph.message import add_messages, BaseMessage\n",
    "from langgraph.prebuilt import ToolNode\n",
    "from langgraph.types import interrupt\n",
    "\n",
    "from dotenv import load_dotenv\n",
    "\n",
    "\n",
    "load_dotenv()\n",
    "llm = ChatOpenAI(model=\"gpt-4o-mini\", temperature=0)"
   ]
  },
  {
   "cell_type": "markdown",
   "metadata": {},
   "source": [
    "## 도구 및 상태 구성"
   ]
  },
  {
   "cell_type": "code",
   "execution_count": null,
   "metadata": {},
   "outputs": [],
   "source": [
    "# 구글 뉴스 도구\n",
    "google_news= GoogleNews()\n",
    "\n",
    "# 키워드 뉴스 검색 도구 생성\n",
    "@tool\n",
    "def search_keyword(query: str) -> list[dict[str, str]]:\n",
    "    \"\"\"Look up news by keyword\"\"\"\n",
    "    print(\"✅ 뉴스 검색 도구 실행\")\n",
    "    return google_news.search_by_keyword(query, k=5)\n",
    "\n",
    "tools = [search_keyword]\n",
    "\n",
    "# 상태 저장소 정의\n",
    "class State(TypedDict):\n",
    "    messages: Annotated[list[BaseMessage], \"메시지 목록\", add_messages]\n",
    "    query: Annotated[str, \"뉴스 검색 키워드\"]\n",
    "\n",
    "# 인메모리 체크포인터\n",
    "checkpointer = InMemorySaver()"
   ]
  },
  {
   "cell_type": "markdown",
   "metadata": {},
   "source": [
    "## 그래프 노드 정의"
   ]
  },
  {
   "cell_type": "code",
   "execution_count": null,
   "metadata": {},
   "outputs": [],
   "source": [
    "def query_extractor(state: State):\n",
    "    \"\"\"사용자의 마지막 메시지에서 뉴스 검색어를 추출합니다.\"\"\"\n",
    "    last_message = state.get(\"messages\", [])[-1]\n",
    "    print(\"✅ 뉴스 검색어 추출 중...\")\n",
    "\n",
    "    prompt = ChatPromptTemplate.from_messages([\n",
    "        (\"system\", \"다음 문장에서 뉴스 검색에 가장 적합한 키워드나 질문을 추출합니다. 다른 말은 하지 말고 키워드만 정확히 반환해줍니다.\"),\n",
    "        (\"human\", \"{question}\")\n",
    "    ])\n",
    "    prompt_message = prompt.format_messages(question=last_message.content)\n",
    "    response = llm.invoke(prompt_message)\n",
    "    extracted_query = response.content.strip()\n",
    "    print(f\"✅ 추출된 검색어: {extracted_query}\")\n",
    "    return {\"messages\": [AIMessage(content=extracted_query)]}\n",
    "\n",
    "def news_summarizer(state: State):\n",
    "    \"\"\"뉴스 검색 결과를 받아 AI가 요약하고, 동적 인터럽트를 결정합니다.\"\"\"\n",
    "    tool_output = state.get(\"messages\", [])[-1].content\n",
    "    print(\"✅ 뉴스 검색 결과 요약 중...\")\n",
    "    prompt = ChatPromptTemplate.from_messages([\n",
    "        (\"system\", \"다음 뉴스 검색 결과를 바탕으로 핵심 내용을 한국어로 간결하게 요약합니다.\"),\n",
    "        (\"human\", \"{tool_output}\")\n",
    "    ])\n",
    "    prompt_message = prompt.format_messages(tool_output=tool_output)\n",
    "    summary = llm.invoke(prompt_message).content\n",
    "    print(f\"✅ 뉴스 요약:\\n{summary}\")\n",
    "\n",
    "    # 동적 인터럽트: 특정 키워드가 포함되면 사용자의 확인을 받기 위해 실행을 멈춤\n",
    "    sensitive_keywords = [\"논란\", \"민감\", \"갈등\", \"우려\", \"비판\"]\n",
    "    if any(keyword in summary for keyword in sensitive_keywords):\n",
    "        print(\"🔴 동적 인터럽트 발생: 민감 키워드 감지\")\n",
    "        interrupt()\n",
    "    \n",
    "    return {\"messages\": [AIMessage(content=summary)]}\n",
    "\n",
    "def report_generator(state: State):\n",
    "    \"\"\"요약된 내용을 바탕으로 최종 보고서를 생성합니다.\"\"\"\n",
    "    summary = state.get(\"messages\", [])[-1].content\n",
    "    # 최초 요청을 찾기 위해 HumanMessage 필터링\n",
    "    user_request = next((msg.content for msg in state.get(\"messages\", []) if isinstance(msg, HumanMessage)), \"\")\n",
    "    print(\"✅ 최종 보고서 생성 중...\")\n",
    "    prompt = ChatPromptTemplate.from_messages([\n",
    "        (\"system\", \"사용자의 최초 요청사항인 '{user_request}'을 참고하여, 다음 뉴스 요약 내용을 바탕으로 간결한 보고서를 작성해줘.\"),\n",
    "        (\"human\", \"{summary}\")\n",
    "    ])\n",
    "    prompt_message = prompt.format_messages(user_request=user_request, summary=summary)\n",
    "    report = llm.invoke(prompt_message).content\n",
    "    print(f\"✅ 생성된 보고서:\\n{report}\")\n",
    "    return {\"messages\": [AIMessage(content=report)]}\n",
    "\n",
    "# tool 노드 생성\n",
    "tool_node = ToolNode(tools)"
   ]
  },
  {
   "cell_type": "markdown",
   "metadata": {},
   "source": [
    "## 그래프 구성 및 컴파일"
   ]
  },
  {
   "cell_type": "code",
   "execution_count": null,
   "metadata": {},
   "outputs": [],
   "source": [
    "# --- 그래프 구성 및 컴파일 ---\n",
    "builder = StateGraph(State)\n",
    "\n",
    "builder.add_node(\"query_extractor\", query_extractor)\n",
    "builder.add_node(\"news_search\", tool_node)\n",
    "builder.add_node(\"news_summarizer\", news_summarizer)\n",
    "builder.add_node(\"report_generator\", report_generator)\n",
    "\n",
    "builder.add_edge(START, \"query_extractor\")\n",
    "builder.add_edge(\"query_extractor\", \"news_search\")\n",
    "builder.add_edge(\"news_search\", \"news_summarizer\")\n",
    "builder.add_edge(\"news_summarizer\", \"report_generator\")\n",
    "builder.add_edge(\"report_generator\", END)\n",
    "\n",
    "# 정적/동적 인터럽트 설정과 함께 그래프 컴파일\n",
    "graph = builder.compile(\n",
    "    checkpointer=checkpointer,\n",
    "    interrupt_before=[\"news_search\"]\n",
    ")\n",
    "visualize_graph(graph)"
   ]
  },
  {
   "cell_type": "markdown",
   "metadata": {},
   "source": [
    "## Gradio UI 및 실행 로직"
   ]
  },
  {
   "cell_type": "code",
   "execution_count": null,
   "metadata": {},
   "outputs": [],
   "source": [
    "def convert_messages_to_ui(messages: list[HumanMessage | AIMessage]) -> list[dict[str, str]]:\n",
    "    \"\"\"LangChain 메시지 형식을 Gradio 챗봇 형식으로 변환합니다.\"\"\"\n",
    "    chat_history = []\n",
    "    for msg in messages:\n",
    "        if isinstance(msg, HumanMessage):\n",
    "            chat_history.append({\"role\": \"user\", \"content\": msg.content})\n",
    "        elif isinstance(msg, AIMessage):\n",
    "            chat_history.append({\"role\": \"assistant\", \"content\": msg.content})\n",
    "    return chat_history\n",
    "\n",
    "def agent_process(user_input: str, thread_id: str):\n",
    "    \"\"\"사용자 입력에 따라 LangGraph 에이전트를 실행하고 상호작용합니다.\"\"\"\n",
    "    config = {\"configurable\": {\"thread_id\": thread_id}}\n",
    "    \n",
    "    # HumanMessage 추가\n",
    "    message = HumanMessage(content=user_input)\n",
    "    \n",
    "    # 그래프 실행\n",
    "    events = graph.stream(\n",
    "        {\"messages\": [message]},\n",
    "        config,\n",
    "        stream_mode=\"values\",\n",
    "    )\n",
    "    \n",
    "    for event in events:\n",
    "        snapshot = graph.get_state(config)\n",
    "        ui_messages = convert_messages_to_ui(snapshot.values[\"messages\"])\n",
    "        yield ui_messages\n",
    "\n",
    "def create_chatbot_response(message, history, thread_id_state):\n",
    "    \"\"\"Gradio 챗봇의 메인 콜백 함수\"\"\"\n",
    "    thread_id = thread_id_state.value\n",
    "    \n",
    "    for chunk in agent_process(message, thread_id):\n",
    "        yield chunk\n",
    "\n",
    "def on_load():\n",
    "    \"\"\"UI가 로드될 때 고유한 thread_id를 생성합니다.\"\"\"\n",
    "    return gr.State(str(uuid.uuid4()))\n",
    "\n",
    "\n",
    "with gr.Blocks(theme=gr.themes.Soft()) as demo:\n",
    "    gr.Markdown(\"# LangGraph 뉴스 검색 에이전트 (InMemorySaver 사용)\")\n",
    "\n",
    "    thread_id_state = gr.State()\n",
    "\n",
    "    chatbot = gr.Chatbot(\n",
    "        [],\n",
    "        elem_id=\"chatbot\",\n",
    "        height=300,\n",
    "        type=\"messages\",\n",
    "        placeholder=\"뉴스 검색어를 입력하세요. 예: '오늘의 주요 경제 뉴스'\"\n",
    "    )\n",
    "\n",
    "    chat_input = gr.Textbox(\n",
    "        show_label=False, \n",
    "        placeholder=\"여기에 메시지를 입력하고 Enter를 누르거나 '보내기' 버튼을 클릭하세요.\", \n",
    "        container=False\n",
    "    )\n",
    "    \n",
    "    chat_input.submit(\n",
    "        create_chatbot_response,\n",
    "        [chat_input, chatbot, thread_id_state],\n",
    "        [chatbot],\n",
    "    )\n",
    "    \n",
    "    demo.load(on_load, inputs=[], outputs=[thread_id_state])\n",
    "\n",
    "\n",
    "demo.launch(debug=True)"
   ]
  },
  {
   "cell_type": "code",
   "execution_count": null,
   "metadata": {},
   "outputs": [],
   "source": [
    "demo.close()"
   ]
  },
  {
   "cell_type": "markdown",
   "metadata": {},
   "source": [
    "-----\n",
    "** End of Documents **"
   ]
  }
 ],
 "metadata": {
  "kernelspec": {
   "display_name": "venv",
   "language": "python",
   "name": "python3"
  },
  "language_info": {
   "codemirror_mode": {
    "name": "ipython",
    "version": 3
   },
   "file_extension": ".py",
   "mimetype": "text/x-python",
   "name": "python",
   "nbconvert_exporter": "python",
   "pygments_lexer": "ipython3",
   "version": "3.12.3"
  }
 },
 "nbformat": 4,
 "nbformat_minor": 2
}
